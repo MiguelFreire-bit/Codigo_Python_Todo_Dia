{
 "cells": [
  {
   "cell_type": "markdown",
   "id": "ad67072e",
   "metadata": {},
   "source": [
    "\n",
    "\n",
    "# <font color=\"#ff4500\" style=\"font-size: 30px;\">Código Python Todo Dia</font>\n"
   ]
  },
  {
   "cell_type": "markdown",
   "id": "d009ae1e",
   "metadata": {},
   "source": [
    "<hr style=\"border: 2px solid #4500ff;\">\n",
    "\n",
    "# <font color=\"#4500ff\" style=\"font-size: 25px;\">Exercício 117</font>\n",
    "<hr style=\"border: 2px solid #4500ff;\">\n",
    "\n",
    " <p style='font-size: 23px; line-height: 2; margin: 0px 0px; text-align: justify; text-indent: 0px;'>    \n",
    "<i><b> Elabore uma função que retorne a soma de dois números.\n",
    "</b></i>     \n",
    "</p>\n",
    "\n",
    "---"
   ]
  },
  {
   "cell_type": "code",
   "execution_count": 1,
   "id": "0fa56a2c",
   "metadata": {},
   "outputs": [
    {
     "data": {
      "text/plain": [
       "4"
      ]
     },
     "execution_count": 1,
     "metadata": {},
     "output_type": "execute_result"
    }
   ],
   "source": [
    "def soma (x,y):\n",
    "    return x+y\n",
    "\n",
    "soma(2,2)"
   ]
  },
  {
   "cell_type": "markdown",
   "id": "995bbffb",
   "metadata": {},
   "source": [
    "<hr style=\"border: 2px solid #4500ff;\">\n",
    "\n",
    "# <font color=\"#4500ff\" style=\"font-size: 25px;\">Exercício 118</font>\n",
    "<hr style=\"border: 2px solid #4500ff;\">\n",
    "\n",
    " <p style='font-size: 23px; line-height: 2; margin: 0px 0px; text-align: justify; text-indent: 0px;'>    \n",
    "<i><b> Escreva uma função que retorne a área de um retângulo. A sua função deve receber a base e a altura como parâmetros. Lembre que a área de um retângulo é dada pela fórmula: A=base x altura .\n",
    "</b></i>     \n",
    "</p>\n",
    "\n",
    "---"
   ]
  },
  {
   "cell_type": "code",
   "execution_count": 2,
   "id": "2e1565db",
   "metadata": {},
   "outputs": [
    {
     "data": {
      "text/plain": [
       "10"
      ]
     },
     "execution_count": 2,
     "metadata": {},
     "output_type": "execute_result"
    }
   ],
   "source": [
    "def area (base,altura):\n",
    "    return base*altura\n",
    "\n",
    "area(2,5)"
   ]
  },
  {
   "cell_type": "markdown",
   "id": "a28d6f32",
   "metadata": {},
   "source": [
    "<hr style=\"border: 2px solid #4500ff;\">\n",
    "\n",
    "# <font color=\"#4500ff\" style=\"font-size: 25px;\">Exercício 119</font>\n",
    "<hr style=\"border: 2px solid #4500ff;\">\n",
    "\n",
    " <p style='font-size: 23px; line-height: 2; margin: 0px 0px; text-align: justify; text-indent: 0px;'>    \n",
    "<i><b> Escreva uma função que retorne a área de um triângulo. A sua função deve receber como parâmetros a base e a altura. Lembre que a área de um triângulo é dada pela fórmula: A=(base x altura)/2\n",
    "</b></i>     \n",
    "</p>\n",
    "\n",
    "---"
   ]
  },
  {
   "cell_type": "code",
   "execution_count": 3,
   "id": "baf94993",
   "metadata": {},
   "outputs": [
    {
     "data": {
      "text/plain": [
       "5.0"
      ]
     },
     "execution_count": 3,
     "metadata": {},
     "output_type": "execute_result"
    }
   ],
   "source": [
    "def area_triangulo (base,altura):\n",
    "    return (base*altura)/2\n",
    "\n",
    "area_triangulo(2,5)"
   ]
  },
  {
   "cell_type": "markdown",
   "id": "1f29a9bb",
   "metadata": {},
   "source": [
    "<hr style=\"border: 2px solid #4500ff;\">\n",
    "\n",
    "# <font color=\"#4500ff\" style=\"font-size: 25px;\">Exercício 120</font>\n",
    "<hr style=\"border: 2px solid #4500ff;\">\n",
    "\n",
    " <p style='font-size: 23px; line-height: 2; margin: 0px 0px; text-align: justify; text-indent: 0px;'>    \n",
    "<i><b> Escreva uma função que verifique se um número é múltiplo do outro e retorne um valor lógico.\n",
    "</b></i>     \n",
    "</p>\n",
    "\n",
    "---"
   ]
  },
  {
   "cell_type": "code",
   "execution_count": 14,
   "id": "b16c0641",
   "metadata": {},
   "outputs": [
    {
     "name": "stdout",
     "output_type": "stream",
     "text": [
      "False\n"
     ]
    },
    {
     "data": {
      "text/plain": [
       "True"
      ]
     },
     "execution_count": 14,
     "metadata": {},
     "output_type": "execute_result"
    }
   ],
   "source": [
    "def multiplo(x, y):\n",
    "    return x%y == 0\n",
    "\n",
    "print(multiplo(15,4))\n",
    "multiplo(15,3)"
   ]
  },
  {
   "cell_type": "markdown",
   "id": "99f9292b",
   "metadata": {},
   "source": [
    "<hr style=\"border: 2px solid #4500ff;\">\n",
    "\n",
    "# <font color=\"#4500ff\" style=\"font-size: 25px;\">Exercício 121</font>\n",
    "<hr style=\"border: 2px solid #4500ff;\">\n",
    "\n",
    " <p style='font-size: 23px; line-height: 2; margin: 0px 0px; text-align: justify; text-indent: 0px;'>    \n",
    "<i><b> Escreva um programa que pesquise um determinado valor em uma lista. Sua função deve ter como parâmetros a lista e o valor a ser verificado. Caso o valor faça parte da lista informada retorne True e False, caso contrário.\n",
    "</b></i>     \n",
    "</p>\n",
    "\n",
    "---"
   ]
  },
  {
   "cell_type": "code",
   "execution_count": 17,
   "id": "5588f942",
   "metadata": {},
   "outputs": [
    {
     "name": "stdout",
     "output_type": "stream",
     "text": [
      "False\n"
     ]
    },
    {
     "data": {
      "text/plain": [
       "True"
      ]
     },
     "execution_count": 17,
     "metadata": {},
     "output_type": "execute_result"
    }
   ],
   "source": [
    "nomes = ['Ana', 'João', 'Maria', 'Pedro', 'Julia', 'Lucas', 'Isabela', 'Mateus', 'Larissa', 'Gabriel']\n",
    "\n",
    "\n",
    "def verificar(x):\n",
    "    return x in nomes\n",
    "\n",
    "print(verificar('Miguel'))\n",
    "verificar('Ana')"
   ]
  },
  {
   "cell_type": "markdown",
   "id": "6297ae15",
   "metadata": {},
   "source": [
    "<hr style=\"border: 2px solid #4500ff;\">\n",
    "\n",
    "# <font color=\"#4500ff\" style=\"font-size: 25px;\">Exercício 122</font>\n",
    "<hr style=\"border: 2px solid #4500ff;\">\n",
    "\n",
    " <p style='font-size: 23px; line-height: 2; margin: 0px 0px; text-align: justify; text-indent: 0px;'>    \n",
    "<i><b> Escreva uma função para checar se um determinado ano é bissexto.\n",
    "</b></i>     \n",
    "</p>\n",
    "\n",
    "---"
   ]
  },
  {
   "cell_type": "code",
   "execution_count": 42,
   "id": "e94dedbb",
   "metadata": {},
   "outputs": [
    {
     "name": "stdout",
     "output_type": "stream",
     "text": [
      "2000, True\n",
      "1900, False\n",
      "\n",
      "True\n",
      "False\n"
     ]
    }
   ],
   "source": [
    "def bissexto(y):\n",
    "    return  f'{y}, {y % 4 == 0 and (y % 100 != 0 or y % 400 == 0)}'\n",
    "\n",
    "print(bissexto(2000))\n",
    "print(bissexto(1900))\n",
    "\n",
    "# Outra forma de fazer\n",
    "def checar_bissexto(ano):\n",
    "    if ano%400==0:\n",
    "        return True\n",
    "    elif ano%100==0:\n",
    "        return False\n",
    "    elif ano%4==0:\n",
    "        return True\n",
    "    else:\n",
    "        return False\n",
    "print()\n",
    "print(checar_bissexto(2000))\n",
    "print(checar_bissexto(1900))"
   ]
  },
  {
   "cell_type": "markdown",
   "id": "bb06792f",
   "metadata": {},
   "source": [
    "\n",
    "<hr style=\"border: 2px solid #4500ff;\">\n",
    "\n",
    "# <font color=\"#4500ff\" style=\"font-size: 25px;\">Exercício 123</font>\n",
    "<hr style=\"border: 2px solid #4500ff;\">\n",
    "\n",
    " <p style='font-size: 23px; line-height: 2; margin: 0px 0px; text-align: justify; text-indent: 0px;'>    \n",
    "<i><b>Elabore uma função que receba um número inteiro e retorne o fatorial deste número.\n",
    "</b></i>     \n",
    "</p>\n",
    "\n",
    "---"
   ]
  },
  {
   "cell_type": "code",
   "execution_count": 46,
   "id": "b9c9a848",
   "metadata": {},
   "outputs": [
    {
     "data": {
      "text/plain": [
       "120"
      ]
     },
     "execution_count": 46,
     "metadata": {},
     "output_type": "execute_result"
    }
   ],
   "source": [
    "import math\n",
    "\n",
    "\n",
    "def fatorial(numero):\n",
    "    \"\"\"\n",
    "    Retorna o fatorial de um número.\n",
    "\n",
    "    Parâmetros:\n",
    "    - numero (int): O número para o qual calcular o fatorial.\n",
    "\n",
    "    Retorna:\n",
    "    int: O fatorial de `numero`.\n",
    "    \"\"\"\n",
    "    return math.factorial(numero)\n",
    "\n",
    "fatorial(5)"
   ]
  },
  {
   "cell_type": "markdown",
   "id": "1a59249c",
   "metadata": {},
   "source": [
    "\n",
    "<hr style=\"border: 2px solid #4500ff;\">\n",
    "\n",
    "# <font color=\"#4500ff\" style=\"font-size: 25px;\">Exercício 124</font>\n",
    "<hr style=\"border: 2px solid #4500ff;\">\n",
    "\n",
    " <p style='font-size: 23px; line-height: 2; margin: 0px 0px; text-align: justify; text-indent: 0px;'>    \n",
    "<i><b>Implemente uma função recursiva para calcular e retornar o fatorial de um número inteiro.\n",
    "</b></i>     \n",
    "</p>\n",
    "\n",
    "---"
   ]
  },
  {
   "cell_type": "code",
   "execution_count": 47,
   "id": "3c70d0f1",
   "metadata": {},
   "outputs": [
    {
     "data": {
      "text/plain": [
       "120"
      ]
     },
     "execution_count": 47,
     "metadata": {},
     "output_type": "execute_result"
    }
   ],
   "source": [
    "def fatorial(num):\n",
    "    if num==1 or num==0:\n",
    "        return 1\n",
    "    else:\n",
    "        return fatorial(num-1)*num\n",
    "    \n",
    "fatorial(5)"
   ]
  },
  {
   "cell_type": "markdown",
   "id": "09534fb9",
   "metadata": {},
   "source": [
    "\n",
    "<hr style=\"border: 2px solid #4500ff;\">\n",
    "\n",
    "# <font color=\"#4500ff\" style=\"font-size: 25px;\">Exercício 125</font>\n",
    "<hr style=\"border: 2px solid #4500ff;\">\n",
    "\n",
    " <p style='font-size: 23px; line-height: 2; margin: 0px 0px; text-align: justify; text-indent: 0px;'>    \n",
    "<i><b>Implemente uma função recursiva para imprimir o n-ésimo termo da sequência Fibonacci.\n",
    "</b></i>     \n",
    "</p>\n",
    "\n",
    "---"
   ]
  },
  {
   "cell_type": "code",
   "execution_count": 53,
   "id": "ab7c9e9c",
   "metadata": {},
   "outputs": [
    {
     "name": "stdout",
     "output_type": "stream",
     "text": [
      "[0, 1, 1, 2, 3, 5, 8, 13, 21, 34]\n",
      "\n",
      "0\n",
      "1\n",
      "1\n",
      "2\n",
      "3\n",
      "5\n",
      "8\n",
      "13\n",
      "21\n",
      "34\n"
     ]
    }
   ],
   "source": [
    "def fibonacci(num):\n",
    "    lista_fibonnaci = []\n",
    "    for i in range(num):\n",
    "        \n",
    "        if i==0:\n",
    "            lista_fibonnaci.append(i)\n",
    "        elif i==1:\n",
    "             lista_fibonnaci.append(i)\n",
    "        else:\n",
    "        \n",
    "            lista_fibonnaci.append(lista_fibonnaci[i-1]+ lista_fibonnaci[i-2])\n",
    "            \n",
    "    return lista_fibonnaci\n",
    "    \n",
    "print(fibonacci(10))\n",
    "print()\n",
    "\n",
    "# Utilizando função recursiva\n",
    "\n",
    "def fibonacci(n):\n",
    "    if n == 0:\n",
    "        return 0\n",
    "    elif n == 1:\n",
    "        return 1\n",
    "    else:\n",
    "        return fibonacci(n-1) + fibonacci(n-2)\n",
    "\n",
    "\n",
    "for i in range(10):\n",
    "    print(fibonacci(i))"
   ]
  },
  {
   "cell_type": "markdown",
   "id": "c02d2550",
   "metadata": {},
   "source": [
    "\n",
    "<hr style=\"border: 2px solid #4500ff;\">\n",
    "\n",
    "# <font color=\"#4500ff\" style=\"font-size: 25px;\">Exercício 126</font>\n",
    "<hr style=\"border: 2px solid #4500ff;\">\n",
    "\n",
    " <p style='font-size: 23px; line-height: 2; margin: 0px 0px; text-align: justify; text-indent: 0px;'>    \n",
    "<i><b>Escreva uma função que receba uma lista de números reais como parâmetro e retorne a média destes números.\n",
    "</b></i>     \n",
    "</p>\n",
    "\n",
    "---"
   ]
  },
  {
   "cell_type": "code",
   "execution_count": 55,
   "id": "6f9950c1",
   "metadata": {},
   "outputs": [
    {
     "data": {
      "text/plain": [
       "6.0"
      ]
     },
     "execution_count": 55,
     "metadata": {},
     "output_type": "execute_result"
    }
   ],
   "source": [
    "def soma_lista(x):\n",
    "    return sum(x)/len(x)\n",
    "\n",
    "lista = [2,4,6,8,10]\n",
    "soma_lista(lista)"
   ]
  },
  {
   "cell_type": "markdown",
   "id": "7f0eb929",
   "metadata": {},
   "source": [
    "\n",
    "<hr style=\"border: 2px solid #4500ff;\">\n",
    "\n",
    "# <font color=\"#4500ff\" style=\"font-size: 25px;\">Exercício 127</font>\n",
    "<hr style=\"border: 2px solid #4500ff;\">\n",
    "\n",
    " <p style='font-size: 23px; line-height: 2; margin: 0px 0px; text-align: justify; text-indent: 0px;'>    \n",
    "<i><b>Escreva uma função que retorna o tamanho de uma string.\n",
    "</b></i>     \n",
    "</p>\n",
    "\n",
    "---"
   ]
  },
  {
   "cell_type": "code",
   "execution_count": 62,
   "id": "835a345a",
   "metadata": {},
   "outputs": [
    {
     "data": {
      "text/plain": [
       "12"
      ]
     },
     "execution_count": 62,
     "metadata": {},
     "output_type": "execute_result"
    }
   ],
   "source": [
    "def tamanho(x):\n",
    "    return len(x.replace(\" \", \"\"))\n",
    "\n",
    "tamanho('Miguel Freire')"
   ]
  },
  {
   "cell_type": "code",
   "execution_count": 63,
   "id": "bc36b330",
   "metadata": {},
   "outputs": [
    {
     "data": {
      "text/plain": [
       "13"
      ]
     },
     "execution_count": 63,
     "metadata": {},
     "output_type": "execute_result"
    }
   ],
   "source": [
    "def tamanho(string):\n",
    "    contador=0\n",
    "    for caractere in string:\n",
    "        contador+=1\n",
    "    return contador\n",
    "\n",
    "tamanho('Miguel Freire')"
   ]
  },
  {
   "cell_type": "markdown",
   "id": "6b1a87bf",
   "metadata": {},
   "source": [
    "\n",
    "<hr style=\"border: 2px solid #4500ff;\">\n",
    "\n",
    "# <font color=\"#4500ff\" style=\"font-size: 25px;\">Exercício 128</font>\n",
    "<hr style=\"border: 2px solid #4500ff;\">\n",
    "\n",
    " <p style='font-size: 23px; line-height: 2; margin: 0px 0px; text-align: justify; text-indent: 0px;'>    \n",
    "<i><b>Escreva uma função para checar se uma lista é vazia ou não\n",
    "</b></i>     \n",
    "</p>\n",
    "\n",
    "---"
   ]
  },
  {
   "cell_type": "code",
   "execution_count": 66,
   "id": "0e81b8dc",
   "metadata": {},
   "outputs": [
    {
     "name": "stdout",
     "output_type": "stream",
     "text": [
      "Vazia\n",
      "Possui elementos\n"
     ]
    }
   ],
   "source": [
    "def checar_lista(x):\n",
    "    if len(x) == 0:\n",
    "        return \"Vazia\"\n",
    "    else:\n",
    "        return \"Possui elementos\"\n",
    "    \n",
    "print(checar_lista([]))\n",
    "print(checar_lista([1,2,3,4,5,6]))"
   ]
  },
  {
   "cell_type": "code",
   "execution_count": 67,
   "id": "9043aac0",
   "metadata": {},
   "outputs": [
    {
     "name": "stdout",
     "output_type": "stream",
     "text": [
      "True\n",
      "False\n"
     ]
    }
   ],
   "source": [
    "def checar_lista(lista):\n",
    "    return not len(lista)>0  #caso a lista seja vazia será retornado True\n",
    "#Exemplos\n",
    "print(checar_lista([]))\n",
    "print(checar_lista([10,11,12]))"
   ]
  },
  {
   "cell_type": "markdown",
   "id": "6dfbc5c4",
   "metadata": {},
   "source": [
    "\n",
    "<hr style=\"border: 2px solid #4500ff;\">\n",
    "\n",
    "# <font color=\"#4500ff\" style=\"font-size: 25px;\">Exercício 129</font>\n",
    "<hr style=\"border: 2px solid #4500ff;\">\n",
    "\n",
    " <p style='font-size: 23px; line-height: 2; margin: 0px 0px; text-align: justify; text-indent: 0px;'>    \n",
    "<i><b>Escreva uma função que faça uma cópia de uma lista.\n",
    "\n",
    "\n",
    "</b></i>     \n",
    "</p>\n",
    "\n",
    "---"
   ]
  },
  {
   "cell_type": "code",
   "execution_count": 30,
   "id": "3f8ddcf4",
   "metadata": {},
   "outputs": [
    {
     "name": "stdout",
     "output_type": "stream",
     "text": [
      "Escreva uma lista: 1\n",
      "Escreva uma lista: 2\n",
      "Escreva uma lista: 3\n",
      "Escreva uma lista: [1,2,3,4,5,6]\n"
     ]
    },
    {
     "data": {
      "text/plain": [
       "[1, 2, 3, 4, 5, 6]"
      ]
     },
     "execution_count": 30,
     "metadata": {},
     "output_type": "execute_result"
    }
   ],
   "source": [
    "import ast\n",
    "lista = 1\n",
    "\n",
    "\n",
    "def copia_lista(lista):\n",
    "    '''\n",
    "    Função que recebe a lista \"lista\" e retona uma copia dela\n",
    "    \n",
    "    - Caso o argumento passado não seja uma lista, recursivamente a função irá solicitar que se retorne uma lista\n",
    "    '''\n",
    "    if type(lista) == list:\n",
    "        copia = lista.copy()\n",
    "        return copia\n",
    "    else:\n",
    "        lista_input = ast.literal_eval(input(\"Escreva uma lista: \"))\n",
    "        return copia_lista(lista_input)\n",
    "\n",
    "copia_lista_saida = copia_lista(lista)\n",
    "copia_lista_saida"
   ]
  },
  {
   "cell_type": "markdown",
   "id": "2b378248",
   "metadata": {},
   "source": [
    "\n",
    "<hr style=\"border: 2px solid #4500ff;\">\n",
    "\n",
    "# <font color=\"#4500ff\" style=\"font-size: 25px;\">Exercício 130</font>\n",
    "<hr style=\"border: 2px solid #4500ff;\">\n",
    "\n",
    " <p style='font-size: 23px; line-height: 2; margin: 0px 0px; text-align: justify; text-indent: 0px;'>    \n",
    "<i><b>Escreva uma função que verifique se duas listas possuem ao menos um elemento em comum, retornando True em caso positivo.\n",
    "\n",
    "\n",
    "</b></i>     \n",
    "</p>\n",
    "\n",
    "---"
   ]
  },
  {
   "cell_type": "code",
   "execution_count": 44,
   "id": "855473b2",
   "metadata": {},
   "outputs": [
    {
     "name": "stdout",
     "output_type": "stream",
     "text": [
      "True\n"
     ]
    }
   ],
   "source": [
    "lista1 = [1, 2, 3, 4, 5]\n",
    "lista2 = [3, 4, 5, 6, 7]\n",
    "\n",
    "def iguais(lista1, lista2):\n",
    "    '''\n",
    "        verifica se ao menos 1 elemento de lista1 em comum com lista2\n",
    "        \n",
    "        função any() recebe uma list comprehension com valores booleanos que correspondem a comparação de elementos das listas\n",
    "    '''\n",
    "    return any(elemento in lista2 for elemento in lista1)\n",
    "\n",
    "resultado = iguais(lista1, lista2)\n",
    "print(resultado)"
   ]
  },
  {
   "cell_type": "markdown",
   "id": "fe9dd025",
   "metadata": {},
   "source": [
    "\n",
    "<hr style=\"border: 2px solid #4500ff;\">\n",
    "\n",
    "# <font color=\"#4500ff\" style=\"font-size: 25px;\">Exercício 131</font>\n",
    "<hr style=\"border: 2px solid #4500ff;\">\n",
    "\n",
    " <p style='font-size: 23px; line-height: 2; margin: 0px 0px; text-align: justify; text-indent: 0px;'>    \n",
    "<i><b>Escreva uma função lambda associada a uma variável que some os argumentos x,y,z,k. Teste um resultado na tela.\n",
    "\n",
    "\n",
    "</b></i>     \n",
    "</p>\n",
    "\n",
    "---"
   ]
  },
  {
   "cell_type": "code",
   "execution_count": 49,
   "id": "19d66867",
   "metadata": {
    "scrolled": true
   },
   "outputs": [
    {
     "data": {
      "text/plain": [
       "26"
      ]
     },
     "execution_count": 49,
     "metadata": {},
     "output_type": "execute_result"
    }
   ],
   "source": [
    "soma = lambda x,y,z,k: x+y+z+k\n",
    "\n",
    "soma(8,3,6,9)"
   ]
  },
  {
   "cell_type": "markdown",
   "id": "5261d3fc",
   "metadata": {},
   "source": [
    "\n",
    "<hr style=\"border: 2px solid #4500ff;\">\n",
    "\n",
    "# <font color=\"#4500ff\" style=\"font-size: 25px;\">Exercício 132</font>\n",
    "<hr style=\"border: 2px solid #4500ff;\">\n",
    "\n",
    " <p style='font-size: 23px; line-height: 2; margin: 0px 0px; text-align: justify; text-indent: 0px;'>    \n",
    "<i><b>Escreva uma função lambda que multiplique os argumentos x,y,z. Teste um resultado na tela.\n",
    "\n",
    "\n",
    "</b></i>     \n",
    "</p>\n",
    "\n",
    "---"
   ]
  },
  {
   "cell_type": "code",
   "execution_count": 52,
   "id": "d5400316",
   "metadata": {},
   "outputs": [
    {
     "data": {
      "text/plain": [
       "144"
      ]
     },
     "execution_count": 52,
     "metadata": {},
     "output_type": "execute_result"
    }
   ],
   "source": [
    "multi = lambda x,y,z: x*y*z\n",
    "\n",
    "multi(8,3,6)"
   ]
  },
  {
   "cell_type": "markdown",
   "id": "49b2c1f5",
   "metadata": {},
   "source": [
    "\n",
    "<hr style=\"border: 2px solid #4500ff;\">\n",
    "\n",
    "# <font color=\"#4500ff\" style=\"font-size: 25px;\">Exercício 133</font>\n",
    "<hr style=\"border: 2px solid #4500ff;\">\n",
    "\n",
    " <p style='font-size: 23px; line-height: 2; margin: 0px 0px; text-align: justify; text-indent: 0px;'>    \n",
    "<i><b>Considere a lista a seguir, com pares respectivos as capitais brasileiras e as temperaturas registradas para um determinado dia em 2020.\n",
    "\n",
    "Use a função map() para converter as temperaturas de °C para K e F.\n",
    "\n",
    "\n",
    "\n",
    "\n",
    "\n",
    "temperatura_capitais_brasil=[\n",
    "\n",
    "    ('Boa Vista',32.4),\n",
    "\n",
    "    ('Brasília',26.6),\n",
    "\n",
    "    ('Campo Grande',28.8),\n",
    "\n",
    "    ('Cuiabá',38.6),\n",
    "\n",
    "    ('Salvador',37.1),\n",
    "\n",
    "    ('São Paulo',38.8),\n",
    "\n",
    "    ('Rio de Janeiro',34.7)\n",
    "\n",
    "]\n",
    "\n",
    "\n",
    "</b></i>     \n",
    "</p>\n",
    "\n",
    "---"
   ]
  },
  {
   "cell_type": "code",
   "execution_count": 58,
   "id": "5b03af7b",
   "metadata": {},
   "outputs": [
    {
     "name": "stdout",
     "output_type": "stream",
     "text": [
      "[('Boa Vista', 305.54999999999995), ('Brasília', 299.75), ('Campo Grande', 301.95), ('Cuiabá', 311.75), ('Salvador', 310.25), ('São Paulo', 311.95), ('Rio de Janeiro', 307.84999999999997)]\n"
     ]
    }
   ],
   "source": [
    "temperatura_capitais_brasil=[\n",
    "\n",
    "('Boa Vista',32.4),\n",
    "\n",
    "('Brasília',26.6),\n",
    "\n",
    "('Campo Grande',28.8),\n",
    "\n",
    "('Cuiabá',38.6),\n",
    "\n",
    "('Salvador',37.1),\n",
    "\n",
    "('São Paulo',38.8),\n",
    "\n",
    "('Rio de Janeiro',34.7)\n",
    "]\n",
    "\n",
    "# Definindo a função lambda\n",
    "conversao_kelvin = lambda x: (x[0], x[1] + 273.15)\n",
    "\n",
    "# Aplicando a função lambda usando .map()\n",
    "temperaturas_kelvin = list(map(conversao_kelvin, temperatura_capitais_brasil))\n",
    "\n",
    "print(temperaturas_kelvin)"
   ]
  },
  {
   "cell_type": "code",
   "execution_count": 60,
   "id": "1317748e",
   "metadata": {},
   "outputs": [
    {
     "name": "stdout",
     "output_type": "stream",
     "text": [
      "[('Boa Vista', 90.3), ('Brasília', 79.9), ('Campo Grande', 83.8), ('Cuiabá', 101.5), ('Salvador', 98.8), ('São Paulo', 101.8), ('Rio de Janeiro', 94.5)]\n"
     ]
    }
   ],
   "source": [
    "temperatura_capitais_brasil=[\n",
    "    ('Boa Vista',32.4),\n",
    "    ('Brasília',26.6),\n",
    "    ('Campo Grande',28.8),\n",
    "    ('Cuiabá',38.6),\n",
    "    ('Salvador',37.1),\n",
    "    ('São Paulo',38.8),\n",
    "    ('Rio de Janeiro',34.7)\n",
    "]\n",
    "temperatura_F=map(lambda par:(par[0],round(par[1]*(9/5)+32,1)),temperatura_capitais_brasil)\n",
    "print(list(temperatura_F))"
   ]
  },
  {
   "cell_type": "markdown",
   "id": "39108b35",
   "metadata": {},
   "source": [
    "\n",
    "<hr style=\"border: 2px solid #4500ff;\">\n",
    "\n",
    "# <font color=\"#4500ff\" style=\"font-size: 25px;\">Exercício 133</font>\n",
    "<hr style=\"border: 2px solid #4500ff;\">\n",
    "\n",
    " <p style='font-size: 23px; line-height: 2; margin: 0px 0px; text-align: justify; text-indent: 0px;'>    \n",
    "<i><b>a) Utilize a função map() para criar uma lista com o quadrado de cada número par e o cubo de cada número ímpar. Considere o intervalo [1,20].\n",
    "\n",
    "\n",
    "\n",
    "### Output:\n",
    "\n",
    "\n",
    "```python\n",
    "[(1, 1), (2, 4), (3, 27), (4, 16), (5, 125), (6, 36), (7, 343), (8, 64), (9, 729), (10, 100), (11, 1331), (12, 144), (13, 2197), (14, 196), (15, 3375), (16, 256), (17, 4913), (18, 324), (19, 6859), (20, 400)]\n",
    "```\n",
    "\n",
    "\n",
    "\n",
    "\n",
    "## b) Utilize a função map() para criar uma lista com o os números divisíveis por 3 ou 5, no intervalo [1,50]. Se o número não for divisível calcule sua raiz quadrada.\n",
    "\n",
    "\n",
    "\n",
    "### Output:\n",
    "\n",
    "\n",
    "```python\n",
    "[1.0, 1.41, 3, 2.0, 5, 6, 2.65, 2.83, 9]\n",
    "```\n",
    "\n",
    "</b></i>     \n",
    "</p>\n",
    "\n",
    "---"
   ]
  },
  {
   "cell_type": "code",
   "execution_count": 72,
   "id": "2921858b",
   "metadata": {},
   "outputs": [
    {
     "name": "stdout",
     "output_type": "stream",
     "text": [
      "[(1, 1), (2, 4), (3, 27), (4, 16), (5, 125), (6, 36), (7, 343), (8, 64), (9, 729), (10, 100), (11, 1331), (12, 144), (13, 2197), (14, 196), (15, 3375), (16, 256), (17, 4913), (18, 324), (19, 6859), (20, 400)]\n"
     ]
    }
   ],
   "source": [
    "lista = list(range(1,21))\n",
    "\n",
    "lista_a = list(map(lambda x: (x, x**2) if x % 2 == 0 else (x, x**3), lista))\n",
    "print(lista_a)"
   ]
  },
  {
   "cell_type": "code",
   "execution_count": 78,
   "id": "f743fc6e",
   "metadata": {},
   "outputs": [
    {
     "name": "stdout",
     "output_type": "stream",
     "text": [
      "[1.0, 1.41, 3, 2.0, 5, 6, 2.65, 2.83, 9, 10, 3.32, 12, 3.61, 3.74, 15, 4.0, 4.12, 18, 4.36, 20, 21, 4.69, 4.8, 24, 25, 5.1, 27, 5.29, 5.39, 30, 5.57, 5.66, 33, 5.83, 35, 36, 6.08, 6.16, 39, 40, 6.4, 42, 6.56, 6.63, 45, 6.78, 6.86, 48, 7.0, 50]\n"
     ]
    }
   ],
   "source": [
    "lista = list(range(1,51))\n",
    "\n",
    "lista_b = list(map(lambda x: x if (x % 3 == 0 or x % 5 == 0) else round(x**(1/2),2), lista))\n",
    "print(lista_b)"
   ]
  },
  {
   "cell_type": "code",
   "execution_count": null,
   "id": "a0c868f3",
   "metadata": {},
   "outputs": [],
   "source": []
  }
 ],
 "metadata": {
  "kernelspec": {
   "display_name": "Python 3 (ipykernel)",
   "language": "python",
   "name": "python3"
  },
  "language_info": {
   "codemirror_mode": {
    "name": "ipython",
    "version": 3
   },
   "file_extension": ".py",
   "mimetype": "text/x-python",
   "name": "python",
   "nbconvert_exporter": "python",
   "pygments_lexer": "ipython3",
   "version": "3.11.5"
  }
 },
 "nbformat": 4,
 "nbformat_minor": 5
}

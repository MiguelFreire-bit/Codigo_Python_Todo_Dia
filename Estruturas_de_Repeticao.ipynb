{
 "cells": [
  {
   "cell_type": "markdown",
   "id": "4d76159e",
   "metadata": {},
   "source": [
    "\n",
    "\n",
    "# <font color=\"#ff4500\" style=\"font-size: 30px;\">Código Python Todo Dia</font>\n"
   ]
  },
  {
   "cell_type": "markdown",
   "id": "10b3ae43",
   "metadata": {},
   "source": [
    "<hr style=\"border: 2px solid #4500ff;\">\n",
    "\n",
    "# <font color=\"#4500ff\" style=\"font-size: 25px;\">Exercício 40</font>\n",
    "<hr style=\"border: 2px solid #4500ff;\">"
   ]
  },
  {
   "cell_type": "markdown",
   "id": "cb6218b3",
   "metadata": {},
   "source": [
    " <p style='font-size: 23px; line-height: 2; margin: 0px 0px; text-align: justify; text-indent: 0px;'>    \n",
    "<i><b>Escreva um programa que mostre de 1 até 50 na tela.</b></i>     \n",
    "</p>\n",
    "\n",
    "---"
   ]
  },
  {
   "cell_type": "code",
   "execution_count": 2,
   "id": "ed89b093",
   "metadata": {},
   "outputs": [
    {
     "name": "stdout",
     "output_type": "stream",
     "text": [
      "1  2  3  4  5  6  7  8  9  10  11  12  13  14  15  16  17  18  19  20  21  22  23  24  25  26  27  28  29  30  31  32  33  34  35  36  37  38  39  40  41  42  43  44  45  46  47  48  49  50  "
     ]
    }
   ],
   "source": [
    "for i in range(1,51):\n",
    "    print(i, end=\"  \")"
   ]
  },
  {
   "cell_type": "markdown",
   "id": "2388e0d3",
   "metadata": {},
   "source": [
    "<hr style=\"border: 2px solid #4500ff;\">\n",
    "\n",
    "# <font color=\"#4500ff\" style=\"font-size: 25px;\">Exercício 41</font>\n",
    "<hr style=\"border: 2px solid #4500ff;\">"
   ]
  },
  {
   "cell_type": "markdown",
   "id": "d6c242f0",
   "metadata": {},
   "source": [
    " <p style='font-size: 23px; line-height: 2; margin: 0px 0px; text-align: justify; text-indent: 0px;'>    \n",
    "<i><b>Escreva um programa que mostre de 50 até 1 na tela.</b></i>     \n",
    "</p>\n",
    "\n",
    "---"
   ]
  },
  {
   "cell_type": "code",
   "execution_count": 8,
   "id": "8edd6346",
   "metadata": {},
   "outputs": [
    {
     "name": "stdout",
     "output_type": "stream",
     "text": [
      "50  49  48  47  46  45  44  43  42  41  40  39  38  37  36  35  34  33  32  31  30  29  28  27  26  25  24  23  22  21  20  19  18  17  16  15  14  13  12  11  10  9  8  7  6  5  4  3  2  1  "
     ]
    }
   ],
   "source": [
    "for i in range(50,0, -1):\n",
    "    print(i, end=\"  \")"
   ]
  },
  {
   "cell_type": "markdown",
   "id": "1eb6bf7e",
   "metadata": {},
   "source": [
    "<hr style=\"border: 2px solid #4500ff;\">\n",
    "\n",
    "# <font color=\"#4500ff\" style=\"font-size: 25px;\">Exercício 42</font>\n",
    "<hr style=\"border: 2px solid #4500ff;\">"
   ]
  },
  {
   "cell_type": "markdown",
   "id": "039eec24",
   "metadata": {},
   "source": [
    " <p style='font-size: 23px; line-height: 2; margin: 0px 0px; text-align: justify; text-indent: 0px;'>    \n",
    "<i><b>Escreva um programa que mostre de 150 até 200 na tela.</b></i>     \n",
    "</p>\n",
    "\n",
    "---"
   ]
  },
  {
   "cell_type": "code",
   "execution_count": 9,
   "id": "2a417535",
   "metadata": {},
   "outputs": [
    {
     "name": "stdout",
     "output_type": "stream",
     "text": [
      "150  151  152  153  154  155  156  157  158  159  160  161  162  163  164  165  166  167  168  169  170  171  172  173  174  175  176  177  178  179  180  181  182  183  184  185  186  187  188  189  190  191  192  193  194  195  196  197  198  199  200  "
     ]
    }
   ],
   "source": [
    "for i in range(150,201):\n",
    "    print(i, end=\"  \")"
   ]
  },
  {
   "cell_type": "markdown",
   "id": "eac23dff",
   "metadata": {},
   "source": [
    "<hr style=\"border: 2px solid #4500ff;\">\n",
    "\n",
    "# <font color=\"#4500ff\" style=\"font-size: 25px;\">Exercício 43</font>\n",
    "<hr style=\"border: 2px solid #4500ff;\">"
   ]
  },
  {
   "cell_type": "markdown",
   "id": "41aa7bd7",
   "metadata": {},
   "source": [
    " <p style='font-size: 23px; line-height: 2; margin: 0px 0px; text-align: justify; text-indent: 0px;'>    \n",
    "<i><b>Escreva um programa de contagem regressiva, ou seja, imprima na tela o seguinte padrão numérico:\n",
    "\n",
    "```\n",
    "5\n",
    "4\n",
    "3\n",
    "2\n",
    "1\n",
    "0\n",
    "```\n",
    "</b></i>     \n",
    "</p>\n",
    "\n",
    "---"
   ]
  },
  {
   "cell_type": "code",
   "execution_count": 24,
   "id": "d37e60a1",
   "metadata": {},
   "outputs": [],
   "source": [
    "import numpy as np\n",
    "import pandas as pd\n",
    "import math"
   ]
  },
  {
   "cell_type": "code",
   "execution_count": 25,
   "id": "81028c8f",
   "metadata": {},
   "outputs": [
    {
     "name": "stdout",
     "output_type": "stream",
     "text": [
      "Diga a cronometragem: 5\n",
      "5\n",
      "4\n",
      "3\n",
      "2\n",
      "1\n",
      "0\n"
     ]
    }
   ],
   "source": [
    "x = int(input(\"Diga a cronometragem: \"))\n",
    "cronometragem = list(range(x, -1, -1))\n",
    "\n",
    "for i in cronometragem:\n",
    "    print(i)\n"
   ]
  },
  {
   "cell_type": "markdown",
   "id": "eef02703",
   "metadata": {},
   "source": [
    "<hr style=\"border: 2px solid #4500ff;\">\n",
    "\n",
    "# <font color=\"#4500ff\" style=\"font-size: 25px;\">Exercício 44</font>\n",
    "<hr style=\"border: 2px solid #4500ff;\">"
   ]
  },
  {
   "cell_type": "markdown",
   "id": "82cc4554",
   "metadata": {},
   "source": [
    " <p style='font-size: 23px; line-height: 2; margin: 0px 0px; text-align: justify; text-indent: 0px;'>    \n",
    "<i><b>Faça um programa que imprima na tela de 1 até um número digitado pelo usuário.\n",
    "</b></i>     \n",
    "</p>\n",
    "\n",
    "---"
   ]
  },
  {
   "cell_type": "code",
   "execution_count": 30,
   "id": "76e2936e",
   "metadata": {},
   "outputs": [
    {
     "name": "stdout",
     "output_type": "stream",
     "text": [
      "Diga o ultimo número: 5\n",
      "1\n",
      "2\n",
      "3\n",
      "4\n",
      "5\n"
     ]
    }
   ],
   "source": [
    "x = int(input(\"Diga o ultimo número: \"))\n",
    "\n",
    "for i in range(1, x+1):\n",
    "    print(i)"
   ]
  },
  {
   "cell_type": "markdown",
   "id": "5c902283",
   "metadata": {},
   "source": [
    "<hr style=\"border: 2px solid #4500ff;\">\n",
    "\n",
    "# <font color=\"#4500ff\" style=\"font-size: 25px;\">Exercício 45</font>\n",
    "<hr style=\"border: 2px solid #4500ff;\">"
   ]
  },
  {
   "cell_type": "markdown",
   "id": "41aca4bd",
   "metadata": {},
   "source": [
    " <p style='font-size: 23px; line-height: 2; margin: 0px 0px; text-align: justify; text-indent: 0px;'>    \n",
    "<i><b>Escreva um programa que mostre na tela os 20 primeiros múltiplos de 5.\n",
    "</b></i>     \n",
    "</p>\n",
    "\n",
    "---"
   ]
  },
  {
   "cell_type": "code",
   "execution_count": 36,
   "id": "554b3013",
   "metadata": {},
   "outputs": [
    {
     "name": "stdout",
     "output_type": "stream",
     "text": [
      "[0, 5, 10, 15, 20, 25, 30, 35, 40, 45, 50, 55, 60, 65, 70, 75, 80, 85, 90, 95, 100]\n"
     ]
    }
   ],
   "source": [
    "multiplos = [i for i in range(0,101,5)]\n",
    "print(multiplos)"
   ]
  },
  {
   "cell_type": "markdown",
   "id": "2c9adf34",
   "metadata": {},
   "source": [
    "<hr style=\"border: 2px solid #4500ff;\">\n",
    "\n",
    "# <font color=\"#4500ff\" style=\"font-size: 25px;\">Exercício 46</font>\n",
    "<hr style=\"border: 2px solid #4500ff;\">"
   ]
  },
  {
   "cell_type": "markdown",
   "id": "1d1be28b",
   "metadata": {},
   "source": [
    " <p style='font-size: 23px; line-height: 2; margin: 0px 0px; text-align: justify; text-indent: 0px;'>    \n",
    "<i><b>Utilizando estruturas de repetição escreva um programa que mostre os resultados da tabuada (multiplicação) de um número inserido pelo usuário.\n",
    "\n",
    "\n",
    "</b></i>     \n",
    "</p>\n",
    "\n",
    "---"
   ]
  },
  {
   "cell_type": "code",
   "execution_count": 39,
   "id": "77c4c08e",
   "metadata": {},
   "outputs": [
    {
     "name": "stdout",
     "output_type": "stream",
     "text": [
      "Diga um número: 8\n",
      "8 X 0 : 0\n",
      "8 X 1 : 8\n",
      "8 X 2 : 16\n",
      "8 X 3 : 24\n",
      "8 X 4 : 32\n",
      "8 X 5 : 40\n",
      "8 X 6 : 48\n",
      "8 X 7 : 56\n",
      "8 X 8 : 64\n",
      "8 X 9 : 72\n",
      "8 X 10 : 80\n"
     ]
    }
   ],
   "source": [
    "x = int(input(\"Diga um número: \"))\n",
    "for i in range(0,11):\n",
    "    print(f\"{x} X {i} : {x*i}\")"
   ]
  },
  {
   "cell_type": "markdown",
   "id": "a0017772",
   "metadata": {},
   "source": [
    "<hr style=\"border: 2px solid #4500ff;\">\n",
    "\n",
    "# <font color=\"#4500ff\" style=\"font-size: 25px;\">Exercício 47</font>\n",
    "<hr style=\"border: 2px solid #4500ff;\">"
   ]
  },
  {
   "cell_type": "markdown",
   "id": "e1a41b27",
   "metadata": {},
   "source": [
    " <p style='font-size: 23px; line-height: 2; margin: 0px 0px; text-align: justify; text-indent: 0px;'>    \n",
    "<i><b>Utilizando estruturas de repetição escreva um programa que mostre os resultados da tabuada de multiplicação dos números entre 1 e 10, como segue.\n",
    "\n",
    "\n",
    "```\n",
    "1 x 1 = 1\n",
    "1 x 2 = 2\n",
    "1 x 3 = 3\n",
    "1 x 4 = 4\n",
    "1 x 5 = 5\n",
    "1 x 6 = 6\n",
    "1 x 7 = 7\n",
    "1 x 8 = 8\n",
    "1 x 9 = 9\n",
    "1 x 10 = 10\n",
    "2 x 1 = 2\n",
    "2 x 2 = 4\n",
    "2 x 3 = 6\n",
    "2 x 4 = 8\n",
    "2 x 5 = 10\n",
    "2 x 6 = 12\n",
    "2 x 7 = 14\n",
    "2 x 8 = 16\n",
    "2 x 9 = 18\n",
    "2 x 10 = 20\n",
    "3 x 1 = 3\n",
    "3 x 2 = 6\n",
    "3 x 3 = 9\n",
    "3 x 4 = 12\n",
    "3 x 5 = 15\n",
    "3 x 6 = 18\n",
    "3 x 7 = 21\n",
    "3 x 8 = 24\n",
    "3 x 9 = 27\n",
    "3 x 10 = 30\n",
    "4 x 1 = 4\n",
    "4 x 2 = 8\n",
    "4 x 3 = 12\n",
    "4 x 4 = 16\n",
    "4 x 5 = 20\n",
    "4 x 6 = 24\n",
    "4 x 7 = 28\n",
    "4 x 8 = 32\n",
    "4 x 9 = 36\n",
    "4 x 10 = 40\n",
    "5 x 1 = 5\n",
    "5 x 2 = 10\n",
    "5 x 3 = 15\n",
    "5 x 4 = 20\n",
    "5 x 5 = 25\n",
    "5 x 6 = 30\n",
    "5 x 7 = 35\n",
    "5 x 8 = 40\n",
    "5 x 9 = 45\n",
    "5 x 10 = 50\n",
    "6 x 1 = 6\n",
    "6 x 2 = 12\n",
    "6 x 3 = 18\n",
    "6 x 4 = 24\n",
    "6 x 5 = 30\n",
    "6 x 6 = 36\n",
    "6 x 7 = 42\n",
    "6 x 8 = 48\n",
    "6 x 9 = 54\n",
    "6 x 10 = 60\n",
    "7 x 1 = 7\n",
    "7 x 2 = 14\n",
    "7 x 3 = 21\n",
    "7 x 4 = 28\n",
    "7 x 5 = 35\n",
    "7 x 6 = 42\n",
    "7 x 7 = 49\n",
    "7 x 8 = 56\n",
    "7 x 9 = 63\n",
    "7 x 10 = 70\n",
    "8 x 1 = 8\n",
    "8 x 2 = 16\n",
    "8 x 3 = 24\n",
    "8 x 4 = 32\n",
    "8 x 5 = 40\n",
    "8 x 6 = 48\n",
    "8 x 7 = 56\n",
    "8 x 8 = 64\n",
    "8 x 9 = 72\n",
    "8 x 10 = 80\n",
    "9 x 1 = 9\n",
    "9 x 2 = 18\n",
    "9 x 3 = 27\n",
    "9 x 4 = 36\n",
    "9 x 5 = 45\n",
    "9 x 6 = 54\n",
    "9 x 7 = 63\n",
    "9 x 8 = 72\n",
    "9 x 9 = 81\n",
    "9 x 10 = 90\n",
    "10 x 1 = 10\n",
    "10 x 2 = 20\n",
    "10 x 3 = 30\n",
    "10 x 4 = 40\n",
    "10 x 5 = 50\n",
    "10 x 6 = 60\n",
    "10 x 7 = 70\n",
    "10 x 8 = 80\n",
    "10 x 9 = 90\n",
    "10 x 10 = 100\n",
    " ```\n",
    "   \n",
    "</b></i>     \n",
    "</p>\n",
    "\n",
    "---"
   ]
  },
  {
   "cell_type": "code",
   "execution_count": 41,
   "id": "de7f587f",
   "metadata": {},
   "outputs": [
    {
     "name": "stdout",
     "output_type": "stream",
     "text": [
      "1 X 1 : 1\n",
      "1 X 2 : 2\n",
      "1 X 3 : 3\n",
      "1 X 4 : 4\n",
      "1 X 5 : 5\n",
      "1 X 6 : 6\n",
      "1 X 7 : 7\n",
      "1 X 8 : 8\n",
      "1 X 9 : 9\n",
      "1 X 10 : 10\n",
      "2 X 1 : 2\n",
      "2 X 2 : 4\n",
      "2 X 3 : 6\n",
      "2 X 4 : 8\n",
      "2 X 5 : 10\n",
      "2 X 6 : 12\n",
      "2 X 7 : 14\n",
      "2 X 8 : 16\n",
      "2 X 9 : 18\n",
      "2 X 10 : 20\n",
      "3 X 1 : 3\n",
      "3 X 2 : 6\n",
      "3 X 3 : 9\n",
      "3 X 4 : 12\n",
      "3 X 5 : 15\n",
      "3 X 6 : 18\n",
      "3 X 7 : 21\n",
      "3 X 8 : 24\n",
      "3 X 9 : 27\n",
      "3 X 10 : 30\n",
      "4 X 1 : 4\n",
      "4 X 2 : 8\n",
      "4 X 3 : 12\n",
      "4 X 4 : 16\n",
      "4 X 5 : 20\n",
      "4 X 6 : 24\n",
      "4 X 7 : 28\n",
      "4 X 8 : 32\n",
      "4 X 9 : 36\n",
      "4 X 10 : 40\n",
      "5 X 1 : 5\n",
      "5 X 2 : 10\n",
      "5 X 3 : 15\n",
      "5 X 4 : 20\n",
      "5 X 5 : 25\n",
      "5 X 6 : 30\n",
      "5 X 7 : 35\n",
      "5 X 8 : 40\n",
      "5 X 9 : 45\n",
      "5 X 10 : 50\n",
      "6 X 1 : 6\n",
      "6 X 2 : 12\n",
      "6 X 3 : 18\n",
      "6 X 4 : 24\n",
      "6 X 5 : 30\n",
      "6 X 6 : 36\n",
      "6 X 7 : 42\n",
      "6 X 8 : 48\n",
      "6 X 9 : 54\n",
      "6 X 10 : 60\n",
      "7 X 1 : 7\n",
      "7 X 2 : 14\n",
      "7 X 3 : 21\n",
      "7 X 4 : 28\n",
      "7 X 5 : 35\n",
      "7 X 6 : 42\n",
      "7 X 7 : 49\n",
      "7 X 8 : 56\n",
      "7 X 9 : 63\n",
      "7 X 10 : 70\n",
      "8 X 1 : 8\n",
      "8 X 2 : 16\n",
      "8 X 3 : 24\n",
      "8 X 4 : 32\n",
      "8 X 5 : 40\n",
      "8 X 6 : 48\n",
      "8 X 7 : 56\n",
      "8 X 8 : 64\n",
      "8 X 9 : 72\n",
      "8 X 10 : 80\n",
      "9 X 1 : 9\n",
      "9 X 2 : 18\n",
      "9 X 3 : 27\n",
      "9 X 4 : 36\n",
      "9 X 5 : 45\n",
      "9 X 6 : 54\n",
      "9 X 7 : 63\n",
      "9 X 8 : 72\n",
      "9 X 9 : 81\n",
      "9 X 10 : 90\n",
      "10 X 1 : 10\n",
      "10 X 2 : 20\n",
      "10 X 3 : 30\n",
      "10 X 4 : 40\n",
      "10 X 5 : 50\n",
      "10 X 6 : 60\n",
      "10 X 7 : 70\n",
      "10 X 8 : 80\n",
      "10 X 9 : 90\n",
      "10 X 10 : 100\n"
     ]
    }
   ],
   "source": [
    "for i in range(1,11):\n",
    "    for y in range(1,11):\n",
    "        print(f\"{i} X {y} : {i*y}\")        "
   ]
  },
  {
   "cell_type": "markdown",
   "id": "d3121ad2",
   "metadata": {},
   "source": [
    "<hr style=\"border: 2px solid #4500ff;\">\n",
    "\n",
    "# <font color=\"#4500ff\" style=\"font-size: 25px;\">Exercício 48</font>\n",
    "<hr style=\"border: 2px solid #4500ff;\">"
   ]
  },
  {
   "cell_type": "markdown",
   "id": "784d6ffa",
   "metadata": {},
   "source": [
    " <p style='font-size: 23px; line-height: 2; margin: 0px 0px; text-align: justify; text-indent: 0px;'>    \n",
    "<i><b>Em um único loop escreva um programa que mostre na tela de 1 a 10 três vezes e ao final mostre a mensagem Fim . No primeiro loop utilize for e nos dois loops seguintes while. O resultado do seu programa deverá ter o seguinte formato:\n",
    "\n",
    "\n",
    "```\n",
    "1\n",
    "2\n",
    "3\n",
    "4\n",
    "5\n",
    "6\n",
    "7\n",
    "8\n",
    "9\n",
    "10\n",
    "1\n",
    "2\n",
    "3\n",
    "4\n",
    "5\n",
    "6\n",
    "7\n",
    "8\n",
    "9\n",
    "10\n",
    "1\n",
    "2\n",
    "3\n",
    "4\n",
    "5\n",
    "6\n",
    "7\n",
    "8\n",
    "9\n",
    "10\n",
    "Fim\n",
    "```\n",
    "\n",
    "</b></i>     \n",
    "</p>\n",
    "\n",
    "---"
   ]
  },
  {
   "cell_type": "code",
   "execution_count": 3,
   "id": "b834f694",
   "metadata": {},
   "outputs": [
    {
     "name": "stdout",
     "output_type": "stream",
     "text": [
      "1\n",
      "2\n",
      "3\n",
      "4\n",
      "5\n",
      "6\n",
      "7\n",
      "8\n",
      "9\n",
      "10\n",
      "1\n",
      "2\n",
      "3\n",
      "4\n",
      "5\n",
      "6\n",
      "7\n",
      "8\n",
      "9\n",
      "10\n",
      "1\n",
      "2\n",
      "3\n",
      "4\n",
      "5\n",
      "6\n",
      "7\n",
      "8\n",
      "9\n",
      "10\n",
      "fim\n"
     ]
    }
   ],
   "source": [
    "for y in range(0,3):\n",
    "    for i in range(1,11):\n",
    "        print(i)\n",
    "print('fim')\n",
    "    "
   ]
  },
  {
   "cell_type": "markdown",
   "id": "7665eec2",
   "metadata": {},
   "source": [
    "<hr style=\"border: 2px solid #4500ff;\">\n",
    "\n",
    "# <font color=\"#4500ff\" style=\"font-size: 25px;\">Exercício 49</font>\n",
    "<hr style=\"border: 2px solid #4500ff;\">"
   ]
  },
  {
   "cell_type": "markdown",
   "id": "6788a0de",
   "metadata": {},
   "source": [
    " <p style='font-size: 23px; line-height: 2; margin: 0px 0px; text-align: justify; text-indent: 0px;'>    \n",
    "<i><b>Escreva um programa que peça ao usuário números entre 0-10. Se o usuário inserir um número fora desse intervalo o programa deverá finalizar com uma mensagem personalizada.\n",
    "\n",
    "</b></i>     \n",
    "</p>\n",
    "\n",
    "---"
   ]
  },
  {
   "cell_type": "code",
   "execution_count": 9,
   "id": "954b9dae",
   "metadata": {},
   "outputs": [
    {
     "name": "stdout",
     "output_type": "stream",
     "text": [
      "digite um número entre 0-10: 11\n",
      "valor fora do intervalo\n"
     ]
    }
   ],
   "source": [
    "while True:\n",
    "    x = int(input(\"digite um número entre 0-10: \"))\n",
    "    if x<=10 and x>=0:\n",
    "        print(x)\n",
    "        break\n",
    "    else:\n",
    "        print(\"valor fora do intervalo\")\n",
    "        break"
   ]
  },
  {
   "cell_type": "markdown",
   "id": "a3a9b063",
   "metadata": {},
   "source": [
    "<hr style=\"border: 2px solid #4500ff;\">\n",
    "\n",
    "# <font color=\"#4500ff\" style=\"font-size: 25px;\">Exercício 50</font>\n",
    "<hr style=\"border: 2px solid #4500ff;\">"
   ]
  },
  {
   "cell_type": "markdown",
   "id": "bcbd111c",
   "metadata": {},
   "source": [
    " <p style='font-size: 23px; line-height: 2; margin: 0px 0px; text-align: justify; text-indent: 0px;'>    \n",
    "<i><b>Em um único loop escreva um programa que mostre na tela de 0-5, cinco vezes e ao final mostre a mensagem Fim . Utilize apenas for em sua implementação. Seu programa deverá gerar um output com o seguinte formato:\n",
    "\n",
    "\n",
    "```\n",
    "0\n",
    "1\n",
    "2\n",
    "3\n",
    "4\n",
    "5\n",
    "0\n",
    "1\n",
    "2\n",
    "3\n",
    "4\n",
    "5\n",
    "0\n",
    "1\n",
    "2\n",
    "3\n",
    "4\n",
    "5\n",
    "0\n",
    "1\n",
    "2\n",
    "3\n",
    "4\n",
    "5\n",
    "0\n",
    "1\n",
    "2\n",
    "3\n",
    "4\n",
    "5\n",
    "Fim\n",
    "```\n",
    "\n",
    "</b></i>     \n",
    "</p>\n",
    "\n",
    "---"
   ]
  },
  {
   "cell_type": "code",
   "execution_count": 10,
   "id": "79694ee8",
   "metadata": {},
   "outputs": [
    {
     "name": "stdout",
     "output_type": "stream",
     "text": [
      "1\n",
      "2\n",
      "3\n",
      "4\n",
      "5\n",
      "1\n",
      "2\n",
      "3\n",
      "4\n",
      "5\n",
      "1\n",
      "2\n",
      "3\n",
      "4\n",
      "5\n",
      "1\n",
      "2\n",
      "3\n",
      "4\n",
      "5\n",
      "1\n",
      "2\n",
      "3\n",
      "4\n",
      "5\n",
      "fim\n"
     ]
    }
   ],
   "source": [
    "for y in range(0,5):\n",
    "    for i in range(1,6):\n",
    "        print(i)\n",
    "print('fim')\n",
    "    "
   ]
  },
  {
   "cell_type": "markdown",
   "id": "f5688ef2",
   "metadata": {},
   "source": [
    "<hr style=\"border: 2px solid #4500ff;\">\n",
    "\n",
    "# <font color=\"#4500ff\" style=\"font-size: 25px;\">Exercício 51</font>\n",
    "<hr style=\"border: 2px solid #4500ff;\">"
   ]
  },
  {
   "cell_type": "markdown",
   "id": "23cb1e3f",
   "metadata": {},
   "source": [
    " <p style='font-size: 23px; line-height: 2; margin: 0px 0px; text-align: justify; text-indent: 0px;'>    \n",
    "<i><b>Escreva um programa que peça números reais (float) do usuário indefinidamente . Caso os números digitados não estejam situados entre 0 e 10 o programa deverá ser finalizado, mostrando a soma e a quantidade de números digitados.\n",
    "</b></i>     \n",
    "</p>\n",
    "\n",
    "---"
   ]
  },
  {
   "cell_type": "code",
   "execution_count": 16,
   "id": "58b794c8",
   "metadata": {},
   "outputs": [
    {
     "name": "stdout",
     "output_type": "stream",
     "text": [
      "digite um número entre 0-10: 6\n",
      "digite um número entre 0-10: 7\n",
      "digite um número entre 0-10: 8\n",
      "digite um número entre 0-10: 9\n",
      "digite um número entre 0-10: 10\n",
      "digite um número entre 0-10: 11\n",
      "Fim do programa\n",
      "soma: 40.0 \n",
      "tamanho: 5\n"
     ]
    }
   ],
   "source": [
    "y = list()\n",
    "while True:\n",
    "    x = float(input(\"digite um número entre 0-10: \"))\n",
    "    if x<=10 and x>=0:\n",
    "        y.append(x)\n",
    "    else:\n",
    "        print(\"Fim do programa\")\n",
    "        print(f\"soma: {sum(y)} \\ntamanho: {len(y)}\")\n",
    "        break"
   ]
  },
  {
   "cell_type": "markdown",
   "id": "47ec701a",
   "metadata": {},
   "source": [
    "<hr style=\"border: 2px solid #4500ff;\">\n",
    "\n",
    "# <font color=\"#4500ff\" style=\"font-size: 25px;\">Exercício 52</font>\n",
    "<hr style=\"border: 2px solid #4500ff;\">"
   ]
  },
  {
   "cell_type": "markdown",
   "id": "075cfb1b",
   "metadata": {},
   "source": [
    " <p style='font-size: 23px; line-height: 2; margin: 0px 0px; text-align: justify; text-indent: 0px;'>    \n",
    "<i><b>Escreva um programa que peça ao usuário 20 números reais e ao final mostre a soma e a média dos números digitados.\n",
    "</b></i>     \n",
    "</p>\n",
    "\n",
    "---"
   ]
  },
  {
   "cell_type": "code",
   "execution_count": 19,
   "id": "824367aa",
   "metadata": {},
   "outputs": [
    {
     "name": "stdout",
     "output_type": "stream",
     "text": [
      "Digite um número: 1\n",
      "Digite um número: 2\n",
      "Digite um número: 3\n",
      "Digite um número: 4\n",
      "Digite um número: 5\n",
      "Digite um número: 6\n",
      "Digite um número: 7\n",
      "Digite um número: 8\n",
      "Digite um número: 9\n",
      "Digite um número: 1\n",
      "Digite um número: 10\n",
      "Digite um número: 11\n",
      "Digite um número: 12\n",
      "Digite um número: 13\n",
      "Digite um número: 14\n",
      "Digite um número: 15\n",
      "Digite um número: 16\n",
      "Digite um número: 17\n",
      "Digite um número: 18\n",
      "Digite um número: 19\n",
      "\n",
      "Soma dos números --> 191.0\n",
      "Média dos números --> 9.55\n"
     ]
    }
   ],
   "source": [
    "from statistics import mean\n",
    "\n",
    "y = []\n",
    "for i in range (0,20):\n",
    "    x=float(input(\"Digite um número: \"))\n",
    "    y.append(x)\n",
    "print(f\"\\nSoma dos números --> {sum(y)}\")\n",
    "print(f\"Média dos números --> {mean(y)}\")"
   ]
  },
  {
   "cell_type": "markdown",
   "id": "3daa9fd4",
   "metadata": {},
   "source": [
    "<hr style=\"border: 2px solid #4500ff;\">\n",
    "\n",
    "# <font color=\"#4500ff\" style=\"font-size: 25px;\">Exercício 53</font>\n",
    "<hr style=\"border: 2px solid #4500ff;\">"
   ]
  },
  {
   "cell_type": "markdown",
   "id": "019fb195",
   "metadata": {},
   "source": [
    " <p style='font-size: 23px; line-height: 2; margin: 0px 0px; text-align: justify; text-indent: 0px;'>    \n",
    "<i><b>Elabore um programa que calcule e mostre na tela os números pares entre 1 e 200. Os números devem ser mostrados na tela de acordo com o formato a seguir:\n",
    "\n",
    "\n",
    "```\n",
    "2 4 6 8 10 12 14 16 18 20 22 24 26 28 30 32 34 36 38 40 42 44 46 48 50 52 54 56 58 60 62 64 66 68 70 72 74 76 78 80 82 84 86 88 90 92 94 96 98 100 102 104 106 108 110 112 114 116 118 120 122 124 126 128 130 132 134 136 138 140 142 144 146 148 150 152 154 156 158 160 162 164 166 168 170 172 174 176 178 180 182 184 186 188 190 192 194 196 198 200 \n",
    "```\n",
    "</b></i>     \n",
    "</p>\n",
    "\n",
    "---"
   ]
  },
  {
   "cell_type": "code",
   "execution_count": 21,
   "id": "9a063af5",
   "metadata": {},
   "outputs": [
    {
     "name": "stdout",
     "output_type": "stream",
     "text": [
      "2 4 6 8 10 12 14 16 18 20 22 24 26 28 30 32 34 36 38 40 42 44 46 48 50 52 54 56 58 60 62 64 66 68 70 72 74 76 78 80 82 84 86 88 90 92 94 96 98 100 102 104 106 108 110 112 114 116 118 120 122 124 126 128 130 132 134 136 138 140 142 144 146 148 150 152 154 156 158 160 162 164 166 168 170 172 174 176 178 180 182 184 186 188 190 192 194 196 198 200 "
     ]
    }
   ],
   "source": [
    "for i in range (2,201, 2):\n",
    "    print(i, end= \" \")"
   ]
  },
  {
   "cell_type": "markdown",
   "id": "83785977",
   "metadata": {},
   "source": [
    "<hr style=\"border: 2px solid #4500ff;\">\n",
    "\n",
    "# <font color=\"#4500ff\" style=\"font-size: 25px;\">Exercício 54</font>\n",
    "<hr style=\"border: 2px solid #4500ff;\">"
   ]
  },
  {
   "cell_type": "markdown",
   "id": "c8ba9f74",
   "metadata": {},
   "source": [
    " <p style='font-size: 23px; line-height: 2; margin: 0px 0px; text-align: justify; text-indent: 0px;'>    \n",
    "<i><b>Elabore um programa que calcule e mostre na tela os números ímpares entre 1 e 200. Os números devem ser mostrados na tela de acordo com o formato a seguir:\n",
    "\n",
    "\n",
    "```\n",
    "1 3 5 7 9 11 13 15 17 19 21 23 25 27 29 31 33 35 37 39 41 43 45 47 49 51 53 55 57 59 61 63 65 67 69 71 73 75 77 79 81 83 85 87 89 91 93 95 97 99 101 103 105 107 109 111 113 115 117 119 121 123 125 127 129 131 133 135 137 139 141 143 145 147 149 151 153 155 157 159 161 163 165 167 169 171 173 175 177 179 181 183 185 187 189 191 193 195 197 199  \n",
    "```\n",
    "</b></i>     \n",
    "</p>\n",
    "\n",
    "---"
   ]
  },
  {
   "cell_type": "code",
   "execution_count": 22,
   "id": "3e5b478a",
   "metadata": {},
   "outputs": [
    {
     "name": "stdout",
     "output_type": "stream",
     "text": [
      "1 3 5 7 9 11 13 15 17 19 21 23 25 27 29 31 33 35 37 39 41 43 45 47 49 51 53 55 57 59 61 63 65 67 69 71 73 75 77 79 81 83 85 87 89 91 93 95 97 99 101 103 105 107 109 111 113 115 117 119 121 123 125 127 129 131 133 135 137 139 141 143 145 147 149 151 153 155 157 159 161 163 165 167 169 171 173 175 177 179 181 183 185 187 189 191 193 195 197 199 "
     ]
    }
   ],
   "source": [
    "for i in range (1, 201, 2):\n",
    "    print(i, end= \" \")"
   ]
  },
  {
   "cell_type": "markdown",
   "id": "e0fd9cd6",
   "metadata": {},
   "source": [
    "<hr style=\"border: 2px solid #4500ff;\">\n",
    "\n",
    "# <font color=\"#4500ff\" style=\"font-size: 25px;\">Exercício 55</font>\n",
    "<hr style=\"border: 2px solid #4500ff;\">"
   ]
  },
  {
   "cell_type": "markdown",
   "id": "49e7db9d",
   "metadata": {},
   "source": [
    " <p style='font-size: 23px; line-height: 2; margin: 0px 0px; text-align: justify; text-indent: 0px;'>    \n",
    "<i><b>Escreva um programa que peça um número inteiro do usuário e mostre na tela o fatorial deste número.\n",
    "</b></i>     \n",
    "</p>\n",
    "\n",
    "---"
   ]
  },
  {
   "cell_type": "code",
   "execution_count": 46,
   "id": "d5aa9def",
   "metadata": {},
   "outputs": [
    {
     "name": "stdout",
     "output_type": "stream",
     "text": [
      "Escreva um número inteiro: 10\n"
     ]
    },
    {
     "data": {
      "text/plain": [
       "3628800"
      ]
     },
     "metadata": {},
     "output_type": "display_data"
    },
    {
     "name": "stdout",
     "output_type": "stream",
     "text": [
      "Escreva um número inteiro: 10\n"
     ]
    },
    {
     "data": {
      "text/plain": [
       "3628800"
      ]
     },
     "metadata": {},
     "output_type": "display_data"
    },
    {
     "name": "stdout",
     "output_type": "stream",
     "text": [
      "Digite um número inteiro: 10\n",
      "\n",
      "3628800\n"
     ]
    }
   ],
   "source": [
    "# Método 1\n",
    "x = int(input(\"Escreva um número inteiro: \"))\n",
    "display(math.factorial(x))\n",
    "\n",
    "# Método 2\n",
    "\n",
    "x = int(input(\"Escreva um número inteiro: \"))\n",
    "fatorial = 1\n",
    "while True:\n",
    "    if x != 0:\n",
    "        fatorial *= x * (x -1)\n",
    "        x= x-2\n",
    "    else:\n",
    "        break\n",
    "        \n",
    "display(fatorial)   \n",
    "\n",
    "# Método 3\n",
    "\n",
    "num=int(input('Digite um número inteiro: '))\n",
    "fatorial=1\n",
    "for i in range(1,num+1):\n",
    "    fatorial=fatorial*i\n",
    "print(f\"\\n{fatorial}\")"
   ]
  },
  {
   "cell_type": "code",
   "execution_count": null,
   "id": "a866c18f",
   "metadata": {},
   "outputs": [],
   "source": []
  },
  {
   "cell_type": "code",
   "execution_count": null,
   "id": "3cf98f23",
   "metadata": {},
   "outputs": [],
   "source": []
  },
  {
   "cell_type": "code",
   "execution_count": null,
   "id": "0d00e540",
   "metadata": {},
   "outputs": [],
   "source": []
  },
  {
   "cell_type": "code",
   "execution_count": null,
   "id": "b5a90025",
   "metadata": {},
   "outputs": [],
   "source": []
  },
  {
   "cell_type": "code",
   "execution_count": null,
   "id": "b24e5eee",
   "metadata": {},
   "outputs": [],
   "source": []
  }
 ],
 "metadata": {
  "kernelspec": {
   "display_name": "Python 3 (ipykernel)",
   "language": "python",
   "name": "python3"
  },
  "language_info": {
   "codemirror_mode": {
    "name": "ipython",
    "version": 3
   },
   "file_extension": ".py",
   "mimetype": "text/x-python",
   "name": "python",
   "nbconvert_exporter": "python",
   "pygments_lexer": "ipython3",
   "version": "3.11.3"
  }
 },
 "nbformat": 4,
 "nbformat_minor": 5
}

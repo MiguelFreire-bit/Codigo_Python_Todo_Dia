{
 "cells": [
  {
   "cell_type": "markdown",
   "id": "ad67072e",
   "metadata": {},
   "source": [
    "\n",
    "\n",
    "# <font color=\"#ff4500\" style=\"font-size: 30px;\">Código Python Todo Dia</font>\n"
   ]
  },
  {
   "cell_type": "markdown",
   "id": "de962b57",
   "metadata": {},
   "source": [
    "<hr style=\"border: 2px solid #4500ff;\">\n",
    "\n",
    "# <font color=\"#4500ff\" style=\"font-size: 25px;\">Exercício 108</font>\n",
    "<hr style=\"border: 2px solid #4500ff;\">\n",
    "\n",
    " <p style='font-size: 23px; line-height: 2; margin: 0px 0px; text-align: justify; text-indent: 0px;'>    \n",
    "<i><b> Nos exercícios anteriores utilizamos compreensão de listas para construir listas de uma forma rápida e 'pythônica' utilizando uma notação simples. Os dicionários também suportam a mesma operação, possibilitando uma construção simples e compacta combinando loops e estruturas condicionais. Nestes termos, podemos aplicar esse conceito para criar DataFrames com pandas, uma aplicação muito comum em Data Science.\n",
    "\n",
    "## Sendo assim, utilize compreensão de dicionários para construir os dicionários abaixo.\n",
    "--- \n",
    "## a) Crie um dicionário em que suas chaves serão os números 1, 4, 5, 6, 7, 9 (que podem ser armazenados em uma lista) e seus valores correspondem ao quadrado destes números.\n",
    "\n",
    "\n",
    "    \n",
    "```python\n",
    "{1: 1, 4: 16, 5: 25, 6: 36, 7: 49, 9: 81}\n",
    "   \n",
    "```\n",
    "---\n",
    "    \n",
    "## b) Crie um dicionário em que suas chaves correspondem a números inteiros entre [1,10] e cada valor associado é o número ao quadrado.\n",
    "    \n",
    "```python\n",
    "{1: 1, 2: 4, 3: 9, 4: 16, 5: 25, 6: 36, 7: 49, 8: 64, 9: 81, 10: 100}\n",
    "```\n",
    "---\n",
    "## c) Crie um dicionário em que suas chaves correspondem a números de 10 a 1 e seus respectivos valores denotam o cubo de cada chave.\n",
    "    \n",
    "```python\n",
    "{10: 1000, 9: 729, 8: 512, 7: 343, 6: 216, 5: 125, 4: 64, 3: 27, 2: 8, 1: 1}\n",
    "```\n",
    "</b></i>     \n",
    "</p>\n",
    "\n",
    "---"
   ]
  },
  {
   "cell_type": "code",
   "execution_count": 6,
   "id": "d7e5f351",
   "metadata": {},
   "outputs": [
    {
     "name": "stdout",
     "output_type": "stream",
     "text": [
      "{1: 1, 4: 16, 5: 25, 6: 36, 7: 49, 9: 81}\n",
      "{1: 1, 2: 4, 3: 9, 4: 16, 5: 25, 6: 36, 7: 49, 8: 64, 9: 81, 10: 100}\n",
      "{10: 1000, 9: 729, 8: 512, 7: 343, 6: 216, 5: 125, 4: 64, 3: 27, 2: 8, 1: 1}\n"
     ]
    }
   ],
   "source": [
    "# A)\n",
    "lista = [1, 4, 5, 6, 7, 9]\n",
    "dict_ = {x:x**2 for x in lista}\n",
    "print(dict_)\n",
    "\n",
    "# B)\n",
    "dict_ = {x:x**2 for x in range(1,11)}\n",
    "print(dict_)\n",
    "\n",
    "# C)\n",
    "dict_ = {x:x**3 for x in range(10,0,-1)}\n",
    "print(dict_)"
   ]
  },
  {
   "cell_type": "markdown",
   "id": "d5282dd5",
   "metadata": {},
   "source": [
    "<hr style=\"border: 2px solid #4500ff;\">\n",
    "\n",
    "# <font color=\"#4500ff\" style=\"font-size: 25px;\">Exercício 109</font>\n",
    "<hr style=\"border: 2px solid #4500ff;\">\n",
    "\n",
    " <p style='font-size: 23px; line-height: 2; margin: 0px 0px; text-align: justify; text-indent: 0px;'>    \n",
    "<i><b> A partir da lista\n",
    "\n",
    "    \n",
    "```python\n",
    "linguagens = ['python', 'javascript', 'java', 'php', 'c', 'julia']\n",
    "   \n",
    "```\n",
    "---\n",
    "    \n",
    "## Use Dict Comprehension para construir o dicionário abaixo:   \n",
    "    \n",
    "```python\n",
    "{'python': 6, 'javascript': 10, 'java': 4, 'php': 3, 'c': 1, 'julia': 5}\n",
    "```\n",
    "---\n",
    "## Dica: observe que o valor associado a cada chave corresponde ao tamanho de cada string..\n",
    "    \n",
    "</b></i>     \n",
    "</p>\n",
    "\n",
    "---"
   ]
  },
  {
   "cell_type": "code",
   "execution_count": 7,
   "id": "1f2c64fe",
   "metadata": {},
   "outputs": [
    {
     "data": {
      "text/plain": [
       "{'python': 6, 'javascript': 10, 'java': 4, 'php': 3, 'c': 1, 'julia': 5}"
      ]
     },
     "execution_count": 7,
     "metadata": {},
     "output_type": "execute_result"
    }
   ],
   "source": [
    "linguagens = ['python', 'javascript', 'java', 'php', 'c', 'julia']\n",
    "\n",
    "dict_ = {x:len(x) for x in linguagens}\n",
    "dict_"
   ]
  },
  {
   "cell_type": "markdown",
   "id": "b5bba380",
   "metadata": {},
   "source": [
    "<hr style=\"border: 2px solid #4500ff;\">\n",
    "\n",
    "# <font color=\"#4500ff\" style=\"font-size: 25px;\">Exercício 110</font>\n",
    "<hr style=\"border: 2px solid #4500ff;\">\n",
    "\n",
    " <p style='font-size: 23px; line-height: 2; margin: 0px 0px; text-align: justify; text-indent: 0px;'>    \n",
    "<i><b> A partir da lista\n",
    "\n",
    "    \n",
    "```python\n",
    "frutas = ['  Banana  ', ' Laranja   ', '  Maçã', ' Melão ']\n",
    "   \n",
    "```\n",
    "---\n",
    "    \n",
    "## Use Dict Comprehension para construir o dicionário abaixo:   \n",
    "    \n",
    "```python\n",
    "{'1': 'Banana', '2': 'Laranja', '3': 'Maçã', '4': 'Melão'}\n",
    "```\n",
    "---\n",
    "    \n",
    "</b></i>     \n",
    "</p>\n",
    "\n",
    "---"
   ]
  },
  {
   "cell_type": "code",
   "execution_count": 10,
   "id": "10e05f6e",
   "metadata": {},
   "outputs": [
    {
     "data": {
      "text/plain": [
       "{'1': 'Banana', '2': 'Laranja', '3': 'Maçã', '4': 'Melão'}"
      ]
     },
     "execution_count": 10,
     "metadata": {},
     "output_type": "execute_result"
    }
   ],
   "source": [
    "frutas = ['  Banana  ', ' Laranja   ', '  Maçã', ' Melão ']\n",
    "\n",
    "dict_ = {str(indice):fruta.strip() for indice, fruta in enumerate(frutas, start=1)}\n",
    "dict_"
   ]
  },
  {
   "cell_type": "markdown",
   "id": "b3cf870c",
   "metadata": {},
   "source": [
    "<hr style=\"border: 2px solid #4500ff;\">\n",
    "\n",
    "# <font color=\"#4500ff\" style=\"font-size: 25px;\">Exercício 111</font>\n",
    "<hr style=\"border: 2px solid #4500ff;\">\n",
    "\n",
    " <p style='font-size: 23px; line-height: 2; margin: 0px 0px; text-align: justify; text-indent: 0px;'>    \n",
    "<i><b> Utilize compreensão de dicionários para construir o dicionário abaixo.\n",
    "\n",
    "    \n",
    "```python\n",
    "{'chave1': 1, 'chave2': 4, 'chave3': 9, 'chave4': 16, 'chave5': 25, 'chave6': 36, 'chave7': 49, 'chave8': 64, 'chave9': 81}\n",
    "   \n",
    "```\n",
    "---\n",
    "    \n",
    "</b></i>     \n",
    "</p>\n",
    "\n",
    "---"
   ]
  },
  {
   "cell_type": "code",
   "execution_count": 2,
   "id": "05561831",
   "metadata": {},
   "outputs": [
    {
     "name": "stdout",
     "output_type": "stream",
     "text": [
      "{'chave1': 1, 'chave2': 4, 'chave3': 9, 'chave4': 16, 'chave5': 25, 'chave6': 36, 'chave7': 49, 'chave8': 64, 'chave9': 81}\n"
     ]
    }
   ],
   "source": [
    "dict_ = {f\"chave{i}\":i**2 for i in range(1,10)}\n",
    "print(dict_)"
   ]
  },
  {
   "cell_type": "markdown",
   "id": "6804b163",
   "metadata": {},
   "source": [
    "<hr style=\"border: 2px solid #4500ff;\">\n",
    "\n",
    "# <font color=\"#4500ff\" style=\"font-size: 25px;\">Exercício 112</font>\n",
    "<hr style=\"border: 2px solid #4500ff;\">\n",
    "\n",
    " <p style='font-size: 23px; line-height: 2; margin: 0px 0px; text-align: justify; text-indent: 0px;'>    \n",
    "<i><b> Utilize compreensão de dicionários para construir o dicionário abaixo.\n",
    "\n",
    "    \n",
    "```python\n",
    "{'A': 1, 'B': 2, 'C': 6, 'D': 24, 'E': 120}\n",
    "   \n",
    "```\n",
    "\n",
    "Dica: observe que o valor associado a cada chave corresponde ao fatorial de cada número no intervalo [1,5].\n",
    "    \n",
    "---\n",
    "    \n",
    "</b></i>     \n",
    "</p>\n",
    "\n",
    "---"
   ]
  },
  {
   "cell_type": "code",
   "execution_count": 8,
   "id": "ecf48390",
   "metadata": {},
   "outputs": [
    {
     "name": "stdout",
     "output_type": "stream",
     "text": [
      "{'A': 1, 'B': 2, 'C': 6, 'D': 24, 'E': 120}\n"
     ]
    },
    {
     "data": {
      "text/plain": [
       "{'A': 1, 'B': 2, 'C': 6, 'D': 24, 'E': 120}"
      ]
     },
     "execution_count": 8,
     "metadata": {},
     "output_type": "execute_result"
    }
   ],
   "source": [
    "import math as mp\n",
    "\n",
    "lista = ['A','B','C','D','E']\n",
    "dict_ = {element:mp.factorial(num) for num, element in enumerate(lista, start=1) }\n",
    "print(dict_)\n",
    "\n",
    "# outra resolução \n",
    "\n",
    "from math import factorial\n",
    "dicionario = {chr(64+i):factorial(i)  for i in range(1,6)}\n",
    "dicionario"
   ]
  },
  {
   "cell_type": "markdown",
   "id": "78838181",
   "metadata": {},
   "source": [
    "<hr style=\"border: 2px solid #4500ff;\">\n",
    "\n",
    "# <font color=\"#4500ff\" style=\"font-size: 25px;\">Exercício 113</font>\n",
    "<hr style=\"border: 2px solid #4500ff;\">\n",
    "\n",
    " <p style='font-size: 23px; line-height: 2; margin: 0px 0px; text-align: justify; text-indent: 0px;'>    \n",
    "<i><b> A partir das listas\n",
    "\n",
    "    \n",
    "```python\n",
    "empresa = ['ABEV3', 'AZUL4', 'BTOW3', 'RENT3', 'JBSS3']\n",
    "precos = [12.85, 22.55, 115.08, 49.03, 24.41] \n",
    "   \n",
    "```\n",
    "\n",
    "Utilize compreensão de dicionários e obtenha:\n",
    "\n",
    "    \n",
    "```python\n",
    "{'ABEV3': 12.85, 'AZUL4': 22.55, 'BTOW3': 115.08, 'RENT3': 49.03, 'JBSS3': 24.41}\n",
    "```\n",
    "   \n",
    "    \n",
    "---\n",
    "    \n",
    "</b></i>     \n",
    "</p>\n",
    "\n",
    "---"
   ]
  },
  {
   "cell_type": "code",
   "execution_count": 14,
   "id": "7e8654ca",
   "metadata": {},
   "outputs": [
    {
     "name": "stdout",
     "output_type": "stream",
     "text": [
      "{'ABEV3': 12.85, 'AZUL4': 22.55, 'BTOW3': 115.08, 'RENT3': 49.03, 'JBSS3': 24.41}\n",
      "{'ABEV3': 12.85, 'AZUL4': 22.55, 'BTOW3': 115.08, 'RENT3': 49.03, 'JBSS3': 24.41}\n"
     ]
    }
   ],
   "source": [
    "empresa = ['ABEV3', 'AZUL4', 'BTOW3', 'RENT3', 'JBSS3']\n",
    "precos = [12.85, 22.55, 115.08, 49.03, 24.41] \n",
    "\n",
    "dict_ = {E: P for E, P in zip(empresa, precos)}\n",
    "print(dict_)\n",
    "\n",
    "# Outra forma de resolver\n",
    "dict_ = {empresa[i]:precos[i] for i in range(len(empresa))}\n",
    "print(dict_)"
   ]
  },
  {
   "cell_type": "code",
   "execution_count": null,
   "id": "fbef91ca",
   "metadata": {},
   "outputs": [],
   "source": []
  }
 ],
 "metadata": {
  "kernelspec": {
   "display_name": "Python 3 (ipykernel)",
   "language": "python",
   "name": "python3"
  },
  "language_info": {
   "codemirror_mode": {
    "name": "ipython",
    "version": 3
   },
   "file_extension": ".py",
   "mimetype": "text/x-python",
   "name": "python",
   "nbconvert_exporter": "python",
   "pygments_lexer": "ipython3",
   "version": "3.11.5"
  }
 },
 "nbformat": 4,
 "nbformat_minor": 5
}

{
 "cells": [
  {
   "cell_type": "markdown",
   "id": "4d76159e",
   "metadata": {},
   "source": [
    "\n",
    "\n",
    "# <font color=\"#ff4500\" style=\"font-size: 30px;\">Código Python Todo Dia</font>\n"
   ]
  },
  {
   "cell_type": "markdown",
   "id": "10b3ae43",
   "metadata": {},
   "source": [
    "<hr style=\"border: 2px solid #4500ff;\">\n",
    "\n",
    "# <font color=\"#4500ff\" style=\"font-size: 25px;\">Exercício 76</font>\n",
    "<hr style=\"border: 2px solid #4500ff;\">"
   ]
  },
  {
   "cell_type": "markdown",
   "id": "cb6218b3",
   "metadata": {},
   "source": [
    " <p style='font-size: 23px; line-height: 2; margin: 0px 0px; text-align: justify; text-indent: 0px;'>    \n",
    "<i><b>Escreva um programa que some todos os elementos de uma lista.</b></i>     \n",
    "</p>\n",
    "\n",
    "---"
   ]
  },
  {
   "cell_type": "code",
   "execution_count": 7,
   "id": "53cbe24f",
   "metadata": {},
   "outputs": [
    {
     "name": "stdout",
     "output_type": "stream",
     "text": [
      "5102\n"
     ]
    }
   ],
   "source": [
    "import random as r\n",
    "\n",
    "# Criando lista\n",
    "lista = [r.randint(1,100) for _ in range(100)]\n",
    "\n",
    "# Soma\n",
    "soma = sum(lista)\n",
    "\n",
    "print(soma)"
   ]
  },
  {
   "cell_type": "markdown",
   "id": "eedd0837",
   "metadata": {},
   "source": [
    "<hr style=\"border: 2px solid #4500ff;\">\n",
    "\n",
    "# <font color=\"#4500ff\" style=\"font-size: 25px;\">Exercício 77</font>\n",
    "<hr style=\"border: 2px solid #4500ff;\">"
   ]
  },
  {
   "cell_type": "markdown",
   "id": "09777715",
   "metadata": {},
   "source": [
    " <p style='font-size: 23px; line-height: 2; margin: 0px 0px; text-align: justify; text-indent: 0px;'>    \n",
    "<i><b>Escreva um programa que multiplique todos os elementos de uma lista.</b></i>     \n",
    "</p>\n",
    "\n",
    "---"
   ]
  },
  {
   "cell_type": "code",
   "execution_count": 46,
   "id": "4a3f0a02",
   "metadata": {},
   "outputs": [
    {
     "name": "stdout",
     "output_type": "stream",
     "text": [
      "3628800\n",
      "\n",
      "O resultado da multiplicação de todos os elementos da lista é: 3628800\n"
     ]
    }
   ],
   "source": [
    "import random as r\n",
    "\n",
    "# Criando lista\n",
    "lista = r.sample(range(1,11), 10)\n",
    "multipli = 1\n",
    "\n",
    "# iteração\n",
    "for num in lista:\n",
    "    multipli = num * multipli\n",
    "\n",
    "print(multipli)\n",
    "print()\n",
    "\n",
    "# segundo método\n",
    "import random as r\n",
    "\n",
    "# Criando lista\n",
    "#lista = r.sample(range(1, 1001), 100)\n",
    "\n",
    "# Inicialize uma variável para armazenar o resultado da multiplicação\n",
    "resultado = 1\n",
    "\n",
    "# Iteração para multiplicar todos os elementos da lista\n",
    "for num in lista:\n",
    "    resultado *= num\n",
    "\n",
    "print(\"O resultado da multiplicação de todos os elementos da lista é:\", resultado)\n"
   ]
  },
  {
   "cell_type": "markdown",
   "id": "9173ad1a",
   "metadata": {},
   "source": [
    "<hr style=\"border: 2px solid #4500ff;\">\n",
    "\n",
    "# <font color=\"#4500ff\" style=\"font-size: 25px;\">Exercício 78</font>\n",
    "<hr style=\"border: 2px solid #4500ff;\">"
   ]
  },
  {
   "cell_type": "markdown",
   "id": "36ddf359",
   "metadata": {},
   "source": [
    " <p style='font-size: 23px; line-height: 2; margin: 0px 0px; text-align: justify; text-indent: 0px;'>    \n",
    "<i><b>Considere a lista abaixo e escreva um programa que multiplique todos os seus elementos.\n",
    "\n",
    "```\n",
    "    \n",
    "lista=[5,4,3,2,1]\n",
    "    \n",
    "```\n",
    "</b></i>     \n",
    "</p>\n",
    "\n",
    "---"
   ]
  },
  {
   "cell_type": "code",
   "execution_count": 66,
   "id": "4151e471",
   "metadata": {},
   "outputs": [
    {
     "data": {
      "text/plain": [
       "120"
      ]
     },
     "execution_count": 66,
     "metadata": {},
     "output_type": "execute_result"
    }
   ],
   "source": [
    "lista=[5,4,3,2,1]\n",
    "result = 1\n",
    "for i in range(0,len(lista)):\n",
    "    result = result*lista[i]\n",
    " \n",
    "    \n",
    "result"
   ]
  },
  {
   "cell_type": "markdown",
   "id": "04563a4c",
   "metadata": {},
   "source": [
    "<hr style=\"border: 2px solid #4500ff;\">\n",
    "\n",
    "# <font color=\"#4500ff\" style=\"font-size: 25px;\">Exercício 79</font>\n",
    "<hr style=\"border: 2px solid #4500ff;\">"
   ]
  },
  {
   "cell_type": "markdown",
   "id": "f92af117",
   "metadata": {},
   "source": [
    " <p style='font-size: 23px; line-height: 2; margin: 0px 0px; text-align: justify; text-indent: 0px;'>    \n",
    "<i><b>Considere a lista abaixo e faça um programa que some todos os seus elementos. Tente implementar ao menos duas soluções.\n",
    "    \n",
    "```\n",
    "    \n",
    "lista=[10,2,40,50,-2,3,100,21,33,29,123,234,32,88,90,23]\n",
    "    \n",
    "```\n",
    "    \n",
    "</b></i>     \n",
    "</p>\n",
    "\n",
    "---"
   ]
  },
  {
   "cell_type": "code",
   "execution_count": 69,
   "id": "6362b14d",
   "metadata": {},
   "outputs": [
    {
     "name": "stdout",
     "output_type": "stream",
     "text": [
      "876\n",
      "\n",
      "876\n"
     ]
    }
   ],
   "source": [
    "# solução 1\n",
    "lista=[10,2,40,50,-2,3,100,21,33,29,123,234,32,88,90,23]\n",
    "\n",
    "soma = sum(lista)\n",
    "print(soma)\n",
    "print()\n",
    "\n",
    "#solução 2\n",
    "soma_ = 0\n",
    "for elemento in lista:\n",
    "    soma_ += elemento\n",
    "\n",
    "print(soma_)\n",
    "            "
   ]
  },
  {
   "cell_type": "markdown",
   "id": "05b36ce8",
   "metadata": {},
   "source": [
    "<hr style=\"border: 2px solid #4500ff;\">\n",
    "\n",
    "# <font color=\"#4500ff\" style=\"font-size: 25px;\">Exercício 80</font>\n",
    "<hr style=\"border: 2px solid #4500ff;\">"
   ]
  },
  {
   "cell_type": "markdown",
   "id": "20b6f4ed",
   "metadata": {},
   "source": [
    " <p style='font-size: 23px; line-height: 2; margin: 0px 0px; text-align: justify; text-indent: 0px;'>    \n",
    "<i><b>Considere a lista abaixo e escreva um programa que mostre na tela o seu maior número.\n",
    "    \n",
    "```\n",
    "    \n",
    "lista=[497, 186, 66, 198, 204, 339, 738, 743, \n",
    "       -80, 36, 887, 645, 312, 760, 574, 439, \n",
    "       164, 873, 125, 871, 901, 561, 5, -65, \n",
    "       -66, -51, 522, 306, -79, 577, 268, 240, \n",
    "       183, 217, 729, 202, 483, 464, 281, 6, \n",
    "       -44, 110, 670, 749, 846, 903, 15, 265, \n",
    "       596, -3, 534, -42, 528, 582, 552, 254, \n",
    "       780, 326, 816, -7, 859, 234, 898, 355, \n",
    "       706, 576, 968, 349, 649, 522, 466, 353, \n",
    "       940, 41, 141, 946, 317, 346, 256, 326, \n",
    "       546, 473, 270, 22, 102, 504, 421, 87, \n",
    "       570, 143, 519, 292, 382, 744, 525, 658, \n",
    "       725, 477, 413]\n",
    "    \n",
    "```\n",
    "    \n",
    "</b></i>     \n",
    "</p>\n",
    "\n",
    "---"
   ]
  },
  {
   "cell_type": "code",
   "execution_count": 77,
   "id": "397cec3e",
   "metadata": {},
   "outputs": [],
   "source": [
    "    \n",
    "lista=[497, 186, 66, 198, 204, 339, 738, 743, \n",
    "       -80, 36, 887, 645, 312, 760, 574, 439, \n",
    "       164, 873, 125, 871, 901, 561, 5, -65, \n",
    "       -66, -51, 522, 306, -79, 577, 268, 240, \n",
    "       183, 217, 729, 202, 483, 464, 281, 6, \n",
    "       -44, 110, 670, 749, 846, 903, 15, 265, \n",
    "       596, -3, 534, -42, 528, 582, 552, 254, \n",
    "       780, 326, 816, -7, 859, 234, 898, 355, \n",
    "       706, 576, 968, 349, 649, 522, 466, 353, \n",
    "       940, 41, 141, 946, 317, 346, 256, 326, \n",
    "       546, 473, 270, 22, 102, 504, 421, 87, \n",
    "       570, 143, 519, 292, 382, 744, 525, 658, \n",
    "       725, 477, 413]"
   ]
  },
  {
   "cell_type": "code",
   "execution_count": 78,
   "id": "820fe25a",
   "metadata": {},
   "outputs": [
    {
     "name": "stdout",
     "output_type": "stream",
     "text": [
      "968\n",
      "-80\n",
      "\n",
      "968\n",
      "-80\n"
     ]
    }
   ],
   "source": [
    "# método 1\n",
    "\n",
    "print(max(lista))\n",
    "print(min(lista))\n",
    "print()\n",
    "\n",
    "# método 2\n",
    "\n",
    "maior = lista[0]\n",
    "menor = lista[0]\n",
    "\n",
    "for elemento in lista:\n",
    "    if elemento > maior:\n",
    "        maior = elemento\n",
    "    if elemento < menor:\n",
    "        menor = elemento\n",
    "\n",
    "print(maior)\n",
    "print(menor)\n",
    "        "
   ]
  },
  {
   "cell_type": "markdown",
   "id": "b9d15bc8",
   "metadata": {},
   "source": [
    "A notação `items: list` é uma dica de tipo (type hint) em Python. Ela é usada para indicar o tipo esperado do argumento `items` da função `checar_max`, neste caso, uma lista. Essa notação é usada principalmente para melhorar a clareza do código e fornecer informações sobre o tipo de dados que uma função espera como argumento.\n",
    "\n",
    "Você pode usá-la em outros contextos, como em definições de funções, em anotações de tipos de variáveis, em classes e em várias partes do seu código para fornecer dicas sobre o tipo de dados que você espera ou que uma função retorna. Isso pode ser particularmente útil em programas maiores ou quando você está trabalhando com outros desenvolvedores, pois ajuda a documentar e esclarecer o comportamento esperado das funções e variáveis.\n",
    "\n",
    "A notação `items: list` indica que a função `checar_max` deve receber uma lista como argumento `items`, e o tipo do argumento deve ser uma lista. Se você fornecer um tipo diferente, Python pode gerar um aviso ou erro, dependendo das configurações do linter (ferramenta de análise de código) que você estiver usando. No entanto, essas dicas de tipo não têm impacto real na execução do programa; elas são usadas principalmente para documentação e verificação estática do código."
   ]
  },
  {
   "cell_type": "markdown",
   "id": "2ead2c46",
   "metadata": {},
   "source": [
    "---\n",
    "\n",
    "alguns exemplos de como usar dicas de tipo em Python:\n",
    "\n",
    "**1. Anotação de tipo de argumento de função:**\n",
    "```python\n",
    "def soma(a: int, b: int) -> int:\n",
    "    return a + b\n",
    "```\n",
    "\n",
    "Neste exemplo, a função `soma` espera dois argumentos `a` e `b`, ambos do tipo `int`, e a função retorna um valor do tipo `int`.\n",
    "\n",
    "**2. Anotação de tipo de variável:**\n",
    "```python\n",
    "total: float = 0.0\n",
    "```\n",
    "\n",
    "Neste exemplo, a variável `total` é uma variável de ponto flutuante (float) e é inicializada com o valor 0.0.\n",
    "\n",
    "**3. Dicas de tipo em listas e dicionários:**\n",
    "```python\n",
    "from typing import List, Dict\n",
    "\n",
    "pontuacoes: List[int] = [90, 85, 88, 92]\n",
    "aluno: Dict[str, int] = {'nome': 'João', 'idade': 25}\n",
    "```\n",
    "\n",
    "Neste exemplo, `pontuacoes` é uma lista de inteiros e `aluno` é um dicionário com chaves do tipo string e valores do tipo inteiro.\n",
    "\n",
    "**4. Funções com anotações de tipo de retorno:**\n",
    "```python\n",
    "def dobro(a: int) -> int:\n",
    "    return a * 2\n",
    "```\n",
    "\n",
    "Neste exemplo, a função `dobro` recebe um argumento do tipo `int` e retorna um valor do tipo `int`.\n",
    "\n",
    "Lembrando que as dicas de tipo em Python são opcionais e não afetam o comportamento real do código. No entanto, elas podem ser úteis para tornar o código mais legível, documentar as expectativas de tipos e facilitar a detecção de erros por ferramentas de análise estática.\n",
    "\n",
    "---"
   ]
  },
  {
   "cell_type": "markdown",
   "id": "5d209f17",
   "metadata": {},
   "source": [
    "<hr style=\"border: 2px solid #4500ff;\">\n",
    "\n",
    "# <font color=\"#4500ff\" style=\"font-size: 25px;\">Exercício 81</font>\n",
    "<hr style=\"border: 2px solid #4500ff;\">"
   ]
  },
  {
   "cell_type": "markdown",
   "id": "0cef0dff",
   "metadata": {},
   "source": [
    " <p style='font-size: 23px; line-height: 2; margin: 0px 0px; text-align: justify; text-indent: 0px;'>    \n",
    "<i><b>Considere a lista abaixo e escreva um programa que mostre na tela o seu menor número.\n",
    "    \n",
    "```\n",
    "    \n",
    "lista=[497, 186, 66, 198, 204, 339, 738, 743, \n",
    "       -80, 36, 887, 645, 312, 760, 574, 439, \n",
    "       164, 873, 125, 871, 901, 561, 5, -65, \n",
    "       -66, -51, 522, 306, -79, 577, 268, 240, \n",
    "       183, 217, 729, 202, 483, 464, 281, 6, \n",
    "       -44, 110, 670, 749, 846, 903, 15, 265, \n",
    "       596, -3, 534, -42, 528, 582, 552, 254, \n",
    "       780, 326, 816, -7, 859, 234, 898, 355, \n",
    "       706, 576, 968, 349, 649, 522, 466, 353, \n",
    "       940, 41, 141, 946, 317, 346, 256, 326, \n",
    "       546, 473, 270, 22, 102, 504, 421, 87, \n",
    "       570, 143, 519, 292, 382, 744, 525, 658, \n",
    "       725, 477, 413]\n",
    "    \n",
    "```\n",
    "    \n",
    "</b></i>     \n",
    "</p>\n",
    "\n",
    "---"
   ]
  },
  {
   "cell_type": "code",
   "execution_count": 81,
   "id": "f21aab29",
   "metadata": {},
   "outputs": [
    {
     "name": "stdout",
     "output_type": "stream",
     "text": [
      "-80\n",
      "\n",
      "-80\n"
     ]
    }
   ],
   "source": [
    "# método 1\n",
    "print(min(lista))\n",
    "print()\n",
    "\n",
    "\n",
    "# método 2\n",
    "menor = lista[0]\n",
    "\n",
    "for elemento in lista:\n",
    "\n",
    "    if elemento < menor:\n",
    "        menor = elemento\n",
    "\n",
    "\n",
    "print(menor)"
   ]
  },
  {
   "cell_type": "markdown",
   "id": "c9dcfaf0",
   "metadata": {},
   "source": [
    "<hr style=\"border: 2px solid #4500ff;\">\n",
    "\n",
    "# <font color=\"#4500ff\" style=\"font-size: 25px;\">Exercício 82</font>\n",
    "<hr style=\"border: 2px solid #4500ff;\">"
   ]
  },
  {
   "cell_type": "markdown",
   "id": "833abac3",
   "metadata": {},
   "source": [
    " <p style='font-size: 23px; line-height: 2; margin: 0px 0px; text-align: justify; text-indent: 0px;'>    \n",
    "<i><b>Ordene os elementos das listas a seguir em ordem crescente e decrescente.\n",
    "    \n",
    "```\n",
    "    \n",
    "a)\n",
    "\n",
    "lista1=[117, 1519, 1335, 1600, 1676, 1491, 868, \n",
    "        1149, 642, 1321, 509, 1296, 1936, 1014, \n",
    "        1114, 1197, 94, 1347, 1112, 1224, 351, \n",
    "        1498, 1028, 255, 937, 514, 1041, 1923, \n",
    "        913, 510, 868, 1195, 1218, 1489, 1920, \n",
    "        630, 666, 605, 515, 1219, 59, 1217, 1293, \n",
    "        487, 1095, 1730, 1115, 1465, 1506, 1881]\n",
    "b)\n",
    "\n",
    "lista2=['a','a','z','f',\n",
    "        'h','i','m','u',\n",
    "        'q','r','b','d',\n",
    "       ]\n",
    "    \n",
    "```\n",
    "    \n",
    "</b></i>     \n",
    "</p>\n",
    "\n",
    "---"
   ]
  },
  {
   "cell_type": "code",
   "execution_count": 83,
   "id": "e9a206dc",
   "metadata": {},
   "outputs": [],
   "source": [
    "lista1=[117, 1519, 1335, 1600, 1676, 1491, 868, \n",
    "        1149, 642, 1321, 509, 1296, 1936, 1014, \n",
    "        1114, 1197, 94, 1347, 1112, 1224, 351, \n",
    "        1498, 1028, 255, 937, 514, 1041, 1923, \n",
    "        913, 510, 868, 1195, 1218, 1489, 1920, \n",
    "        630, 666, 605, 515, 1219, 59, 1217, 1293, \n",
    "        487, 1095, 1730, 1115, 1465, 1506, 1881]\n",
    "\n",
    "\n",
    "lista2=['a','a','z','f',\n",
    "        'h','i','m','u',\n",
    "        'q','r','b','d',\n",
    "       ]"
   ]
  },
  {
   "cell_type": "code",
   "execution_count": 99,
   "id": "e475cace",
   "metadata": {},
   "outputs": [
    {
     "name": "stdout",
     "output_type": "stream",
     "text": [
      "[59, 94, 117, 255, 351, 487, 509, 510, 514, 515, 605, 630, 642, 666, 868, 868, 913, 937, 1014, 1028, 1041, 1095, 1112, 1114, 1115, 1149, 1195, 1197, 1217, 1218, 1219, 1224, 1293, 1296, 1321, 1335, 1347, 1465, 1489, 1491, 1498, 1506, 1519, 1600, 1676, 1730, 1881, 1920, 1923, 1936]\n",
      "\n",
      "['a', 'a', 'b', 'd', 'f', 'h', 'i', 'm', 'q', 'r', 'u', 'z']\n",
      "\n",
      "[1936, 1923, 1920, 1881, 1730, 1676, 1600, 1519, 1506, 1498, 1491, 1489, 1465, 1347, 1335, 1321, 1296, 1293, 1224, 1219, 1218, 1217, 1197, 1195, 1149, 1115, 1114, 1112, 1095, 1041, 1028, 1014, 937, 913, 868, 868, 666, 642, 630, 605, 515, 514, 510, 509, 487, 351, 255, 117, 94, 59]\n",
      "\n",
      "['z', 'u', 'r', 'q', 'm', 'i', 'h', 'f', 'd', 'b', 'a', 'a']\n",
      "-------------------------------------------------------------------------------------------------------------------------------\n",
      "\n",
      "[59, 94, 117, 255, 351, 487, 509, 510, 514, 515, 605, 630, 642, 666, 868, 868, 913, 937, 1014, 1028, 1041, 1095, 1112, 1114, 1115, 1149, 1195, 1197, 1217, 1218, 1219, 1224, 1293, 1296, 1321, 1335, 1347, 1465, 1489, 1491, 1498, 1506, 1519, 1600, 1676, 1730, 1881, 1920, 1923, 1936]\n",
      "\n",
      "['a', 'a', 'b', 'd', 'f', 'h', 'i', 'm', 'q', 'r', 'u', 'z']\n",
      "\n",
      "[1936, 1923, 1920, 1881, 1730, 1676, 1600, 1519, 1506, 1498, 1491, 1489, 1465, 1347, 1335, 1321, 1296, 1293, 1224, 1219, 1218, 1217, 1197, 1195, 1149, 1115, 1114, 1112, 1095, 1041, 1028, 1014, 937, 913, 868, 868, 666, 642, 630, 605, 515, 514, 510, 509, 487, 351, 255, 117, 94, 59]\n",
      "\n",
      "['z', 'u', 'r', 'q', 'm', 'i', 'h', 'f', 'd', 'b', 'a', 'a']\n"
     ]
    }
   ],
   "source": [
    "# método 1 \n",
    "numeros_ordenados = sorted(lista1)\n",
    "print(numeros_ordenados)\n",
    " \n",
    "print()\n",
    "letras_ordenados = sorted(lista2)\n",
    "print(letras_ordenados)\n",
    "\n",
    "print()\n",
    "numeros_ordenados = sorted(lista1, reverse=True)\n",
    "print(numeros_ordenados)\n",
    " \n",
    "print()\n",
    "letras_ordenados = sorted(lista2, reverse=True)\n",
    "print(letras_ordenados)\n",
    "\n",
    "# SEPARADOR\n",
    "print(\"-\"*127)\n",
    "\n",
    "# método 2\n",
    "print()\n",
    "lista1.sort()\n",
    "print(lista1)\n",
    " \n",
    "print()\n",
    "lista2.sort()\n",
    "print(lista2)\n",
    "\n",
    "print()\n",
    "lista1.sort(reverse=True)\n",
    "print(lista1)\n",
    " \n",
    "print()\n",
    "lista2.sort(reverse=True)\n",
    "print(lista2)\n"
   ]
  },
  {
   "cell_type": "markdown",
   "id": "37ddaa02",
   "metadata": {},
   "source": [
    "---\n",
    "A função `sorted()` em Python é usada para classificar uma sequência (ou iterável) de elementos em uma nova lista ou iterável ordenado. A função `sorted()` não modifica a sequência original, mas retorna uma nova sequência ordenada. Aqui está a sintaxe da função `sorted()`:\n",
    "\n",
    "```python\n",
    "sorted(iterable, key=None, reverse=False)\n",
    "```\n",
    "\n",
    "- `iterable`: Esta é a sequência que você deseja ordenar, como uma lista, tupla, ou string.\n",
    "- `key` (opcional): Uma função que é usada para extrair um valor de comparação de cada elemento no `iterable`. Por padrão, `key` é definido como `None`, o que significa que a ordenação é feita diretamente nos elementos do `iterable`.\n",
    "- `reverse` (opcional): Se for definido como `True`, a ordenação será em ordem decrescente (do maior para o menor). O padrão é `False`, o que significa que a ordenação é em ordem crescente.\n",
    "\n",
    "Aqui estão alguns exemplos de uso da função `sorted()`:\n",
    "\n",
    "**Exemplo 1 - Ordenar uma lista em ordem crescente:**\n",
    "\n",
    "```python\n",
    "numeros = [3, 1, 4, 1, 5, 9, 2, 6, 5, 3, 5]\n",
    "numeros_ordenados = sorted(numeros)\n",
    "print(numeros_ordenados)\n",
    "```\n",
    "\n",
    "**Exemplo 2 - Ordenar uma lista de strings em ordem alfabética:**\n",
    "\n",
    "```python\n",
    "nomes = [\"Alice\", \"Bob\", \"Eve\", \"David\", \"Carol\"]\n",
    "nomes_ordenados = sorted(nomes)\n",
    "print(nomes_ordenados)\n",
    "```\n",
    "\n",
    "**Exemplo 3 - Ordenar uma lista de dicionários com base em uma chave específica:**\n",
    "\n",
    "```python\n",
    "pessoas = [\n",
    "    {'nome': 'Alice', 'idade': 25},\n",
    "    {'nome': 'Bob', 'idade': 30},\n",
    "    {'nome': 'Carol', 'idade': 28}\n",
    "]\n",
    "pessoas_ordenadas = sorted(pessoas, key=lambda x: x['idade'])\n",
    "print(pessoas_ordenadas)\n",
    "```\n",
    "\n",
    "Nesses exemplos, a função `sorted()` cria uma nova lista ordenada a partir da sequência original, e você pode controlar a ordenação usando a função `key` e a opção `reverse` conforme necessário.\n",
    "\n",
    "---"
   ]
  },
  {
   "cell_type": "markdown",
   "id": "4ea1dc3f",
   "metadata": {},
   "source": [
    "---\n",
    "A função `sort()` é um método em Python que é usado para ordenar diretamente uma lista (ou uma sequência mutável) em seu lugar, em vez de criar uma nova lista ordenada. A principal diferença entre `sort()` e `sorted()` é que `sort()` modifica a lista original, enquanto `sorted()` cria uma nova lista ordenada e deixa a lista original inalterada.\n",
    "\n",
    "Aqui está a sintaxe do método `sort()`:\n",
    "\n",
    "```python\n",
    "lista.sort(key=None, reverse=False)\n",
    "```\n",
    "\n",
    "- `key` (opcional): Funciona da mesma maneira que o `key` em `sorted()`. É uma função usada para extrair um valor de comparação de cada elemento da lista.\n",
    "- `reverse` (opcional): Também funciona da mesma maneira que o `reverse` em `sorted()`. Se for `True`, a ordenação será em ordem decrescente; caso contrário, será em ordem crescente.\n",
    "\n",
    "Aqui está um exemplo de uso do método `sort()`:\n",
    "\n",
    "```python\n",
    "numeros = [3, 1, 4, 1, 5, 9, 2, 6, 5, 3, 5]\n",
    "numeros.sort()\n",
    "print(numeros)\n",
    "```\n",
    "\n",
    "Neste exemplo, a lista `numeros` é ordenada diretamente com a chamada do método `sort()`. Após a execução, a lista `numeros` será modificada e conterá os elementos em ordem crescente.\n",
    "\n",
    "A principal diferença entre `sort()` e `sorted()` é que `sort()` modifica a lista original, enquanto `sorted()` retorna uma nova lista ordenada sem modificar a lista original. Portanto, a escolha entre usar `sort()` ou `sorted()` depende do requisito específico de seu programa e se você deseja ou não preservar a ordem original dos elementos na lista.\n",
    "\n",
    "---"
   ]
  },
  {
   "cell_type": "markdown",
   "id": "61ce7caa",
   "metadata": {},
   "source": [
    "<hr style=\"border: 2px solid #4500ff;\">\n",
    "\n",
    "# <font color=\"#4500ff\" style=\"font-size: 25px;\">Exercício 83</font>\n",
    "<hr style=\"border: 2px solid #4500ff;\">"
   ]
  },
  {
   "cell_type": "markdown",
   "id": "6b13d945",
   "metadata": {},
   "source": [
    " <p style='font-size: 23px; line-height: 2; margin: 0px 0px; text-align: justify; text-indent: 0px;'>    \n",
    "<i><b>Considere a lista abaixo. Escreva um programa que obtenha uma lista ordenada a partir da lista1. A ordenação deverá ser efetuada em ordem crescente pelo último elemento de cada tupla.\n",
    "    \n",
    "```\n",
    "    \n",
    "lista1=[('a',21,10),('q',44,99),\n",
    "       ('z',321,11),('w',91,33),\n",
    "       ('f',33,-9),('h',88,42),\n",
    "       ('j',-100,1),('n',74,93),\n",
    "       ('k',11,7),('m',923,-10),\n",
    "       ('l',2,23),('v',612,57),\n",
    "       ('j',130,51),('x',40,88),\n",
    "       ('b',99,67),('u',30,49),\n",
    "       ('e',-120,-4),('i',40,21),\n",
    "      ]\n",
    " \n",
    "    \n",
    "```\n",
    "    \n",
    "</b></i>     \n",
    "</p>\n",
    "\n",
    "---"
   ]
  },
  {
   "cell_type": "code",
   "execution_count": 100,
   "id": "486134fd",
   "metadata": {},
   "outputs": [
    {
     "data": {
      "text/plain": [
       "[('m', 923, -10),\n",
       " ('f', 33, -9),\n",
       " ('e', -120, -4),\n",
       " ('j', -100, 1),\n",
       " ('k', 11, 7),\n",
       " ('a', 21, 10),\n",
       " ('z', 321, 11),\n",
       " ('i', 40, 21),\n",
       " ('l', 2, 23),\n",
       " ('w', 91, 33),\n",
       " ('h', 88, 42),\n",
       " ('u', 30, 49),\n",
       " ('j', 130, 51),\n",
       " ('v', 612, 57),\n",
       " ('b', 99, 67),\n",
       " ('x', 40, 88),\n",
       " ('n', 74, 93),\n",
       " ('q', 44, 99)]"
      ]
     },
     "execution_count": 100,
     "metadata": {},
     "output_type": "execute_result"
    }
   ],
   "source": [
    "lista1=[('a',21,10),('q',44,99),\n",
    "       ('z',321,11),('w',91,33),\n",
    "       ('f',33,-9),('h',88,42),\n",
    "       ('j',-100,1),('n',74,93),\n",
    "       ('k',11,7),('m',923,-10),\n",
    "       ('l',2,23),('v',612,57),\n",
    "       ('j',130,51),('x',40,88),\n",
    "       ('b',99,67),('u',30,49),\n",
    "       ('e',-120,-4),('i',40,21),\n",
    "      ]\n",
    "\n",
    "nova = sorted(lista1, key=lambda x: x[-1], reverse=False)\n",
    "nova"
   ]
  },
  {
   "cell_type": "markdown",
   "id": "26a1edbd",
   "metadata": {},
   "source": [
    "Uma função lambda, também conhecida como função anônima, é uma função pequena e sem nome que pode ser definida em uma única linha. Ela é útil quando você precisa de uma função simples para realizar uma tarefa específica, como a que usamos para extrair o último elemento de cada tupla na lista que queremos ordenar.\n",
    "\n",
    "A sintaxe básica de uma função lambda é a seguinte:\n",
    "\n",
    "```python\n",
    "lambda argumentos: expressão\n",
    "```\n",
    "\n",
    "- `argumentos`: São os parâmetros da função, que você passa quando a chama.\n",
    "- `expressão`: É a operação que a função realiza. O resultado dessa operação é automaticamente retornado pela função.\n",
    "\n",
    "No seu caso, a função lambda será usada como a chave de ordenação. Ela deve receber uma tupla da lista e retornar o último elemento dessa tupla. Aqui está como você pode usá-la para ordenar sua lista de tuplas:\n",
    "\n",
    "```python\n",
    "sorted(lista1, key=lambda x: x[-1], reverse=False)\n",
    "```\n",
    "\n",
    "- `x` é o parâmetro da função lambda, representando cada tupla da lista.\n",
    "- `x[-1]` é a expressão que pega o último elemento da tupla `x`.\n",
    "\n",
    "A função lambda será aplicada a cada elemento da lista, usando o último elemento de cada tupla como critério de ordenação. A lista resultante será classificada com base nesse critério. Note que você pode adaptar a função lambda para diferentes critérios de classificação, dependendo das necessidades do seu programa. É uma maneira concisa e flexível de definir funções simples em Python."
   ]
  },
  {
   "cell_type": "markdown",
   "id": "f5e605fe",
   "metadata": {},
   "source": [
    "<hr style=\"border: 2px solid #4500ff;\">\n",
    "\n",
    "# <font color=\"#4500ff\" style=\"font-size: 25px;\">Exercício 84</font>\n",
    "<hr style=\"border: 2px solid #4500ff;\">"
   ]
  },
  {
   "cell_type": "markdown",
   "id": "73deeb0e",
   "metadata": {},
   "source": [
    " <p style='font-size: 23px; line-height: 2; margin: 0px 0px; text-align: justify; text-indent: 0px;'>    \n",
    "<i><b>A partir da lista abaixo calcule e mostre na tela:\n",
    "\n",
    "* Maior número;\n",
    "\n",
    "* Menor número;\n",
    "\n",
    "* Soma de todos os elementos da lista;\n",
    "\n",
    "* Quantidade de elementos da lista;\n",
    "\n",
    "* Média aritmética;\n",
    "\n",
    "* Moda (considere a possibilidade de uma amostra multimodal - ou seja, quando há várias modas);\n",
    "\n",
    "* Mediana;\n",
    "\n",
    "* Variância;\n",
    "\n",
    "* Desvio padrão.\n",
    "    \n",
    "```\n",
    "    \n",
    "lista=[-1505, 2518, 2333, 4682, -1740, 1067, 995,22,\n",
    "       -1153, -4098, 4560, 2958, 3640, -4154, 2345,4, \n",
    "       -1601, 158, -4044, -98, 707, 359, -3088, 527, \n",
    "       -3004, -4045, 563, -4137, 4598, -3862, 488, -1, \n",
    "       3445, 3820, 504, -1475, 1626, -1252, 2059, 16, \n",
    "       -1472, 2610, -4643, 2912, -2517, -4604, -1476, \n",
    "       3950, -4640, -229, 229, -3452, 4309, 2356, 66, \n",
    "       3728, -1846, -635, -3581, 4457, -2592, -1066, \n",
    "       -1006, -164, 805, -4500, -455, 2245, -4959, \n",
    "       -2415, 2038, 4512, 1243, 349, -1153, 3623, 631, \n",
    "       2209, -3349, -2417, 4429, -1324, -4101, -1354, \n",
    "       4400, -4968, -4433, 2042, 904, 932, 1331, 4955, \n",
    "       -3775, -333, 1012, 2192, -161, -224, 1505, -1615, \n",
    "       -2165, 3666, -4253, -358, -3939, -2641, 1228, \n",
    "       -608, -2280, 4939, -3355, 1340, -57, 3346, 2686, \n",
    "       -1572, 1991, -2351, -3972, -1683, -1509, -2488, \n",
    "       266, -2991, -795, -4032, 2397, 2391, 3654, -1044, \n",
    "       -2204, -2440, -1280, 2714, -4151, -1951, 3684, \n",
    "       -4251, 3748, -4359, -1436, -2190, 4538, -3563, \n",
    "       1542, 1926, -3940, -2274, -4223, 2504, -4112, 2388,\n",
    "]\n",
    "```\n",
    "    \n",
    "\n",
    "# O resultado do programa deve ser igual ao output a seguir.\n",
    "\n",
    "```\n",
    "Maior número: 4955\n",
    "Menor número: -4968\n",
    "Soma de todos os elementos da lista: -38259\n",
    "Quantidade de elementos da lista: 155\n",
    "Média aritmética: -246.83\n",
    "Moda: [2, -1153, 4]\n",
    "Mediana: -161\n",
    "Variância: 7629024.95\n",
    "Desvio padrão: 2762.07\n",
    "    \n",
    "```\n",
    "    \n",
    "</b></i>     \n",
    "</p>\n",
    "\n",
    "---"
   ]
  },
  {
   "cell_type": "code",
   "execution_count": 8,
   "id": "5c1ab0e7",
   "metadata": {},
   "outputs": [
    {
     "name": "stdout",
     "output_type": "stream",
     "text": [
      "Maior número: 4955\n",
      "Menor número: -4968\n",
      "Soma de todos os elementos da lista: -38267\n",
      "Quantidade de elementos da lista: 152\n",
      "Média aritmética: -251.76\n",
      "Moda: [-1153]\n",
      "Variância: 7779333.80\n",
      "Desvio padrão: 2789.15\n"
     ]
    }
   ],
   "source": [
    "from statistics import mean, multimode, median, stdev, variance\n",
    "\n",
    "lista=[-1505, 2518, 2333, 4682, -1740, 1067, 995,22,\n",
    "       -1153, -4098, 4560, 2958, 3640, -4154, 2345,4, \n",
    "       -1601, 158, -4044, -98, 707, 359, -3088, 527, \n",
    "       -3004, -4045, 563, -4137, 4598, -3862, 488, -1, \n",
    "       3445, 3820, 504, -1475, 1626, -1252, 2059, 16, \n",
    "       -1472, 2610, -4643, 2912, -2517, -4604, -1476, \n",
    "       3950, -4640, -229, 229, -3452, 4309, 2356, 66, \n",
    "       3728, -1846, -635, -3581, 4457, -2592, -1066, \n",
    "       -1006, -164, 805, -4500, -455, 2245, -4959, \n",
    "       -2415, 2038, 4512, 1243, 349, -1153, 3623, 631, \n",
    "       2209, -3349, -2417, 4429, -1324, -4101, -1354, \n",
    "       4400, -4968, -4433, 2042, 904, 932, 1331, 4955, \n",
    "       -3775, -333, 1012, 2192, -161, -224, 1505, -1615, \n",
    "       -2165, 3666, -4253, -358, -3939, -2641, 1228, \n",
    "       -608, -2280, 4939, -3355, 1340, -57, 3346, 2686, \n",
    "       -1572, 1991, -2351, -3972, -1683, -1509, -2488, \n",
    "       266, -2991, -795, -4032, 2397, 2391, 3654, -1044, \n",
    "       -2204, -2440, -1280, 2714, -4151, -1951, 3684, \n",
    "       -4251, 3748, -4359, -1436, -2190, 4538, -3563, \n",
    "       1542, 1926, -3940, -2274, -4223, 2504, -4112, 2388,\n",
    "]\n",
    "\n",
    "print(f\"Maior número: {max(lista)}\")\n",
    "print(f\"Menor número: {min(lista)}\")\n",
    "print(f\"Soma de todos os elementos da lista: {sum(lista)}\")\n",
    "print(f\"Quantidade de elementos da lista: {len(lista)}\")\n",
    "print(f\"Média aritmética: {mean(lista):.2f}\")\n",
    "print(f\"Moda: {multimode(lista)}\")\n",
    "print(f\"Variância: {variance(lista):.2f}\")\n",
    "print(f\"Desvio padrão: {stdev(lista):.2f}\")"
   ]
  },
  {
   "cell_type": "markdown",
   "id": "e985eaa5",
   "metadata": {},
   "source": [
    "<hr style=\"border: 2px solid #4500ff;\">\n",
    "\n",
    "# <font color=\"#4500ff\" style=\"font-size: 25px;\">Exercício 85</font>\n",
    "<hr style=\"border: 2px solid #4500ff;\">"
   ]
  },
  {
   "cell_type": "markdown",
   "id": "7eec51ff",
   "metadata": {},
   "source": [
    " <p style='font-size: 23px; line-height: 2; margin: 0px 0px; text-align: justify; text-indent: 0px;'>    \n",
    "<i><b>Considere a lista a seguir e escreva um programa para remover os elementos duplicados.\n",
    "    \n",
    "```\n",
    "    \n",
    "lista=[\n",
    "    'a','a','a',\n",
    "    'b','c','k',\n",
    "    'a',1,2,3,4,\n",
    "    'j','l','m',\n",
    "]\n",
    "\n",
    " \n",
    "    \n",
    "```\n",
    "    \n",
    "</b></i>     \n",
    "</p>\n",
    "\n",
    "---"
   ]
  },
  {
   "cell_type": "code",
   "execution_count": 28,
   "id": "46b2e672",
   "metadata": {},
   "outputs": [
    {
     "name": "stdout",
     "output_type": "stream",
     "text": [
      "['a', 'b', 'c', 'k', 1, 2, 3, 4, 'j', 'l', 'm']\n",
      "\n",
      "[1, 2, 3, 4, 'j', 'l', 'c', 'k', 'm', 'b', 'a']\n"
     ]
    }
   ],
   "source": [
    "import pandas as pd\n",
    "\n",
    "# método 1 (gambiarra)\n",
    "nova = []\n",
    "\n",
    "lista=[\n",
    "    'a','a','a',\n",
    "    'b','c','k',\n",
    "    'a',1,2,3,4,\n",
    "    'j','l','m',\n",
    "]\n",
    "\n",
    "for elemento in lista:\n",
    "    if (elemento in nova) == False:\n",
    "        nova.append(elemento)\n",
    "        \n",
    "print(nova)\n",
    "print()\n",
    "\n",
    "# método 2\n",
    "\n",
    " \n",
    "lista=list(set(lista))\n",
    "print(lista)"
   ]
  },
  {
   "cell_type": "markdown",
   "id": "959736b3",
   "metadata": {},
   "source": [
    "---\n",
    "\n",
    "Certamente! Aqui estão algumas funções comuns de lista em Python, juntamente com breves explicações:\n",
    "\n",
    "1. **append(item):**\n",
    "   - Adiciona um item ao final da lista.\n",
    "\n",
    "2. **extend(iterable):**\n",
    "   - Adiciona elementos de um iterável (como outra lista) ao final da lista.\n",
    "\n",
    "3. **insert(index, item):**\n",
    "   - Insere um item em uma posição específica da lista.\n",
    "\n",
    "4. **remove(item):**\n",
    "   - Remove a primeira ocorrência do item da lista.\n",
    "\n",
    "5. **pop([index]):**\n",
    "   - Remove e retorna o item no índice fornecido. Se nenhum índice for especificado, remove e retorna o último item.\n",
    "\n",
    "6. **index(item):**\n",
    "   - Retorna o índice da primeira ocorrência do item.\n",
    "\n",
    "7. **count(item):**\n",
    "   - Retorna o número de ocorrências do item na lista.\n",
    "\n",
    "8. **sort():**\n",
    "   - Ordena os elementos da lista em ordem crescente. Para ordenação decrescente, pode-se passar o argumento `reverse=True`.\n",
    "\n",
    "9. **reverse():**\n",
    "   - Inverte a ordem dos elementos na lista.\n",
    "\n",
    "10. **copy():**\n",
    "    - Retorna uma cópia rasa da lista.\n",
    "\n",
    "11. **clear():**\n",
    "    - Remove todos os elementos da lista.\n",
    "\n",
    "12. **len():**\n",
    "    - Retorna o número de elementos na lista.\n",
    "\n",
    "Essas são apenas algumas das muitas funções disponíveis em listas em Python. Cada uma dessas funções é útil em diferentes situações e oferece flexibilidade no manuseio de dados em listas.\n",
    "\n",
    "---"
   ]
  },
  {
   "cell_type": "markdown",
   "id": "3e1c30d1",
   "metadata": {},
   "source": [
    "---\n",
    "\n",
    "A função `set()` em Python é usada para criar um objeto de conjunto, que é uma coleção não ordenada e sem duplicatas de itens. Aqui estão os principais pontos sobre a função `set()`:\n",
    "\n",
    "1. **Remoção de Duplicatas:**\n",
    "   - O principal objetivo da função `set()` é remover duplicatas de uma lista ou sequência. Quando você converte uma lista para um conjunto usando `set()`, quaisquer elementos duplicados são removidos automaticamente.\n",
    "\n",
    "2. **Sintaxe:**\n",
    "   - A sintaxe básica é `set(iterable)`, onde `iterable` pode ser uma lista, tupla, string ou qualquer outra estrutura de dados iterável.\n",
    "\n",
    "3. **Ordem Não Garantida:**\n",
    "   - Conjuntos em Python são coleções não ordenadas, o que significa que a ordem dos elementos não é garantida. Isso ocorre porque os conjuntos são otimizados para operações de conjunto, como união, interseção e diferença, em vez de manter uma ordem específica.\n",
    "\n",
    "4. **Uso para Remover Duplicatas:**\n",
    "   - Ao converter uma lista para um conjunto e, em seguida, de volta para uma lista, você efetivamente remove todas as duplicatas. Isso pode ser útil em situações em que você precisa de uma lista única de elementos.\n",
    "\n",
    "Agora, falando sobre o código fornecido:\n",
    "\n",
    "```python\n",
    "lista = [\n",
    "    'a', 'a', 'a',\n",
    "    'b', 'c', 'k',\n",
    "    'a', 1, 2, 3, 4,\n",
    "    'j', 'l', 'm',\n",
    "]\n",
    "\n",
    "lista = list(set(lista))\n",
    "print(lista)\n",
    "```\n",
    "\n",
    "Este código converte a lista para um conjunto usando `set()`, removendo as duplicatas, e em seguida, converte o conjunto de volta para uma lista. O resultado é uma lista contendo apenas elementos únicos, mantendo a ordem original (apenas porque a ordem foi preservada em versões recentes do Python).\n",
    "\n",
    "---"
   ]
  },
  {
   "cell_type": "markdown",
   "id": "2ebc5129",
   "metadata": {},
   "source": [
    "<hr style=\"border: 2px solid #4500ff;\">\n",
    "\n",
    "# <font color=\"#4500ff\" style=\"font-size: 25px;\">Exercício 86</font>\n",
    "<hr style=\"border: 2px solid #4500ff;\">"
   ]
  },
  {
   "cell_type": "markdown",
   "id": "0f0d01f7",
   "metadata": {},
   "source": [
    " <p style='font-size: 23px; line-height: 2; margin: 0px 0px; text-align: justify; text-indent: 0px;'>    \n",
    "<i><b>Utilize a função range() e escreva uma lista com uma série de 1950 a 2020. Sua lista deve ter o formato a seguir:\n",
    "    \n",
    "```\n",
    "    \n",
    "serie=[1951, 1952, 1953, 1954, 1955, \n",
    "       1956, 1957, 1958, 1959, 1960, \n",
    "       1961, 1962, 1963, 1964, 1965, \n",
    "       1966, 1967, 1968, 1969, 1970, \n",
    "       1971, 1972, 1973, 1974, 1975, \n",
    "       1976, 1977, 1978, 1979, 1980, \n",
    "       1981, 1982, 1983, 1984, 1985, \n",
    "       1986, 1987, 1988, 1989, 1990, \n",
    "       1991, 1992, 1993, 1994, 1995, \n",
    "       1996, 1997, 1998, 1999, 2000, \n",
    "       2001, 2002, 2003, 2004, 2005, \n",
    "       2006, 2007, 2008, 2009, 2010, \n",
    "       2011, 2012, 2013, 2014, 2015, \n",
    "       2016, 2017, 2018, 2019, 2020]\n",
    "\n",
    " \n",
    "    \n",
    "```\n",
    "    \n",
    "</b></i>     \n",
    "</p>\n",
    "\n",
    "---"
   ]
  },
  {
   "cell_type": "code",
   "execution_count": 32,
   "id": "45135499",
   "metadata": {},
   "outputs": [
    {
     "name": "stdout",
     "output_type": "stream",
     "text": [
      "[1951, 1952, 1953, 1954, 1955, 1956, 1957, 1958, 1959, 1960, 1961, 1962, 1963, 1964, 1965, 1966, 1967, 1968, 1969, 1970, 1971, 1972, 1973, 1974, 1975, 1976, 1977, 1978, 1979, 1980, 1981, 1982, 1983, 1984, 1985, 1986, 1987, 1988, 1989, 1990, 1991, 1992, 1993, 1994, 1995, 1996, 1997, 1998, 1999, 2000, 2001, 2002, 2003, 2004, 2005, 2006, 2007, 2008, 2009, 2010, 2011, 2012, 2013, 2014, 2015, 2016, 2017, 2018, 2019]\n"
     ]
    }
   ],
   "source": [
    "serie = list(range(1951,2020))\n",
    "print(serie)"
   ]
  },
  {
   "cell_type": "markdown",
   "id": "b727e391",
   "metadata": {},
   "source": [
    "---\n",
    "\n",
    "As funções que você mencionou (`set()`, `list()`, etc.) são chamadas de **construtores** ou **funções construtoras** em Python. Elas são responsáveis por criar novos objetos de determinados tipos a partir de iteráveis ou outros objetos. Aqui estão algumas funções construtoras comuns em Python:\n",
    "\n",
    "1. **`list(iterable)`**:\n",
    "   - Constrói uma lista a partir de um objeto iterável.\n",
    "\n",
    "2. **`tuple(iterable)`**:\n",
    "   - Constrói uma tupla a partir de um objeto iterável.\n",
    "\n",
    "3. **`set(iterable)`**:\n",
    "   - Constrói um conjunto a partir de um objeto iterável.(é uma coleção não ordenada e sem duplicatas de itens.)\n",
    "\n",
    "4. **`dict(iterable)`**:\n",
    "   - Constrói um dicionário a partir de um objeto iterável de pares chave-valor.\n",
    "\n",
    "5. **`str(object)`**:\n",
    "   - Constrói uma string a partir de um objeto. Se o argumento for um objeto bytes ou um objeto de matriz de bytes, a representação hexadecimal será usada.\n",
    "\n",
    "6. **`int(x)`**:\n",
    "   - Constrói um objeto inteiro a partir de uma string ou número.\n",
    "\n",
    "7. **`float(x)`**:\n",
    "   - Constrói um objeto de ponto flutuante a partir de uma string ou número.\n",
    "\n",
    "8. **`bool(x)`**:\n",
    "   - Constrói um objeto booleano. Retorna `False` se o argumento for omitido ou vazio, `True` caso contrário.\n",
    "\n",
    "9. **`frozenset(iterable)`**:\n",
    "   - Constrói um conjunto imutável a partir de um objeto iterável.\n",
    "\n",
    "Essas funções construtoras são amplamente utilizadas para converter tipos de dados entre si e criar novos objetos a partir de dados existentes.\n",
    "\n",
    "---"
   ]
  },
  {
   "cell_type": "markdown",
   "id": "60f20da0",
   "metadata": {},
   "source": [
    "<hr style=\"border: 2px solid #4500ff;\">\n",
    "\n",
    "# <font color=\"#4500ff\" style=\"font-size: 25px;\">Exercício 87</font>\n",
    "<hr style=\"border: 2px solid #4500ff;\">"
   ]
  },
  {
   "cell_type": "markdown",
   "id": "a3243931",
   "metadata": {},
   "source": [
    " <p style='font-size: 23px; line-height: 2; margin: 0px 0px; text-align: justify; text-indent: 0px;'>    \n",
    "<i><b>Considere a lista a seguir, que apresenta dados referentes a série temporal de 1900 a 2020. Faça o que se pede:\n",
    "    \n",
    "```\n",
    "    \n",
    "lista_anos=[1900, 1901, 1902, 1903, 1904, 1905, 1906, 1907, \n",
    "            1908, 1909, 1910, 1911, 1912, 1913, 1914, 1915, \n",
    "            1916, 1917, 1918, 1919, 1920, 1921, 1922, 1923, \n",
    "            1924, 1925, 1926, 1927, 1928, 1929, 1930, 1931, \n",
    "            1932, 1933, 1934, 1935, 1936, 1937, 1938, 1939,\n",
    "            1940, 1941, 1942, 1943, 1944, 1945, 1946, 1947, \n",
    "            1948, 1949, 1950, 1951, 1952, 1953, 1954, 1955, \n",
    "            1956, 1957, 1958, 1959, 1960, 1961, 1962, 1963, \n",
    "            1964, 1965, 1966, 1967, 1968, 1969, 1970, 1971, \n",
    "            1972, 1973, 1974, 1975, 1976, 1977, 1978, 1979, \n",
    "            1980, 1981, 1982, 1983, 1984, 1985, 1986, 1987, \n",
    "            1988, 1989, 1990, 1991, 1992, 1993, 1994, 1995, \n",
    "            1996, 1997, 1998, 1999, 2000, 2001, 2002, 2003, \n",
    "            2004, 2005, 2006, 2007, 2008, 2009, 2010, 2011,\n",
    "            2012, 2013, 2014, 2015, 2016, 2017, 2018, 2019,\n",
    "            2020]\n",
    "\n",
    " \n",
    "    \n",
    "```\n",
    "  \n",
    "    \n",
    "    \n",
    "## a) Crie uma lista  que armazene os 20 primeiros anos da série;\n",
    "\n",
    "## b) Crie uma lista que armazene os anos de 1937 a 1969;\n",
    "\n",
    "## c) Crie uma lista que armazene os anos de 2010 a 2020;\n",
    "\n",
    "## d) Crie uma lista que armazene o último ano da série;\n",
    "\n",
    "## e) Apresente a série temporal de 10 em 10 anos.\n",
    "</b></i>     \n",
    "</p>\n",
    "\n",
    "---"
   ]
  },
  {
   "cell_type": "code",
   "execution_count": 33,
   "id": "2fcc5433",
   "metadata": {},
   "outputs": [],
   "source": [
    "lista_anos=[1900, 1901, 1902, 1903, 1904, 1905, 1906, 1907, \n",
    "            1908, 1909, 1910, 1911, 1912, 1913, 1914, 1915, \n",
    "            1916, 1917, 1918, 1919, 1920, 1921, 1922, 1923, \n",
    "            1924, 1925, 1926, 1927, 1928, 1929, 1930, 1931, \n",
    "            1932, 1933, 1934, 1935, 1936, 1937, 1938, 1939,\n",
    "            1940, 1941, 1942, 1943, 1944, 1945, 1946, 1947, \n",
    "            1948, 1949, 1950, 1951, 1952, 1953, 1954, 1955, \n",
    "            1956, 1957, 1958, 1959, 1960, 1961, 1962, 1963, \n",
    "            1964, 1965, 1966, 1967, 1968, 1969, 1970, 1971, \n",
    "            1972, 1973, 1974, 1975, 1976, 1977, 1978, 1979, \n",
    "            1980, 1981, 1982, 1983, 1984, 1985, 1986, 1987, \n",
    "            1988, 1989, 1990, 1991, 1992, 1993, 1994, 1995, \n",
    "            1996, 1997, 1998, 1999, 2000, 2001, 2002, 2003, \n",
    "            2004, 2005, 2006, 2007, 2008, 2009, 2010, 2011,\n",
    "            2012, 2013, 2014, 2015, 2016, 2017, 2018, 2019,\n",
    "            2020]"
   ]
  },
  {
   "cell_type": "code",
   "execution_count": 40,
   "id": "48a7ff2e",
   "metadata": {},
   "outputs": [
    {
     "name": "stdout",
     "output_type": "stream",
     "text": [
      "[1900, 1901, 1902, 1903, 1904, 1905, 1906, 1907, 1908, 1909, 1910, 1911, 1912, 1913, 1914, 1915, 1916, 1917, 1918, 1919]\n"
     ]
    }
   ],
   "source": [
    "# Crie uma lista que armazene os 20 primeiros anos da série;\n",
    "\n",
    "lista_20_primeiros = [i for i in lista_anos if lista_anos.index(i) < 20]\n",
    "print(lista_20_primeiros)\n",
    "\n",
    "# ou\n",
    "\n",
    "# lista_20_primeiros = [i for i in lista_anos[:20]]"
   ]
  },
  {
   "cell_type": "code",
   "execution_count": 44,
   "id": "31e9ecdd",
   "metadata": {},
   "outputs": [
    {
     "name": "stdout",
     "output_type": "stream",
     "text": [
      "[1937, 1938, 1939, 1940, 1941, 1942, 1943, 1944, 1945, 1946, 1947, 1948, 1949, 1950, 1951, 1952, 1953, 1954, 1955, 1956, 1957, 1958, 1959, 1960, 1961, 1962, 1963, 1964, 1965, 1966, 1967, 1968, 1969]\n"
     ]
    }
   ],
   "source": [
    "# b) Crie uma lista que armazene os anos de 1937 a 1969;\n",
    "\n",
    "lista_37_69 = [i for i in lista_anos if i>=1937 and i<=1969]\n",
    "print(lista_37_69)"
   ]
  },
  {
   "cell_type": "code",
   "execution_count": 48,
   "id": "a6b771c7",
   "metadata": {},
   "outputs": [
    {
     "name": "stdout",
     "output_type": "stream",
     "text": [
      "[2010, 2011, 2012, 2013, 2014, 2015, 2016, 2017, 2018, 2019, 2020]\n",
      "2020\n",
      "[1900, 1910, 1920, 1930, 1940, 1950, 1960, 1970, 1980, 1990, 2000, 2010, 2020]\n",
      "[1900, 1910, 1920, 1930, 1940, 1950, 1960, 1970, 1980, 1990, 2000, 2010, 2020]\n"
     ]
    }
   ],
   "source": [
    "# c) Crie uma lista que armazene os anos de 2010 a 2020;\n",
    "\n",
    "lista_10_20 = [i for i in lista_anos if i>=2010 and i<=2020]\n",
    "print(lista_10_20)\n",
    "\n",
    "# d) Crie uma lista que armazene o último ano da série;\n",
    "\n",
    "lista_fim = lista_anos[-1]\n",
    "print(lista_fim)\n",
    "\n",
    "# e) Apresente a série temporal de 10 em 10 anos.\n",
    "\n",
    "# método 1\n",
    "serie = list(range(1900,2021,10))\n",
    "print(serie)\n",
    "\n",
    "# método 2 \n",
    "serie = lista_anos[::10]\n",
    "print(serie)\n"
   ]
  },
  {
   "cell_type": "markdown",
   "id": "0bccf0a4",
   "metadata": {},
   "source": [
    "<hr style=\"border: 2px solid #4500ff;\">\n",
    "\n",
    "# <font color=\"#4500ff\" style=\"font-size: 25px;\">Exercício 88</font>\n",
    "<hr style=\"border: 2px solid #4500ff;\">"
   ]
  },
  {
   "cell_type": "markdown",
   "id": "2fd0f59c",
   "metadata": {},
   "source": [
    " <p style='font-size: 23px; line-height: 2; margin: 0px 0px; text-align: justify; text-indent: 0px;'>    \n",
    "<i><b>A partir da lista abaixo obtenha apenas a string \"Python\".\n",
    "    \n",
    "```python\n",
    "    \n",
    "lista=[\n",
    "    'a','b','c',([\n",
    "        [[[[['a'],[-90,33,33,['Python']],[0,1,2]],[4,4]],[],'u'],[]]\n",
    "    ]),{'a':1,'c':2},3\n",
    "]\n",
    "\n",
    " \n",
    "    \n",
    "```\n",
    "    \n",
    "</b></i>     \n",
    "</p>\n",
    "\n",
    "---"
   ]
  },
  {
   "cell_type": "code",
   "execution_count": 51,
   "id": "2df7649b",
   "metadata": {},
   "outputs": [
    {
     "name": "stdout",
     "output_type": "stream",
     "text": [
      "['a', 'b', 'c', [[[[[['a'], [-90, 33, 33, ['Python']], [0, 1, 2]], [4, 4]], [], 'u'], []]], {'a': 1, 'c': 2}, 3]\n"
     ]
    }
   ],
   "source": [
    "lista=[\n",
    "    'a','b','c',([\n",
    "        [[[[['a'],[-90,33,33,['Python']],[0,1,2]],[4,4]],[],'u'],[]]\n",
    "    ]),{'a':1,'c':2},3\n",
    "]\n",
    "print(lista)"
   ]
  },
  {
   "cell_type": "code",
   "execution_count": 58,
   "id": "57a52b23",
   "metadata": {},
   "outputs": [
    {
     "name": "stdout",
     "output_type": "stream",
     "text": [
      "a\n",
      "b\n",
      "c\n",
      "[[[[[['a'], [-90, 33, 33, ['Python']], [0, 1, 2]], [4, 4]], [], 'u'], []]]\n",
      "{'a': 1, 'c': 2}\n",
      "3\n"
     ]
    }
   ],
   "source": [
    "for i in lista:\n",
    "    print(i)"
   ]
  },
  {
   "cell_type": "code",
   "execution_count": 88,
   "id": "b3d5845e",
   "metadata": {},
   "outputs": [
    {
     "name": "stdout",
     "output_type": "stream",
     "text": [
      "['Python']\n",
      "Python\n",
      "Python\n"
     ]
    }
   ],
   "source": [
    "# Método 1: Acessando por índices específicos\n",
    "print(lista[3][0][0][0][0][1][3])\n",
    "\n",
    "# Método 2: Utilizando um loop\n",
    "def encontrar_python(lista):\n",
    "    for elemento in lista:\n",
    "        if isinstance(elemento, list):\n",
    "            resultado = encontrar_python(elemento)\n",
    "            if resultado is not None:\n",
    "                return resultado\n",
    "        elif isinstance(elemento, dict):\n",
    "            resultado = encontrar_python(list(elemento.values()))\n",
    "            if resultado is not None:\n",
    "                return resultado\n",
    "        elif elemento == 'Python':\n",
    "            return elemento\n",
    "\n",
    "valor_python = encontrar_python(lista)\n",
    "print(valor_python)\n",
    "\n",
    "sanço"
   ]
  },
  {
   "cell_type": "markdown",
   "id": "0caab304",
   "metadata": {},
   "source": [
    "vamos analisar linha por linha:\n",
    "\n",
    "```python\n",
    "def encontrar_python(lista):\n",
    "```\n",
    "Essa linha define uma função chamada `encontrar_python`, que recebe uma lista como argumento.\n",
    "\n",
    "```python\n",
    "    for elemento in lista:\n",
    "```\n",
    "Esta linha inicia um loop que percorre cada elemento na lista recebida como argumento.\n",
    "\n",
    "```python\n",
    "        if isinstance(elemento, list):\n",
    "            resultado = encontrar_python(elemento)\n",
    "            if resultado is not None:\n",
    "                return resultado\n",
    "```\n",
    "Aqui, verifica-se se o elemento atual é uma lista. Se for, chama recursivamente a função `encontrar_python` passando essa lista como argumento. Caso essa chamada retorne algo que não seja `None` (ou seja, ela encontrou 'Python' em algum lugar da lista), esse valor é retornado imediatamente.\n",
    "\n",
    "```python\n",
    "        elif isinstance(elemento, dict):\n",
    "            resultado = encontrar_python(list(elemento.values()))\n",
    "            if resultado is not None:\n",
    "                return resultado\n",
    "```\n",
    "Semelhante à verificação anterior, mas desta vez para dicionários. Se o elemento atual for um dicionário, a função é chamada recursivamente com os valores do dicionário. \n",
    "\n",
    "```python\n",
    "        elif elemento == 'Python':\n",
    "            return elemento\n",
    "```\n",
    "Se o elemento atual for a string 'Python', ela é imediatamente retornada.\n",
    "\n",
    "Essa função é um exemplo de busca recursiva, pois ela percorre toda a lista, incluindo listas aninhadas e dicionários, em busca do valor 'Python'.\n",
    "\n",
    "As funções embutidas usadas são:\n",
    "\n",
    "- `isinstance()` verifica se um objeto é de um determinado tipo.\n",
    "- `.values()` é um método dos dicionários que retorna uma visão dos valores no dicionário. \n",
    "- `return` é usado para devolver um valor da função. Se chegar a um resultado, ele retorna imediatamente, encerrando a execução da função."
   ]
  },
  {
   "cell_type": "markdown",
   "id": "80827d92",
   "metadata": {},
   "source": [
    "<hr style=\"border: 2px solid #4500ff;\">\n",
    "\n",
    "# <font color=\"#4500ff\" style=\"font-size: 25px;\">Exercício 89</font>\n",
    "<hr style=\"border: 2px solid #4500ff;\">\n"
   ]
  },
  {
   "cell_type": "markdown",
   "id": "43f2abb7",
   "metadata": {},
   "source": [
    " <p style='font-size: 23px; line-height: 2; margin: 0px 0px; text-align: justify; text-indent: 0px;'>    \n",
    "<i><b>Verifique se uma lista é vazia ou não. Caso a lista seja vazia, mostre True na tela, caso contrário False.\n",
    "    \n",
    "</b></i>     \n",
    "</p>\n",
    "\n",
    "---"
   ]
  },
  {
   "cell_type": "code",
   "execution_count": 96,
   "id": "bade0d94",
   "metadata": {},
   "outputs": [
    {
     "name": "stdout",
     "output_type": "stream",
     "text": [
      "True\n",
      "True\n"
     ]
    }
   ],
   "source": [
    "# método 1\n",
    "\n",
    "lista = []\n",
    "\n",
    "if len(lista) == 0:\n",
    "    print(True)\n",
    "else:\n",
    "    print(False)\n",
    "    \n",
    "\n",
    "# método 2\n",
    "if not lista:\n",
    "    print(True)\n",
    "else:\n",
    "    print(False)"
   ]
  },
  {
   "cell_type": "markdown",
   "id": "9b3baf37",
   "metadata": {},
   "source": [
    "<hr style=\"border: 2px solid #4500ff;\">\n",
    "\n",
    "# <font color=\"#4500ff\" style=\"font-size: 25px;\">Exercício 90</font>\n",
    "<hr style=\"border: 2px solid #4500ff;\">\n"
   ]
  },
  {
   "cell_type": "markdown",
   "id": "30aa5522",
   "metadata": {},
   "source": [
    " <p style='font-size: 23px; line-height: 2; margin: 0px 0px; text-align: justify; text-indent: 0px;'>    \n",
    "<i><b>Crie uma tupla com um único elemento e verifique o objeto criado com a função type.\n",
    "    \n",
    "</b></i>     \n",
    "</p>\n",
    "\n",
    "---"
   ]
  },
  {
   "cell_type": "code",
   "execution_count": 101,
   "id": "e4b45038",
   "metadata": {},
   "outputs": [
    {
     "data": {
      "text/plain": [
       "tuple"
      ]
     },
     "execution_count": 101,
     "metadata": {},
     "output_type": "execute_result"
    }
   ],
   "source": [
    "tupla = (\"um\")\n",
    "type(tupla)"
   ]
  },
  {
   "cell_type": "code",
   "execution_count": 102,
   "id": "5ba49a17",
   "metadata": {},
   "outputs": [
    {
     "name": "stdout",
     "output_type": "stream",
     "text": [
      "tupla1 <class 'tuple'>\n",
      "tupla2 <class 'tuple'>\n"
     ]
    }
   ],
   "source": [
    "tupla1=1,\n",
    "print('tupla1',type(tupla1))\n",
    "tupla2=(1,)\n",
    "print('tupla2',type(tupla2))"
   ]
  },
  {
   "cell_type": "markdown",
   "id": "943e1203",
   "metadata": {},
   "source": [
    "Em Python, para criar uma tupla com um único elemento, você precisa incluir uma vírgula após o elemento. A vírgula ao final é que diferencia a tupla de um valor isolado do mesmo tipo. Se você não incluir essa vírgula, o Python considera o elemento como o próprio tipo do dado. Portanto, `tupla1 = 1,` é considerado uma tupla, enquanto `tupla2 = 1` seria do tipo inteiro. A vírgula após o elemento garante que o Python interprete isso como uma tupla, mesmo que possa parecer desnecessária no caso de um único elemento."
   ]
  },
  {
   "cell_type": "markdown",
   "id": "2d923558",
   "metadata": {},
   "source": [
    "<hr style=\"border: 2px solid #4500ff;\">\n",
    "\n",
    "# <font color=\"#4500ff\" style=\"font-size: 25px;\">Exercício 91</font>\n",
    "<hr style=\"border: 2px solid #4500ff;\">\n"
   ]
  },
  {
   "cell_type": "markdown",
   "id": "1718f11b",
   "metadata": {},
   "source": [
    " <p style='font-size: 23px; line-height: 2; margin: 0px 0px; text-align: justify; text-indent: 0px;'>    \n",
    "<i><b>Considere a tupla1 e responda as seguintes questões:\n",
    "\n",
    "\n",
    "```python\n",
    "tupla1=('A','B','A','Z','Z','X','A','E','K','G','H')\n",
    "\n",
    "```\n",
    "---\n",
    "    \n",
    "## a) mostre na tela o tamanho desta tupla;\n",
    "\n",
    "## b) ordene a tupla e mostre o resultado na tela;\n",
    "\n",
    "## c) mostre na tela o número de ocorrências da string 'A';\n",
    "\n",
    "## d) mostre na tela o número de ocorrências da string 'B';\n",
    "\n",
    "## e) mostre na tela o índice da string 'X';\n",
    "\n",
    "## f) mostre na tela o último elemento da tupla1.\n",
    "    \n",
    "</b></i>     \n",
    "</p>\n",
    "\n",
    "---"
   ]
  },
  {
   "cell_type": "code",
   "execution_count": 104,
   "id": "e2e5caa4",
   "metadata": {},
   "outputs": [],
   "source": [
    "tupla1=('A','B','A','Z','Z','X','A','E','K','G','H')"
   ]
  },
  {
   "cell_type": "code",
   "execution_count": 116,
   "id": "e33efba6",
   "metadata": {},
   "outputs": [
    {
     "name": "stdout",
     "output_type": "stream",
     "text": [
      "11\n",
      "3\n",
      "['A', 'A', 'A', 'B', 'E', 'G', 'H', 'K', 'X', 'Z', 'Z']\n",
      "1\n",
      "5\n",
      "H\n"
     ]
    }
   ],
   "source": [
    "# a) mostre na tela o tamanho desta tupla;\n",
    "\n",
    "print(len(tupla1))\n",
    "\n",
    "# c) mostre na tela o número de ocorrências da string 'A';\n",
    "\n",
    "print(tupla1.count('A'))\n",
    "\n",
    "# b) ordene a tupla e mostre o resultado na tela;\n",
    "\n",
    "print(sorted(tupla1))\n",
    "\n",
    "# d) mostre na tela o número de ocorrências da string 'B';\n",
    "print(tupla1.count('B'))\n",
    "\n",
    "#e) mostre na tela o índice da string 'X';\n",
    "\n",
    "print(tupla1.index('X'))\n",
    "\n",
    "# f) mostre na tela o último elemento da tupla1.\n",
    "\n",
    "print(tupla1[-1])"
   ]
  },
  {
   "cell_type": "markdown",
   "id": "7941f558",
   "metadata": {},
   "source": [
    "<hr style=\"border: 2px solid #4500ff;\">\n",
    "\n",
    "# <font color=\"#4500ff\" style=\"font-size: 25px;\">Exercício 92</font>\n",
    "<hr style=\"border: 2px solid #4500ff;\">\n"
   ]
  },
  {
   "cell_type": "markdown",
   "id": "092ab4c9",
   "metadata": {},
   "source": [
    " <p style='font-size: 23px; line-height: 2; margin: 0px 0px; text-align: justify; text-indent: 0px;'>    \n",
    "<i><b>Mude a chave 'valor' do dicionário produto1 para 99.98.\n",
    "\n",
    "\n",
    "\n",
    "```python\n",
    "produto1={\n",
    "    'nome':'produto1',\n",
    "    'tipo':'categoriaA',\n",
    "    'valor':'50.5',\n",
    "    'fornecedor':'ABCD',\n",
    "}\n",
    "\n",
    "```\n",
    "    \n",
    "\n",
    "    \n",
    "</b></i>     \n",
    "</p>\n",
    "\n",
    "---"
   ]
  },
  {
   "cell_type": "code",
   "execution_count": 117,
   "id": "45359638",
   "metadata": {},
   "outputs": [],
   "source": [
    "produto1={\n",
    "    'nome':'produto1',\n",
    "    'tipo':'categoriaA',\n",
    "    'valor':'50.5',\n",
    "    'fornecedor':'ABCD',\n",
    "}"
   ]
  },
  {
   "cell_type": "code",
   "execution_count": 123,
   "id": "7d04684b",
   "metadata": {},
   "outputs": [
    {
     "name": "stdout",
     "output_type": "stream",
     "text": [
      "{'nome': 'produto1', 'tipo': 'categoriaA', 'valor': 99.98, 'fornecedor': 'ABCD'}\n",
      "{'nome': 'produto1', 'tipo': 'categoriaA', 'valor': 99.98, 'fornecedor': 'ABCD'}\n"
     ]
    }
   ],
   "source": [
    "# Utilizando atribuição direta:\n",
    "produto1['valor'] = 99.98\n",
    "print(produto1)\n",
    "\n",
    "produto1={\n",
    "    'nome':'produto1',\n",
    "    'tipo':'categoriaA',\n",
    "    'valor':'50.5',\n",
    "    'fornecedor':'ABCD',\n",
    "}\n",
    "\n",
    "### Com o método `update`:\n",
    "\n",
    "produto1.update({'valor': 99.98})\n",
    "print(produto1)\n",
    "\n",
    "### Criando um novo dicionário e mesclando os valores:\n",
    "\n",
    "produto1 = {**produto1, 'valor': 99.98}\n",
    "\n"
   ]
  },
  {
   "cell_type": "markdown",
   "id": "ad302d64",
   "metadata": {},
   "source": [
    "---\n",
    "a última abordagem é conhecida como desempacotamento de dicionário. Ela é útil quando você deseja adicionar ou substituir valores em um dicionário existente.\n",
    "\n",
    "Ao criar um novo dicionário com `{**produto1, 'valor': 99.98}`, o `**produto1` desempacota o dicionário `produto1`. Em seguida, adicionamos ou substituímos o par chave-valor 'valor': 99.98. Se a chave 'valor' já existir no dicionário `produto1`, ela será sobrescrita; caso contrário, será adicionada.\n",
    "\n",
    "Essa técnica é conveniente para atualizar ou adicionar chaves a um dicionário sem alterar o original.\n",
    "\n",
    "A notação `**` em Python é usada para desempacotar os elementos de um dicionário. É chamado de \"desempacotamento de dicionário\" ou \"dicionário estendido\".\n",
    "\n",
    "Na situação em que é utilizado, o `**produto1` está desempacotando o dicionário `produto1`. Isso significa que ele extrai todos os pares de chave-valor do dicionário `produto1` e os adiciona ao novo dicionário, o que é indicado pelas chaves `{}`. Ao adicionar `{'valor': 99.98}`, estamos inserindo uma nova chave 'valor' com o valor associado de 99.98. \n",
    "\n",
    "Assim, `{**produto1, 'valor': 99.98}` cria um novo dicionário, usando os elementos de `produto1` e substituindo ou adicionando a chave 'valor'. Essa técnica é útil para fazer alterações em um dicionário existente sem modificar o original.\n",
    "\n",
    "---"
   ]
  },
  {
   "cell_type": "code",
   "execution_count": null,
   "id": "1a547451",
   "metadata": {},
   "outputs": [],
   "source": []
  }
 ],
 "metadata": {
  "kernelspec": {
   "display_name": "Python 3 (ipykernel)",
   "language": "python",
   "name": "python3"
  },
  "language_info": {
   "codemirror_mode": {
    "name": "ipython",
    "version": 3
   },
   "file_extension": ".py",
   "mimetype": "text/x-python",
   "name": "python",
   "nbconvert_exporter": "python",
   "pygments_lexer": "ipython3",
   "version": "3.11.3"
  }
 },
 "nbformat": 4,
 "nbformat_minor": 5
}

{
 "cells": [
  {
   "cell_type": "markdown",
   "id": "ad67072e",
   "metadata": {},
   "source": [
    "\n",
    "\n",
    "# <font color=\"#ff4500\" style=\"font-size: 30px;\">Código Python Todo Dia</font>\n"
   ]
  },
  {
   "cell_type": "markdown",
   "id": "d009ae1e",
   "metadata": {},
   "source": [
    "<hr style=\"border: 2px solid #4500ff;\">\n",
    "\n",
    "# <font color=\"#4500ff\" style=\"font-size: 25px;\">Exercício 117</font>\n",
    "<hr style=\"border: 2px solid #4500ff;\">\n",
    "\n",
    " <p style='font-size: 23px; line-height: 2; margin: 0px 0px; text-align: justify; text-indent: 0px;'>    \n",
    "<i><b> Elabore uma função que retorne a soma de dois números.\n",
    "</b></i>     \n",
    "</p>\n",
    "\n",
    "---"
   ]
  },
  {
   "cell_type": "code",
   "execution_count": 1,
   "id": "0fa56a2c",
   "metadata": {},
   "outputs": [
    {
     "data": {
      "text/plain": [
       "4"
      ]
     },
     "execution_count": 1,
     "metadata": {},
     "output_type": "execute_result"
    }
   ],
   "source": [
    "def soma (x,y):\n",
    "    return x+y\n",
    "\n",
    "soma(2,2)"
   ]
  },
  {
   "cell_type": "markdown",
   "id": "995bbffb",
   "metadata": {},
   "source": [
    "<hr style=\"border: 2px solid #4500ff;\">\n",
    "\n",
    "# <font color=\"#4500ff\" style=\"font-size: 25px;\">Exercício 118</font>\n",
    "<hr style=\"border: 2px solid #4500ff;\">\n",
    "\n",
    " <p style='font-size: 23px; line-height: 2; margin: 0px 0px; text-align: justify; text-indent: 0px;'>    \n",
    "<i><b> Escreva uma função que retorne a área de um retângulo. A sua função deve receber a base e a altura como parâmetros. Lembre que a área de um retângulo é dada pela fórmula: A=base x altura .\n",
    "</b></i>     \n",
    "</p>\n",
    "\n",
    "---"
   ]
  },
  {
   "cell_type": "code",
   "execution_count": 2,
   "id": "2e1565db",
   "metadata": {},
   "outputs": [
    {
     "data": {
      "text/plain": [
       "10"
      ]
     },
     "execution_count": 2,
     "metadata": {},
     "output_type": "execute_result"
    }
   ],
   "source": [
    "def area (base,altura):\n",
    "    return base*altura\n",
    "\n",
    "area(2,5)"
   ]
  },
  {
   "cell_type": "markdown",
   "id": "a28d6f32",
   "metadata": {},
   "source": [
    "<hr style=\"border: 2px solid #4500ff;\">\n",
    "\n",
    "# <font color=\"#4500ff\" style=\"font-size: 25px;\">Exercício 119</font>\n",
    "<hr style=\"border: 2px solid #4500ff;\">\n",
    "\n",
    " <p style='font-size: 23px; line-height: 2; margin: 0px 0px; text-align: justify; text-indent: 0px;'>    \n",
    "<i><b> Escreva uma função que retorne a área de um triângulo. A sua função deve receber como parâmetros a base e a altura. Lembre que a área de um triângulo é dada pela fórmula: A=(base x altura)/2\n",
    "</b></i>     \n",
    "</p>\n",
    "\n",
    "---"
   ]
  },
  {
   "cell_type": "code",
   "execution_count": 3,
   "id": "baf94993",
   "metadata": {},
   "outputs": [
    {
     "data": {
      "text/plain": [
       "5.0"
      ]
     },
     "execution_count": 3,
     "metadata": {},
     "output_type": "execute_result"
    }
   ],
   "source": [
    "def area_triangulo (base,altura):\n",
    "    return (base*altura)/2\n",
    "\n",
    "area_triangulo(2,5)"
   ]
  },
  {
   "cell_type": "markdown",
   "id": "1f29a9bb",
   "metadata": {},
   "source": [
    "<hr style=\"border: 2px solid #4500ff;\">\n",
    "\n",
    "# <font color=\"#4500ff\" style=\"font-size: 25px;\">Exercício 120</font>\n",
    "<hr style=\"border: 2px solid #4500ff;\">\n",
    "\n",
    " <p style='font-size: 23px; line-height: 2; margin: 0px 0px; text-align: justify; text-indent: 0px;'>    \n",
    "<i><b> Escreva uma função que verifique se um número é múltiplo do outro e retorne um valor lógico.\n",
    "</b></i>     \n",
    "</p>\n",
    "\n",
    "---"
   ]
  },
  {
   "cell_type": "code",
   "execution_count": 14,
   "id": "b16c0641",
   "metadata": {},
   "outputs": [
    {
     "name": "stdout",
     "output_type": "stream",
     "text": [
      "False\n"
     ]
    },
    {
     "data": {
      "text/plain": [
       "True"
      ]
     },
     "execution_count": 14,
     "metadata": {},
     "output_type": "execute_result"
    }
   ],
   "source": [
    "def multiplo(x, y):\n",
    "    return x%y == 0\n",
    "\n",
    "print(multiplo(15,4))\n",
    "multiplo(15,3)"
   ]
  },
  {
   "cell_type": "markdown",
   "id": "99f9292b",
   "metadata": {},
   "source": [
    "<hr style=\"border: 2px solid #4500ff;\">\n",
    "\n",
    "# <font color=\"#4500ff\" style=\"font-size: 25px;\">Exercício 121</font>\n",
    "<hr style=\"border: 2px solid #4500ff;\">\n",
    "\n",
    " <p style='font-size: 23px; line-height: 2; margin: 0px 0px; text-align: justify; text-indent: 0px;'>    \n",
    "<i><b> Escreva um programa que pesquise um determinado valor em uma lista. Sua função deve ter como parâmetros a lista e o valor a ser verificado. Caso o valor faça parte da lista informada retorne True e False, caso contrário.\n",
    "</b></i>     \n",
    "</p>\n",
    "\n",
    "---"
   ]
  },
  {
   "cell_type": "code",
   "execution_count": 17,
   "id": "5588f942",
   "metadata": {},
   "outputs": [
    {
     "name": "stdout",
     "output_type": "stream",
     "text": [
      "False\n"
     ]
    },
    {
     "data": {
      "text/plain": [
       "True"
      ]
     },
     "execution_count": 17,
     "metadata": {},
     "output_type": "execute_result"
    }
   ],
   "source": [
    "nomes = ['Ana', 'João', 'Maria', 'Pedro', 'Julia', 'Lucas', 'Isabela', 'Mateus', 'Larissa', 'Gabriel']\n",
    "\n",
    "\n",
    "def verificar(x):\n",
    "    return x in nomes\n",
    "\n",
    "print(verificar('Miguel'))\n",
    "verificar('Ana')"
   ]
  },
  {
   "cell_type": "markdown",
   "id": "6297ae15",
   "metadata": {},
   "source": [
    "<hr style=\"border: 2px solid #4500ff;\">\n",
    "\n",
    "# <font color=\"#4500ff\" style=\"font-size: 25px;\">Exercício 122</font>\n",
    "<hr style=\"border: 2px solid #4500ff;\">\n",
    "\n",
    " <p style='font-size: 23px; line-height: 2; margin: 0px 0px; text-align: justify; text-indent: 0px;'>    \n",
    "<i><b> Escreva uma função para checar se um determinado ano é bissexto.\n",
    "</b></i>     \n",
    "</p>\n",
    "\n",
    "---"
   ]
  },
  {
   "cell_type": "code",
   "execution_count": 42,
   "id": "e94dedbb",
   "metadata": {},
   "outputs": [
    {
     "name": "stdout",
     "output_type": "stream",
     "text": [
      "2000, True\n",
      "1900, False\n",
      "\n",
      "True\n",
      "False\n"
     ]
    }
   ],
   "source": [
    "def bissexto(y):\n",
    "    return  f'{y}, {y % 4 == 0 and (y % 100 != 0 or y % 400 == 0)}'\n",
    "\n",
    "print(bissexto(2000))\n",
    "print(bissexto(1900))\n",
    "\n",
    "# Outra forma de fazer\n",
    "def checar_bissexto(ano):\n",
    "    if ano%400==0:\n",
    "        return True\n",
    "    elif ano%100==0:\n",
    "        return False\n",
    "    elif ano%4==0:\n",
    "        return True\n",
    "    else:\n",
    "        return False\n",
    "print()\n",
    "print(checar_bissexto(2000))\n",
    "print(checar_bissexto(1900))"
   ]
  },
  {
   "cell_type": "markdown",
   "id": "bb06792f",
   "metadata": {},
   "source": [
    "\n",
    "<hr style=\"border: 2px solid #4500ff;\">\n",
    "\n",
    "# <font color=\"#4500ff\" style=\"font-size: 25px;\">Exercício 123</font>\n",
    "<hr style=\"border: 2px solid #4500ff;\">\n",
    "\n",
    " <p style='font-size: 23px; line-height: 2; margin: 0px 0px; text-align: justify; text-indent: 0px;'>    \n",
    "<i><b>Elabore uma função que receba um número inteiro e retorne o fatorial deste número.\n",
    "</b></i>     \n",
    "</p>\n",
    "\n",
    "---"
   ]
  },
  {
   "cell_type": "code",
   "execution_count": 46,
   "id": "b9c9a848",
   "metadata": {},
   "outputs": [
    {
     "data": {
      "text/plain": [
       "120"
      ]
     },
     "execution_count": 46,
     "metadata": {},
     "output_type": "execute_result"
    }
   ],
   "source": [
    "import math\n",
    "\n",
    "\n",
    "def fatorial(numero):\n",
    "    \"\"\"\n",
    "    Retorna o fatorial de um número.\n",
    "\n",
    "    Parâmetros:\n",
    "    - numero (int): O número para o qual calcular o fatorial.\n",
    "\n",
    "    Retorna:\n",
    "    int: O fatorial de `numero`.\n",
    "    \"\"\"\n",
    "    return math.factorial(numero)\n",
    "\n",
    "fatorial(5)"
   ]
  },
  {
   "cell_type": "markdown",
   "id": "1a59249c",
   "metadata": {},
   "source": [
    "\n",
    "<hr style=\"border: 2px solid #4500ff;\">\n",
    "\n",
    "# <font color=\"#4500ff\" style=\"font-size: 25px;\">Exercício 124</font>\n",
    "<hr style=\"border: 2px solid #4500ff;\">\n",
    "\n",
    " <p style='font-size: 23px; line-height: 2; margin: 0px 0px; text-align: justify; text-indent: 0px;'>    \n",
    "<i><b>Implemente uma função recursiva para calcular e retornar o fatorial de um número inteiro.\n",
    "</b></i>     \n",
    "</p>\n",
    "\n",
    "---"
   ]
  },
  {
   "cell_type": "code",
   "execution_count": 47,
   "id": "3c70d0f1",
   "metadata": {},
   "outputs": [
    {
     "data": {
      "text/plain": [
       "120"
      ]
     },
     "execution_count": 47,
     "metadata": {},
     "output_type": "execute_result"
    }
   ],
   "source": [
    "def fatorial(num):\n",
    "    if num==1 or num==0:\n",
    "        return 1\n",
    "    else:\n",
    "        return fatorial(num-1)*num\n",
    "    \n",
    "fatorial(5)"
   ]
  },
  {
   "cell_type": "markdown",
   "id": "09534fb9",
   "metadata": {},
   "source": [
    "\n",
    "<hr style=\"border: 2px solid #4500ff;\">\n",
    "\n",
    "# <font color=\"#4500ff\" style=\"font-size: 25px;\">Exercício 125</font>\n",
    "<hr style=\"border: 2px solid #4500ff;\">\n",
    "\n",
    " <p style='font-size: 23px; line-height: 2; margin: 0px 0px; text-align: justify; text-indent: 0px;'>    \n",
    "<i><b>Implemente uma função recursiva para imprimir o n-ésimo termo da sequência Fibonacci.\n",
    "</b></i>     \n",
    "</p>\n",
    "\n",
    "---"
   ]
  },
  {
   "cell_type": "code",
   "execution_count": 53,
   "id": "ab7c9e9c",
   "metadata": {},
   "outputs": [
    {
     "name": "stdout",
     "output_type": "stream",
     "text": [
      "[0, 1, 1, 2, 3, 5, 8, 13, 21, 34]\n",
      "\n",
      "0\n",
      "1\n",
      "1\n",
      "2\n",
      "3\n",
      "5\n",
      "8\n",
      "13\n",
      "21\n",
      "34\n"
     ]
    }
   ],
   "source": [
    "def fibonacci(num):\n",
    "    lista_fibonnaci = []\n",
    "    for i in range(num):\n",
    "        \n",
    "        if i==0:\n",
    "            lista_fibonnaci.append(i)\n",
    "        elif i==1:\n",
    "             lista_fibonnaci.append(i)\n",
    "        else:\n",
    "        \n",
    "            lista_fibonnaci.append(lista_fibonnaci[i-1]+ lista_fibonnaci[i-2])\n",
    "            \n",
    "    return lista_fibonnaci\n",
    "    \n",
    "print(fibonacci(10))\n",
    "print()\n",
    "\n",
    "# Utilizando função recursiva\n",
    "\n",
    "def fibonacci(n):\n",
    "    if n == 0:\n",
    "        return 0\n",
    "    elif n == 1:\n",
    "        return 1\n",
    "    else:\n",
    "        return fibonacci(n-1) + fibonacci(n-2)\n",
    "\n",
    "\n",
    "for i in range(10):\n",
    "    print(fibonacci(i))"
   ]
  },
  {
   "cell_type": "markdown",
   "id": "c02d2550",
   "metadata": {},
   "source": [
    "\n",
    "<hr style=\"border: 2px solid #4500ff;\">\n",
    "\n",
    "# <font color=\"#4500ff\" style=\"font-size: 25px;\">Exercício 126</font>\n",
    "<hr style=\"border: 2px solid #4500ff;\">\n",
    "\n",
    " <p style='font-size: 23px; line-height: 2; margin: 0px 0px; text-align: justify; text-indent: 0px;'>    \n",
    "<i><b>Escreva uma função que receba uma lista de números reais como parâmetro e retorne a média destes números.\n",
    "</b></i>     \n",
    "</p>\n",
    "\n",
    "---"
   ]
  },
  {
   "cell_type": "code",
   "execution_count": 55,
   "id": "6f9950c1",
   "metadata": {},
   "outputs": [
    {
     "data": {
      "text/plain": [
       "6.0"
      ]
     },
     "execution_count": 55,
     "metadata": {},
     "output_type": "execute_result"
    }
   ],
   "source": [
    "def soma_lista(x):\n",
    "    return sum(x)/len(x)\n",
    "\n",
    "lista = [2,4,6,8,10]\n",
    "soma_lista(lista)"
   ]
  },
  {
   "cell_type": "markdown",
   "id": "7f0eb929",
   "metadata": {},
   "source": [
    "\n",
    "<hr style=\"border: 2px solid #4500ff;\">\n",
    "\n",
    "# <font color=\"#4500ff\" style=\"font-size: 25px;\">Exercício 127</font>\n",
    "<hr style=\"border: 2px solid #4500ff;\">\n",
    "\n",
    " <p style='font-size: 23px; line-height: 2; margin: 0px 0px; text-align: justify; text-indent: 0px;'>    \n",
    "<i><b>Escreva uma função que retorna o tamanho de uma string.\n",
    "</b></i>     \n",
    "</p>\n",
    "\n",
    "---"
   ]
  },
  {
   "cell_type": "code",
   "execution_count": 62,
   "id": "835a345a",
   "metadata": {},
   "outputs": [
    {
     "data": {
      "text/plain": [
       "12"
      ]
     },
     "execution_count": 62,
     "metadata": {},
     "output_type": "execute_result"
    }
   ],
   "source": [
    "def tamanho(x):\n",
    "    return len(x.replace(\" \", \"\"))\n",
    "\n",
    "tamanho('Miguel Freire')"
   ]
  },
  {
   "cell_type": "code",
   "execution_count": 63,
   "id": "bc36b330",
   "metadata": {},
   "outputs": [
    {
     "data": {
      "text/plain": [
       "13"
      ]
     },
     "execution_count": 63,
     "metadata": {},
     "output_type": "execute_result"
    }
   ],
   "source": [
    "def tamanho(string):\n",
    "    contador=0\n",
    "    for caractere in string:\n",
    "        contador+=1\n",
    "    return contador\n",
    "\n",
    "tamanho('Miguel Freire')"
   ]
  },
  {
   "cell_type": "markdown",
   "id": "6b1a87bf",
   "metadata": {},
   "source": [
    "\n",
    "<hr style=\"border: 2px solid #4500ff;\">\n",
    "\n",
    "# <font color=\"#4500ff\" style=\"font-size: 25px;\">Exercício 128</font>\n",
    "<hr style=\"border: 2px solid #4500ff;\">\n",
    "\n",
    " <p style='font-size: 23px; line-height: 2; margin: 0px 0px; text-align: justify; text-indent: 0px;'>    \n",
    "<i><b>Escreva uma função para checar se uma lista é vazia ou não\n",
    "</b></i>     \n",
    "</p>\n",
    "\n",
    "---"
   ]
  },
  {
   "cell_type": "code",
   "execution_count": 66,
   "id": "0e81b8dc",
   "metadata": {},
   "outputs": [
    {
     "name": "stdout",
     "output_type": "stream",
     "text": [
      "Vazia\n",
      "Possui elementos\n"
     ]
    }
   ],
   "source": [
    "def checar_lista(x):\n",
    "    if len(x) == 0:\n",
    "        return \"Vazia\"\n",
    "    else:\n",
    "        return \"Possui elementos\"\n",
    "    \n",
    "print(checar_lista([]))\n",
    "print(checar_lista([1,2,3,4,5,6]))"
   ]
  },
  {
   "cell_type": "code",
   "execution_count": 67,
   "id": "9043aac0",
   "metadata": {},
   "outputs": [
    {
     "name": "stdout",
     "output_type": "stream",
     "text": [
      "True\n",
      "False\n"
     ]
    }
   ],
   "source": [
    "def checar_lista(lista):\n",
    "    return not len(lista)>0  #caso a lista seja vazia será retornado True\n",
    "#Exemplos\n",
    "print(checar_lista([]))\n",
    "print(checar_lista([10,11,12]))"
   ]
  },
  {
   "cell_type": "code",
   "execution_count": null,
   "id": "9cc67985",
   "metadata": {},
   "outputs": [],
   "source": []
  }
 ],
 "metadata": {
  "kernelspec": {
   "display_name": "Python 3 (ipykernel)",
   "language": "python",
   "name": "python3"
  },
  "language_info": {
   "codemirror_mode": {
    "name": "ipython",
    "version": 3
   },
   "file_extension": ".py",
   "mimetype": "text/x-python",
   "name": "python",
   "nbconvert_exporter": "python",
   "pygments_lexer": "ipython3",
   "version": "3.11.5"
  }
 },
 "nbformat": 4,
 "nbformat_minor": 5
}

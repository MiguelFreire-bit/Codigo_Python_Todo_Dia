{
 "cells": [
  {
   "cell_type": "markdown",
   "id": "4d76159e",
   "metadata": {},
   "source": [
    "\n",
    "\n",
    "# <font color=\"#ff4500\" style=\"font-size: 30px;\">Código Python Todo Dia</font>\n"
   ]
  },
  {
   "cell_type": "markdown",
   "id": "10b3ae43",
   "metadata": {},
   "source": [
    "<hr style=\"border: 2px solid #4500ff;\">\n",
    "\n",
    "# <font color=\"#4500ff\" style=\"font-size: 25px;\">Exercício 1</font>\n",
    "<hr style=\"border: 2px solid #4500ff;\">"
   ]
  },
  {
   "cell_type": "markdown",
   "id": "cb6218b3",
   "metadata": {},
   "source": [
    " <p style='font-size: 23px; line-height: 2; margin: 0px 0px; text-align: justify; text-indent: 0px;'>    \n",
    "<i><b>Escreva um programa que mostre a mensagem 'Hello World!' na tela.</b></i>     \n",
    "</p>\n",
    "\n",
    "---"
   ]
  },
  {
   "cell_type": "code",
   "execution_count": 71,
   "id": "ed89b093",
   "metadata": {},
   "outputs": [
    {
     "name": "stdout",
     "output_type": "stream",
     "text": [
      "Hello World\n"
     ]
    }
   ],
   "source": [
    "print(\"Hello World\")"
   ]
  },
  {
   "cell_type": "markdown",
   "id": "2388e0d3",
   "metadata": {},
   "source": [
    "<hr style=\"border: 2px solid #4500ff;\">\n",
    "\n",
    "# <font color=\"#4500ff\" style=\"font-size: 25px;\">Exercício 2</font>\n",
    "<hr style=\"border: 2px solid #4500ff;\">"
   ]
  },
  {
   "cell_type": "markdown",
   "id": "d6c242f0",
   "metadata": {},
   "source": [
    " <p style='font-size: 23px; line-height: 2; margin: 0px 0px; text-align: justify; text-indent: 0px;'>    \n",
    "<i><b>Faça um programa que solicite um número do usuário e apresente a seguinte mensagem na tela:\n",
    "\n",
    "\"O número digitado foi [número]\".</b></i>     \n",
    "</p>\n",
    "\n",
    "---"
   ]
  },
  {
   "cell_type": "code",
   "execution_count": 72,
   "id": "8edd6346",
   "metadata": {},
   "outputs": [
    {
     "name": "stdout",
     "output_type": "stream",
     "text": [
      "Digite o número: 5\n",
      "o número digitado foi 5.0\n"
     ]
    }
   ],
   "source": [
    "A = float(input(\"Digite o número: \"))\n",
    "print(f'o número digitado foi {A}')"
   ]
  },
  {
   "cell_type": "markdown",
   "id": "1eb6bf7e",
   "metadata": {},
   "source": [
    "<hr style=\"border: 2px solid #4500ff;\">\n",
    "\n",
    "# <font color=\"#4500ff\" style=\"font-size: 25px;\">Exercício 3</font>\n",
    "<hr style=\"border: 2px solid #4500ff;\">"
   ]
  },
  {
   "cell_type": "markdown",
   "id": "039eec24",
   "metadata": {},
   "source": [
    " <p style='font-size: 23px; line-height: 2; margin: 0px 0px; text-align: justify; text-indent: 0px;'>    \n",
    "<i><b>Escreva um programa que solicite o nome e o sobrenome do usuário. Ao final o programa deverá apresentar o nome completo do usuário na tela.</b></i>     \n",
    "</p>\n",
    "\n",
    "---"
   ]
  },
  {
   "cell_type": "code",
   "execution_count": 73,
   "id": "2a417535",
   "metadata": {},
   "outputs": [
    {
     "name": "stdout",
     "output_type": "stream",
     "text": [
      "Digite o nome: miguel\n",
      "Digite o sobrenome: freire\n",
      "nome: Miguel Freire\n"
     ]
    }
   ],
   "source": [
    "nome_1 = input(\"Digite o nome: \").strip().title()\n",
    "nome_2 = input(\"Digite o sobrenome: \").strip().title()\n",
    "\n",
    "print(f'nome: {nome_1} {nome_2}')"
   ]
  },
  {
   "cell_type": "markdown",
   "id": "39e21636",
   "metadata": {},
   "source": [
    "---\n",
    "O uso de `.strip()` é útil para remover espaços em branco extras que podem ser acidentalmente inseridos antes ou depois do texto que o usuário digita. Ele ajuda a garantir que o texto não contenha espaços em branco indesejados.\n",
    "\n",
    "O uso de `.title()` é opcional e depende da preferência do desenvolvedor. Ele capitaliza a primeira letra de cada palavra na entrada do usuário, o que pode tornar a saída mais legível e consistente. Se a formatação correta dos nomes for importante no contexto do seu programa, o `.title()` pode ser útil. Caso contrário, não é estritamente necessário.\n",
    "\n",
    "---"
   ]
  },
  {
   "cell_type": "markdown",
   "id": "eac23dff",
   "metadata": {},
   "source": [
    "<hr style=\"border: 2px solid #4500ff;\">\n",
    "\n",
    "# <font color=\"#4500ff\" style=\"font-size: 25px;\">Exercício 4</font>\n",
    "<hr style=\"border: 2px solid #4500ff;\">"
   ]
  },
  {
   "cell_type": "markdown",
   "id": "41aa7bd7",
   "metadata": {},
   "source": [
    " <p style='font-size: 23px; line-height: 2; margin: 0px 0px; text-align: justify; text-indent: 0px;'>    \n",
    "<i><b>Faça um programa que solicite três números inteiros do usuário e imprima a soma destes.</b></i>     \n",
    "</p>\n",
    "\n",
    "---"
   ]
  },
  {
   "cell_type": "code",
   "execution_count": 74,
   "id": "d37e60a1",
   "metadata": {},
   "outputs": [],
   "source": [
    "import numpy as np\n",
    "import pandas as pd\n",
    "import math"
   ]
  },
  {
   "cell_type": "code",
   "execution_count": 75,
   "id": "81028c8f",
   "metadata": {},
   "outputs": [
    {
     "name": "stdout",
     "output_type": "stream",
     "text": [
      "Digite um número 1: 5\n",
      "Digite um número 2: 4\n",
      "Digite um número 3: 3\n"
     ]
    },
    {
     "data": {
      "text/plain": [
       "4.0"
      ]
     },
     "execution_count": 75,
     "metadata": {},
     "output_type": "execute_result"
    }
   ],
   "source": [
    "lista = []\n",
    "while len(lista) < 3:\n",
    "    número = float(input(f'Digite um número {(len(lista)+1)}: '))\n",
    "    lista.append(número)\n",
    "    \n",
    "média = sum(lista)/len(lista)\n",
    "média"
   ]
  },
  {
   "cell_type": "markdown",
   "id": "b319fc96",
   "metadata": {},
   "source": [
    "<hr style=\"border: 2px solid #4500ff;\">\n",
    "\n",
    "# <font color=\"#4500ff\" style=\"font-size: 25px;\">Exercício 5</font>\n",
    "<hr style=\"border: 2px solid #4500ff;\">"
   ]
  },
  {
   "cell_type": "markdown",
   "id": "62155590",
   "metadata": {},
   "source": [
    " <p style='font-size: 23px; line-height: 2; margin: 0px 0px; text-align: justify; text-indent: 0px;'>    \n",
    "<i><b>Escreva um programa que solicite duas notas do usuário e apresente a média na tela da seguinte forma:\n",
    "\n",
    "\"A média das notas [nota1] e [nota2] é [média]\"</b></i>     \n",
    "</p>\n",
    "\n",
    "---"
   ]
  },
  {
   "cell_type": "code",
   "execution_count": 76,
   "id": "bdc96084",
   "metadata": {
    "scrolled": true
   },
   "outputs": [
    {
     "name": "stdout",
     "output_type": "stream",
     "text": [
      "Digite um número 1: 5\n",
      "Digite um número 2: 4\n",
      "A média das notas '5.0' e '4.0' é 4.5\n"
     ]
    }
   ],
   "source": [
    "lista = []\n",
    "while len(lista) < 2:\n",
    "    número = float(input(f'Digite um número {(len(lista)+1)}: '))\n",
    "    lista.append(número)\n",
    "    \n",
    "media = sum(lista)/len(lista)\n",
    "print(f\"A média das notas '{lista[0]}' e '{lista[1]}' é {media}\")"
   ]
  },
  {
   "cell_type": "markdown",
   "id": "ec63adf5",
   "metadata": {},
   "source": [
    "<hr style=\"border: 2px solid #4500ff;\">\n",
    "\n",
    "# <font color=\"#4500ff\" style=\"font-size: 25px;\">Exercício 6</font>\n",
    "<hr style=\"border: 2px solid #4500ff;\">"
   ]
  },
  {
   "cell_type": "markdown",
   "id": "c0b0e17c",
   "metadata": {},
   "source": [
    " <p style='font-size: 23px; line-height: 2; margin: 0px 0px; text-align: justify; text-indent: 0px;'>    \n",
    "<i><b>Faça um programa que calcule a raiz quadrada de um número. O usuário deve inserir um número e o programa deve mostrar na tela o resultado da raiz quadrada do número inserido.</b></i>     \n",
    "</p>\n",
    "\n",
    "---"
   ]
  },
  {
   "cell_type": "code",
   "execution_count": 77,
   "id": "248cd95a",
   "metadata": {},
   "outputs": [
    {
     "name": "stdout",
     "output_type": "stream",
     "text": [
      "Digite um número: 5\n"
     ]
    },
    {
     "data": {
      "text/plain": [
       "2.23606797749979"
      ]
     },
     "execution_count": 77,
     "metadata": {},
     "output_type": "execute_result"
    }
   ],
   "source": [
    "num = float(input('Digite um número: '))\n",
    "num_std = np.sqrt(num)\n",
    "num_std"
   ]
  },
  {
   "cell_type": "markdown",
   "id": "bcc9342a",
   "metadata": {},
   "source": [
    "<hr style=\"border: 2px solid #4500ff;\">\n",
    "\n",
    "# <font color=\"#4500ff\" style=\"font-size: 25px;\">Exercício 7</font>\n",
    "<hr style=\"border: 2px solid #4500ff;\">"
   ]
  },
  {
   "cell_type": "markdown",
   "id": "42d319e5",
   "metadata": {},
   "source": [
    " <p style='font-size: 23px; line-height: 2; margin: 0px 0px; text-align: justify; text-indent: 0px;'>    \n",
    "<i><b>Faça um programa que peça 5 números de ponto flutuante do usuário e apresente no final a média dos números digitados.</b></i>     \n",
    "</p>\n",
    "\n",
    "---"
   ]
  },
  {
   "cell_type": "code",
   "execution_count": 78,
   "id": "8d410ba4",
   "metadata": {},
   "outputs": [
    {
     "name": "stdout",
     "output_type": "stream",
     "text": [
      "Digite um número 1: 5\n",
      "Digite um número 2: 3\n",
      "Digite um número 3: 4\n",
      "Digite um número 4: 2\n",
      "Digite um número 5: 1\n"
     ]
    },
    {
     "data": {
      "text/plain": [
       "3.0"
      ]
     },
     "execution_count": 78,
     "metadata": {},
     "output_type": "execute_result"
    }
   ],
   "source": [
    "lista = []\n",
    "while len(lista) < 5:\n",
    "    número = float(input(f'Digite um número {(len(lista)+1)}: '))\n",
    "    lista.append(número)\n",
    "\n",
    "media = sum(lista)/len(lista)\n",
    "media"
   ]
  },
  {
   "cell_type": "markdown",
   "id": "d4a3a4ad",
   "metadata": {},
   "source": [
    "<hr style=\"border: 2px solid #4500ff;\">\n",
    "\n",
    "# <font color=\"#4500ff\" style=\"font-size: 25px;\">Exercício 8</font>\n",
    "<hr style=\"border: 2px solid #4500ff;\">"
   ]
  },
  {
   "cell_type": "markdown",
   "id": "5d763236",
   "metadata": {},
   "source": [
    " <p style='font-size: 23px; line-height: 2; margin: 0px 0px; text-align: justify; text-indent: 0px;'>    \n",
    "<i><b>Escreva um programa que faça a conversão de um dado valor de metro para quilômetro.</b></i>     \n",
    "</p>\n",
    "\n",
    "---"
   ]
  },
  {
   "cell_type": "code",
   "execution_count": 79,
   "id": "05ad53ee",
   "metadata": {},
   "outputs": [
    {
     "name": "stdout",
     "output_type": "stream",
     "text": [
      "digite a distância em metros: 150\n",
      "\n",
      "essa distância é igual a 0.15 Km\n"
     ]
    }
   ],
   "source": [
    "d = float(input('digite a distância em metros: '))\n",
    "km = d/1000\n",
    "\n",
    "print(f'\\nessa distância é igual a {km} Km')"
   ]
  },
  {
   "cell_type": "markdown",
   "id": "90f5216e",
   "metadata": {},
   "source": [
    "<hr style=\"border: 2px solid #4500ff;\">\n",
    "\n",
    "# <font color=\"#4500ff\" style=\"font-size: 25px;\">Exercício 9</font>\n",
    "<hr style=\"border: 2px solid #4500ff;\">"
   ]
  },
  {
   "cell_type": "markdown",
   "id": "85655035",
   "metadata": {},
   "source": [
    " <p style='font-size: 23px; line-height: 2; margin: 0px 0px; text-align: justify; text-indent: 0px;'>    \n",
    "<i><b>Escreva um programa que calcule a área de uma circunferência. O usuário deve digitar o valor do raio e ao final o programa deverá mostrar na tela a área da circunferência.\n",
    "\n",
    "Use a fórmula: área=pi*r² , em que pi é uma constante e r o raio da circunferência.\n",
    "\n",
    "Dica: você pode usar a biblioteca math para pegar a constante pi.</b></i>     \n",
    "</b></i>     \n",
    "</p>\n",
    "\n",
    "---"
   ]
  },
  {
   "cell_type": "code",
   "execution_count": 80,
   "id": "60ad42bb",
   "metadata": {},
   "outputs": [
    {
     "name": "stdout",
     "output_type": "stream",
     "text": [
      "Diga o Raio: 5\n"
     ]
    },
    {
     "data": {
      "text/plain": [
       "78.54"
      ]
     },
     "execution_count": 80,
     "metadata": {},
     "output_type": "execute_result"
    }
   ],
   "source": [
    "valor_de_pi = math.pi\n",
    "\n",
    "raio = float(input('Diga o Raio: '))\n",
    "\n",
    "area = valor_de_pi * math.pow(raio, 2)\n",
    "round(area, 2)"
   ]
  },
  {
   "cell_type": "markdown",
   "id": "c9cde60e",
   "metadata": {},
   "source": [
    "<hr style=\"border: 2px solid #4500ff;\">\n",
    "\n",
    "# <font color=\"#4500ff\" style=\"font-size: 25px;\">Exercício 10</font>\n",
    "<hr style=\"border: 2px solid #4500ff;\">"
   ]
  },
  {
   "cell_type": "markdown",
   "id": "0582a367",
   "metadata": {},
   "source": [
    " <p style='font-size: 23px; line-height: 2; margin: 0px 0px; text-align: justify; text-indent: 0px;'>    \n",
    "<i><b>Faça um programa que peça uma temperatura em Fahrenheit (F) e converta esta temperatura para grau Celsius (C), mostrando o resultado da conversão na tela.\n",
    "\n",
    "Use a fórmula: C = 5 * ((F-32) / 9).</b></i>     \n",
    "</b></i>     \n",
    "</p>\n",
    "\n",
    "---"
   ]
  },
  {
   "cell_type": "code",
   "execution_count": 81,
   "id": "6a142169",
   "metadata": {},
   "outputs": [
    {
     "name": "stdout",
     "output_type": "stream",
     "text": [
      "Diga a temperatura (fº): 30\n",
      "\n",
      " A temperatura 30.0º F é igual a -1.1º C\n"
     ]
    }
   ],
   "source": [
    "fahrenheit = float(input('Diga a temperatura (fº): '))\n",
    "\n",
    "celsius = round(5 * ((fahrenheit-32) / 9),1)\n",
    "\n",
    "print(f'\\n A temperatura {fahrenheit}º F é igual a {celsius}º C')"
   ]
  },
  {
   "cell_type": "markdown",
   "id": "65e7e1f6",
   "metadata": {},
   "source": [
    "<hr style=\"border: 2px solid #4500ff;\">\n",
    "\n",
    "# <font color=\"#4500ff\" style=\"font-size: 25px;\">Exercício 11</font>\n",
    "<hr style=\"border: 2px solid #4500ff;\">"
   ]
  },
  {
   "cell_type": "markdown",
   "id": "d72a1a2e",
   "metadata": {},
   "source": [
    " <p style='font-size: 23px; line-height: 2; margin: 0px 0px; text-align: justify; text-indent: 0px;'>    \n",
    "<i><b>Escreva um programa que peça dois números e apresente a divisão e multiplicação entre eles. A tela de apresentação deverá seguir o seguinte formato:\n",
    "\n",
    "\"[número1]x[número2]=[multiplicação]\"\n",
    "\n",
    "\"[número1]/[número2]=[divisão]\"</b></i>     \n",
    "</b></i>     \n",
    "</p>\n",
    "\n",
    "---"
   ]
  },
  {
   "cell_type": "code",
   "execution_count": 82,
   "id": "e100bb39",
   "metadata": {},
   "outputs": [
    {
     "name": "stdout",
     "output_type": "stream",
     "text": [
      "Diga qual é o Número 1 = 5\n",
      "Diga qual é o Número 2 = 3\n",
      "\n",
      "5.0 x 3.0 = 15.0\n",
      "5.0 / 3.0 = 1.7\n"
     ]
    }
   ],
   "source": [
    "num_1 = float(input('Diga qual é o Número 1 = '))\n",
    "num_2 = float(input('Diga qual é o Número 2 = '))\n",
    "\n",
    "mult = round(num_1*num_2,1)\n",
    "div = round(num_1/num_2,1)\n",
    "\n",
    "\n",
    "print(f\"\\n{num_1} x {num_2} = {mult}\")\n",
    "\n",
    "print(f\"{num_1} / {num_2} = {div}\")"
   ]
  },
  {
   "cell_type": "markdown",
   "id": "9f3df186",
   "metadata": {},
   "source": [
    "<hr style=\"border: 2px solid #4500ff;\">\n",
    "\n",
    "# <font color=\"#4500ff\" style=\"font-size: 25px;\">Exercício 12</font>\n",
    "<hr style=\"border: 2px solid #4500ff;\">"
   ]
  },
  {
   "cell_type": "markdown",
   "id": "2d9530ba",
   "metadata": {},
   "source": [
    " <p style='font-size: 23px; line-height: 2; margin: 0px 0px; text-align: justify; text-indent: 0px;'>    \n",
    "<i><b>Escreva um programa que receba o nome, sobrenome e idade do usuário e apresente a seguinte mensagem na tela:\n",
    "\n",
    "\"Seja bem-vindo [nome] [sobrenome].\"\n",
    "\n",
    "\"Você possui [idade] anos de idade.\"\n",
    "\n",
    "\n",
    "\n",
    "No campo nome e sobrenome utilize os métodos strip() e title(). Lembre-se que o primeiro método permite remover os espaços antes e depois da string, enquanto que o último permite colocar a string no formato titlecased (capitaliza a string).</b></i>     \n",
    "</b></i>     \n",
    "</p>\n",
    "\n",
    "---"
   ]
  },
  {
   "cell_type": "code",
   "execution_count": null,
   "id": "7eccf527",
   "metadata": {},
   "outputs": [],
   "source": [
    "nome = input('Diga qual é o seu nome? = ').strip().capitalize()\n",
    "sobrenome = input('Diga qual é o sobrenome? = ').strip().title()\n",
    "idade = int(input('Diga qual é a sua idade? = '))\n",
    "\n",
    "print(f\"\\nSeja bem-vindo {nome} {sobrenome}\")\n",
    "\n",
    "print(f\"Você possui {idade} anos de idade.\")"
   ]
  },
  {
   "cell_type": "markdown",
   "id": "470457f0",
   "metadata": {},
   "source": [
    "---\n",
    "\n",
    "A diferença entre `capitalize()` e `title()` em Python está relacionada à forma como essas funções modificam strings:\n",
    "\n",
    "1. `capitalize()`: Esta função transforma a primeira letra de uma string em maiúscula e todas as outras letras em minúsculas. Por exemplo:\n",
    "\n",
    "```python\n",
    "texto = \"python é uma linguagem de programação\"\n",
    "capitalizado = texto.capitalize()\n",
    "print(capitalizado)  # Saída: \"Python é uma linguagem de programação\"\n",
    "```\n",
    "\n",
    "2. `title()`: Esta função transforma a primeira letra de cada palavra em uma string em maiúscula e todas as outras letras em minúsculas. Palavras são consideradas como sequências de caracteres separadas por espaços em branco. Por exemplo:\n",
    "\n",
    "```python\n",
    "texto = \"python é uma linguagem de programação\"\n",
    "titulado = texto.title()\n",
    "print(titulado)  # Saída: \"Python É Uma Linguagem De Programação\"\n",
    "```\n",
    "\n",
    "Portanto, a diferença chave é que `capitalize()` apenas capitaliza a primeira letra da string, enquanto `title()` capitaliza a primeira letra de cada palavra na string."
   ]
  },
  {
   "cell_type": "markdown",
   "id": "ed668a70",
   "metadata": {},
   "source": [
    "<hr style=\"border: 2px solid #4500ff;\">\n",
    "\n",
    "# <font color=\"#4500ff\" style=\"font-size: 25px;\">Exercício 13</font>\n",
    "<hr style=\"border: 2px solid #4500ff;\">"
   ]
  },
  {
   "cell_type": "markdown",
   "id": "62a37875",
   "metadata": {},
   "source": [
    " <p style='font-size: 23px; line-height: 2; margin: 0px 0px; text-align: justify; text-indent: 0px;'>    \n",
    "<i><b>Escreva um programa que peça um número do usuário via método input e converta esse número para o formato float.</b></i>     \n",
    "</p>\n",
    "\n",
    "---"
   ]
  },
  {
   "cell_type": "code",
   "execution_count": null,
   "id": "bfe8320f",
   "metadata": {},
   "outputs": [],
   "source": [
    "num = float(input('Diga um número = '))\n",
    "type(num)"
   ]
  },
  {
   "cell_type": "markdown",
   "id": "7400dfa2",
   "metadata": {},
   "source": [
    "<hr style=\"border: 2px solid #4500ff;\">\n",
    "\n",
    "# <font color=\"#4500ff\" style=\"font-size: 25px;\">Exercício 14</font>\n",
    "<hr style=\"border: 2px solid #4500ff;\">"
   ]
  },
  {
   "cell_type": "markdown",
   "id": "4201ffb4",
   "metadata": {},
   "source": [
    " <p style='font-size: 23px; line-height: 2; margin: 0px 0px; text-align: justify; text-indent: 0px;'>    \n",
    "<i><b>Escreva um programa que peça o nome e a idade do usuário. Caso a idade do usuário seja maior ou igual a 18 anos apresente a seguinte mensagem: \"Seja bem-vindo ao nosso site [nome]!\"; caso contrário, apresente a seguinte mensagem: \"Você não pode acessar nosso site [nome].\".</b></i>     \n",
    "</p>\n",
    "\n",
    "---"
   ]
  },
  {
   "cell_type": "code",
   "execution_count": null,
   "id": "0a4a1687",
   "metadata": {},
   "outputs": [],
   "source": [
    "nome = input('Diga qual é o seu nome? = ').strip().capitalize()\n",
    "idade = int(input('Diga qual é a sua idade? = '))\n",
    "\n",
    "if idade >= 18:\n",
    "    print(f\"Seja bem-vindo ao nosso site, {nome}!\")\n",
    "else:\n",
    "    print(f\"Você não pode acessar nosso site, {nome}!\")"
   ]
  },
  {
   "cell_type": "markdown",
   "id": "3eb92863",
   "metadata": {},
   "source": [
    "<hr style=\"border: 2px solid #4500ff;\">\n",
    "\n",
    "# <font color=\"#4500ff\" style=\"font-size: 25px;\">Exercício 15</font>\n",
    "<hr style=\"border: 2px solid #4500ff;\">"
   ]
  },
  {
   "cell_type": "markdown",
   "id": "6547f930",
   "metadata": {},
   "source": [
    " <p style='font-size: 23px; line-height: 2; margin: 0px 0px; text-align: justify; text-indent: 0px;'>    \n",
    "<i><b>Elabore um programa para calcular a hipotenusa de um triângulo.\n",
    "\n",
    "Dicas:\n",
    "\n",
    "Veja o módulo math (math.hypot);\n",
    "\n",
    "Utilize a seguinte fórmula: hipotenusa=(a²+b²)¹/2:</b></i>     \n",
    "</p>\n",
    "\n",
    "---"
   ]
  },
  {
   "cell_type": "code",
   "execution_count": null,
   "id": "44d2606f",
   "metadata": {},
   "outputs": [],
   "source": [
    "lado_1 = float(input(\"Digite o valor do lado 1: \"))\n",
    "lado_2 = float(input(\"Digite o valor do lado 2: \"))\n",
    "\n",
    "hipotenusa = round(math.hypot(lado_1, lado_2),1)\n",
    "print(hipotenusa) "
   ]
  },
  {
   "cell_type": "markdown",
   "id": "c6eccada",
   "metadata": {},
   "source": [
    "<hr style=\"border: 2px solid #4500ff;\">\n",
    "\n",
    "# <font color=\"#4500ff\" style=\"font-size: 25px;\">Exercício 16</font>\n",
    "<hr style=\"border: 2px solid #4500ff;\">"
   ]
  },
  {
   "cell_type": "markdown",
   "id": "21137a03",
   "metadata": {},
   "source": [
    " <p style='font-size: 23px; line-height: 2; margin: 0px 0px; text-align: justify; text-indent: 0px;'>    \n",
    "<i><b>Faça um programa que recebe um número inteiro do usuário e calcule o fatorial deste número.\n",
    "\n",
    "\n",
    "\n",
    "Dica: utilize o módulo math do Python, especificamente math.fatorial.</b></i>     \n",
    "</p>\n",
    "\n",
    "---"
   ]
  },
  {
   "cell_type": "code",
   "execution_count": 86,
   "id": "ed431fc9",
   "metadata": {},
   "outputs": [
    {
     "name": "stdout",
     "output_type": "stream",
     "text": [
      "Digite o valor do numero: 5\n",
      "O fatorial de 5 é 120\n"
     ]
    }
   ],
   "source": [
    "num = int(input(\"Digite o valor do numero: \"))\n",
    "\n",
    "fatorial = math.factorial(num)\n",
    "\n",
    "print(f'O fatorial de {num} é {fatorial}')"
   ]
  },
  {
   "cell_type": "markdown",
   "id": "82b8f250",
   "metadata": {},
   "source": [
    "<hr style=\"border: 2px solid #4500ff;\">\n",
    "\n",
    "# <font color=\"#4500ff\" style=\"font-size: 25px;\">Exercício 17</font>\n",
    "<hr style=\"border: 2px solid #4500ff;\">"
   ]
  },
  {
   "cell_type": "markdown",
   "id": "01c42267",
   "metadata": {},
   "source": [
    " <p style='font-size: 23px; line-height: 2; margin: 0px 0px; text-align: justify; text-indent: 0px;'>    \n",
    "<i><b>Escreva um programa que peça um número do usuário e calcule o logaritmo deste número nas bases 10 e 2.\n",
    "\n",
    "Dica: utilize o módulo math.</b></i>     \n",
    "</p>\n",
    "\n",
    "---"
   ]
  },
  {
   "cell_type": "code",
   "execution_count": 91,
   "id": "da3cba3a",
   "metadata": {},
   "outputs": [
    {
     "name": "stdout",
     "output_type": "stream",
     "text": [
      "Digite o valor do numero: 150\n",
      "O logaritmo na base 10 de 150 é 2.2\n",
      "Digite o valor do numero: 600\n",
      "O logaritmo na base 2 de 600 é 9.2\n"
     ]
    }
   ],
   "source": [
    "numero = int(input(\"Digite o valor do numero: \"))\n",
    "log10 = round(math.log10(numero),1)\n",
    "\n",
    "print(f'O logaritmo na base 10 de {numero} é {log10}')\n",
    "\n",
    "\n",
    "numero = int(input(\"Digite o valor do numero: \"))\n",
    "log2 = round(math.log2(numero),1)\n",
    "\n",
    "print(f'O logaritmo na base 2 de {numero} é {log2}')"
   ]
  },
  {
   "cell_type": "markdown",
   "id": "5f3157a9",
   "metadata": {},
   "source": [
    "<hr style=\"border: 2px solid #4500ff;\">\n",
    "\n",
    "# <font color=\"#4500ff\" style=\"font-size: 25px;\">Exercício 18</font>\n",
    "<hr style=\"border: 2px solid #4500ff;\">"
   ]
  },
  {
   "cell_type": "markdown",
   "id": "a2bf4d73",
   "metadata": {},
   "source": [
    " <p style='font-size: 23px; line-height: 2; margin: 0px 0px; text-align: justify; text-indent: 0px;'>    \n",
    "<i><b>Faça um programa que peça a base e a altura de um retângulo e calcule e mostre na tela a área e o perímetro.</b></i>     \n",
    "</p>\n",
    "\n",
    "---"
   ]
  },
  {
   "cell_type": "code",
   "execution_count": 94,
   "id": "97234d12",
   "metadata": {},
   "outputs": [
    {
     "name": "stdout",
     "output_type": "stream",
     "text": [
      "Digite o valor do numero: 15\n",
      "Digite o valor do numero: 10\n",
      "A área deste retângulo é: 75.0\n",
      "O perímetro deste retângulo é: 50\n"
     ]
    }
   ],
   "source": [
    "base = int(input(\"Digite o valor do numero: \"))\n",
    "altura = int(input(\"Digite o valor do numero: \"))\n",
    "\n",
    "area = (1/2) * base*altura\n",
    "\n",
    "perimetro=2*base+2*altura\n",
    "\n",
    "print(f'A área deste retângulo é: {area}')\n",
    "print(f'O perímetro deste retângulo é: {perimetro}')"
   ]
  },
  {
   "cell_type": "markdown",
   "id": "c890c5ee",
   "metadata": {},
   "source": [
    "<hr style=\"border: 2px solid #4500ff;\">\n",
    "\n",
    "# <font color=\"#4500ff\" style=\"font-size: 25px;\">Exercício 19</font>\n",
    "<hr style=\"border: 2px solid #4500ff;\">"
   ]
  },
  {
   "cell_type": "markdown",
   "id": "7104e6d5",
   "metadata": {},
   "source": [
    " <p style='font-size: 23px; line-height: 2; margin: 0px 0px; text-align: justify; text-indent: 0px;'>    \n",
    "<i><b>Escreva um programa que solicite o nome, o sobrenome e o salário atual de um funcionário. Ao fim, calcule seu novo salário considerando cenários hipotéticos, com os seguintes aumentos: 10%, 25%,30% e 50%. A mensagem na tela deverá seguir o seguinte padrão:\n",
    "\n",
    "\n",
    "\n",
    "\"\"Olá, [nome] [sobrenome]\"\n",
    "\n",
    "\"Seu salário atual é : [salário]\"\n",
    "\n",
    "\"Seu salário com 10% de aumento é: [salário]\"\n",
    "\n",
    "\"Seu salário com 25% de aumento é: [salário]\"\n",
    "\n",
    "\"Seu salário com 30% de aumento é: [salário]\"\n",
    "\n",
    "\"Seu salário com 50% de aumento é: [salário]\"\n",
    "\n",
    "\n",
    "\n",
    "No campo nome e sobrenome utilize os métodos strip() e title(). Lembre-se que o primeiro método permite remover os espaços antes e após a string, enquanto que o último permite colocar a string no formato titlecased (capitaliza string).\"</b></i>     \n",
    "</p>\n",
    "\n",
    "---"
   ]
  },
  {
   "cell_type": "code",
   "execution_count": 6,
   "id": "51e5e3a9",
   "metadata": {},
   "outputs": [
    {
     "name": "stdout",
     "output_type": "stream",
     "text": [
      "Diga qual é o seu nome? = miguel\n",
      "Diga qual é o seu sobrenome? = freire\n",
      "Digite o valor do salario: 2000\n",
      "\n",
      "Olá, Miguel Freire\n",
      "Seu salário atual é : 2000\n",
      "\n",
      "Seu salário com 10% de aumento é: 2200.0\n",
      "Seu salário com 25% de aumento é: 2500.0\n",
      "Seu salário com 30% de aumento é: 2600.0\n",
      "Seu salário com 50% de aumento é: 3000.0\n",
      "\n"
     ]
    }
   ],
   "source": [
    "nome = input('Diga qual é o seu nome? = ').strip().capitalize()\n",
    "sobrenome = input('Diga qual é o seu sobrenome? = ').strip().capitalize()\n",
    "salario = float(input(\"Digite o valor do salario: \"))\n",
    "\n",
    "\n",
    "print(f\"\\nOlá, {nome} {sobrenome}\\n\"\n",
    "\n",
    "f\"Seu salário atual é : {salario}\\n\"\n",
    "\n",
    "f\"\\nSeu salário com 10% de aumento é: {salario*1.1}\\n\"\n",
    "\n",
    "f\"Seu salário com 25% de aumento é: {salario*1.25}\\n\"\n",
    "\n",
    "f\"Seu salário com 30% de aumento é: {salario*1.3}\\n\"\n",
    "\n",
    "f\"Seu salário com 50% de aumento é: {salario*1.5}\\n\"\n",
    "      \n",
    ")"
   ]
  },
  {
   "cell_type": "markdown",
   "id": "6759d44d",
   "metadata": {},
   "source": [
    "<hr style=\"border: 2px solid #4500ff;\">\n",
    "\n",
    "# <font color=\"#4500ff\" style=\"font-size: 25px;\">Exercício 20</font>\n",
    "<hr style=\"border: 2px solid #4500ff;\">"
   ]
  },
  {
   "cell_type": "markdown",
   "id": "85fc13bf",
   "metadata": {},
   "source": [
    " <p style='font-size: 23px; line-height: 2; margin: 0px 0px; text-align: justify; text-indent: 0px;'>    \n",
    "<i><b>Escreva um programa que peça um número inteiro do usuário e calcule e imprima a tabuada deste número.</b></i>     \n",
    "</p>\n",
    "\n",
    "---"
   ]
  },
  {
   "cell_type": "code",
   "execution_count": 16,
   "id": "a6c83e00",
   "metadata": {},
   "outputs": [
    {
     "name": "stdout",
     "output_type": "stream",
     "text": [
      "Digite o valor do numéro inteiro: 9\n",
      "\n",
      "9x1 = 9\n",
      "9x2 = 18\n",
      "9x3 = 27\n",
      "9x4 = 36\n",
      "9x5 = 45\n",
      "9x6 = 54\n",
      "9x7 = 63\n",
      "9x8 = 72\n",
      "9x9 = 81\n"
     ]
    }
   ],
   "source": [
    "num = int(input(\"Digite o valor do numéro inteiro: \"))\n",
    "print()\n",
    "for i in range(1,10):\n",
    "    print(f\"{num}x{i} = {num*i}\")"
   ]
  },
  {
   "cell_type": "markdown",
   "id": "72747be1",
   "metadata": {},
   "source": [
    "<hr style=\"border: 2px solid #4500ff;\">\n",
    "\n",
    "# <font color=\"#4500ff\" style=\"font-size: 25px;\">Exercício 21</font>\n",
    "<hr style=\"border: 2px solid #4500ff;\">"
   ]
  },
  {
   "cell_type": "markdown",
   "id": "700b55a4",
   "metadata": {},
   "source": [
    " <p style='font-size: 23px; line-height: 2; margin: 0px 0px; text-align: justify; text-indent: 0px;'>    \n",
    "<i><b>Faça um programa que solicite um número inteiro e mostre o seu valor absoluto.\n",
    "\n",
    "\n",
    "\n",
    "Dica: use a função built-in abs().</b></i>     \n",
    "</p>\n",
    "\n",
    "---"
   ]
  },
  {
   "cell_type": "code",
   "execution_count": 18,
   "id": "0542a18e",
   "metadata": {},
   "outputs": [
    {
     "name": "stdout",
     "output_type": "stream",
     "text": [
      "Digite o valor do numéro inteiro: -50\n",
      "\n",
      "O valor absoluto do número é 50\n"
     ]
    }
   ],
   "source": [
    "num = int(input(\"Digite o valor do numéro inteiro: \"))\n",
    "\n",
    "print(f\"\\nO valor absoluto do número é {abs(num)}\")"
   ]
  },
  {
   "cell_type": "markdown",
   "id": "27bcd03d",
   "metadata": {},
   "source": [
    "<hr style=\"border: 2px solid #4500ff;\">\n",
    "\n",
    "# <font color=\"#4500ff\" style=\"font-size: 25px;\">Exercício 22</font>\n",
    "<hr style=\"border: 2px solid #4500ff;\">"
   ]
  },
  {
   "cell_type": "markdown",
   "id": "deed88bf",
   "metadata": {},
   "source": [
    " <p style='font-size: 23px; line-height: 2; margin: 0px 0px; text-align: justify; text-indent: 0px;'>    \n",
    "<i><b>Faça um programa que peça uma string ao usuário e mostre na tela a quantidade de caracteres.\n",
    "\n",
    "\n",
    "\n",
    "Dica: use a função built-in len() e trate a string com o método strip().\n",
    "\n",
    ".</b></i>     \n",
    "</p>\n",
    "\n",
    "---"
   ]
  },
  {
   "cell_type": "code",
   "execution_count": 20,
   "id": "9a870ee8",
   "metadata": {},
   "outputs": [
    {
     "name": "stdout",
     "output_type": "stream",
     "text": [
      "Diga uma palavra: miguel\n",
      "Sua palavra possui 6 letras\n"
     ]
    }
   ],
   "source": [
    "string = input(\"Diga uma palavra: \").strip()\n",
    "tamanho = len(string)\n",
    "\n",
    "print(f\"Sua palavra possui {tamanho} letras\")"
   ]
  },
  {
   "cell_type": "markdown",
   "id": "1d81fa4a",
   "metadata": {},
   "source": [
    "<hr style=\"border: 2px solid #4500ff;\">\n",
    "\n",
    "# <font color=\"#4500ff\" style=\"font-size: 25px;\">Exercício 23</font>\n",
    "<hr style=\"border: 2px solid #4500ff;\">"
   ]
  },
  {
   "cell_type": "markdown",
   "id": "aa2e3481",
   "metadata": {},
   "source": [
    " <p style='font-size: 23px; line-height: 2; margin: 0px 0px; text-align: justify; text-indent: 0px;'>    \n",
    "<i><b>Escreva um programa que peça um número inteiro do usuário e mostre se esse número é par ou ímpar. A mensagem na tela deverá seguir o seguinte formato:\n",
    "\n",
    "\"O número [número] é [par/ímpar]\"\n",
    "</b></i>     \n",
    "</p>\n",
    "\n",
    "---"
   ]
  },
  {
   "cell_type": "code",
   "execution_count": 5,
   "id": "b92566a3",
   "metadata": {},
   "outputs": [
    {
     "name": "stdout",
     "output_type": "stream",
     "text": [
      "Digite o valor do numéro inteiro: 10\n",
      "O número 10 é par\n"
     ]
    }
   ],
   "source": [
    "num = int(input(\"Digite o valor do numéro inteiro: \"))\n",
    "\n",
    "if num%2 == 0:\n",
    "    print(f\"O número {num} é par\")\n",
    "else:\n",
    "    print(f\"O número {num} é impar\")"
   ]
  },
  {
   "cell_type": "markdown",
   "id": "ebf03543",
   "metadata": {},
   "source": [
    "<hr style=\"border: 2px solid #4500ff;\">\n",
    "\n",
    "# <font color=\"#4500ff\" style=\"font-size: 25px;\">Exercício 24</font>\n",
    "<hr style=\"border: 2px solid #4500ff;\">"
   ]
  },
  {
   "cell_type": "markdown",
   "id": "6c6bb498",
   "metadata": {},
   "source": [
    " <p style='font-size: 23px; line-height: 2; margin: 0px 0px; text-align: justify; text-indent: 0px;'>    \n",
    "<i><b>O Índice de Massa Corporal (IMC) é utilizado para mensurar o peso ideal de uma pessoa. Escreva um programa que peça o nome, a idade , o peso e a altura do usuário. Ao final calcule e mostre o resultado do seu IMC e classifique este resultado de acordo com a regra a seguir.\n",
    "\n",
    "\n",
    "\n",
    "IMC<17 - Muito abaixo do peso ideal\n",
    "\n",
    "17<=IMC<18,5 - Abaixo do peso\n",
    "\n",
    "18,5<=IMC<25 - Peso normal\n",
    "\n",
    "25<=IMC<30 - Acima do peso\n",
    "\n",
    "30<=IMC<35 - Obesidade I\n",
    "\n",
    "35<=IMC<40 - Obesidade II (severa)\n",
    "\n",
    "IMC>=40 - Obesidade III (mórbida)\n",
    "\n",
    "\n",
    "\n",
    "Lembre que: IMC=massa/(altura*altura)\n",
    "</b></i>     \n",
    "</p>\n",
    "\n",
    "---"
   ]
  },
  {
   "cell_type": "code",
   "execution_count": 10,
   "id": "aae7f65b",
   "metadata": {},
   "outputs": [
    {
     "name": "stdout",
     "output_type": "stream",
     "text": [
      "Qual seu nome? miguel\n",
      "Qual sua idade? 24\n",
      "Qual seu peso? 66\n",
      "Qual seu altura? 1.70\n",
      "\n",
      "Peso normal\n"
     ]
    }
   ],
   "source": [
    "nome = input(\"Qual seu nome? \")\n",
    "idade = int(input(\"Qual sua idade? \"))\n",
    "peso = float(input(\"Qual seu peso? \"))\n",
    "altura = float(input(\"Qual seu altura? \"))\n",
    "print()\n",
    "\n",
    "IMC = peso / altura**2\n",
    "\n",
    "classificacoes = {\n",
    "    (0, 17): \"Muito abaixo do peso ideal\",\n",
    "    (17, 18.5): \"Abaixo do peso\",\n",
    "    (18.5, 25): \"Peso normal\",\n",
    "    (25, 30): \"Acima do peso\",\n",
    "    (30, 35): \"Obesidade I\",\n",
    "    (35, 40): \"Obesidade II (severa)\",\n",
    "    (40, float('inf')): \"Obesidade III (mórbida)\"\n",
    "}\n",
    "\n",
    "classificacao = None\n",
    "\n",
    "for faixa, mensagem in classificacoes.items():\n",
    "    if faixa[0] <= IMC < faixa[1]:\n",
    "        classificacao = mensagem\n",
    "        break\n",
    "\n",
    "if classificacao:\n",
    "    print(classificacao)\n",
    "else:\n",
    "    print(\"Classificação não encontrada\")"
   ]
  },
  {
   "cell_type": "markdown",
   "id": "abb9d271",
   "metadata": {},
   "source": [
    "Você pode simplificar o código usando uma estrutura de dados, como um dicionário, para mapear faixas de IMC para as mensagens correspondentes. Aqui está uma versão simplificada do seu código: (é o código acima)\n",
    "\n",
    "\n",
    "Neste código, usamos um dicionário chamado `classificacoes` para mapear intervalos de IMC para as mensagens correspondentes. Em seguida, iteramos por essas faixas e verificamos em qual faixa o IMC se encaixa. Isso elimina a necessidade de várias declarações \"if\" e \"elif\"."
   ]
  },
  {
   "cell_type": "markdown",
   "id": "6642b748",
   "metadata": {},
   "source": [
    "<hr style=\"border: 2px solid #4500ff;\">\n",
    "\n",
    "# <font color=\"#4500ff\" style=\"font-size: 25px;\">Exercício 25</font>\n",
    "<hr style=\"border: 2px solid #4500ff;\">"
   ]
  },
  {
   "cell_type": "markdown",
   "id": "bf9d6880",
   "metadata": {},
   "source": [
    " <p style='font-size: 23px; line-height: 2; margin: 0px 0px; text-align: justify; text-indent: 0px;'>    \n",
    "<i><b>Escreva um programa que receba dois números de ponto flutuante e mostre na tela o maior número digitado. Considere a possibilidade de o usuário digitar dois números iguais.\n",
    "</b></i>     \n",
    "</p>\n",
    "\n",
    "---"
   ]
  },
  {
   "cell_type": "code",
   "execution_count": 12,
   "id": "183411fe",
   "metadata": {},
   "outputs": [
    {
     "name": "stdout",
     "output_type": "stream",
     "text": [
      "Digite numero 1: 10\n",
      "Digite numero 2: 5\n"
     ]
    },
    {
     "data": {
      "text/plain": [
       "'num_1 maior que num_2'"
      ]
     },
     "execution_count": 12,
     "metadata": {},
     "output_type": "execute_result"
    }
   ],
   "source": [
    "num_1 = float(input(\"Digite numero 1: \"))\n",
    "num_2 = float(input(\"Digite numero 2: \"))\n",
    "\n",
    "resultado = (\"igual\" if num_1 == num_2 else (\"num_1 maior que num_2\" if num_1 > num_2 else \"num_2 maior que num_1\"))\n",
    "resultado"
   ]
  },
  {
   "cell_type": "markdown",
   "id": "f56f3c8d",
   "metadata": {},
   "source": [
    "---\n",
    "Em Python, você pode usar uma expressão condicional ternária para fazer isso em uma única linha. A sintaxe básica é a seguinte:\n",
    "\n",
    "```python\n",
    "valor_se_verdadeiro if condição else valor_se_falso\n",
    "```\n",
    "\n",
    "No seu caso, você pode fazer algo assim:\n",
    "\n",
    "```python\n",
    "num_1 = float(input(\"Digite numero 1: \"))\n",
    "num_2 = float(input(\"Digite numero 2: \"))\n",
    "\n",
    "resultado = (x if num_1 == num_2 else (y if num_1 > num_2 else z))\n",
    "\n",
    "print(resultado)\n",
    "```\n",
    "\n",
    "Neste exemplo, a expressão `resultado` será definida com base nas condições especificadas:\n",
    "\n",
    "- Se `num_1` for igual a `num_2`, `resultado` será igual a `x`.\n",
    "- Se `num_1` for maior que `num_2`, `resultado` será igual a `y`.\n",
    "- Se `num_1` não for igual a `num_2` e não for maior que `num_2`, `resultado` será igual a `z`.\n",
    "\n",
    "Dessa forma, você pode fazer uma verificação condicional em uma única linha. Lembre-se de que isso pode ser menos legível do que usar instruções \"if\" separadas, especialmente se houver muitas condições. Portanto, use com moderação e priorize a clareza do código.\n",
    "\n",
    "---"
   ]
  },
  {
   "cell_type": "markdown",
   "id": "e79fe94a",
   "metadata": {},
   "source": [
    "<hr style=\"border: 2px solid #4500ff;\">\n",
    "\n",
    "# <font color=\"#4500ff\" style=\"font-size: 26px;\">Exercício 26</font>\n",
    "<hr style=\"border: 2px solid #4500ff;\">"
   ]
  },
  {
   "cell_type": "markdown",
   "id": "29a93922",
   "metadata": {},
   "source": [
    " <p style='font-size: 23px; line-height: 2; margin: 0px 0px; text-align: justify; text-indent: 0px;'>    \n",
    "<i><b>Escreva um programa que verifique se um determinado número digitado pelo usuário é nulo, positivo ou negativo.\n",
    "</b></i>     \n",
    "</p>\n",
    "\n",
    "---"
   ]
  },
  {
   "cell_type": "code",
   "execution_count": 16,
   "id": "eeb08420",
   "metadata": {},
   "outputs": [
    {
     "name": "stdout",
     "output_type": "stream",
     "text": [
      "Digite o numero : -5\n"
     ]
    },
    {
     "data": {
      "text/plain": [
       "'negativo'"
      ]
     },
     "execution_count": 16,
     "metadata": {},
     "output_type": "execute_result"
    }
   ],
   "source": [
    "num_1 = float(input(\"Digite o numero : \"))\n",
    "\n",
    "resultado = \"positivo\" if num_1 > 0 else (\"negativo\" if num_1 < 0 else \"nulo\")\n",
    "resultado"
   ]
  },
  {
   "cell_type": "code",
   "execution_count": null,
   "id": "af33096f",
   "metadata": {},
   "outputs": [],
   "source": []
  }
 ],
 "metadata": {
  "kernelspec": {
   "display_name": "Python 3 (ipykernel)",
   "language": "python",
   "name": "python3"
  },
  "language_info": {
   "codemirror_mode": {
    "name": "ipython",
    "version": 3
   },
   "file_extension": ".py",
   "mimetype": "text/x-python",
   "name": "python",
   "nbconvert_exporter": "python",
   "pygments_lexer": "ipython3",
   "version": "3.11.3"
  }
 },
 "nbformat": 4,
 "nbformat_minor": 5
}

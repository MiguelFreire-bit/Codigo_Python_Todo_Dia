{
 "cells": [
  {
   "cell_type": "markdown",
   "id": "4d76159e",
   "metadata": {},
   "source": [
    "\n",
    "\n",
    "# <font color=\"#ff4500\" style=\"font-size: 30px;\">Código Python Todo Dia</font>\n"
   ]
  },
  {
   "cell_type": "markdown",
   "id": "10b3ae43",
   "metadata": {},
   "source": [
    "<hr style=\"border: 2px solid #4500ff;\">\n",
    "\n",
    "# <font color=\"#4500ff\" style=\"font-size: 25px;\">Exercício 1</font>\n",
    "<hr style=\"border: 2px solid #4500ff;\">"
   ]
  },
  {
   "cell_type": "markdown",
   "id": "cb6218b3",
   "metadata": {},
   "source": [
    " <p style='font-size: 23px; line-height: 2; margin: 0px 0px; text-align: justify; text-indent: 0px;'>    \n",
    "<i><b>Escreva um programa que mostre a mensagem 'Hello World!' na tela.</b></i>     \n",
    "</p>\n",
    "\n",
    "---"
   ]
  },
  {
   "cell_type": "code",
   "execution_count": 3,
   "id": "ed89b093",
   "metadata": {},
   "outputs": [
    {
     "name": "stdout",
     "output_type": "stream",
     "text": [
      "Hello World\n"
     ]
    }
   ],
   "source": [
    "print(\"Hello World\")"
   ]
  },
  {
   "cell_type": "markdown",
   "id": "2388e0d3",
   "metadata": {},
   "source": [
    "<hr style=\"border: 2px solid #4500ff;\">\n",
    "\n",
    "# <font color=\"#4500ff\" style=\"font-size: 25px;\">Exercício 2</font>\n",
    "<hr style=\"border: 2px solid #4500ff;\">"
   ]
  },
  {
   "cell_type": "markdown",
   "id": "d6c242f0",
   "metadata": {},
   "source": [
    " <p style='font-size: 23px; line-height: 2; margin: 0px 0px; text-align: justify; text-indent: 0px;'>    \n",
    "<i><b>Faça um programa que solicite um número do usuário e apresente a seguinte mensagem na tela:\n",
    "\n",
    "\"O número digitado foi [número]\".</b></i>     \n",
    "</p>\n",
    "\n",
    "---"
   ]
  },
  {
   "cell_type": "code",
   "execution_count": 8,
   "id": "8edd6346",
   "metadata": {},
   "outputs": [
    {
     "name": "stdout",
     "output_type": "stream",
     "text": [
      "Digite o número: 15\n",
      "o número digitado foi 15.0\n"
     ]
    }
   ],
   "source": [
    "A = float(input(\"Digite o número: \"))\n",
    "print(f'o número digitado foi {A}')"
   ]
  },
  {
   "cell_type": "markdown",
   "id": "1eb6bf7e",
   "metadata": {},
   "source": [
    "<hr style=\"border: 2px solid #4500ff;\">\n",
    "\n",
    "# <font color=\"#4500ff\" style=\"font-size: 25px;\">Exercício 3</font>\n",
    "<hr style=\"border: 2px solid #4500ff;\">"
   ]
  },
  {
   "cell_type": "markdown",
   "id": "039eec24",
   "metadata": {},
   "source": [
    " <p style='font-size: 23px; line-height: 2; margin: 0px 0px; text-align: justify; text-indent: 0px;'>    \n",
    "<i><b>Escreva um programa que solicite o nome e o sobrenome do usuário. Ao final o programa deverá apresentar o nome completo do usuário na tela.</b></i>     \n",
    "</p>\n",
    "\n",
    "---"
   ]
  },
  {
   "cell_type": "code",
   "execution_count": 11,
   "id": "2a417535",
   "metadata": {},
   "outputs": [
    {
     "name": "stdout",
     "output_type": "stream",
     "text": [
      "Digite o nome: Miguel\n",
      "Digite o sobrenome: Freire\n",
      "nome: Miguel Freire\n"
     ]
    }
   ],
   "source": [
    "nome_1 = input(\"Digite o nome: \").strip().title()\n",
    "nome_2 = input(\"Digite o sobrenome: \").strip().title()\n",
    "\n",
    "print(f'nome: {nome_1} {nome_2}')"
   ]
  },
  {
   "cell_type": "markdown",
   "id": "39e21636",
   "metadata": {},
   "source": [
    "---\n",
    "O uso de `.strip()` é útil para remover espaços em branco extras que podem ser acidentalmente inseridos antes ou depois do texto que o usuário digita. Ele ajuda a garantir que o texto não contenha espaços em branco indesejados.\n",
    "\n",
    "O uso de `.title()` é opcional e depende da preferência do desenvolvedor. Ele capitaliza a primeira letra de cada palavra na entrada do usuário, o que pode tornar a saída mais legível e consistente. Se a formatação correta dos nomes for importante no contexto do seu programa, o `.title()` pode ser útil. Caso contrário, não é estritamente necessário.\n",
    "\n",
    "---"
   ]
  },
  {
   "cell_type": "markdown",
   "id": "ca0948dd",
   "metadata": {},
   "source": [
    "<hr style=\"border: 2px solid #4500ff;\">\n",
    "\n",
    "# <font color=\"#4500ff\" style=\"font-size: 25px;\">Exercício 4</font>\n",
    "<hr style=\"border: 2px solid #4500ff;\">"
   ]
  },
  {
   "cell_type": "markdown",
   "id": "57ca28d0",
   "metadata": {},
   "source": [
    " <p style='font-size: 23px; line-height: 2; margin: 0px 0px; text-align: justify; text-indent: 0px;'>    \n",
    "<i><b>Faça um programa que solicite três números inteiros do usuário e imprima a soma destes.</b></i>     \n",
    "</p>\n",
    "\n",
    "---"
   ]
  },
  {
   "cell_type": "code",
   "execution_count": 34,
   "id": "e75d9008",
   "metadata": {},
   "outputs": [],
   "source": [
    "import numpy as np\n",
    "import pandas as pd\n",
    "import math"
   ]
  },
  {
   "cell_type": "code",
   "execution_count": 22,
   "id": "508d0ca0",
   "metadata": {},
   "outputs": [
    {
     "name": "stdout",
     "output_type": "stream",
     "text": [
      "Digite um número 1: 5\n",
      "Digite um número 2: 6\n",
      "Digite um número 3: 7\n"
     ]
    },
    {
     "data": {
      "text/plain": [
       "6.0"
      ]
     },
     "execution_count": 22,
     "metadata": {},
     "output_type": "execute_result"
    }
   ],
   "source": [
    "lista = []\n",
    "while len(lista) < 3:\n",
    "    número = float(input(f'Digite um número {(len(lista)+1)}: '))\n",
    "    lista.append(número)\n",
    "    \n",
    "média = sum(lista)/len(lista)\n",
    "média"
   ]
  },
  {
   "cell_type": "markdown",
   "id": "bbbdb5d3",
   "metadata": {},
   "source": [
    "<hr style=\"border: 2px solid #4500ff;\">\n",
    "\n",
    "# <font color=\"#4500ff\" style=\"font-size: 25px;\">Exercício 5</font>\n",
    "<hr style=\"border: 2px solid #4500ff;\">"
   ]
  },
  {
   "cell_type": "markdown",
   "id": "17442c7a",
   "metadata": {},
   "source": [
    " <p style='font-size: 23px; line-height: 2; margin: 0px 0px; text-align: justify; text-indent: 0px;'>    \n",
    "<i><b>Escreva um programa que solicite duas notas do usuário e apresente a média na tela da seguinte forma:\n",
    "\n",
    "\"A média das notas [nota1] e [nota2] é [média]\"</b></i>     \n",
    "</p>\n",
    "\n",
    "---"
   ]
  },
  {
   "cell_type": "code",
   "execution_count": 24,
   "id": "713540a2",
   "metadata": {
    "scrolled": true
   },
   "outputs": [
    {
     "name": "stdout",
     "output_type": "stream",
     "text": [
      "Digite um número 1: 15\n",
      "Digite um número 2: 25\n",
      "A média das notas '15.0' e '25.0' é 20.0\n"
     ]
    }
   ],
   "source": [
    "lista = []\n",
    "while len(lista) < 2:\n",
    "    número = float(input(f'Digite um número {(len(lista)+1)}: '))\n",
    "    lista.append(número)\n",
    "    \n",
    "media = sum(lista)/len(lista)\n",
    "print(f\"A média das notas '{lista[0]}' e '{lista[1]}' é {media}\")"
   ]
  },
  {
   "cell_type": "markdown",
   "id": "5031453f",
   "metadata": {},
   "source": [
    "<hr style=\"border: 2px solid #4500ff;\">\n",
    "\n",
    "# <font color=\"#4500ff\" style=\"font-size: 25px;\">Exercício 6</font>\n",
    "<hr style=\"border: 2px solid #4500ff;\">"
   ]
  },
  {
   "cell_type": "markdown",
   "id": "b1dfd8eb",
   "metadata": {},
   "source": [
    " <p style='font-size: 23px; line-height: 2; margin: 0px 0px; text-align: justify; text-indent: 0px;'>    \n",
    "<i><b>Faça um programa que calcule a raiz quadrada de um número. O usuário deve inserir um número e o programa deve mostrar na tela o resultado da raiz quadrada do número inserido.</b></i>     \n",
    "</p>\n",
    "\n",
    "---"
   ]
  },
  {
   "cell_type": "code",
   "execution_count": 26,
   "id": "e5e791db",
   "metadata": {},
   "outputs": [
    {
     "name": "stdout",
     "output_type": "stream",
     "text": [
      "Digite um número: 9\n"
     ]
    },
    {
     "data": {
      "text/plain": [
       "3.0"
      ]
     },
     "execution_count": 26,
     "metadata": {},
     "output_type": "execute_result"
    }
   ],
   "source": [
    "num = float(input('Digite um número: '))\n",
    "num_std = np.sqrt(num)\n",
    "num_std"
   ]
  },
  {
   "cell_type": "markdown",
   "id": "e84b1495",
   "metadata": {},
   "source": [
    "<hr style=\"border: 2px solid #4500ff;\">\n",
    "\n",
    "# <font color=\"#4500ff\" style=\"font-size: 25px;\">Exercício 7</font>\n",
    "<hr style=\"border: 2px solid #4500ff;\">"
   ]
  },
  {
   "cell_type": "markdown",
   "id": "d108c7c7",
   "metadata": {},
   "source": [
    " <p style='font-size: 23px; line-height: 2; margin: 0px 0px; text-align: justify; text-indent: 0px;'>    \n",
    "<i><b>Faça um programa que peça 5 números de ponto flutuante do usuário e apresente no final a média dos números digitados.</b></i>     \n",
    "</p>\n",
    "\n",
    "---"
   ]
  },
  {
   "cell_type": "code",
   "execution_count": 27,
   "id": "36d77d03",
   "metadata": {},
   "outputs": [
    {
     "name": "stdout",
     "output_type": "stream",
     "text": [
      "Digite um número 1: 1\n",
      "Digite um número 2: 2\n",
      "Digite um número 3: 3\n",
      "Digite um número 4: 4\n",
      "Digite um número 5: 5\n"
     ]
    },
    {
     "data": {
      "text/plain": [
       "3.0"
      ]
     },
     "execution_count": 27,
     "metadata": {},
     "output_type": "execute_result"
    }
   ],
   "source": [
    "lista = []\n",
    "while len(lista) < 5:\n",
    "    número = float(input(f'Digite um número {(len(lista)+1)}: '))\n",
    "    lista.append(número)\n",
    "\n",
    "media = sum(lista)/len(lista)\n",
    "media"
   ]
  },
  {
   "cell_type": "markdown",
   "id": "6bbf74ce",
   "metadata": {},
   "source": [
    "<hr style=\"border: 2px solid #4500ff;\">\n",
    "\n",
    "# <font color=\"#4500ff\" style=\"font-size: 25px;\">Exercício 8</font>\n",
    "<hr style=\"border: 2px solid #4500ff;\">"
   ]
  },
  {
   "cell_type": "markdown",
   "id": "25d6d2fb",
   "metadata": {},
   "source": [
    " <p style='font-size: 23px; line-height: 2; margin: 0px 0px; text-align: justify; text-indent: 0px;'>    \n",
    "<i><b>Escreva um programa que faça a conversão de um dado valor de metro para quilômetro.</b></i>     \n",
    "</p>\n",
    "\n",
    "---"
   ]
  },
  {
   "cell_type": "code",
   "execution_count": 32,
   "id": "5fdc4f16",
   "metadata": {},
   "outputs": [
    {
     "name": "stdout",
     "output_type": "stream",
     "text": [
      "digite a distância em metros: 1500\n",
      "\n",
      "essa distância é igual a 1.5 Km\n"
     ]
    }
   ],
   "source": [
    "d = float(input('digite a distância em metros: '))\n",
    "km = d/1000\n",
    "\n",
    "print(f'\\nessa distância é igual a {km} Km')"
   ]
  },
  {
   "cell_type": "markdown",
   "id": "d1f0e94d",
   "metadata": {},
   "source": [
    "<hr style=\"border: 2px solid #4500ff;\">\n",
    "\n",
    "# <font color=\"#4500ff\" style=\"font-size: 25px;\">Exercício 9</font>\n",
    "<hr style=\"border: 2px solid #4500ff;\">"
   ]
  },
  {
   "cell_type": "markdown",
   "id": "6b65a7c7",
   "metadata": {},
   "source": [
    " <p style='font-size: 23px; line-height: 2; margin: 0px 0px; text-align: justify; text-indent: 0px;'>    \n",
    "<i><b>Escreva um programa que calcule a área de uma circunferência. O usuário deve digitar o valor do raio e ao final o programa deverá mostrar na tela a área da circunferência.\n",
    "\n",
    "Use a fórmula: área=pi*r² , em que pi é uma constante e r o raio da circunferência.\n",
    "\n",
    "Dica: você pode usar a biblioteca math para pegar a constante pi.</b></i>     \n",
    "</b></i>     \n",
    "</p>\n",
    "\n",
    "---"
   ]
  },
  {
   "cell_type": "code",
   "execution_count": 46,
   "id": "711fb813",
   "metadata": {},
   "outputs": [
    {
     "name": "stdout",
     "output_type": "stream",
     "text": [
      "Diga o Raio: 5\n"
     ]
    },
    {
     "data": {
      "text/plain": [
       "78.54"
      ]
     },
     "execution_count": 46,
     "metadata": {},
     "output_type": "execute_result"
    }
   ],
   "source": [
    "valor_de_pi = math.pi\n",
    "\n",
    "raio = float(input('Diga o Raio: '))\n",
    "\n",
    "area = valor_de_pi * math.pow(raio, 2)\n",
    "round(area, 2)"
   ]
  },
  {
   "cell_type": "code",
   "execution_count": null,
   "id": "d0b89c0b",
   "metadata": {},
   "outputs": [],
   "source": []
  },
  {
   "cell_type": "code",
   "execution_count": null,
   "id": "e7a6fc3c",
   "metadata": {},
   "outputs": [],
   "source": []
  },
  {
   "cell_type": "code",
   "execution_count": null,
   "id": "1b6c18d1",
   "metadata": {},
   "outputs": [],
   "source": []
  }
 ],
 "metadata": {
  "kernelspec": {
   "display_name": "Python 3 (ipykernel)",
   "language": "python",
   "name": "python3"
  },
  "language_info": {
   "codemirror_mode": {
    "name": "ipython",
    "version": 3
   },
   "file_extension": ".py",
   "mimetype": "text/x-python",
   "name": "python",
   "nbconvert_exporter": "python",
   "pygments_lexer": "ipython3",
   "version": "3.11.3"
  }
 },
 "nbformat": 4,
 "nbformat_minor": 5
}

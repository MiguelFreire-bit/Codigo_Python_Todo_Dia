{
 "cells": [
  {
   "cell_type": "markdown",
   "id": "4d76159e",
   "metadata": {},
   "source": [
    "\n",
    "\n",
    "# <font color=\"#ff4500\" style=\"font-size: 30px;\">Código Python Todo Dia</font>\n"
   ]
  },
  {
   "cell_type": "markdown",
   "id": "10b3ae43",
   "metadata": {},
   "source": [
    "<hr style=\"border: 2px solid #4500ff;\">\n",
    "\n",
    "# <font color=\"#4500ff\" style=\"font-size: 25px;\">Exercício 94</font>\n",
    "<hr style=\"border: 2px solid #4500ff;\">"
   ]
  },
  {
   "cell_type": "markdown",
   "id": "fc153577-d106-4c03-b471-27fa7489fcc0",
   "metadata": {},
   "source": [
    " <p style='font-size: 23px; line-height: 2; margin: 0px 0px; text-align: justify; text-indent: 0px;'>    \n",
    "<i><b>Utilize Compreensão em Lista (List Comprehensions) para criar a lista a seguir.\n",
    "\n",
    "\n",
    "\n",
    "```python\n",
    "[0, 1, 2, 3, 4, 5, 6, 7, 8, 9]\n",
    "\n",
    "```\n",
    "    \n",
    "\n",
    "    \n",
    "</b></i>     \n",
    "</p>\n",
    "\n",
    "---"
   ]
  },
  {
   "cell_type": "code",
   "execution_count": 3,
   "id": "148e8c4b-c103-4fe8-aca6-25a69afb6581",
   "metadata": {},
   "outputs": [
    {
     "name": "stdout",
     "output_type": "stream",
     "text": [
      "[0, 1, 2, 3, 4, 5, 6, 7, 8, 9]\n"
     ]
    }
   ],
   "source": [
    "lista = [i for i in range(0,10)]\n",
    "print(lista)"
   ]
  },
  {
   "cell_type": "markdown",
   "id": "a2bf5318",
   "metadata": {},
   "source": [
    "<hr style=\"border: 2px solid #4500ff;\">\n",
    "\n",
    "# <font color=\"#4500ff\" style=\"font-size: 25px;\">Exercício 95</font>\n",
    "<hr style=\"border: 2px solid #4500ff;\">\n",
    "\n",
    " <p style='font-size: 23px; line-height: 2; margin: 0px 0px; text-align: justify; text-indent: 0px;'>    \n",
    "<i><b>Utilize Compreensão em Lista (List Comprehension) para criar a lista a seguir. Observe que esses números são obtidos através do quadrado de cada número no intervalo [0,9].\n",
    "\n",
    "\n",
    "\n",
    "```python\n",
    "[0, 1, 4, 9, 16, 25, 36, 49, 64, 81]\n",
    "\n",
    "```\n",
    "    \n",
    "\n",
    "    \n",
    "</b></i>     \n",
    "</p>\n",
    "\n",
    "---"
   ]
  },
  {
   "cell_type": "code",
   "execution_count": 5,
   "id": "4a1cfa10",
   "metadata": {},
   "outputs": [
    {
     "name": "stdout",
     "output_type": "stream",
     "text": [
      "[0, 1, 4, 9, 16, 25, 36, 49, 64, 81]\n"
     ]
    }
   ],
   "source": [
    "lista = [i**2 for i in range(0,10)]\n",
    "print(lista)"
   ]
  },
  {
   "cell_type": "markdown",
   "id": "8da2339b",
   "metadata": {},
   "source": [
    "<hr style=\"border: 2px solid #4500ff;\">\n",
    "\n",
    "# <font color=\"#4500ff\" style=\"font-size: 25px;\">Exercício 96</font>\n",
    "<hr style=\"border: 2px solid #4500ff;\">\n",
    "\n",
    " <p style='font-size: 23px; line-height: 2; margin: 0px 0px; text-align: justify; text-indent: 0px;'>    \n",
    "<i><b>Utilize Compreensão em Lista (List Comprehension) para criar a lista a seguir. Observe que esses números são obtidos através da raiz quadrada de cada número no intervalo [1,50]. Utilize round() para arredondar as casas decimais.\n",
    "\n",
    "\n",
    "\n",
    "```python\n",
    "[1.0, 1.41, 1.73, 2.0, 2.24, 2.45, 2.65, 2.83, 3.0, 3.16, 3.32, 3.46, 3.61, 3.74, 3.87, 4.0, 4.12, 4.24, 4.36, 4.47, 4.58, 4.69, 4.8, 4.9, 5.0, 5.1, 5.2, 5.29, 5.39, 5.48, 5.57, 5.66, 5.74, 5.83, 5.92, 6.0, 6.08, 6.16, 6.24, 6.32, 6.4, 6.48, 6.56, 6.63, 6.71, 6.78, 6.86, 6.93, 7.0, 7.07]\n",
    "\n",
    "```\n",
    "    \n",
    "\n",
    "    \n",
    "</b></i>     \n",
    "</p>\n",
    "\n",
    "---"
   ]
  },
  {
   "cell_type": "code",
   "execution_count": 13,
   "id": "01ce6d43",
   "metadata": {},
   "outputs": [],
   "source": [
    "import math"
   ]
  },
  {
   "cell_type": "code",
   "execution_count": 17,
   "id": "588f09c3",
   "metadata": {},
   "outputs": [
    {
     "name": "stdout",
     "output_type": "stream",
     "text": [
      "[1.0, 1.41, 1.73, 2.0, 2.24, 2.45, 2.65, 2.83, 3.0, 3.16, 3.32, 3.46, 3.61, 3.74, 3.87, 4.0, 4.12, 4.24, 4.36, 4.47, 4.58, 4.69, 4.8, 4.9, 5.0, 5.1, 5.2, 5.29, 5.39, 5.48, 5.57, 5.66, 5.74, 5.83, 5.92, 6.0, 6.08, 6.16, 6.24, 6.32, 6.4, 6.48, 6.56, 6.63, 6.71, 6.78, 6.86, 6.93, 7.0, 7.07]\n"
     ]
    }
   ],
   "source": [
    "lista = [round(math.sqrt(i),2) for i in range(1,51)]\n",
    "print(lista)"
   ]
  },
  {
   "cell_type": "markdown",
   "id": "9fe9af37",
   "metadata": {},
   "source": [
    "<hr style=\"border: 2px solid #4500ff;\">\n",
    "\n",
    "# <font color=\"#4500ff\" style=\"font-size: 25px;\">Exercício 97</font>\n",
    "<hr style=\"border: 2px solid #4500ff;\">\n",
    "\n",
    " <p style='font-size: 23px; line-height: 2; margin: 0px 0px; text-align: justify; text-indent: 0px;'>    \n",
    "<i><b>Utilize Compreensão em Lista (List Comprehensions) para criar as listas a seguir.\n",
    "\n",
    "## a)\n",
    "\n",
    "\n",
    "\n",
    "```python\n",
    "[0, 5, 10, 15, 20, 25, 30, 35, 40, 45, 50, 55, 60, 65, 70, 75, 80, 85, 90, 95, 100]\n",
    "```\n",
    "## b)    \n",
    "\n",
    "```python\n",
    "[0, 7, 14, 21, 28, 35, 42, 49, 56, 63, 70, 77, 84, 91, 98, 105, 112, 119, 126, 133, 140, 147, 154, 161, 168, 175, 182, 189, 196, 203, 210, 217, 224, 231, 238, 245, 252, 259, 266, 273, 280, 287, 294, 301, 308, 315, 322, 329, 336, 343, 350, 357, 364, 371, 378, 385, 392, 399, 406, 413, 420, 427, 434, 441, 448, 455, 462, 469, 476, 483, 490, 497, 504, 511, 518, 525, 532, 539, 546, 553, 560, 567, 574, 581, 588, 595, 602, 609, 616, 623, 630, 637, 644, 651, 658, 665, 672, 679, 686, 693, 700, 707, 714, 721, 728, 735, 742, 749, 756, 763, 770, 777, 784, 791, 798, 805, 812, 819, 826, 833, 840, 847, 854, 861, 868, 875, 882, 889, 896, 903, 910, 917, 924, 931, 938, 945, 952, 959, 966, 973, 980, 987, 994]\n",
    "\n",
    "```\n",
    "    \n",
    "\n",
    "    \n",
    "</b></i>     \n",
    "</p>\n",
    "\n",
    "---"
   ]
  },
  {
   "cell_type": "code",
   "execution_count": 32,
   "id": "9226263e",
   "metadata": {},
   "outputs": [
    {
     "name": "stdout",
     "output_type": "stream",
     "text": [
      "Resposta Letra a) \n",
      "[0, 5, 10, 15, 20, 25, 30, 35, 40, 45, 50, 55, 60, 65, 70, 75, 80, 85, 90, 95, 100] \n",
      "\n",
      "Resposta Letra b) \n",
      "[0, 7, 14, 21, 28, 35, 42, 49, 56, 63, 70, 77, 84, 91, 98, 105, 112, 119, 126, 133, 140, 147, 154, 161, 168, 175, 182, 189, 196, 203, 210, 217, 224, 231, 238, 245, 252, 259, 266, 273, 280, 287, 294, 301, 308, 315, 322, 329, 336, 343, 350, 357, 364, 371, 378, 385, 392, 399, 406, 413, 420, 427, 434, 441, 448, 455, 462, 469, 476, 483, 490, 497, 504, 511, 518, 525, 532, 539, 546, 553, 560, 567, 574, 581, 588, 595, 602, 609, 616, 623, 630, 637, 644, 651, 658, 665, 672, 679, 686, 693, 700, 707, 714, 721, 728, 735, 742, 749, 756, 763, 770, 777, 784, 791, 798, 805, 812, 819, 826, 833, 840, 847, 854, 861, 868, 875, 882, 889, 896, 903, 910, 917, 924, 931, 938, 945, 952, 959, 966, 973, 980, 987, 994]\n",
      "\n",
      " [0, 5, 10, 15, 20, 25, 30, 35, 40, 45, 50, 55, 60, 65, 70, 75, 80, 85, 90, 95, 100]\n",
      "\n",
      " [0, 7, 14, 21, 28, 35, 42, 49, 56, 63, 70, 77, 84, 91, 98, 105, 112, 119, 126, 133, 140, 147, 154, 161, 168, 175, 182, 189, 196, 203, 210, 217, 224, 231, 238, 245, 252, 259, 266, 273, 280, 287, 294, 301, 308, 315, 322, 329, 336, 343, 350, 357, 364, 371, 378, 385, 392, 399, 406, 413, 420, 427, 434, 441, 448, 455, 462, 469, 476, 483, 490, 497, 504, 511, 518, 525, 532, 539, 546, 553, 560, 567, 574, 581, 588, 595, 602, 609, 616, 623, 630, 637, 644, 651, 658, 665, 672, 679, 686, 693, 700, 707, 714, 721, 728, 735, 742, 749, 756, 763, 770, 777, 784, 791, 798, 805, 812, 819, 826, 833, 840, 847, 854, 861, 868, 875, 882, 889, 896, 903, 910, 917, 924, 931, 938, 945, 952, 959, 966, 973, 980, 987, 994]\n"
     ]
    }
   ],
   "source": [
    "# MÉTODO 1\n",
    "lista = [i*5 for i in range(0,1000) if (i*5) <= 100 ] # Cria lista de vai de 0 a 100\n",
    "print(\"Resposta Letra a) \")\n",
    "print(lista, \"\\n\")\n",
    "\n",
    "\n",
    "\n",
    "lista = [i*7 for i in range(0,1000) if (i*7) <= 1000 ] # Cria lista de vai de 0 a 994\n",
    "print(\"Resposta Letra b) \")\n",
    "print(lista)\n",
    "\n",
    "# MÉTODO 2\n",
    "#a)\n",
    "lista1=[numero for numero in range(101) if numero%5==0]\n",
    "print(\"\\n\",lista1)\n",
    "#b)\n",
    "lista2=[numero for numero in range(1001) if numero%7==0]\n",
    "print(\"\\n\", lista2)"
   ]
  },
  {
   "cell_type": "markdown",
   "id": "2cbe82d4",
   "metadata": {},
   "source": [
    "<hr style=\"border: 2px solid #4500ff;\">\n",
    "\n",
    "# <font color=\"#4500ff\" style=\"font-size: 25px;\">Exercício 98</font>\n",
    "<hr style=\"border: 2px solid #4500ff;\">\n",
    "\n",
    " <p style='font-size: 23px; line-height: 2; margin: 0px 0px; text-align: justify; text-indent: 0px;'>    \n",
    "<i><b>\n",
    "Utilize Compreensão em Lista (List Comprehension) para criar a lista a seguir.)    \n",
    "\n",
    "```python\n",
    "[1, 3, 5, 7, 9]\n",
    "\n",
    "```\n",
    "    \n",
    "\n",
    "    \n",
    "</b></i>     \n",
    "</p>\n",
    "\n",
    "---"
   ]
  },
  {
   "cell_type": "code",
   "execution_count": 3,
   "id": "2403ff12",
   "metadata": {},
   "outputs": [
    {
     "data": {
      "text/plain": [
       "[1, 3, 5, 7, 9]"
      ]
     },
     "execution_count": 3,
     "metadata": {},
     "output_type": "execute_result"
    }
   ],
   "source": [
    "lista = list(range(1,10,2))\n",
    "lista"
   ]
  },
  {
   "cell_type": "markdown",
   "id": "6e40b238",
   "metadata": {},
   "source": [
    "<hr style=\"border: 2px solid #4500ff;\">\n",
    "\n",
    "# <font color=\"#4500ff\" style=\"font-size: 25px;\">Exercício 99</font>\n",
    "<hr style=\"border: 2px solid #4500ff;\">\n",
    "\n",
    " <p style='font-size: 23px; line-height: 2; margin: 0px 0px; text-align: justify; text-indent: 0px;'>    \n",
    "<i><b>\n",
    "Utilize Compreensão em Lista (List Comprehensions) para criar as listas a seguir.\n",
    "\n",
    "Lembre que: \n",
    "\n",
    "```python\n",
    "[f(x) for x in sequence if condition]\n",
    "[f(x) if condition else g(x) for x in sequence]\n",
    "\n",
    "```\n",
    "\n",
    "a)\n",
    "\n",
    "[2, 4, 6, 8, 10, 12, 14, 16, 18, 20, 22, 24, 26, 28, 30, 32, 34, 36, 38, 40, 42, 44, 46, 48, 50, 52, 54, 56, 58, 60, 62, 64, 66, 68, 70, 72, 74, 76, 78, 80, 82, 84, 86, 88, 90, 92, 94, 96, 98, 100]\n",
    "    \n",
    "b)\n",
    "\n",
    "[1, 3, 5, 7, 9, 11, 13, 15, 17, 19, 21, 23, 25, 27, 29, 31, 33, 35, 37, 39, 41, 43, 45, 47, 49, 51, 53, 55, 57, 59, 61, 63, 65, 67, 69, 71, 73, 75, 77, 79, 81, 83, 85, 87, 89, 91, 93, 95, 97, 99]\n",
    "\n",
    "    \n",
    "</b></i>     \n",
    "</p>\n",
    "\n",
    "---"
   ]
  },
  {
   "cell_type": "code",
   "execution_count": 5,
   "id": "dd176ef8",
   "metadata": {},
   "outputs": [
    {
     "name": "stdout",
     "output_type": "stream",
     "text": [
      "[2, 4, 6, 8, 10, 12, 14, 16, 18, 20, 22, 24, 26, 28, 30, 32, 34, 36, 38, 40, 42, 44, 46, 48, 50, 52, 54, 56, 58, 60, 62, 64, 66, 68, 70, 72, 74, 76, 78, 80, 82, 84, 86, 88, 90, 92, 94, 96, 98, 100]\n"
     ]
    }
   ],
   "source": [
    "a = [i for i in range(2,101) if i%2==0]\n",
    "print(a)"
   ]
  },
  {
   "cell_type": "code",
   "execution_count": 6,
   "id": "54d970ab",
   "metadata": {},
   "outputs": [
    {
     "name": "stdout",
     "output_type": "stream",
     "text": [
      "[1, 3, 5, 7, 9, 11, 13, 15, 17, 19, 21, 23, 25, 27, 29, 31, 33, 35, 37, 39, 41, 43, 45, 47, 49, 51, 53, 55, 57, 59, 61, 63, 65, 67, 69, 71, 73, 75, 77, 79, 81, 83, 85, 87, 89, 91, 93, 95, 97, 99]\n"
     ]
    }
   ],
   "source": [
    "b = [i for i in range (1,100) if i%2 != 0]\n",
    "print(b)"
   ]
  },
  {
   "cell_type": "markdown",
   "id": "160a8dfc",
   "metadata": {},
   "source": [
    "<hr style=\"border: 2px solid #4500ff;\">\n",
    "\n",
    "# <font color=\"#4500ff\" style=\"font-size: 25px;\">Exercício 100</font>\n",
    "<hr style=\"border: 2px solid #4500ff;\">\n",
    "\n",
    " <p style='font-size: 23px; line-height: 2; margin: 0px 0px; text-align: justify; text-indent: 0px;'>    \n",
    "<i><b>Utilize Compreensão em Lista (List Comprehension) para criar a lista a seguir. Condição: eleve o número ao quadrado se for par; se o número for ímpar calcule a raiz quadrada - utilize round() para arredondar as casas decimais. \n",
    "\n",
    "```python\n",
    "[1.0, 4, 1.73, 16, 2.24, 36, 2.65, 64, 3.0, 100, 3.32, 144, 3.61, 196, 3.87, 256, 4.12, 324, 4.36, 400, 4.58, 484, 4.8, 576, 5.0, 676, 5.2, 784, 5.39, 900, 5.57, 1024, 5.74, 1156, 5.92, 1296, 6.08, 1444, 6.24, 1600, 6.4, 1764, 6.56, 1936, 6.71, 2116, 6.86, 2304, 7.0, 2500]\n",
    "\n",
    "\n",
    "Lembre que:\n",
    "\n",
    "\n",
    "\n",
    "[f(x) for x in sequence if condition]\n",
    "[f(x) if condition else g(x) for x in sequence]\n",
    "\n",
    "```\n",
    "\n",
    "a)\n",
    "\n",
    "[2, 4, 6, 8, 10, 12, 14, 16, 18, 20, 22, 24, 26, 28, 30, 32, 34, 36, 38, 40, 42, 44, 46, 48, 50, 52, 54, 56, 58, 60, 62, 64, 66, 68, 70, 72, 74, 76, 78, 80, 82, 84, 86, 88, 90, 92, 94, 96, 98, 100]\n",
    "    \n",
    "b)\n",
    "\n",
    "[1, 3, 5, 7, 9, 11, 13, 15, 17, 19, 21, 23, 25, 27, 29, 31, 33, 35, 37, 39, 41, 43, 45, 47, 49, 51, 53, 55, 57, 59, 61, 63, 65, 67, 69, 71, 73, 75, 77, 79, 81, 83, 85, 87, 89, 91, 93, 95, 97, 99]\n",
    "\n",
    "    \n",
    "</b></i>     \n",
    "</p>\n",
    "\n",
    "---"
   ]
  },
  {
   "cell_type": "code",
   "execution_count": 9,
   "id": "781e50d3",
   "metadata": {},
   "outputs": [],
   "source": [
    "from math import sqrt"
   ]
  },
  {
   "cell_type": "code",
   "execution_count": 11,
   "id": "100ae396",
   "metadata": {},
   "outputs": [
    {
     "name": "stdout",
     "output_type": "stream",
     "text": [
      "[1.0, 4, 1.73, 16, 2.24, 36, 2.65, 64, 3.0, 100, 3.32, 144, 3.61, 196, 3.87, 256, 4.12, 324, 4.36, 400, 4.58, 484, 4.8, 576, 5.0, 676, 5.2, 784, 5.39, 900, 5.57, 1024, 5.74, 1156, 5.92, 1296, 6.08, 1444, 6.24, 1600, 6.4, 1764, 6.56, 1936, 6.71, 2116, 6.86, 2304, 7.0, 2500, 7.14, 2704, 7.28, 2916, 7.42, 3136, 7.55, 3364, 7.68, 3600, 7.81, 3844, 7.94, 4096, 8.06, 4356, 8.19, 4624, 8.31, 4900, 8.43, 5184, 8.54, 5476, 8.66, 5776, 8.77, 6084, 8.89, 6400, 9.0, 6724, 9.11, 7056, 9.22, 7396, 9.33, 7744, 9.43, 8100, 9.54, 8464, 9.64, 8836, 9.75, 9216, 9.85, 9604, 9.95, 10000]\n"
     ]
    }
   ],
   "source": [
    "a = [round(i**2,2)  if i%2==0 else round(sqrt(i),2) for i in range(1,101)]\n",
    "print(a)"
   ]
  },
  {
   "cell_type": "markdown",
   "id": "5a7486ef",
   "metadata": {},
   "source": [
    "<hr style=\"border: 2px solid #4500ff;\">\n",
    "\n",
    "# <font color=\"#4500ff\" style=\"font-size: 25px;\">Exercício 101</font>\n",
    "<hr style=\"border: 2px solid #4500ff;\">\n",
    "\n",
    " <p style='font-size: 23px; line-height: 2; margin: 0px 0px; text-align: justify; text-indent: 0px;'>    \n",
    "<i><b>Utilize Compreensão em Lista (List Comprehension) para criar a lista a seguir. Ademais, tente resolver este problema sem usar Compreensão em Lista.\n",
    "\n",
    "```python\n",
    "[(1, 3), (1, 4), (2, 3), (2, 1), (2, 4), (3, 1), (3, 4)]\n",
    "```\n",
    "    \n",
    "</b></i>     \n",
    "</p>\n",
    "\n",
    "---"
   ]
  },
  {
   "cell_type": "code",
   "execution_count": 11,
   "id": "243997d4",
   "metadata": {},
   "outputs": [
    {
     "name": "stdout",
     "output_type": "stream",
     "text": [
      "[(1, 3), (1, 4), (2, 3), (2, 1), (2, 4), (3, 1), (3, 4)]\n"
     ]
    },
    {
     "data": {
      "text/plain": [
       "[(1, 3), (1, 4), (2, 3), (2, 1), (2, 4), (3, 1), (3, 4)]"
      ]
     },
     "execution_count": 11,
     "metadata": {},
     "output_type": "execute_result"
    }
   ],
   "source": [
    "x= [1,2,3]\n",
    "y= [3,1,4]\n",
    "\n",
    "lista = [(x1,y1) for x1 in x for y1 in y if x1!=y1] \n",
    "print(lista)\n",
    "\n",
    "# Sem List Comprehension:\n",
    "lista1=[]\n",
    "for x in [1,2,3]:\n",
    "     for y in [3,1,4]:\n",
    "        if x != y:\n",
    "            lista1.append((x, y))\n",
    "lista1"
   ]
  },
  {
   "cell_type": "markdown",
   "id": "59e8e1f4",
   "metadata": {},
   "source": [
    "<hr style=\"border: 2px solid #4500ff;\">\n",
    "\n",
    "# <font color=\"#4500ff\" style=\"font-size: 25px;\">Exercício 102</font>\n",
    "<hr style=\"border: 2px solid #4500ff;\">\n",
    "\n",
    " <p style='font-size: 23px; line-height: 2; margin: 0px 0px; text-align: justify; text-indent: 0px;'>    \n",
    "<i><b> partir das listas\n",
    "\n",
    "\n",
    "```python\n",
    "linguagens=['php','JavaScript']\n",
    "frases=['Eu amo ','Eu odeio ']\n",
    "```\n",
    "\n",
    "\n",
    "\n",
    "Use List Comprehension e obtenha a seguinte lista:\n",
    "\n",
    "\n",
    "```python\n",
    "['Eu amo php !', 'Eu odeio php !', 'Eu amo JavaScript !', 'Eu odeio JavaScript !']\n",
    "```\n",
    "\n",
    "Por fim, tente implementar uma solução sem List Comprehension.\n",
    "\n",
    "    \n",
    "</b></i>     \n",
    "</p>\n",
    "\n",
    "---"
   ]
  },
  {
   "cell_type": "code",
   "execution_count": 16,
   "id": "8653a812",
   "metadata": {},
   "outputs": [
    {
     "name": "stdout",
     "output_type": "stream",
     "text": [
      "['Eu amo php', 'Eu odeio php', 'Eu amo JavaScript', 'Eu odeio JavaScript']\n"
     ]
    },
    {
     "data": {
      "text/plain": [
       "['Eu amo php', 'Eu odeio php', 'Eu amo JavaScript', 'Eu odeio JavaScript']"
      ]
     },
     "execution_count": 16,
     "metadata": {},
     "output_type": "execute_result"
    }
   ],
   "source": [
    "linguagens=['php','JavaScript']\n",
    "frases=['Eu amo ','Eu odeio ']\n",
    "\n",
    "frases_ = [f\"{y}{x}\" for x in linguagens for y in frases]\n",
    "print(frases_)\n",
    "\n",
    "# sem\n",
    "frases_=[]\n",
    "for x in linguagens:\n",
    "    for y in frases:\n",
    "        frase = y+x\n",
    "        frases_.append(frase)\n",
    "frases_        "
   ]
  },
  {
   "cell_type": "markdown",
   "id": "0fd9a82b",
   "metadata": {},
   "source": [
    "<hr style=\"border: 2px solid #4500ff;\">\n",
    "\n",
    "# <font color=\"#4500ff\" style=\"font-size: 25px;\">Exercício 103</font>\n",
    "<hr style=\"border: 2px solid #4500ff;\">\n",
    "\n",
    " <p style='font-size: 23px; line-height: 2; margin: 0px 0px; text-align: justify; text-indent: 0px;'>    \n",
    "<i><b> A partir da lista\n",
    "    \n",
    "```python\n",
    "lista=[3, -31, -70, -55, 1, -76, -15, -14, -75, -53, 42, 12, -27, -92, -83, -9, 6, 9, -46, -48, -17, -69, 15, -1, 9, 6, -89, -36, 15, -24, 49, -31, -25, -71, 43, 20, -67, 18, -3, 8, -60, -73, 22, -52, 5, -15, 48, 21, -23, 6, 0]\n",
    "```    \n",
    "Use List Comprehension e obtenha:\n",
    "    \n",
    "```python\n",
    "[3, 1, 42, 12, 6, 9, 15, 9, 6, 15, 49, 43, 20, 18, 8, 22, 5, 48, 21, 6, 0]\n",
    "```\n",
    "    \n",
    "</b></i>     \n",
    "</p>\n",
    "\n",
    "---"
   ]
  },
  {
   "cell_type": "code",
   "execution_count": 19,
   "id": "3ba3956f",
   "metadata": {},
   "outputs": [
    {
     "data": {
      "text/plain": [
       "[3, 1, 42, 12, 6, 9, 15, 9, 6, 15, 49, 43, 20, 18, 8, 22, 5, 48, 21, 6, 0]"
      ]
     },
     "execution_count": 19,
     "metadata": {},
     "output_type": "execute_result"
    }
   ],
   "source": [
    "lista=[3, -31, -70, -55, 1, -76, -15, -14, -75, -53, 42, 12, -27, -92, -83, -9, 6, 9, -46, -48, -17, -69, 15, -1, 9, 6, -89, -36, 15, -24, 49, -31, -25, -71, 43, 20, -67, 18, -3, 8, -60, -73, 22, -52, 5, -15, 48, 21, -23, 6, 0]\n",
    "\n",
    "lista_ = [x for x in lista if x>=0]\n",
    "lista_"
   ]
  },
  {
   "cell_type": "code",
   "execution_count": null,
   "id": "3baf6f22",
   "metadata": {},
   "outputs": [],
   "source": []
  }
 ],
 "metadata": {
  "kernelspec": {
   "display_name": "Python 3 (ipykernel)",
   "language": "python",
   "name": "python3"
  },
  "language_info": {
   "codemirror_mode": {
    "name": "ipython",
    "version": 3
   },
   "file_extension": ".py",
   "mimetype": "text/x-python",
   "name": "python",
   "nbconvert_exporter": "python",
   "pygments_lexer": "ipython3",
   "version": "3.11.5"
  }
 },
 "nbformat": 4,
 "nbformat_minor": 5
}

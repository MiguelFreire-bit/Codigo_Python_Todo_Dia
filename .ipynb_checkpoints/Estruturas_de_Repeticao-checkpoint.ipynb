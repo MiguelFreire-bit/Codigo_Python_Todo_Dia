{
 "cells": [
  {
   "cell_type": "markdown",
   "id": "4d76159e",
   "metadata": {},
   "source": [
    "\n",
    "\n",
    "# <font color=\"#ff4500\" style=\"font-size: 30px;\">Código Python Todo Dia</font>\n"
   ]
  },
  {
   "cell_type": "markdown",
   "id": "10b3ae43",
   "metadata": {},
   "source": [
    "<hr style=\"border: 2px solid #4500ff;\">\n",
    "\n",
    "# <font color=\"#4500ff\" style=\"font-size: 25px;\">Exercício 40</font>\n",
    "<hr style=\"border: 2px solid #4500ff;\">"
   ]
  },
  {
   "cell_type": "markdown",
   "id": "cb6218b3",
   "metadata": {},
   "source": [
    " <p style='font-size: 23px; line-height: 2; margin: 0px 0px; text-align: justify; text-indent: 0px;'>    \n",
    "<i><b>Escreva um programa que mostre de 1 até 50 na tela.</b></i>     \n",
    "</p>\n",
    "\n",
    "---"
   ]
  },
  {
   "cell_type": "code",
   "execution_count": 2,
   "id": "ed89b093",
   "metadata": {},
   "outputs": [
    {
     "name": "stdout",
     "output_type": "stream",
     "text": [
      "1  2  3  4  5  6  7  8  9  10  11  12  13  14  15  16  17  18  19  20  21  22  23  24  25  26  27  28  29  30  31  32  33  34  35  36  37  38  39  40  41  42  43  44  45  46  47  48  49  50  "
     ]
    }
   ],
   "source": [
    "for i in range(1,51):\n",
    "    print(i, end=\"  \")"
   ]
  },
  {
   "cell_type": "markdown",
   "id": "2388e0d3",
   "metadata": {},
   "source": [
    "<hr style=\"border: 2px solid #4500ff;\">\n",
    "\n",
    "# <font color=\"#4500ff\" style=\"font-size: 25px;\">Exercício 41</font>\n",
    "<hr style=\"border: 2px solid #4500ff;\">"
   ]
  },
  {
   "cell_type": "markdown",
   "id": "d6c242f0",
   "metadata": {},
   "source": [
    " <p style='font-size: 23px; line-height: 2; margin: 0px 0px; text-align: justify; text-indent: 0px;'>    \n",
    "<i><b>Escreva um programa que mostre de 50 até 1 na tela.</b></i>     \n",
    "</p>\n",
    "\n",
    "---"
   ]
  },
  {
   "cell_type": "code",
   "execution_count": 8,
   "id": "8edd6346",
   "metadata": {},
   "outputs": [
    {
     "name": "stdout",
     "output_type": "stream",
     "text": [
      "50  49  48  47  46  45  44  43  42  41  40  39  38  37  36  35  34  33  32  31  30  29  28  27  26  25  24  23  22  21  20  19  18  17  16  15  14  13  12  11  10  9  8  7  6  5  4  3  2  1  "
     ]
    }
   ],
   "source": [
    "for i in range(50,0, -1):\n",
    "    print(i, end=\"  \")"
   ]
  },
  {
   "cell_type": "markdown",
   "id": "1eb6bf7e",
   "metadata": {},
   "source": [
    "<hr style=\"border: 2px solid #4500ff;\">\n",
    "\n",
    "# <font color=\"#4500ff\" style=\"font-size: 25px;\">Exercício 42</font>\n",
    "<hr style=\"border: 2px solid #4500ff;\">"
   ]
  },
  {
   "cell_type": "markdown",
   "id": "039eec24",
   "metadata": {},
   "source": [
    " <p style='font-size: 23px; line-height: 2; margin: 0px 0px; text-align: justify; text-indent: 0px;'>    \n",
    "<i><b>Escreva um programa que mostre de 150 até 200 na tela.</b></i>     \n",
    "</p>\n",
    "\n",
    "---"
   ]
  },
  {
   "cell_type": "code",
   "execution_count": 9,
   "id": "2a417535",
   "metadata": {},
   "outputs": [
    {
     "name": "stdout",
     "output_type": "stream",
     "text": [
      "150  151  152  153  154  155  156  157  158  159  160  161  162  163  164  165  166  167  168  169  170  171  172  173  174  175  176  177  178  179  180  181  182  183  184  185  186  187  188  189  190  191  192  193  194  195  196  197  198  199  200  "
     ]
    }
   ],
   "source": [
    "for i in range(150,201):\n",
    "    print(i, end=\"  \")"
   ]
  },
  {
   "cell_type": "markdown",
   "id": "eac23dff",
   "metadata": {},
   "source": [
    "<hr style=\"border: 2px solid #4500ff;\">\n",
    "\n",
    "# <font color=\"#4500ff\" style=\"font-size: 25px;\">Exercício 43</font>\n",
    "<hr style=\"border: 2px solid #4500ff;\">"
   ]
  },
  {
   "cell_type": "markdown",
   "id": "41aa7bd7",
   "metadata": {},
   "source": [
    " <p style='font-size: 23px; line-height: 2; margin: 0px 0px; text-align: justify; text-indent: 0px;'>    \n",
    "<i><b>Escreva um programa de contagem regressiva, ou seja, imprima na tela o seguinte padrão numérico:\n",
    "\n",
    "```\n",
    "5\n",
    "4\n",
    "3\n",
    "2\n",
    "1\n",
    "0\n",
    "```\n",
    "</b></i>     \n",
    "</p>\n",
    "\n",
    "---"
   ]
  },
  {
   "cell_type": "code",
   "execution_count": 53,
   "id": "d37e60a1",
   "metadata": {},
   "outputs": [],
   "source": [
    "import numpy as np\n",
    "import pandas as pd\n",
    "import math"
   ]
  },
  {
   "cell_type": "code",
   "execution_count": 25,
   "id": "81028c8f",
   "metadata": {},
   "outputs": [
    {
     "name": "stdout",
     "output_type": "stream",
     "text": [
      "Diga a cronometragem: 5\n",
      "5\n",
      "4\n",
      "3\n",
      "2\n",
      "1\n",
      "0\n"
     ]
    }
   ],
   "source": [
    "x = int(input(\"Diga a cronometragem: \"))\n",
    "cronometragem = list(range(x, -1, -1))\n",
    "\n",
    "for i in cronometragem:\n",
    "    print(i)\n"
   ]
  },
  {
   "cell_type": "markdown",
   "id": "eef02703",
   "metadata": {},
   "source": [
    "<hr style=\"border: 2px solid #4500ff;\">\n",
    "\n",
    "# <font color=\"#4500ff\" style=\"font-size: 25px;\">Exercício 44</font>\n",
    "<hr style=\"border: 2px solid #4500ff;\">"
   ]
  },
  {
   "cell_type": "markdown",
   "id": "82cc4554",
   "metadata": {},
   "source": [
    " <p style='font-size: 23px; line-height: 2; margin: 0px 0px; text-align: justify; text-indent: 0px;'>    \n",
    "<i><b>Faça um programa que imprima na tela de 1 até um número digitado pelo usuário.\n",
    "</b></i>     \n",
    "</p>\n",
    "\n",
    "---"
   ]
  },
  {
   "cell_type": "code",
   "execution_count": 30,
   "id": "76e2936e",
   "metadata": {},
   "outputs": [
    {
     "name": "stdout",
     "output_type": "stream",
     "text": [
      "Diga o ultimo número: 5\n",
      "1\n",
      "2\n",
      "3\n",
      "4\n",
      "5\n"
     ]
    }
   ],
   "source": [
    "x = int(input(\"Diga o ultimo número: \"))\n",
    "\n",
    "for i in range(1, x+1):\n",
    "    print(i)"
   ]
  },
  {
   "cell_type": "markdown",
   "id": "5c902283",
   "metadata": {},
   "source": [
    "<hr style=\"border: 2px solid #4500ff;\">\n",
    "\n",
    "# <font color=\"#4500ff\" style=\"font-size: 25px;\">Exercício 45</font>\n",
    "<hr style=\"border: 2px solid #4500ff;\">"
   ]
  },
  {
   "cell_type": "markdown",
   "id": "41aca4bd",
   "metadata": {},
   "source": [
    " <p style='font-size: 23px; line-height: 2; margin: 0px 0px; text-align: justify; text-indent: 0px;'>    \n",
    "<i><b>Escreva um programa que mostre na tela os 20 primeiros múltiplos de 5.\n",
    "</b></i>     \n",
    "</p>\n",
    "\n",
    "---"
   ]
  },
  {
   "cell_type": "code",
   "execution_count": 36,
   "id": "554b3013",
   "metadata": {},
   "outputs": [
    {
     "name": "stdout",
     "output_type": "stream",
     "text": [
      "[0, 5, 10, 15, 20, 25, 30, 35, 40, 45, 50, 55, 60, 65, 70, 75, 80, 85, 90, 95, 100]\n"
     ]
    }
   ],
   "source": [
    "multiplos = [i for i in range(0,101,5)]\n",
    "print(multiplos)"
   ]
  },
  {
   "cell_type": "markdown",
   "id": "2c9adf34",
   "metadata": {},
   "source": [
    "<hr style=\"border: 2px solid #4500ff;\">\n",
    "\n",
    "# <font color=\"#4500ff\" style=\"font-size: 25px;\">Exercício 46</font>\n",
    "<hr style=\"border: 2px solid #4500ff;\">"
   ]
  },
  {
   "cell_type": "markdown",
   "id": "1d1be28b",
   "metadata": {},
   "source": [
    " <p style='font-size: 23px; line-height: 2; margin: 0px 0px; text-align: justify; text-indent: 0px;'>    \n",
    "<i><b>Utilizando estruturas de repetição escreva um programa que mostre os resultados da tabuada (multiplicação) de um número inserido pelo usuário.\n",
    "\n",
    "\n",
    "</b></i>     \n",
    "</p>\n",
    "\n",
    "---"
   ]
  },
  {
   "cell_type": "code",
   "execution_count": 39,
   "id": "77c4c08e",
   "metadata": {},
   "outputs": [
    {
     "name": "stdout",
     "output_type": "stream",
     "text": [
      "Diga um número: 8\n",
      "8 X 0 : 0\n",
      "8 X 1 : 8\n",
      "8 X 2 : 16\n",
      "8 X 3 : 24\n",
      "8 X 4 : 32\n",
      "8 X 5 : 40\n",
      "8 X 6 : 48\n",
      "8 X 7 : 56\n",
      "8 X 8 : 64\n",
      "8 X 9 : 72\n",
      "8 X 10 : 80\n"
     ]
    }
   ],
   "source": [
    "x = int(input(\"Diga um número: \"))\n",
    "for i in range(0,11):\n",
    "    print(f\"{x} X {i} : {x*i}\")"
   ]
  },
  {
   "cell_type": "markdown",
   "id": "a0017772",
   "metadata": {},
   "source": [
    "<hr style=\"border: 2px solid #4500ff;\">\n",
    "\n",
    "# <font color=\"#4500ff\" style=\"font-size: 25px;\">Exercício 47</font>\n",
    "<hr style=\"border: 2px solid #4500ff;\">"
   ]
  },
  {
   "cell_type": "markdown",
   "id": "e1a41b27",
   "metadata": {},
   "source": [
    " <p style='font-size: 23px; line-height: 2; margin: 0px 0px; text-align: justify; text-indent: 0px;'>    \n",
    "<i><b>Utilizando estruturas de repetição escreva um programa que mostre os resultados da tabuada de multiplicação dos números entre 1 e 10, como segue.\n",
    "\n",
    "\n",
    "```\n",
    "1 x 1 = 1\n",
    "1 x 2 = 2\n",
    "1 x 3 = 3\n",
    "1 x 4 = 4\n",
    "1 x 5 = 5\n",
    "1 x 6 = 6\n",
    "1 x 7 = 7\n",
    "1 x 8 = 8\n",
    "1 x 9 = 9\n",
    "1 x 10 = 10\n",
    "2 x 1 = 2\n",
    "2 x 2 = 4\n",
    "2 x 3 = 6\n",
    "2 x 4 = 8\n",
    "2 x 5 = 10\n",
    "2 x 6 = 12\n",
    "2 x 7 = 14\n",
    "2 x 8 = 16\n",
    "2 x 9 = 18\n",
    "2 x 10 = 20\n",
    "3 x 1 = 3\n",
    "3 x 2 = 6\n",
    "3 x 3 = 9\n",
    "3 x 4 = 12\n",
    "3 x 5 = 15\n",
    "3 x 6 = 18\n",
    "3 x 7 = 21\n",
    "3 x 8 = 24\n",
    "3 x 9 = 27\n",
    "3 x 10 = 30\n",
    "4 x 1 = 4\n",
    "4 x 2 = 8\n",
    "4 x 3 = 12\n",
    "4 x 4 = 16\n",
    "4 x 5 = 20\n",
    "4 x 6 = 24\n",
    "4 x 7 = 28\n",
    "4 x 8 = 32\n",
    "4 x 9 = 36\n",
    "4 x 10 = 40\n",
    "5 x 1 = 5\n",
    "5 x 2 = 10\n",
    "5 x 3 = 15\n",
    "5 x 4 = 20\n",
    "5 x 5 = 25\n",
    "5 x 6 = 30\n",
    "5 x 7 = 35\n",
    "5 x 8 = 40\n",
    "5 x 9 = 45\n",
    "5 x 10 = 50\n",
    "6 x 1 = 6\n",
    "6 x 2 = 12\n",
    "6 x 3 = 18\n",
    "6 x 4 = 24\n",
    "6 x 5 = 30\n",
    "6 x 6 = 36\n",
    "6 x 7 = 42\n",
    "6 x 8 = 48\n",
    "6 x 9 = 54\n",
    "6 x 10 = 60\n",
    "7 x 1 = 7\n",
    "7 x 2 = 14\n",
    "7 x 3 = 21\n",
    "7 x 4 = 28\n",
    "7 x 5 = 35\n",
    "7 x 6 = 42\n",
    "7 x 7 = 49\n",
    "7 x 8 = 56\n",
    "7 x 9 = 63\n",
    "7 x 10 = 70\n",
    "8 x 1 = 8\n",
    "8 x 2 = 16\n",
    "8 x 3 = 24\n",
    "8 x 4 = 32\n",
    "8 x 5 = 40\n",
    "8 x 6 = 48\n",
    "8 x 7 = 56\n",
    "8 x 8 = 64\n",
    "8 x 9 = 72\n",
    "8 x 10 = 80\n",
    "9 x 1 = 9\n",
    "9 x 2 = 18\n",
    "9 x 3 = 27\n",
    "9 x 4 = 36\n",
    "9 x 5 = 45\n",
    "9 x 6 = 54\n",
    "9 x 7 = 63\n",
    "9 x 8 = 72\n",
    "9 x 9 = 81\n",
    "9 x 10 = 90\n",
    "10 x 1 = 10\n",
    "10 x 2 = 20\n",
    "10 x 3 = 30\n",
    "10 x 4 = 40\n",
    "10 x 5 = 50\n",
    "10 x 6 = 60\n",
    "10 x 7 = 70\n",
    "10 x 8 = 80\n",
    "10 x 9 = 90\n",
    "10 x 10 = 100\n",
    " ```\n",
    "   \n",
    "</b></i>     \n",
    "</p>\n",
    "\n",
    "---"
   ]
  },
  {
   "cell_type": "code",
   "execution_count": 41,
   "id": "de7f587f",
   "metadata": {},
   "outputs": [
    {
     "name": "stdout",
     "output_type": "stream",
     "text": [
      "1 X 1 : 1\n",
      "1 X 2 : 2\n",
      "1 X 3 : 3\n",
      "1 X 4 : 4\n",
      "1 X 5 : 5\n",
      "1 X 6 : 6\n",
      "1 X 7 : 7\n",
      "1 X 8 : 8\n",
      "1 X 9 : 9\n",
      "1 X 10 : 10\n",
      "2 X 1 : 2\n",
      "2 X 2 : 4\n",
      "2 X 3 : 6\n",
      "2 X 4 : 8\n",
      "2 X 5 : 10\n",
      "2 X 6 : 12\n",
      "2 X 7 : 14\n",
      "2 X 8 : 16\n",
      "2 X 9 : 18\n",
      "2 X 10 : 20\n",
      "3 X 1 : 3\n",
      "3 X 2 : 6\n",
      "3 X 3 : 9\n",
      "3 X 4 : 12\n",
      "3 X 5 : 15\n",
      "3 X 6 : 18\n",
      "3 X 7 : 21\n",
      "3 X 8 : 24\n",
      "3 X 9 : 27\n",
      "3 X 10 : 30\n",
      "4 X 1 : 4\n",
      "4 X 2 : 8\n",
      "4 X 3 : 12\n",
      "4 X 4 : 16\n",
      "4 X 5 : 20\n",
      "4 X 6 : 24\n",
      "4 X 7 : 28\n",
      "4 X 8 : 32\n",
      "4 X 9 : 36\n",
      "4 X 10 : 40\n",
      "5 X 1 : 5\n",
      "5 X 2 : 10\n",
      "5 X 3 : 15\n",
      "5 X 4 : 20\n",
      "5 X 5 : 25\n",
      "5 X 6 : 30\n",
      "5 X 7 : 35\n",
      "5 X 8 : 40\n",
      "5 X 9 : 45\n",
      "5 X 10 : 50\n",
      "6 X 1 : 6\n",
      "6 X 2 : 12\n",
      "6 X 3 : 18\n",
      "6 X 4 : 24\n",
      "6 X 5 : 30\n",
      "6 X 6 : 36\n",
      "6 X 7 : 42\n",
      "6 X 8 : 48\n",
      "6 X 9 : 54\n",
      "6 X 10 : 60\n",
      "7 X 1 : 7\n",
      "7 X 2 : 14\n",
      "7 X 3 : 21\n",
      "7 X 4 : 28\n",
      "7 X 5 : 35\n",
      "7 X 6 : 42\n",
      "7 X 7 : 49\n",
      "7 X 8 : 56\n",
      "7 X 9 : 63\n",
      "7 X 10 : 70\n",
      "8 X 1 : 8\n",
      "8 X 2 : 16\n",
      "8 X 3 : 24\n",
      "8 X 4 : 32\n",
      "8 X 5 : 40\n",
      "8 X 6 : 48\n",
      "8 X 7 : 56\n",
      "8 X 8 : 64\n",
      "8 X 9 : 72\n",
      "8 X 10 : 80\n",
      "9 X 1 : 9\n",
      "9 X 2 : 18\n",
      "9 X 3 : 27\n",
      "9 X 4 : 36\n",
      "9 X 5 : 45\n",
      "9 X 6 : 54\n",
      "9 X 7 : 63\n",
      "9 X 8 : 72\n",
      "9 X 9 : 81\n",
      "9 X 10 : 90\n",
      "10 X 1 : 10\n",
      "10 X 2 : 20\n",
      "10 X 3 : 30\n",
      "10 X 4 : 40\n",
      "10 X 5 : 50\n",
      "10 X 6 : 60\n",
      "10 X 7 : 70\n",
      "10 X 8 : 80\n",
      "10 X 9 : 90\n",
      "10 X 10 : 100\n"
     ]
    }
   ],
   "source": [
    "for i in range(1,11):\n",
    "    for y in range(1,11):\n",
    "        print(f\"{i} X {y} : {i*y}\")        "
   ]
  },
  {
   "cell_type": "markdown",
   "id": "a143a231",
   "metadata": {},
   "source": [
    "<hr style=\"border: 2px solid #4500ff;\">\n",
    "\n",
    "# <font color=\"#4500ff\" style=\"font-size: 25px;\">Exercício 48</font>\n",
    "<hr style=\"border: 2px solid #4500ff;\">"
   ]
  },
  {
   "cell_type": "markdown",
   "id": "98e61273",
   "metadata": {},
   "source": [
    " <p style='font-size: 23px; line-height: 2; margin: 0px 0px; text-align: justify; text-indent: 0px;'>    \n",
    "<i><b>Em um único loop escreva um programa que mostre na tela de 1 a 10 três vezes e ao final mostre a mensagem Fim . No primeiro loop utilize for e nos dois loops seguintes while. O resultado do seu programa deverá ter o seguinte formato:\n",
    "\n",
    "\n",
    "```\n",
    "1\n",
    "2\n",
    "3\n",
    "4\n",
    "5\n",
    "6\n",
    "7\n",
    "8\n",
    "9\n",
    "10\n",
    "1\n",
    "2\n",
    "3\n",
    "4\n",
    "5\n",
    "6\n",
    "7\n",
    "8\n",
    "9\n",
    "10\n",
    "1\n",
    "2\n",
    "3\n",
    "4\n",
    "5\n",
    "6\n",
    "7\n",
    "8\n",
    "9\n",
    "10\n",
    "Fim\n",
    "```\n",
    "\n",
    "</b></i>     \n",
    "</p>\n",
    "\n",
    "---"
   ]
  },
  {
   "cell_type": "code",
   "execution_count": 3,
   "id": "dd17a146",
   "metadata": {},
   "outputs": [
    {
     "name": "stdout",
     "output_type": "stream",
     "text": [
      "1\n",
      "2\n",
      "3\n",
      "4\n",
      "5\n",
      "6\n",
      "7\n",
      "8\n",
      "9\n",
      "10\n",
      "1\n",
      "2\n",
      "3\n",
      "4\n",
      "5\n",
      "6\n",
      "7\n",
      "8\n",
      "9\n",
      "10\n",
      "1\n",
      "2\n",
      "3\n",
      "4\n",
      "5\n",
      "6\n",
      "7\n",
      "8\n",
      "9\n",
      "10\n",
      "fim\n"
     ]
    }
   ],
   "source": [
    "for y in range(0,3):\n",
    "    for i in range(1,11):\n",
    "        print(i)\n",
    "print('fim')\n",
    "    "
   ]
  },
  {
   "cell_type": "markdown",
   "id": "3a278797",
   "metadata": {},
   "source": [
    "<hr style=\"border: 2px solid #4500ff;\">\n",
    "\n",
    "# <font color=\"#4500ff\" style=\"font-size: 25px;\">Exercício 49</font>\n",
    "<hr style=\"border: 2px solid #4500ff;\">"
   ]
  },
  {
   "cell_type": "markdown",
   "id": "054e0868",
   "metadata": {},
   "source": [
    " <p style='font-size: 23px; line-height: 2; margin: 0px 0px; text-align: justify; text-indent: 0px;'>    \n",
    "<i><b>Escreva um programa que peça ao usuário números entre 0-10. Se o usuário inserir um número fora desse intervalo o programa deverá finalizar com uma mensagem personalizada.\n",
    "\n",
    "</b></i>     \n",
    "</p>\n",
    "\n",
    "---"
   ]
  },
  {
   "cell_type": "code",
   "execution_count": 9,
   "id": "4f277afc",
   "metadata": {},
   "outputs": [
    {
     "name": "stdout",
     "output_type": "stream",
     "text": [
      "digite um número entre 0-10: 11\n",
      "valor fora do intervalo\n"
     ]
    }
   ],
   "source": [
    "while True:\n",
    "    x = int(input(\"digite um número entre 0-10: \"))\n",
    "    if x<=10 and x>=0:\n",
    "        print(x)\n",
    "        break\n",
    "    else:\n",
    "        print(\"valor fora do intervalo\")\n",
    "        break"
   ]
  },
  {
   "cell_type": "markdown",
   "id": "0f5c4a2e",
   "metadata": {},
   "source": [
    "<hr style=\"border: 2px solid #4500ff;\">\n",
    "\n",
    "# <font color=\"#4500ff\" style=\"font-size: 25px;\">Exercício 50</font>\n",
    "<hr style=\"border: 2px solid #4500ff;\">"
   ]
  },
  {
   "cell_type": "markdown",
   "id": "314bf6db",
   "metadata": {},
   "source": [
    " <p style='font-size: 23px; line-height: 2; margin: 0px 0px; text-align: justify; text-indent: 0px;'>    \n",
    "<i><b>Em um único loop escreva um programa que mostre na tela de 0-5, cinco vezes e ao final mostre a mensagem Fim . Utilize apenas for em sua implementação. Seu programa deverá gerar um output com o seguinte formato:\n",
    "\n",
    "\n",
    "```\n",
    "0\n",
    "1\n",
    "2\n",
    "3\n",
    "4\n",
    "5\n",
    "0\n",
    "1\n",
    "2\n",
    "3\n",
    "4\n",
    "5\n",
    "0\n",
    "1\n",
    "2\n",
    "3\n",
    "4\n",
    "5\n",
    "0\n",
    "1\n",
    "2\n",
    "3\n",
    "4\n",
    "5\n",
    "0\n",
    "1\n",
    "2\n",
    "3\n",
    "4\n",
    "5\n",
    "Fim\n",
    "```\n",
    "\n",
    "</b></i>     \n",
    "</p>\n",
    "\n",
    "---"
   ]
  },
  {
   "cell_type": "code",
   "execution_count": 10,
   "id": "696a86f1",
   "metadata": {},
   "outputs": [
    {
     "name": "stdout",
     "output_type": "stream",
     "text": [
      "1\n",
      "2\n",
      "3\n",
      "4\n",
      "5\n",
      "1\n",
      "2\n",
      "3\n",
      "4\n",
      "5\n",
      "1\n",
      "2\n",
      "3\n",
      "4\n",
      "5\n",
      "1\n",
      "2\n",
      "3\n",
      "4\n",
      "5\n",
      "1\n",
      "2\n",
      "3\n",
      "4\n",
      "5\n",
      "fim\n"
     ]
    }
   ],
   "source": [
    "for y in range(0,5):\n",
    "    for i in range(1,6):\n",
    "        print(i)\n",
    "print('fim')\n",
    "    "
   ]
  },
  {
   "cell_type": "markdown",
   "id": "31aafde6",
   "metadata": {},
   "source": [
    "<hr style=\"border: 2px solid #4500ff;\">\n",
    "\n",
    "# <font color=\"#4500ff\" style=\"font-size: 25px;\">Exercício 51</font>\n",
    "<hr style=\"border: 2px solid #4500ff;\">"
   ]
  },
  {
   "cell_type": "markdown",
   "id": "70035fae",
   "metadata": {},
   "source": [
    " <p style='font-size: 23px; line-height: 2; margin: 0px 0px; text-align: justify; text-indent: 0px;'>    \n",
    "<i><b>Escreva um programa que peça números reais (float) do usuário indefinidamente . Caso os números digitados não estejam situados entre 0 e 10 o programa deverá ser finalizado, mostrando a soma e a quantidade de números digitados.\n",
    "</b></i>     \n",
    "</p>\n",
    "\n",
    "---"
   ]
  },
  {
   "cell_type": "code",
   "execution_count": 16,
   "id": "b60f9618",
   "metadata": {},
   "outputs": [
    {
     "name": "stdout",
     "output_type": "stream",
     "text": [
      "digite um número entre 0-10: 6\n",
      "digite um número entre 0-10: 7\n",
      "digite um número entre 0-10: 8\n",
      "digite um número entre 0-10: 9\n",
      "digite um número entre 0-10: 10\n",
      "digite um número entre 0-10: 11\n",
      "Fim do programa\n",
      "soma: 40.0 \n",
      "tamanho: 5\n"
     ]
    }
   ],
   "source": [
    "y = list()\n",
    "while True:\n",
    "    x = float(input(\"digite um número entre 0-10: \"))\n",
    "    if x<=10 and x>=0:\n",
    "        y.append(x)\n",
    "    else:\n",
    "        print(\"Fim do programa\")\n",
    "        print(f\"soma: {sum(y)} \\ntamanho: {len(y)}\")\n",
    "        break"
   ]
  },
  {
   "cell_type": "markdown",
   "id": "ae07f2f2",
   "metadata": {},
   "source": [
    "<hr style=\"border: 2px solid #4500ff;\">\n",
    "\n",
    "# <font color=\"#4500ff\" style=\"font-size: 25px;\">Exercício 52</font>\n",
    "<hr style=\"border: 2px solid #4500ff;\">"
   ]
  },
  {
   "cell_type": "markdown",
   "id": "087e2c2f",
   "metadata": {},
   "source": [
    " <p style='font-size: 23px; line-height: 2; margin: 0px 0px; text-align: justify; text-indent: 0px;'>    \n",
    "<i><b>Escreva um programa que peça ao usuário 20 números reais e ao final mostre a soma e a média dos números digitados.\n",
    "</b></i>     \n",
    "</p>\n",
    "\n",
    "---"
   ]
  },
  {
   "cell_type": "code",
   "execution_count": 19,
   "id": "5095eb59",
   "metadata": {},
   "outputs": [
    {
     "name": "stdout",
     "output_type": "stream",
     "text": [
      "Digite um número: 1\n",
      "Digite um número: 2\n",
      "Digite um número: 3\n",
      "Digite um número: 4\n",
      "Digite um número: 5\n",
      "Digite um número: 6\n",
      "Digite um número: 7\n",
      "Digite um número: 8\n",
      "Digite um número: 9\n",
      "Digite um número: 1\n",
      "Digite um número: 10\n",
      "Digite um número: 11\n",
      "Digite um número: 12\n",
      "Digite um número: 13\n",
      "Digite um número: 14\n",
      "Digite um número: 15\n",
      "Digite um número: 16\n",
      "Digite um número: 17\n",
      "Digite um número: 18\n",
      "Digite um número: 19\n",
      "\n",
      "Soma dos números --> 191.0\n",
      "Média dos números --> 9.55\n"
     ]
    }
   ],
   "source": [
    "from statistics import mean\n",
    "\n",
    "y = []\n",
    "for i in range (0,20):\n",
    "    x=float(input(\"Digite um número: \"))\n",
    "    y.append(x)\n",
    "print(f\"\\nSoma dos números --> {sum(y)}\")\n",
    "print(f\"Média dos números --> {mean(y)}\")"
   ]
  },
  {
   "cell_type": "markdown",
   "id": "4003e897",
   "metadata": {},
   "source": [
    "<hr style=\"border: 2px solid #4500ff;\">\n",
    "\n",
    "# <font color=\"#4500ff\" style=\"font-size: 25px;\">Exercício 53</font>\n",
    "<hr style=\"border: 2px solid #4500ff;\">"
   ]
  },
  {
   "cell_type": "markdown",
   "id": "e669d0cf",
   "metadata": {},
   "source": [
    " <p style='font-size: 23px; line-height: 2; margin: 0px 0px; text-align: justify; text-indent: 0px;'>    \n",
    "<i><b>Elabore um programa que calcule e mostre na tela os números pares entre 1 e 200. Os números devem ser mostrados na tela de acordo com o formato a seguir:\n",
    "\n",
    "\n",
    "```\n",
    "2 4 6 8 10 12 14 16 18 20 22 24 26 28 30 32 34 36 38 40 42 44 46 48 50 52 54 56 58 60 62 64 66 68 70 72 74 76 78 80 82 84 86 88 90 92 94 96 98 100 102 104 106 108 110 112 114 116 118 120 122 124 126 128 130 132 134 136 138 140 142 144 146 148 150 152 154 156 158 160 162 164 166 168 170 172 174 176 178 180 182 184 186 188 190 192 194 196 198 200 \n",
    "```\n",
    "</b></i>     \n",
    "</p>\n",
    "\n",
    "---"
   ]
  },
  {
   "cell_type": "code",
   "execution_count": 21,
   "id": "a3da2f5a",
   "metadata": {},
   "outputs": [
    {
     "name": "stdout",
     "output_type": "stream",
     "text": [
      "2 4 6 8 10 12 14 16 18 20 22 24 26 28 30 32 34 36 38 40 42 44 46 48 50 52 54 56 58 60 62 64 66 68 70 72 74 76 78 80 82 84 86 88 90 92 94 96 98 100 102 104 106 108 110 112 114 116 118 120 122 124 126 128 130 132 134 136 138 140 142 144 146 148 150 152 154 156 158 160 162 164 166 168 170 172 174 176 178 180 182 184 186 188 190 192 194 196 198 200 "
     ]
    }
   ],
   "source": [
    "for i in range (2,201, 2):\n",
    "    print(i, end= \" \")"
   ]
  },
  {
   "cell_type": "markdown",
   "id": "97916948",
   "metadata": {},
   "source": [
    "<hr style=\"border: 2px solid #4500ff;\">\n",
    "\n",
    "# <font color=\"#4500ff\" style=\"font-size: 25px;\">Exercício 54</font>\n",
    "<hr style=\"border: 2px solid #4500ff;\">"
   ]
  },
  {
   "cell_type": "markdown",
   "id": "72c84e3f",
   "metadata": {},
   "source": [
    " <p style='font-size: 23px; line-height: 2; margin: 0px 0px; text-align: justify; text-indent: 0px;'>    \n",
    "<i><b>Elabore um programa que calcule e mostre na tela os números ímpares entre 1 e 200. Os números devem ser mostrados na tela de acordo com o formato a seguir:\n",
    "\n",
    "\n",
    "```\n",
    "1 3 5 7 9 11 13 15 17 19 21 23 25 27 29 31 33 35 37 39 41 43 45 47 49 51 53 55 57 59 61 63 65 67 69 71 73 75 77 79 81 83 85 87 89 91 93 95 97 99 101 103 105 107 109 111 113 115 117 119 121 123 125 127 129 131 133 135 137 139 141 143 145 147 149 151 153 155 157 159 161 163 165 167 169 171 173 175 177 179 181 183 185 187 189 191 193 195 197 199  \n",
    "```\n",
    "</b></i>     \n",
    "</p>\n",
    "\n",
    "---"
   ]
  },
  {
   "cell_type": "code",
   "execution_count": 22,
   "id": "b429d25e",
   "metadata": {},
   "outputs": [
    {
     "name": "stdout",
     "output_type": "stream",
     "text": [
      "1 3 5 7 9 11 13 15 17 19 21 23 25 27 29 31 33 35 37 39 41 43 45 47 49 51 53 55 57 59 61 63 65 67 69 71 73 75 77 79 81 83 85 87 89 91 93 95 97 99 101 103 105 107 109 111 113 115 117 119 121 123 125 127 129 131 133 135 137 139 141 143 145 147 149 151 153 155 157 159 161 163 165 167 169 171 173 175 177 179 181 183 185 187 189 191 193 195 197 199 "
     ]
    }
   ],
   "source": [
    "for i in range (1, 201, 2):\n",
    "    print(i, end= \" \")"
   ]
  },
  {
   "cell_type": "markdown",
   "id": "c85f9ba1",
   "metadata": {},
   "source": [
    "<hr style=\"border: 2px solid #4500ff;\">\n",
    "\n",
    "# <font color=\"#4500ff\" style=\"font-size: 25px;\">Exercício 55</font>\n",
    "<hr style=\"border: 2px solid #4500ff;\">"
   ]
  },
  {
   "cell_type": "markdown",
   "id": "91d419b4",
   "metadata": {},
   "source": [
    " <p style='font-size: 23px; line-height: 2; margin: 0px 0px; text-align: justify; text-indent: 0px;'>    \n",
    "<i><b>Escreva um programa que peça um número inteiro do usuário e mostre na tela o fatorial deste número.\n",
    "</b></i>     \n",
    "</p>\n",
    "\n",
    "---"
   ]
  },
  {
   "cell_type": "code",
   "execution_count": 46,
   "id": "57b7f43f",
   "metadata": {},
   "outputs": [
    {
     "name": "stdout",
     "output_type": "stream",
     "text": [
      "Escreva um número inteiro: 10\n"
     ]
    },
    {
     "data": {
      "text/plain": [
       "3628800"
      ]
     },
     "metadata": {},
     "output_type": "display_data"
    },
    {
     "name": "stdout",
     "output_type": "stream",
     "text": [
      "Escreva um número inteiro: 10\n"
     ]
    },
    {
     "data": {
      "text/plain": [
       "3628800"
      ]
     },
     "metadata": {},
     "output_type": "display_data"
    },
    {
     "name": "stdout",
     "output_type": "stream",
     "text": [
      "Digite um número inteiro: 10\n",
      "\n",
      "3628800\n"
     ]
    }
   ],
   "source": [
    "# Método 1\n",
    "x = int(input(\"Escreva um número inteiro: \"))\n",
    "display(math.factorial(x))\n",
    "\n",
    "# Método 2\n",
    "\n",
    "x = int(input(\"Escreva um número inteiro: \"))\n",
    "fatorial = 1\n",
    "while True:\n",
    "    if x != 0:\n",
    "        fatorial *= x * (x -1)\n",
    "        x= x-2\n",
    "    else:\n",
    "        break\n",
    "        \n",
    "display(fatorial)   \n",
    "\n",
    "# Método 3\n",
    "\n",
    "num=int(input('Digite um número inteiro: '))\n",
    "fatorial=1\n",
    "for i in range(1,num+1):\n",
    "    fatorial=fatorial*i\n",
    "print(f\"\\n{fatorial}\")"
   ]
  },
  {
   "cell_type": "markdown",
   "id": "b0ac3ae4",
   "metadata": {},
   "source": [
    "<hr style=\"border: 2px solid #4500ff;\">\n",
    "\n",
    "# <font color=\"#4500ff\" style=\"font-size: 25px;\">Exercício 56</font>\n",
    "<hr style=\"border: 2px solid #4500ff;\">"
   ]
  },
  {
   "cell_type": "markdown",
   "id": "923e329a",
   "metadata": {},
   "source": [
    " <p style='font-size: 23px; line-height: 2; margin: 0px 0px; text-align: justify; text-indent: 0px;'>    \n",
    "<i><b>Escreva um programa que peça números inteiros positivos indefinidamente e armazene-os em uma lista. O programa deverá ser encerrado caso o número digitado seja negativo ou nulo. Ao final mostre na tela a quantidade números pares e ímpares.\n",
    "</b></i>     \n",
    "</p>\n",
    "\n",
    "---"
   ]
  },
  {
   "cell_type": "code",
   "execution_count": 51,
   "id": "2b30732c",
   "metadata": {},
   "outputs": [
    {
     "name": "stdout",
     "output_type": "stream",
     "text": [
      "Escreva um número inteiro positivo: 1\n",
      "Escreva um número inteiro positivo: 2\n",
      "Escreva um número inteiro positivo: 3\n",
      "Escreva um número inteiro positivo: 4\n",
      "Escreva um número inteiro positivo: 5\n",
      "Escreva um número inteiro positivo: 6\n",
      "Escreva um número inteiro positivo: -1\n",
      "\n",
      "Pares: 3\n",
      "Impares: 3\n"
     ]
    }
   ],
   "source": [
    "x = []\n",
    "while True:\n",
    "    y=int(input(\"Escreva um número inteiro positivo: \"))\n",
    "    if y >= 0:\n",
    "       x.append(y)\n",
    "    else:\n",
    "        break\n",
    "        \n",
    "p = [o for o in x if o % 2 == 0]\n",
    "n = [o for o in x if o % 2 != 0]\n",
    "\n",
    "print(f\"\\nPares: {len(p)}\\nImpares: {len(n)}\")"
   ]
  },
  {
   "cell_type": "markdown",
   "id": "342b503b",
   "metadata": {},
   "source": [
    "<hr style=\"border: 2px solid #4500ff;\">\n",
    "\n",
    "# <font color=\"#4500ff\" style=\"font-size: 25px;\">Exercício 57</font>\n",
    "<hr style=\"border: 2px solid #4500ff;\">"
   ]
  },
  {
   "cell_type": "markdown",
   "id": "c396bc3d",
   "metadata": {},
   "source": [
    " <p style='font-size: 23px; line-height: 2; margin: 0px 0px; text-align: justify; text-indent: 0px;'>    \n",
    "<i><b>Elabore um programa que embaralhe a lista a seguir e mostre na tela cada elemento.\n",
    "\n",
    "\n",
    "```\n",
    "lista=['A','B','C','D','E','F','G','H','I','J','K','L','M'] \n",
    "```\n",
    "\n",
    "\n",
    "O output do programa pode seguir o padrão abaixo:\n",
    "\n",
    "\n",
    "\n",
    "\n",
    "```\n",
    "A\n",
    "C\n",
    "B\n",
    "K\n",
    "J\n",
    "F\n",
    "M\n",
    "D\n",
    "H\n",
    "G\n",
    "L\n",
    "I\n",
    "E\n",
    "```\n",
    "\n",
    "</b></i>     \n",
    "</p>\n",
    "\n",
    "---"
   ]
  },
  {
   "cell_type": "code",
   "execution_count": 59,
   "id": "8f4974bc",
   "metadata": {},
   "outputs": [
    {
     "data": {
      "text/plain": [
       "'J'"
      ]
     },
     "metadata": {},
     "output_type": "display_data"
    },
    {
     "data": {
      "text/plain": [
       "'A'"
      ]
     },
     "metadata": {},
     "output_type": "display_data"
    },
    {
     "data": {
      "text/plain": [
       "'C'"
      ]
     },
     "metadata": {},
     "output_type": "display_data"
    },
    {
     "data": {
      "text/plain": [
       "'B'"
      ]
     },
     "metadata": {},
     "output_type": "display_data"
    },
    {
     "data": {
      "text/plain": [
       "'M'"
      ]
     },
     "metadata": {},
     "output_type": "display_data"
    },
    {
     "data": {
      "text/plain": [
       "'E'"
      ]
     },
     "metadata": {},
     "output_type": "display_data"
    },
    {
     "data": {
      "text/plain": [
       "'G'"
      ]
     },
     "metadata": {},
     "output_type": "display_data"
    },
    {
     "data": {
      "text/plain": [
       "'I'"
      ]
     },
     "metadata": {},
     "output_type": "display_data"
    },
    {
     "data": {
      "text/plain": [
       "'F'"
      ]
     },
     "metadata": {},
     "output_type": "display_data"
    },
    {
     "data": {
      "text/plain": [
       "'K'"
      ]
     },
     "metadata": {},
     "output_type": "display_data"
    },
    {
     "data": {
      "text/plain": [
       "'H'"
      ]
     },
     "metadata": {},
     "output_type": "display_data"
    },
    {
     "data": {
      "text/plain": [
       "'D'"
      ]
     },
     "metadata": {},
     "output_type": "display_data"
    },
    {
     "data": {
      "text/plain": [
       "'L'"
      ]
     },
     "metadata": {},
     "output_type": "display_data"
    },
    {
     "name": "stdout",
     "output_type": "stream",
     "text": [
      "D\n",
      "H\n",
      "K\n",
      "M\n",
      "G\n",
      "J\n",
      "B\n",
      "F\n",
      "A\n",
      "L\n",
      "E\n",
      "I\n",
      "C\n"
     ]
    }
   ],
   "source": [
    "import random\n",
    "\n",
    "# Método 1\n",
    "lista=['A','B','C','D','E','F','G','H','I','J','K','L','M']\n",
    "\n",
    "while len(lista)!=0:\n",
    "    valor = random.choice(lista)\n",
    "    display(valor)\n",
    "    lista.remove(valor)\n",
    "\n",
    "# Método 2 (esse é o melhor)\n",
    "\n",
    "import random\n",
    "\n",
    "lista = ['A', 'B', 'C', 'D', 'E', 'F', 'G', 'H', 'I', 'J', 'K', 'L', 'M']\n",
    "\n",
    "# Embaralhe a lista\n",
    "random.shuffle(lista)\n",
    "\n",
    "# Itere sobre a lista embaralhada\n",
    "for elemento in lista:\n",
    "    print(elemento)\n"
   ]
  },
  {
   "cell_type": "markdown",
   "id": "511d5b46",
   "metadata": {},
   "source": [
    "<hr style=\"border: 2px solid #4500ff;\">\n",
    "\n",
    "# <font color=\"#4500ff\" style=\"font-size: 25px;\">Exercício 58</font>\n",
    "<hr style=\"border: 2px solid #4500ff;\">"
   ]
  },
  {
   "cell_type": "markdown",
   "id": "35603dbf",
   "metadata": {},
   "source": [
    " <p style='font-size: 23px; line-height: 2; margin: 0px 0px; text-align: justify; text-indent: 0px;'>    \n",
    "<i><b>Peça 5 números do usuário e mostre na tela a média dos números digitados.\n",
    "</b></i>     \n",
    "</p>\n",
    "\n",
    "---"
   ]
  },
  {
   "cell_type": "code",
   "execution_count": 60,
   "id": "1693caf2",
   "metadata": {},
   "outputs": [
    {
     "name": "stdout",
     "output_type": "stream",
     "text": [
      "Digite um número: 1\n",
      "Digite um número: 2\n",
      "Digite um número: 3\n",
      "Digite um número: 4\n",
      "Digite um número: 5\n",
      "3.0\n"
     ]
    }
   ],
   "source": [
    "x=[]\n",
    "while len(x)!=5:\n",
    "    x.append(float(input(\"Digite um número: \")))\n",
    "    \n",
    "print(mean(x))"
   ]
  },
  {
   "cell_type": "markdown",
   "id": "6460eef0",
   "metadata": {},
   "source": [
    "<hr style=\"border: 2px solid #4500ff;\">\n",
    "\n",
    "# <font color=\"#4500ff\" style=\"font-size: 25px;\">Exercício 59</font>\n",
    "<hr style=\"border: 2px solid #4500ff;\">"
   ]
  },
  {
   "cell_type": "markdown",
   "id": "db114b33",
   "metadata": {},
   "source": [
    " <p style='font-size: 23px; line-height: 2; margin: 0px 0px; text-align: justify; text-indent: 0px;'>    \n",
    "<i><b>Considere a lista de produtos abaixo e implemente duas soluções para somar o valor total deste carrinho de compras.\n",
    "\n",
    "Dica: utilize List comprehension e/ou  loop for.\n",
    "\n",
    "```\n",
    "lista_compras=[\n",
    "    {'nome':'feijão','preco':9.79},\n",
    "    {'nome':'arroz','preco':3.45},\n",
    "    {'nome':'carne','preco':20.93},\n",
    "    {'nome':'macarrão','preco':2.99},\n",
    "    {'nome':'vinagre','preco':2.25},\n",
    "    {'nome':'pimenta','preco':1.27},\n",
    "    {'nome':'batata','preco':5.67},\n",
    "    {'nome':'leite','preco':12},\n",
    "    {'nome':'manteiga','preco':7.99},\n",
    "    {'nome':'margarina','preco':2.5},\n",
    "    {'nome':'cenoura','preco':3.55},\n",
    "    {'nome':'sabão','preco':4.79},\n",
    "    {'nome':'chá','preco':3.45},\n",
    "    {'nome':'morango','preco':17.8},\n",
    "    {'nome':'soja','preco':20.2},\n",
    "    {'nome':'goiaba','preco':3.45},\n",
    "    {'nome':'melão','preco':5.12},\n",
    "]\n",
    "    \n",
    "```\n",
    "    \n",
    "</b></i>     \n",
    "</p>\n",
    "\n",
    "---"
   ]
  },
  {
   "cell_type": "code",
   "execution_count": 80,
   "id": "2af50211",
   "metadata": {},
   "outputs": [
    {
     "data": {
      "text/plain": [
       "127.2"
      ]
     },
     "execution_count": 80,
     "metadata": {},
     "output_type": "execute_result"
    }
   ],
   "source": [
    "lista_compras=[\n",
    "    {'nome':'feijão','preco':9.79},\n",
    "    {'nome':'arroz','preco':3.45},\n",
    "    {'nome':'carne','preco':20.93},\n",
    "    {'nome':'macarrão','preco':2.99},\n",
    "    {'nome':'vinagre','preco':2.25},\n",
    "    {'nome':'pimenta','preco':1.27},\n",
    "    {'nome':'batata','preco':5.67},\n",
    "    {'nome':'leite','preco':12},\n",
    "    {'nome':'manteiga','preco':7.99},\n",
    "    {'nome':'margarina','preco':2.5},\n",
    "    {'nome':'cenoura','preco':3.55},\n",
    "    {'nome':'sabão','preco':4.79},\n",
    "    {'nome':'chá','preco':3.45},\n",
    "    {'nome':'morango','preco':17.8},\n",
    "    {'nome':'soja','preco':20.2},\n",
    "    {'nome':'goiaba','preco':3.45},\n",
    "    {'nome':'melão','preco':5.12},\n",
    "]\n",
    "\n",
    "precos = [item['preco'] for item in lista_compras]\n",
    "round(sum(precos),1)"
   ]
  },
  {
   "cell_type": "markdown",
   "id": "a2501fea",
   "metadata": {},
   "source": [
    "Eu estava cometendo um erro, então deixo o texto abaixo com a explicação:\n",
    "\n",
    "> Tenha em mente que o erro original ocorreu porque você estava tentando acessar diretamente a chave 'preco' de um dicionário em uma lista, mas é necessário iterar sobre a lista e, em seguida, acessar os dicionários dentro dela."
   ]
  },
  {
   "cell_type": "markdown",
   "id": "8efded8d",
   "metadata": {},
   "source": [
    "<hr style=\"border: 2px solid #4500ff;\">\n",
    "\n",
    "# <font color=\"#4500ff\" style=\"font-size: 25px;\">Exercício 60</font>\n",
    "<hr style=\"border: 2px solid #4500ff;\">"
   ]
  },
  {
   "cell_type": "markdown",
   "id": "6799bdf6",
   "metadata": {},
   "source": [
    " <p style='font-size: 23px; line-height: 2; margin: 0px 0px; text-align: justify; text-indent: 0px;'>    \n",
    "<i><b>Considere a lista de produtos abaixo e implemente um programa que calcule e mostre na tela (nome e preço) o produto mais caro e o produto mais barato, desta cesta de bens.\n",
    "\n",
    "```\n",
    "lista_compras=[\n",
    "    {'nome':'feijão','preco':9.79},\n",
    "    {'nome':'arroz','preco':3.45},\n",
    "    {'nome':'carne','preco':20.93},\n",
    "    {'nome':'macarrão','preco':2.99},\n",
    "    {'nome':'vinagre','preco':2.25},\n",
    "    {'nome':'pimenta','preco':1.27},\n",
    "    {'nome':'batata','preco':5.67},\n",
    "    {'nome':'leite','preco':12},\n",
    "    {'nome':'manteiga','preco':7.99},\n",
    "    {'nome':'margarina','preco':2.5},\n",
    "    {'nome':'cenoura','preco':3.55},\n",
    "    {'nome':'sabão','preco':4.79},\n",
    "    {'nome':'chá','preco':3.45},\n",
    "    {'nome':'morango','preco':17.8},\n",
    "    {'nome':'soja','preco':20.2},\n",
    "    {'nome':'goiaba','preco':3.45},\n",
    "    {'nome':'melão','preco':5.12},\n",
    "]\n",
    "    \n",
    "```\n",
    "    \n",
    "</b></i>     \n",
    "</p>\n",
    "\n",
    "---"
   ]
  },
  {
   "cell_type": "code",
   "execution_count": 43,
   "id": "5fbb570a",
   "metadata": {},
   "outputs": [
    {
     "data": {
      "text/html": [
       "<div>\n",
       "<style scoped>\n",
       "    .dataframe tbody tr th:only-of-type {\n",
       "        vertical-align: middle;\n",
       "    }\n",
       "\n",
       "    .dataframe tbody tr th {\n",
       "        vertical-align: top;\n",
       "    }\n",
       "\n",
       "    .dataframe thead th {\n",
       "        text-align: right;\n",
       "    }\n",
       "</style>\n",
       "<table border=\"1\" class=\"dataframe\">\n",
       "  <thead>\n",
       "    <tr style=\"text-align: right;\">\n",
       "      <th></th>\n",
       "      <th>Nome</th>\n",
       "      <th>Preco</th>\n",
       "    </tr>\n",
       "  </thead>\n",
       "  <tbody>\n",
       "    <tr>\n",
       "      <th>2</th>\n",
       "      <td>carne</td>\n",
       "      <td>20.93</td>\n",
       "    </tr>\n",
       "    <tr>\n",
       "      <th>5</th>\n",
       "      <td>pimenta</td>\n",
       "      <td>1.27</td>\n",
       "    </tr>\n",
       "  </tbody>\n",
       "</table>\n",
       "</div>"
      ],
      "text/plain": [
       "      Nome  Preco\n",
       "2    carne  20.93\n",
       "5  pimenta   1.27"
      ]
     },
     "execution_count": 43,
     "metadata": {},
     "output_type": "execute_result"
    }
   ],
   "source": [
    "lista_compras=[\n",
    "    {'nome':'feijão','preco':9.79},\n",
    "    {'nome':'arroz','preco':3.45},\n",
    "    {'nome':'carne','preco':20.93},\n",
    "    {'nome':'macarrão','preco':2.99},\n",
    "    {'nome':'vinagre','preco':2.25},\n",
    "    {'nome':'pimenta','preco':1.27},\n",
    "    {'nome':'batata','preco':5.67},\n",
    "    {'nome':'leite','preco':12},\n",
    "    {'nome':'manteiga','preco':7.99},\n",
    "    {'nome':'margarina','preco':2.5},\n",
    "    {'nome':'cenoura','preco':3.55},\n",
    "    {'nome':'sabão','preco':4.79},\n",
    "    {'nome':'chá','preco':3.45},\n",
    "    {'nome':'morango','preco':17.8},\n",
    "    {'nome':'soja','preco':20.2},\n",
    "    {'nome':'goiaba','preco':3.45},\n",
    "    {'nome':'melão','preco':5.12},\n",
    "]\n",
    "\n",
    "# Extraindo Valores\n",
    "precos = [item['preco'] for item in lista_compras]\n",
    "nomes = [item['nome'] for item in lista_compras]\n",
    "\n",
    "# Criando Dataframe\n",
    "df = pd.DataFrame(precos, nomes).reset_index()\n",
    "df.columns = ['Nome', 'Preco']\n",
    "df = df.sort_values(by='Preco', ascending=False)\n",
    "\n",
    "# Exibir\n",
    "primeiro_e_ultimo = df.iloc[[0, -1]]\n",
    "primeiro_e_ultimo"
   ]
  },
  {
   "cell_type": "code",
   "execution_count": 44,
   "id": "efb63418",
   "metadata": {},
   "outputs": [
    {
     "name": "stdout",
     "output_type": "stream",
     "text": [
      "Produto mais caro: carne - Preço: 20.93\n",
      "Produto mais barato: pimenta - Preço: 1.27\n"
     ]
    }
   ],
   "source": [
    "# Método 2\n",
    "\n",
    "lista_compras = [\n",
    "    {'nome':'feijão','preco':9.79},\n",
    "    {'nome':'arroz','preco':3.45},\n",
    "    {'nome':'carne','preco':20.93},\n",
    "    {'nome':'macarrão','preco':2.99},\n",
    "    {'nome':'vinagre','preco':2.25},\n",
    "    {'nome':'pimenta','preco':1.27},\n",
    "    {'nome':'batata','preco':5.67},\n",
    "    {'nome':'leite','preco':12},\n",
    "    {'nome':'manteiga','preco':7.99},\n",
    "    {'nome':'margarina','preco':2.5},\n",
    "    {'nome':'cenoura','preco':3.55},\n",
    "    {'nome':'sabão','preco':4.79},\n",
    "    {'nome':'chá','preco':3.45},\n",
    "    {'nome':'morango','preco':17.8},\n",
    "    {'nome':'soja','preco':20.2},\n",
    "    {'nome':'goiaba','preco':3.45},\n",
    "    {'nome':'melão','preco':5.12},\n",
    "]\n",
    "\n",
    "produto_mais_caro = None\n",
    "produto_mais_barato = None\n",
    "\n",
    "for produto in lista_compras:\n",
    "    if produto_mais_caro is None or produto['preco'] > produto_mais_caro['preco']:\n",
    "        produto_mais_caro = produto\n",
    "    if produto_mais_barato is None or produto['preco'] < produto_mais_barato['preco']:\n",
    "        produto_mais_barato = produto\n",
    "\n",
    "print(f\"Produto mais caro: {produto_mais_caro['nome']} - Preço: {produto_mais_caro['preco']:.2f}\")\n",
    "print(f\"Produto mais barato: {produto_mais_barato['nome']} - Preço: {produto_mais_barato['preco']:.2f}\")\n"
   ]
  },
  {
   "cell_type": "markdown",
   "id": "01b22fc0",
   "metadata": {},
   "source": [
    "<hr style=\"border: 2px solid #4500ff;\">\n",
    "\n",
    "# <font color=\"#4500ff\" style=\"font-size: 25px;\">Exercício 61</font>\n",
    "<hr style=\"border: 2px solid #4500ff;\">"
   ]
  },
  {
   "cell_type": "markdown",
   "id": "06581115",
   "metadata": {},
   "source": [
    " <p style='font-size: 23px; line-height: 2; margin: 0px 0px; text-align: justify; text-indent: 0px;'>    \n",
    "<i><b>Escreva um programa que peça 5 números inteiros não-nulos ao usuário e mostre na tela o quadrado de cada número digitado.\n",
    "</b></i>     \n",
    "</p>\n",
    "\n",
    "---"
   ]
  },
  {
   "cell_type": "code",
   "execution_count": 50,
   "id": "0db7c5bf",
   "metadata": {},
   "outputs": [
    {
     "name": "stdout",
     "output_type": "stream",
     "text": [
      "Digite o número 1: 1\n",
      "Digite o número 2: 2\n",
      "Digite o número 3: 3\n",
      "Digite o número 4: 4\n",
      "Digite o número 5: 5\n",
      "\n",
      " [1, 4, 9, 16]\n"
     ]
    }
   ],
   "source": [
    "x = []\n",
    "while True:\n",
    "    num = int(input(f\"Digite o número {len(x)+1}: \"))\n",
    "    if num !=0 and len(x)<4:\n",
    "        x.append(num**2)\n",
    "    else:\n",
    "        break\n",
    "\n",
    "print(\"\\n\",x)"
   ]
  },
  {
   "cell_type": "markdown",
   "id": "c80a33c7",
   "metadata": {},
   "source": [
    "<hr style=\"border: 2px solid #4500ff;\">\n",
    "\n",
    "# <font color=\"#4500ff\" style=\"font-size: 25px;\">Exercício 62</font>\n",
    "<hr style=\"border: 2px solid #4500ff;\">"
   ]
  },
  {
   "cell_type": "markdown",
   "id": "a3dfa45d",
   "metadata": {},
   "source": [
    " <p style='font-size: 23px; line-height: 2; margin: 0px 0px; text-align: justify; text-indent: 0px;'>    \n",
    "<i><b>Considere um número inteiro positivo n especificado pelo usuário. Elabore um programa que calcule e mostre na tela:\n",
    "\n",
    "```\n",
    "A soma dos n primeiros números inteiros não-nulos (1+2+3+ ... +n) ;\n",
    "\n",
    "A soma dos n primeiros números pares;\n",
    "\n",
    "A soma dos n primeiros números ímpares.\n",
    "```\n",
    "\n",
    "</b></i>     \n",
    "</p>\n",
    "\n",
    "---"
   ]
  },
  {
   "cell_type": "code",
   "execution_count": 61,
   "id": "ec6e1196",
   "metadata": {},
   "outputs": [
    {
     "name": "stdout",
     "output_type": "stream",
     "text": [
      "Digite o número: 10\n",
      "\n",
      "Soma geral: 55\n",
      "Soma de Pares: 30\n",
      "Soma de Impares: 25\n"
     ]
    }
   ],
   "source": [
    "num = int(input(f\"Digite o número: \"))\n",
    "\n",
    "# Soma\n",
    "soma = sum(list(range(1,num+1)))\n",
    "print(f\"\\nSoma geral: {soma}\")\n",
    "\n",
    "#Pares\n",
    "lista = list(range(1,num+1))\n",
    "pares = [x for x in lista if x%2==0]\n",
    "pares_soma = sum(pares)\n",
    "print(f\"Soma de Pares: {pares_soma}\")\n",
    "\n",
    "#impares\n",
    "#Pares\n",
    "lista = list(range(1,num+1))\n",
    "impares = [x for x in lista if x%2!=0]\n",
    "impares_soma = sum(impares)\n",
    "print(f\"Soma de Impares: {impares_soma}\")"
   ]
  },
  {
   "cell_type": "markdown",
   "id": "9879e6e3",
   "metadata": {},
   "source": [
    "<hr style=\"border: 2px solid #4500ff;\">\n",
    "\n",
    "# <font color=\"#4500ff\" style=\"font-size: 25px;\">Exercício 63</font>\n",
    "<hr style=\"border: 2px solid #4500ff;\">"
   ]
  },
  {
   "cell_type": "markdown",
   "id": "c4251174",
   "metadata": {},
   "source": [
    " <p style='font-size: 23px; line-height: 2; margin: 0px 0px; text-align: justify; text-indent: 0px;'>    \n",
    "<i><b>Escreva um programa para checar se um determinado número é primo ou não.\n",
    "\n",
    "Lembrete: um número primo pode ser dividido por apenas dois números, quais sejam: ele mesmo e o número um.\n",
    "\n",
    "\n",
    "\n",
    "2, 3, 5, 7, 11, 13, 17, 19, 23, 29, 31, 37, 41, 43, 47, 53, 59, 61, 67, 71, 73, 79, 83, 89 e 97  (Números primos entre 1 e 100)\n",
    "</b></i>     \n",
    "</p>\n",
    "\n",
    "---"
   ]
  },
  {
   "cell_type": "code",
   "execution_count": 61,
   "id": "6ac703f4",
   "metadata": {},
   "outputs": [
    {
     "name": "stdout",
     "output_type": "stream",
     "text": [
      "Digite o número: 11\n",
      "11 é Primo !!\n"
     ]
    }
   ],
   "source": [
    "num = int(input(f\"Digite o número: \"))\n",
    "\n",
    "\n",
    "lista=[]\n",
    "for i in range(2, int(num ** 0.5) + 1):\n",
    "    if num%i == 0:\n",
    "        lista.append(num%i)\n",
    "if len(lista) != 0 or num == 1:\n",
    "    print(f\"{num} não é Primo !!\")\n",
    "else:\n",
    "    print(f\"{num} é Primo !!\")\n",
    "    \n",
    "        "
   ]
  },
  {
   "cell_type": "code",
   "execution_count": 62,
   "id": "15ec9862",
   "metadata": {},
   "outputs": [
    {
     "name": "stdout",
     "output_type": "stream",
     "text": [
      "Digite o número: 10\n",
      "10 não é primo.\n"
     ]
    }
   ],
   "source": [
    "num = int(input(\"Digite o número: \"))\n",
    "\n",
    "if num <= 1:\n",
    "    print(f\"{num} não é primo.\")\n",
    "else:\n",
    "    is_prime = True\n",
    "    for i in range(2, int(num ** 0.5) + 1):\n",
    "        if num % i == 0:\n",
    "            is_prime = False\n",
    "            break\n",
    "\n",
    "    if is_prime:\n",
    "        print(f\"{num} é primo.\")\n",
    "    else:\n",
    "        print(f\"{num} não é primo.\")\n"
   ]
  },
  {
   "cell_type": "markdown",
   "id": "fcde74b9",
   "metadata": {},
   "source": [
    "<hr style=\"border: 2px solid #4500ff;\">\n",
    "\n",
    "# <font color=\"#4500ff\" style=\"font-size: 25px;\">Exercício 64</font>\n",
    "<hr style=\"border: 2px solid #4500ff;\">"
   ]
  },
  {
   "cell_type": "markdown",
   "id": "8d50c848",
   "metadata": {},
   "source": [
    " <p style='font-size: 23px; line-height: 2; margin: 0px 0px; text-align: justify; text-indent: 0px;'>    \n",
    "<i><b>Elabore um programa para imprimir todos os números primos existentes em um intervalo delimitado pelo usuário.\n",
    "</b></i>     \n",
    "</p>\n",
    "\n",
    "---"
   ]
  },
  {
   "cell_type": "code",
   "execution_count": 101,
   "id": "43719888",
   "metadata": {},
   "outputs": [
    {
     "name": "stdout",
     "output_type": "stream",
     "text": [
      "Digite o intervalo_inferior: 1\n",
      "Digite o intervalo_superior: 100\n",
      "\n",
      "2 3 5 7 11 13 17 19 23 29 31 37 41 43 47 53 59 61 67 71 73 79 83 89 97 "
     ]
    }
   ],
   "source": [
    "intervalo_inferior = int(input(\"Digite o intervalo_inferior: \")) # 2\n",
    "intervalo_superior = int(input(\"Digite o intervalo_superior: \")) # 13\n",
    "print()\n",
    "\n",
    "intervalo = list(range(intervalo_inferior, intervalo_superior+1))\n",
    "\n",
    "contador = 0\n",
    "for valor in intervalo:\n",
    "    for num in range(1, valor+1):\n",
    "        if valor%num == 0:\n",
    "            contador += 1\n",
    "    if contador == 2:\n",
    "        print(valor, end=' ')\n",
    "    contador = 0\n",
    "        "
   ]
  },
  {
   "cell_type": "markdown",
   "id": "926b8df1",
   "metadata": {},
   "source": [
    "# OBSERVAÇÃO:\n",
    "\n",
    "\n",
    "```python\n",
    "def is_prime(num):\n",
    "    if num <= 1:\n",
    "        return False\n",
    "    if num <= 3:\n",
    "        return True\n",
    "    if num % 2 == 0 or num % 3 == 0:\n",
    "        return False\n",
    "    i = 5\n",
    "    while i * i <= num:\n",
    "        if num % i == 0 or num % (i + 2) == 0:\n",
    "            return False\n",
    "        i += 6\n",
    "    return True\n",
    "\n",
    "intervalo_inferior = int(input(\"Digite o intervalo_inferior: \"))\n",
    "intervalo_superior = int(input(\"Digite o intervalo_superior: \"))\n",
    "print(\"Números primos no intervalo:\")\n",
    "for num in range(intervalo_inferior, intervalo_superior + 1):\n",
    "    if is_prime(num):\n",
    "        print(num, end=' ')\n",
    "```\n",
    "\n",
    "## Nesta versão, utilizamos o \"Teste de primalidade de Fermat\" e o \"Teorema de Fermat para primos\" para verificar se um número é primo. Isso é mais eficiente do que a verificação completa com loops aninhados."
   ]
  },
  {
   "cell_type": "markdown",
   "id": "7692a372",
   "metadata": {},
   "source": [
    "<hr style=\"border: 2px solid #4500ff;\">\n",
    "\n",
    "# <font color=\"#4500ff\" style=\"font-size: 25px;\">Exercício 65</font>\n",
    "<hr style=\"border: 2px solid #4500ff;\">"
   ]
  },
  {
   "cell_type": "markdown",
   "id": "d8a0318f",
   "metadata": {},
   "source": [
    " <p style='font-size: 23px; line-height: 2; margin: 0px 0px; text-align: justify; text-indent: 0px;'>    \n",
    "<i><b>Elabore um programa para imprimir a sequência de Fibonacci até o n-ésimo termo definido pelo usuário. Certifique que o usuário digite um número inteiro positivo.\n",
    "\n",
    "\n",
    "\n",
    "0,1, 1, 2, 3, 5, 8, 13, 21, 34, 55, 89, 144, 233, 377, 610, 987, 1597, 2584,...\n",
    "</b></i>     \n",
    "</p>\n",
    "\n",
    "---"
   ]
  },
  {
   "cell_type": "code",
   "execution_count": 15,
   "id": "d4ef336a",
   "metadata": {},
   "outputs": [
    {
     "name": "stdout",
     "output_type": "stream",
     "text": [
      "Digite o n-ésimo termo da sequência de Fibonacci: 8\n"
     ]
    },
    {
     "data": {
      "text/plain": [
       "[0, 1, 1, 2, 3, 5, 8, 13, 21]"
      ]
     },
     "execution_count": 15,
     "metadata": {},
     "output_type": "execute_result"
    }
   ],
   "source": [
    "sequencia = [0,1]\n",
    "while True:\n",
    "    x_input = input(\"Digite o n-ésimo termo da sequência de Fibonacci: \")\n",
    "\n",
    "    try:\n",
    "        x = int(x_input)\n",
    "        if x >= 0:\n",
    "            for i in range(x - 1):\n",
    "                valor = sequencia[-1] + sequencia[-2]\n",
    "                sequencia.append(valor)\n",
    "            break\n",
    "        else:\n",
    "            print(\"Por favor, digite um número inteiro não negativo.\")\n",
    "    except ValueError:\n",
    "        print(\"Por favor, digite um número inteiro válido.\")\n",
    "            \n",
    "sequencia"
   ]
  },
  {
   "cell_type": "markdown",
   "id": "8070998f",
   "metadata": {},
   "source": [
    "<hr style=\"border: 2px solid #4500ff;\">\n",
    "\n",
    "# <font color=\"#4500ff\" style=\"font-size: 25px;\">Exercício 66</font>\n",
    "<hr style=\"border: 2px solid #4500ff;\">"
   ]
  },
  {
   "cell_type": "markdown",
   "id": "fe48289c",
   "metadata": {},
   "source": [
    " <p style='font-size: 23px; line-height: 2; margin: 0px 0px; text-align: justify; text-indent: 0px;'>    \n",
    "<i><b>Escreva um programa que mostre na tela o tipo de cada dado da lista a seguir. Utilize a função built-in type.\n",
    "\n",
    "\n",
    "```\n",
    "lista=[\n",
    "    (1,),\n",
    "    [1,2,3],\n",
    "    (1),\n",
    "    {4,5},\n",
    "    {'nome':'A','value':2},\n",
    "    10,\n",
    "    [],\n",
    "    1+3j,\n",
    "    1.2,\n",
    "    True,\n",
    "    False,\n",
    "    None,\n",
    "    'Hello World!',\n",
    "]\n",
    "\n",
    "```\n",
    "</b></i>     \n",
    "</p>\n",
    "\n",
    "---"
   ]
  },
  {
   "cell_type": "code",
   "execution_count": 18,
   "id": "8b1235ee",
   "metadata": {},
   "outputs": [
    {
     "name": "stdout",
     "output_type": "stream",
     "text": [
      "<class 'tuple'>\n",
      "\n",
      "<class 'list'>\n",
      "\n",
      "<class 'int'>\n",
      "\n",
      "<class 'set'>\n",
      "\n",
      "<class 'dict'>\n",
      "\n",
      "<class 'int'>\n",
      "\n",
      "<class 'list'>\n",
      "\n",
      "<class 'complex'>\n",
      "\n",
      "<class 'float'>\n",
      "\n",
      "<class 'bool'>\n",
      "\n",
      "<class 'bool'>\n",
      "\n",
      "<class 'NoneType'>\n",
      "\n",
      "<class 'str'>\n",
      "\n"
     ]
    }
   ],
   "source": [
    "lista=[\n",
    "    (1,),\n",
    "    [1,2,3],\n",
    "    (1),\n",
    "    {4,5},\n",
    "    {'nome':'A','value':2},\n",
    "    10,\n",
    "    [],\n",
    "    1+3j,\n",
    "    1.2,\n",
    "    True,\n",
    "    False,\n",
    "    None,\n",
    "    'Hello World!',\n",
    "]\n",
    "\n",
    "for objeto in lista:\n",
    "    print(f\"{type(objeto)}\\n\")"
   ]
  },
  {
   "cell_type": "markdown",
   "id": "9caa2cf7",
   "metadata": {},
   "source": [
    "<hr style=\"border: 2px solid #4500ff;\">\n",
    "\n",
    "# <font color=\"#4500ff\" style=\"font-size: 25px;\">Exercício 67</font>\n",
    "<hr style=\"border: 2px solid #4500ff;\">"
   ]
  },
  {
   "cell_type": "markdown",
   "id": "9a3ef9d6",
   "metadata": {},
   "source": [
    " <p style='font-size: 23px; line-height: 2; margin: 0px 0px; text-align: justify; text-indent: 0px;'>    \n",
    "<i><b>Escreva um programa para somar todos os números naturais em um intervalo definido pelo usuário..\n",
    "</b></i>     \n",
    "</p>\n",
    "\n",
    "---"
   ]
  },
  {
   "cell_type": "code",
   "execution_count": 23,
   "id": "3be86acb",
   "metadata": {},
   "outputs": [
    {
     "name": "stdout",
     "output_type": "stream",
     "text": [
      "Digite o intervalo da soma: 50\n",
      "1275\n"
     ]
    }
   ],
   "source": [
    "while True:\n",
    "    x_input = input(\"Digite o intervalo da soma: \")\n",
    "\n",
    "    try:\n",
    "        x = int(x_input)\n",
    "        if x >= 0:\n",
    "            soma = sum(list(range(0,x+1)))\n",
    "            print(soma)\n",
    "            break\n",
    "        else:\n",
    "            print(\"Por favor, digite um número inteiro não negativo.\")\n",
    "    except ValueError:\n",
    "        print(\"Por favor, digite um número inteiro válido.\")"
   ]
  },
  {
   "cell_type": "markdown",
   "id": "3175e0d4",
   "metadata": {},
   "source": [
    "<hr style=\"border: 2px solid #4500ff;\">\n",
    "\n",
    "# <font color=\"#4500ff\" style=\"font-size: 25px;\">Exercício 68</font>\n",
    "<hr style=\"border: 2px solid #4500ff;\">"
   ]
  },
  {
   "cell_type": "markdown",
   "id": "8fa258a9",
   "metadata": {},
   "source": [
    " <p style='font-size: 23px; line-height: 2; margin: 0px 0px; text-align: justify; text-indent: 0px;'>    \n",
    "<i><b>Escreva um programa que replique o padrão de caracteres descrito a seguir.\n",
    "\n",
    "Dica: use loop for.\n",
    "\n",
    "```\n",
    "*\n",
    "**\n",
    "***\n",
    "****\n",
    "*****\n",
    "*****\n",
    "******\n",
    "*******\n",
    "********\n",
    "*********\n",
    "**********\n",
    "*********\n",
    "********\n",
    "*******\n",
    "******\n",
    "*****\n",
    "****\n",
    "***\n",
    "**\n",
    "*\n",
    "```\n",
    "\n",
    "</b></i>     \n",
    "</p>\n",
    "\n",
    "---"
   ]
  },
  {
   "cell_type": "code",
   "execution_count": 53,
   "id": "5d55a4c5",
   "metadata": {},
   "outputs": [
    {
     "name": "stdout",
     "output_type": "stream",
     "text": [
      "número de *: 10\n",
      "*\n",
      "**\n",
      "***\n",
      "****\n",
      "*****\n",
      "******\n",
      "*******\n",
      "********\n",
      "*********\n",
      "**********\n",
      "*********\n",
      "********\n",
      "*******\n",
      "******\n",
      "*****\n",
      "****\n",
      "***\n",
      "**\n",
      "*\n"
     ]
    }
   ],
   "source": [
    "n = int(input(\"número de *: \"))\n",
    "for i in range(1,2*n):\n",
    "    if i <= n:\n",
    "        print(\"*\"*i)\n",
    "    else:\n",
    "        print(\"*\"*(2 * n - i))"
   ]
  },
  {
   "cell_type": "markdown",
   "id": "4eb69333",
   "metadata": {},
   "source": [
    "<hr style=\"border: 2px solid #4500ff;\">\n",
    "\n",
    "# <font color=\"#4500ff\" style=\"font-size: 25px;\">Exercício 69</font>\n",
    "<hr style=\"border: 2px solid #4500ff;\">"
   ]
  },
  {
   "cell_type": "markdown",
   "id": "ecabbfe2",
   "metadata": {},
   "source": [
    " <p style='font-size: 23px; line-height: 2; margin: 0px 0px; text-align: justify; text-indent: 0px;'>    \n",
    "<i><b>Considere a lista abaixo e escreva um programa que mostre na tela a quantidade de números pares e ímpares.\n",
    "\n",
    "\n",
    "```\n",
    "lista=[944, 52, 161, 436, 77, 217, \n",
    "616, 639, 280, 277, 907, 735, 321, \n",
    "194, 736, 130, 793, 148, 799, 631, \n",
    "906, 417, 186, 913, 446, 537, 86, 75, \n",
    "328, 77, 899, 481, 303, 997, 212, 217,\n",
    "696, 391, 402, 800, 709, 293, 9, 700, \n",
    "108, 253, 562, 166, 252, 315, 655, 680,\n",
    "944, 8, 850, 765, 821, 216, 685, 666,\n",
    "860, 32, 492, 880, 714, 424, 270, 308,\n",
    "641, 83, 555, 807, 840, 724, 193, 256, \n",
    "556, 665, 902, 714, 564, 13, 903, 625, 14, \n",
    "551, 301, 915, 633, 781, 427, 517, 372, \n",
    "164, 469, 194, 5, 818, 776,\n",
    "] \n",
    "```\n",
    "    \n",
    "</b></i>     \n",
    "</p>\n",
    "\n",
    "---"
   ]
  },
  {
   "cell_type": "code",
   "execution_count": 55,
   "id": "cbdf53ec",
   "metadata": {},
   "outputs": [],
   "source": [
    "lista=[944, 52, 161, 436, 77, 217, \n",
    "616, 639, 280, 277, 907, 735, 321, \n",
    "194, 736, 130, 793, 148, 799, 631, \n",
    "906, 417, 186, 913, 446, 537, 86, 75, \n",
    "328, 77, 899, 481, 303, 997, 212, 217,\n",
    "696, 391, 402, 800, 709, 293, 9, 700, \n",
    "108, 253, 562, 166, 252, 315, 655, 680,\n",
    "944, 8, 850, 765, 821, 216, 685, 666,\n",
    "860, 32, 492, 880, 714, 424, 270, 308,\n",
    "641, 83, 555, 807, 840, 724, 193, 256, \n",
    "556, 665, 902, 714, 564, 13, 903, 625, 14, \n",
    "551, 301, 915, 633, 781, 427, 517, 372, \n",
    "164, 469, 194, 5, 818, 776,\n",
    "] \n"
   ]
  },
  {
   "cell_type": "code",
   "execution_count": 58,
   "id": "4b5b7b8c",
   "metadata": {},
   "outputs": [
    {
     "name": "stdout",
     "output_type": "stream",
     "text": [
      "50\n",
      "49\n",
      "Quantidade de números pares: 50\n",
      "Quantidade de números pares: 49\n"
     ]
    }
   ],
   "source": [
    "# Resolução 1\n",
    "par, impar = 0, 0\n",
    "for num in lista:\n",
    "    if num%2 == 0:\n",
    "        par += 1\n",
    "    else:\n",
    "        impar += 1\n",
    "print(par)\n",
    "print(impar)\n",
    "\n",
    "# Resolução 2\n",
    "lista_par=[numero for numero in lista if numero%2==0]\n",
    "lista_impar=[numero for numero in lista if numero%2!=0]\n",
    "print(f'Quantidade de números pares: {len(lista_par)}')\n",
    "print(f'Quantidade de números pares: {len(lista_impar)}')"
   ]
  },
  {
   "cell_type": "markdown",
   "id": "b6be9127",
   "metadata": {},
   "source": [
    "<hr style=\"border: 2px solid #4500ff;\">\n",
    "\n",
    "# <font color=\"#4500ff\" style=\"font-size: 25px;\">Exercício 70</font>\n",
    "<hr style=\"border: 2px solid #4500ff;\">"
   ]
  },
  {
   "cell_type": "markdown",
   "id": "cb1f9b3c",
   "metadata": {},
   "source": [
    " <p style='font-size: 23px; line-height: 2; margin: 0px 0px; text-align: justify; text-indent: 0px;'>    \n",
    "<i><b>Escreva um programa para replicar o padrão descrito a seguir.\n",
    "\n",
    "\n",
    "```\n",
    "1\n",
    "22\n",
    "333\n",
    "4444\n",
    "55555\n",
    "666666\n",
    "7777777\n",
    "88888888\n",
    "999999999\n",
    "10101010101010101010\n",
    "1111111111111111111111\n",
    "121212121212121212121212\n",
    "13131313131313131313131313\n",
    "1414141414141414141414141414\n",
    "151515151515151515151515151515\n",
    "16161616161616161616161616161616\n",
    "1717171717171717171717171717171717\n",
    "181818181818181818181818181818181818\n",
    "19191919191919191919191919191919191919\n",
    "2020202020202020202020202020202020202020\n",
    "```\n",
    "    \n",
    "</b></i>     \n",
    "</p>\n",
    "\n",
    "---"
   ]
  },
  {
   "cell_type": "code",
   "execution_count": 63,
   "id": "88c70789",
   "metadata": {},
   "outputs": [
    {
     "name": "stdout",
     "output_type": "stream",
     "text": [
      "\n",
      "1\n",
      "22\n",
      "333\n",
      "4444\n",
      "55555\n",
      "666666\n",
      "7777777\n",
      "88888888\n",
      "999999999\n",
      "10101010101010101010\n",
      "1111111111111111111111\n",
      "121212121212121212121212\n",
      "13131313131313131313131313\n",
      "1414141414141414141414141414\n",
      "151515151515151515151515151515\n",
      "16161616161616161616161616161616\n",
      "1717171717171717171717171717171717\n",
      "181818181818181818181818181818181818\n",
      "19191919191919191919191919191919191919\n",
      "2020202020202020202020202020202020202020\n",
      "\n",
      "1\n",
      "22\n",
      "333\n",
      "4444\n",
      "55555\n",
      "666666\n",
      "7777777\n",
      "88888888\n",
      "999999999\n",
      "10101010101010101010\n",
      "1111111111111111111111\n",
      "121212121212121212121212\n",
      "13131313131313131313131313\n",
      "1414141414141414141414141414\n",
      "151515151515151515151515151515\n",
      "16161616161616161616161616161616\n",
      "1717171717171717171717171717171717\n",
      "181818181818181818181818181818181818\n",
      "19191919191919191919191919191919191919\n",
      "2020202020202020202020202020202020202020\n"
     ]
    }
   ],
   "source": [
    "# Método 1\n",
    "for i in range(0,21):\n",
    "    print(str(i) * int(i))\n",
    "    \n",
    "# Método 2\n",
    "print()\n",
    "for num in range(1,21):\n",
    "    print(f'{num}'*num)"
   ]
  },
  {
   "cell_type": "markdown",
   "id": "f745b61a",
   "metadata": {},
   "source": [
    "<hr style=\"border: 2px solid #4500ff;\">\n",
    "\n",
    "# <font color=\"#4500ff\" style=\"font-size: 25px;\">Exercício 71</font>\n",
    "<hr style=\"border: 2px solid #4500ff;\">"
   ]
  },
  {
   "cell_type": "markdown",
   "id": "17e57d61",
   "metadata": {},
   "source": [
    " <p style='font-size: 23px; line-height: 2; margin: 0px 0px; text-align: justify; text-indent: 0px;'>    \n",
    "<i><b>Escreva um programa que replique o padrão de números a seguir, tal que o usuário insira o n-ésimo termo.\n",
    "\n",
    "\n",
    "```\n",
    "1 \n",
    "1 2 \n",
    "1 2 3 \n",
    "1 2 3 4 \n",
    "1 2 3 4 5 \n",
    "1 2 3 4 5 6 \n",
    "1 2 3 4 5 6 7 \n",
    "1 2 3 4 5 6 7 8 \n",
    "1 2 3 4 5 6 7 8 9 \n",
    "1 2 3 4 5 6 7 8 9 10 \n",
    "      ...\n",
    "1 2 3 4 5 6 7 8 9 10 ... n\n",
    "```\n",
    "    \n",
    "</b></i>     \n",
    "</p>\n",
    "\n",
    "---"
   ]
  },
  {
   "cell_type": "code",
   "execution_count": 65,
   "id": "fd1c45b4",
   "metadata": {},
   "outputs": [
    {
     "name": "stdout",
     "output_type": "stream",
     "text": [
      "Digite o número máximo10\n",
      "[1]\n",
      "[1, 2]\n",
      "[1, 2, 3]\n",
      "[1, 2, 3, 4]\n",
      "[1, 2, 3, 4, 5]\n",
      "[1, 2, 3, 4, 5, 6]\n",
      "[1, 2, 3, 4, 5, 6, 7]\n",
      "[1, 2, 3, 4, 5, 6, 7, 8]\n",
      "[1, 2, 3, 4, 5, 6, 7, 8, 9]\n",
      "[1, 2, 3, 4, 5, 6, 7, 8, 9, 10]\n"
     ]
    }
   ],
   "source": [
    "max = int(input(\"Digite o número máximo\"))\n",
    "for num in range(1,max+1):\n",
    "    print(list(range(1,num+1)))"
   ]
  },
  {
   "cell_type": "code",
   "execution_count": 82,
   "id": "f1e2008c",
   "metadata": {},
   "outputs": [
    {
     "name": "stdout",
     "output_type": "stream",
     "text": [
      "Digite o número máximo: 15\n",
      "1\n",
      "1 2\n",
      "1 2 3\n",
      "1 2 3 4\n",
      "1 2 3 4 5\n",
      "1 2 3 4 5 6\n",
      "1 2 3 4 5 6 7\n",
      "1 2 3 4 5 6 7 8\n",
      "1 2 3 4 5 6 7 8 9\n",
      "1 2 3 4 5 6 7 8 9 10\n",
      "1 2 3 4 5 6 7 8 9 10 11\n",
      "1 2 3 4 5 6 7 8 9 10 11 12\n",
      "1 2 3 4 5 6 7 8 9 10 11 12 13\n",
      "1 2 3 4 5 6 7 8 9 10 11 12 13 14\n",
      "1 2 3 4 5 6 7 8 9 10 11 12 13 14 15\n"
     ]
    }
   ],
   "source": [
    "max = int(input(\"Digite o número máximo: \"))\n",
    "for num in range(1, max+1):\n",
    "    linha = ' '.join(map(str, range(1, num+1)))\n",
    "    print(linha)\n"
   ]
  },
  {
   "cell_type": "markdown",
   "id": "37902aaf",
   "metadata": {},
   "source": [
    "O método `.join()` em Python.\n",
    "\n",
    "**Sintaxe:**\n",
    "```python\n",
    "string_resultante = separador.join(iterável)\n",
    "```\n",
    "\n",
    "- `string_resultante`: Esta é a string resultante após a concatenação dos elementos do iterável. Cada elemento do iterável é separado por `separador`.\n",
    "\n",
    "- `separador`: É a string que será usada para separar os elementos do iterável na string resultante.\n",
    "\n",
    "- `iterável`: Uma sequência de elementos que serão concatenados na string resultante. O iterável pode ser uma lista, tupla, conjunto, ou qualquer objeto iterável.\n",
    "\n",
    "**Aplicações:**\n",
    "\n",
    "O método `.join()` é comumente usado para criar strings formatadas a partir dos elementos de uma lista ou outro tipo de sequência. Aqui estão algumas aplicações comuns:\n",
    "\n",
    "1. **Concatenar uma lista de strings:**\n",
    "   Você pode usar `.join()` para unir os elementos de uma lista de strings em uma única string. Por exemplo:\n",
    "\n",
    "   ```python\n",
    "   palavras = [\"Olá\", \"Mundo\", \"Python\"]\n",
    "   frase = \" \".join(palavras)  # \"Olá Mundo Python\"\n",
    "   ```\n",
    "\n",
    "2. **Converter uma lista de números em uma única string formatada:**\n",
    "   É útil quando você deseja criar uma string a partir de uma lista de números e aplicar um formato específico. Por exemplo:\n",
    "\n",
    "   ```python\n",
    "   números = [1, 2, 3, 4, 5]\n",
    "   texto_formatado = \", \".join(map(str, números))  # \"1, 2, 3, 4, 5\"\n",
    "   ```\n",
    "\n",
    "3. **Unir caminhos de diretórios:**\n",
    "   Ao trabalhar com caminhos de arquivos e diretórios, você pode usar `.join()` para criar caminhos concatenados de maneira eficiente. Por exemplo:\n",
    "\n",
    "   ```python\n",
    "   diretorio = \"/home/usuario\"\n",
    "   arquivo = \"documento.txt\"\n",
    "   caminho_completo = \"/\".join([diretorio, arquivo])  # \"/home/usuario/documento.txt\"\n",
    "   ```\n",
    "\n",
    "4. **Gerar CSV (Comma-Separated Values):**\n",
    "   É comum usar `.join()` para criar linhas de um arquivo CSV separadas por vírgulas. Por exemplo:\n",
    "\n",
    "   ```python\n",
    "   dados = [\"Nome\", \"Idade\", \"Cidade\"]\n",
    "   linha_csv = \",\".join(dados)  # \"Nome,Idade,Cidade\"\n",
    "   ```\n",
    "\n",
    "Em resumo, o método `.join()` é uma maneira eficaz de criar strings concatenadas a partir de elementos de um iterável, usando um separador específico entre eles. É uma ferramenta útil em várias situações, especialmente quando você precisa formatar strings e dados de maneira consistente."
   ]
  },
  {
   "cell_type": "markdown",
   "id": "896ee1ab",
   "metadata": {},
   "source": [
    "<hr style=\"border: 2px solid #4500ff;\">\n",
    "\n",
    "# <font color=\"#4500ff\" style=\"font-size: 25px;\">Exercício 72</font>\n",
    "<hr style=\"border: 2px solid #4500ff;\">"
   ]
  },
  {
   "cell_type": "markdown",
   "id": "2072a942",
   "metadata": {},
   "source": [
    " <p style='font-size: 23px; line-height: 2; margin: 0px 0px; text-align: justify; text-indent: 0px;'>    \n",
    "<i><b>Ordene em ordem crescente/decrescente das músicas mais tocadas.\n",
    "\n",
    "Dica: use sorted().\n",
    "\n",
    "\n",
    "```\n",
    "lista=[\n",
    "\t('Música3',{'toques':137}),\n",
    "\t('Música7',{'toques':2}),\n",
    "\t('Música11',{'toques':30}),\n",
    "\t('Música9',{'toques':45}),\n",
    "\t('Música10',{'toques':79}),\n",
    "\t('Música2',{'toques':190}),\n",
    "\t('Música8',{'toques':201}),\n",
    "\t('Música5',{'toques':44}),\n",
    "\t('Música1',{'toques':29}),\n",
    "\t('Música6',{'toques':14}),\n",
    "\t('Música4',{'toques':14}),\n",
    "]\n",
    "```\n",
    "    \n",
    "</b></i>     \n",
    "</p>\n",
    "\n",
    "---"
   ]
  },
  {
   "cell_type": "code",
   "execution_count": 2,
   "id": "5a716ff1",
   "metadata": {},
   "outputs": [],
   "source": [
    "lista=[\n",
    "    ('Música3',{'toques':137}),\n",
    "    ('Música7',{'toques':2}),\n",
    "    ('Música11',{'toques':30}),\n",
    "    ('Música9',{'toques':45}),\n",
    "    ('Música10',{'toques':79}),\n",
    "    ('Música2',{'toques':190}),\n",
    "    ('Música8',{'toques':201}),\n",
    "    ('Música5',{'toques':44}),\n",
    "    ('Música1',{'toques':29}),\n",
    "    ('Música6',{'toques':14}),\n",
    "    ('Música4',{'toques':14}),\n",
    "]\n",
    "\n"
   ]
  },
  {
   "cell_type": "code",
   "execution_count": 63,
   "id": "7a7d7b77",
   "metadata": {},
   "outputs": [
    {
     "data": {
      "text/html": [
       "<div>\n",
       "<style scoped>\n",
       "    .dataframe tbody tr th:only-of-type {\n",
       "        vertical-align: middle;\n",
       "    }\n",
       "\n",
       "    .dataframe tbody tr th {\n",
       "        vertical-align: top;\n",
       "    }\n",
       "\n",
       "    .dataframe thead th {\n",
       "        text-align: right;\n",
       "    }\n",
       "</style>\n",
       "<table border=\"1\" class=\"dataframe\">\n",
       "  <thead>\n",
       "    <tr style=\"text-align: right;\">\n",
       "      <th></th>\n",
       "      <th>Músicas</th>\n",
       "      <th>Toques</th>\n",
       "    </tr>\n",
       "  </thead>\n",
       "  <tbody>\n",
       "    <tr>\n",
       "      <th>6</th>\n",
       "      <td>Música8</td>\n",
       "      <td>201</td>\n",
       "    </tr>\n",
       "    <tr>\n",
       "      <th>5</th>\n",
       "      <td>Música2</td>\n",
       "      <td>190</td>\n",
       "    </tr>\n",
       "    <tr>\n",
       "      <th>0</th>\n",
       "      <td>Música3</td>\n",
       "      <td>137</td>\n",
       "    </tr>\n",
       "    <tr>\n",
       "      <th>4</th>\n",
       "      <td>Música10</td>\n",
       "      <td>79</td>\n",
       "    </tr>\n",
       "    <tr>\n",
       "      <th>3</th>\n",
       "      <td>Música9</td>\n",
       "      <td>45</td>\n",
       "    </tr>\n",
       "    <tr>\n",
       "      <th>7</th>\n",
       "      <td>Música5</td>\n",
       "      <td>44</td>\n",
       "    </tr>\n",
       "    <tr>\n",
       "      <th>2</th>\n",
       "      <td>Música11</td>\n",
       "      <td>30</td>\n",
       "    </tr>\n",
       "    <tr>\n",
       "      <th>8</th>\n",
       "      <td>Música1</td>\n",
       "      <td>29</td>\n",
       "    </tr>\n",
       "    <tr>\n",
       "      <th>9</th>\n",
       "      <td>Música6</td>\n",
       "      <td>14</td>\n",
       "    </tr>\n",
       "    <tr>\n",
       "      <th>10</th>\n",
       "      <td>Música4</td>\n",
       "      <td>14</td>\n",
       "    </tr>\n",
       "    <tr>\n",
       "      <th>1</th>\n",
       "      <td>Música7</td>\n",
       "      <td>2</td>\n",
       "    </tr>\n",
       "  </tbody>\n",
       "</table>\n",
       "</div>"
      ],
      "text/plain": [
       "     Músicas  Toques\n",
       "6    Música8     201\n",
       "5    Música2     190\n",
       "0    Música3     137\n",
       "4   Música10      79\n",
       "3    Música9      45\n",
       "7    Música5      44\n",
       "2   Música11      30\n",
       "8    Música1      29\n",
       "9    Música6      14\n",
       "10   Música4      14\n",
       "1    Música7       2"
      ]
     },
     "metadata": {},
     "output_type": "display_data"
    },
    {
     "data": {
      "text/html": [
       "<div>\n",
       "<style scoped>\n",
       "    .dataframe tbody tr th:only-of-type {\n",
       "        vertical-align: middle;\n",
       "    }\n",
       "\n",
       "    .dataframe tbody tr th {\n",
       "        vertical-align: top;\n",
       "    }\n",
       "\n",
       "    .dataframe thead th {\n",
       "        text-align: right;\n",
       "    }\n",
       "</style>\n",
       "<table border=\"1\" class=\"dataframe\">\n",
       "  <thead>\n",
       "    <tr style=\"text-align: right;\">\n",
       "      <th></th>\n",
       "      <th>Músicas</th>\n",
       "      <th>Toques</th>\n",
       "    </tr>\n",
       "  </thead>\n",
       "  <tbody>\n",
       "    <tr>\n",
       "      <th>1</th>\n",
       "      <td>Música7</td>\n",
       "      <td>2</td>\n",
       "    </tr>\n",
       "    <tr>\n",
       "      <th>9</th>\n",
       "      <td>Música6</td>\n",
       "      <td>14</td>\n",
       "    </tr>\n",
       "    <tr>\n",
       "      <th>10</th>\n",
       "      <td>Música4</td>\n",
       "      <td>14</td>\n",
       "    </tr>\n",
       "    <tr>\n",
       "      <th>8</th>\n",
       "      <td>Música1</td>\n",
       "      <td>29</td>\n",
       "    </tr>\n",
       "    <tr>\n",
       "      <th>2</th>\n",
       "      <td>Música11</td>\n",
       "      <td>30</td>\n",
       "    </tr>\n",
       "    <tr>\n",
       "      <th>7</th>\n",
       "      <td>Música5</td>\n",
       "      <td>44</td>\n",
       "    </tr>\n",
       "    <tr>\n",
       "      <th>3</th>\n",
       "      <td>Música9</td>\n",
       "      <td>45</td>\n",
       "    </tr>\n",
       "    <tr>\n",
       "      <th>4</th>\n",
       "      <td>Música10</td>\n",
       "      <td>79</td>\n",
       "    </tr>\n",
       "    <tr>\n",
       "      <th>0</th>\n",
       "      <td>Música3</td>\n",
       "      <td>137</td>\n",
       "    </tr>\n",
       "    <tr>\n",
       "      <th>5</th>\n",
       "      <td>Música2</td>\n",
       "      <td>190</td>\n",
       "    </tr>\n",
       "    <tr>\n",
       "      <th>6</th>\n",
       "      <td>Música8</td>\n",
       "      <td>201</td>\n",
       "    </tr>\n",
       "  </tbody>\n",
       "</table>\n",
       "</div>"
      ],
      "text/plain": [
       "     Músicas  Toques\n",
       "1    Música7       2\n",
       "9    Música6      14\n",
       "10   Música4      14\n",
       "8    Música1      29\n",
       "2   Música11      30\n",
       "7    Música5      44\n",
       "3    Música9      45\n",
       "4   Música10      79\n",
       "0    Música3     137\n",
       "5    Música2     190\n",
       "6    Música8     201"
      ]
     },
     "metadata": {},
     "output_type": "display_data"
    }
   ],
   "source": [
    "# método 1\n",
    "primeiros_valores = [item[0] for item in lista]\n",
    "\n",
    "values = [item[1]['toques'] for item in lista]\n",
    "\n",
    "df = pd.DataFrame({'Músicas': primeiros_valores, 'Toques': values})\n",
    "display(df.sort_values(by=\"Toques\", ascending=False))\n",
    "display(df.sort_values(by=\"Toques\", ascending=True))"
   ]
  },
  {
   "cell_type": "code",
   "execution_count": 65,
   "id": "d0c8f2bb",
   "metadata": {},
   "outputs": [
    {
     "name": "stdout",
     "output_type": "stream",
     "text": [
      "[('Música7', {'toques': 2}), ('Música6', {'toques': 14}), ('Música4', {'toques': 14}), ('Música1', {'toques': 29}), ('Música11', {'toques': 30}), ('Música5', {'toques': 44}), ('Música9', {'toques': 45}), ('Música10', {'toques': 79}), ('Música3', {'toques': 137}), ('Música2', {'toques': 190}), ('Música8', {'toques': 201})]\n",
      "\n",
      "[('Música8', {'toques': 201}), ('Música2', {'toques': 190}), ('Música3', {'toques': 137}), ('Música10', {'toques': 79}), ('Música9', {'toques': 45}), ('Música5', {'toques': 44}), ('Música11', {'toques': 30}), ('Música1', {'toques': 29}), ('Música6', {'toques': 14}), ('Música4', {'toques': 14}), ('Música7', {'toques': 2})]\n"
     ]
    }
   ],
   "source": [
    "#Método 2\n",
    "lista=[\n",
    "('Música3',{'toques':137}),\n",
    "('Música7',{'toques':2}),\n",
    "('Música11',{'toques':30}),\n",
    "('Música9',{'toques':45}),\n",
    "('Música10',{'toques':79}),\n",
    "('Música2',{'toques':190}),\n",
    "('Música8',{'toques':201}),\n",
    "('Música5',{'toques':44}),\n",
    "('Música1',{'toques':29}),\n",
    "('Música6',{'toques':14}),\n",
    "('Música4',{'toques':14}),\n",
    "]\n",
    "print(sorted(lista,key=lambda musica:musica[1]['toques']))\n",
    "print()\n",
    "print(sorted(lista,key=lambda musica:musica[1]['toques'],reverse=True))"
   ]
  },
  {
   "cell_type": "markdown",
   "id": "f8b6b2c2",
   "metadata": {},
   "source": [
    "<hr style=\"border: 2px solid #4500ff;\">\n",
    "\n",
    "# <font color=\"#4500ff\" style=\"font-size: 25px;\">Exercício 73</font>\n",
    "<hr style=\"border: 2px solid #4500ff;\">"
   ]
  },
  {
   "cell_type": "markdown",
   "id": "abb65876",
   "metadata": {},
   "source": [
    " <p style='font-size: 23px; line-height: 2; margin: 0px 0px; text-align: justify; text-indent: 0px;'>    \n",
    "<i><b>Escreva um programa que gere 100 números aleatórios entre 1 e 1000 e armazene-os em uma lista.\n",
    "\n",
    "    \n",
    "</b></i>     \n",
    "</p>\n",
    "\n",
    "---"
   ]
  },
  {
   "cell_type": "code",
   "execution_count": 76,
   "id": "c9ba9add",
   "metadata": {},
   "outputs": [
    {
     "name": "stdout",
     "output_type": "stream",
     "text": [
      "[52, 774, 205, 17, 908, 9, 810, 780, 827, 984, 14, 781, 258, 428, 188, 373, 487, 884, 45, 840, 404, 290, 762, 892, 922, 867, 752, 891, 789, 256, 230, 273, 495, 458, 684, 941, 423, 49, 859, 857, 776, 555, 593, 48, 70, 11, 748, 830, 741, 899, 848, 612, 577, 802, 990, 847, 62, 347, 885, 779, 685, 543, 673, 365, 466, 564, 997, 530, 753, 719, 439, 755, 947, 861, 974, 44, 828, 197, 877, 698, 504, 563, 807, 757, 252, 552, 436, 814, 913, 561, 936, 690, 538, 694, 414, 722, 95, 856, 94, 671]\n"
     ]
    }
   ],
   "source": [
    "from random import sample\n",
    "\n",
    "x = sample(range(1,1001), 100)\n",
    "print(x)"
   ]
  },
  {
   "cell_type": "markdown",
   "id": "c83cbf55",
   "metadata": {},
   "source": [
    "---\n",
    "A função `sample` da biblioteca `random` embaralha os elementos em sua lista de origem (no caso, `range(1, 1001)`) e retorna uma amostra de tamanho especificado. Como resultado, os números não estarão em ordem crescente e não estarão \"lado a lado\".\n",
    "\n",
    "Se você deseja uma lista de números consecutivos em ordem crescente, você pode simplesmente usar uma compreensão de lista para criar essa lista. Aqui está como você pode fazer isso:\n",
    "\n",
    "```python\n",
    "from random import randint\n",
    "\n",
    "x = [randint(1, 1000) for _ in range(100)]\n",
    "```\n",
    "\n",
    "Isso criará uma lista de 100 números aleatórios entre 1 e 1000, mas eles podem se repetir, e a ordem não será necessariamente crescente. Se você quiser que a lista seja única e crescente, você pode gerar uma lista única e ordená-la posteriormente:\n",
    "\n",
    "```python\n",
    "x = sorted(list(set([randint(1, 1000) for _ in range(100)]))\n",
    "```\n",
    "\n",
    "Dessa forma, você obtém 100 números únicos em ordem crescente.\n",
    "\n",
    "---"
   ]
  },
  {
   "cell_type": "code",
   "execution_count": 133,
   "id": "12a085e0",
   "metadata": {},
   "outputs": [
    {
     "name": "stdout",
     "output_type": "stream",
     "text": [
      "[142, 317, 403, 356, 7, 931, 206, 471, 803, 184, 647, 43, 623, 488, 40, 988, 30, 368, 483, 225, 830, 723, 400, 988, 44, 73, 836, 37, 109, 584, 408, 300, 63, 168, 825, 136, 335, 201, 570, 956, 668, 791, 361, 888, 981, 16, 73, 814, 785, 645, 159, 787, 256, 203, 358, 652, 938, 716, 928, 714, 604, 218, 59, 940, 354, 120, 745, 341, 754, 954, 239, 384, 788, 607, 42, 692, 223, 615, 349, 65, 242, 386, 454, 937, 353, 441, 563, 765, 391, 833, 667, 766, 502, 189, 538, 368, 356, 567, 178, 316]\n"
     ]
    }
   ],
   "source": [
    "import random \n",
    "\n",
    "x = [randint(1, 1000) for _ in range(100)]\n",
    "print(x)\n"
   ]
  },
  {
   "cell_type": "markdown",
   "id": "ed7255a9",
   "metadata": {},
   "source": [
    "<hr style=\"border: 2px solid #4500ff;\">\n",
    "\n",
    "# <font color=\"#4500ff\" style=\"font-size: 25px;\">Exercício 74</font>\n",
    "<hr style=\"border: 2px solid #4500ff;\">"
   ]
  },
  {
   "cell_type": "markdown",
   "id": "6c3f6486",
   "metadata": {},
   "source": [
    " <p style='font-size: 23px; line-height: 2; margin: 0px 0px; text-align: justify; text-indent: 0px;'>    \n",
    "<i><b>Escreva um programa que gere 100 números reais aleatórios entre 0 e 1 e armazene-os em uma lista. Ao final seu programa deverá mostrar na tela as seguintes informações:\n",
    "\n",
    "Maior número;\n",
    "\n",
    "Menor número;\n",
    "\n",
    "Soma de todos os números gerados;\n",
    "\n",
    "Média e desvio padrão.\n",
    "</b></i>     \n",
    "</p>\n",
    "\n",
    "---"
   ]
  },
  {
   "cell_type": "code",
   "execution_count": 97,
   "id": "03528cdd",
   "metadata": {},
   "outputs": [
    {
     "name": "stdout",
     "output_type": "stream",
     "text": [
      "o maior número é: 1.0\n",
      "o menor número é: 0.0\n",
      "a soma dos valores é: 48.46\n",
      "a média dos números é: 0.48\n",
      "o desvio padrão dos números é: 0.29\n"
     ]
    }
   ],
   "source": [
    "import numpy as np\n",
    "\n",
    "x = [round(random.random(),2) for _ in range(100)]\n",
    "\n",
    "print(f\"o maior número é: {max(x)}\")\n",
    "print(f\"o menor número é: {min(x)}\")\n",
    "print(f\"a soma dos valores é: {round(sum(x),2)}\")\n",
    "print(f\"a média dos números é: {round(np.mean(x),2)}\")\n",
    "print(f\"o desvio padrão dos números é: {round(np.std(x),2)}\")"
   ]
  },
  {
   "cell_type": "code",
   "execution_count": 100,
   "id": "6ce9135d",
   "metadata": {},
   "outputs": [
    {
     "name": "stdout",
     "output_type": "stream",
     "text": [
      "Maior número: 0.9982972911103061\n",
      "Menor número: 0.015782286099052745\n",
      "Soma dos números: 52.43820997346924\n",
      "Média dos números gerados: 0.5243820997346924\n",
      "Desvio padrão dos números gerados: 0.3062791583269553\n"
     ]
    }
   ],
   "source": [
    "# Método 2\n",
    "from statistics import mean,stdev\n",
    " \n",
    "lista=[]\n",
    " \n",
    "for num in range(1,101):\n",
    "    lista.append(random.random())\n",
    " \n",
    "print(f'Maior número: {max(lista)}')\n",
    "print(f'Menor número: {min(lista)}')\n",
    "print(f'Soma dos números: {sum(lista)}')\n",
    "print(f'Média dos números gerados: {mean(lista)}')\n",
    "print(f'Desvio padrão dos números gerados: {stdev(lista)}')"
   ]
  },
  {
   "cell_type": "markdown",
   "id": "df9a08d2",
   "metadata": {},
   "source": [
    "<hr style=\"border: 2px solid #4500ff;\">\n",
    "\n",
    "# <font color=\"#4500ff\" style=\"font-size: 25px;\">Exercício 75</font>\n",
    "<hr style=\"border: 2px solid #4500ff;\">"
   ]
  },
  {
   "cell_type": "markdown",
   "id": "bb753c36",
   "metadata": {},
   "source": [
    " <p style='font-size: 23px; line-height: 2; margin: 0px 0px; text-align: justify; text-indent: 0px;'>    \n",
    "<i><b>Utilize for para obter a inversão de uma cadeia de string. Exemplos:\n",
    "\n",
    "```    \n",
    "!\n",
    "d\n",
    "l\n",
    "r\n",
    "o\n",
    "W\n",
    " \n",
    "o\n",
    "l\n",
    "l\n",
    "e\n",
    "H\n",
    " \n",
    " \n",
    " \n",
    "!dlroW olleH\n",
    "```\n",
    "\n",
    "</b></i>     \n",
    "</p>\n",
    "\n",
    "---"
   ]
  },
  {
   "cell_type": "code",
   "execution_count": 131,
   "id": "973884a6",
   "metadata": {},
   "outputs": [
    {
     "name": "stdout",
     "output_type": "stream",
     "text": [
      "!\n",
      "d\n",
      "l\n",
      "r\n",
      "o\n",
      "W\n",
      " \n",
      "o\n",
      "l\n",
      "l\n",
      "e\n",
      "H\n",
      "\n",
      "!dlroW olleH\n"
     ]
    }
   ],
   "source": [
    "x = 'Hello World!'\n",
    "lista = []\n",
    "\n",
    "# primeira coisa\n",
    "for i in range(1,len(x)+1):\n",
    "    print(x[-i])\n",
    "print()\n",
    "\n",
    "# segunda coisa\n",
    "for char in x:\n",
    "    lista.append(char)\n",
    "lista.reverse()\n",
    "lista = \"\".join(lista)\n",
    "print(lista)"
   ]
  },
  {
   "cell_type": "code",
   "execution_count": 132,
   "id": "f3085563",
   "metadata": {},
   "outputs": [
    {
     "name": "stdout",
     "output_type": "stream",
     "text": [
      "!\n",
      "d\n",
      "l\n",
      "r\n",
      "o\n",
      "W\n",
      " \n",
      "o\n",
      "l\n",
      "l\n",
      "e\n",
      "H\n",
      "!dlroW olleH"
     ]
    }
   ],
   "source": [
    "# método 2\n",
    "\n",
    "string1='Hello World!'\n",
    "for index in range(len(string1)-1,-1,-1):\n",
    "    print(string1[index])\n",
    "    \n",
    "for index in range(len(string1)-1,-1,-1):\n",
    "    print(string1[index],end='')"
   ]
  },
  {
   "cell_type": "code",
   "execution_count": null,
   "id": "1778af0d",
   "metadata": {},
   "outputs": [],
   "source": []
  }
 ],
 "metadata": {
  "kernelspec": {
   "display_name": "Python 3 (ipykernel)",
   "language": "python",
   "name": "python3"
  },
  "language_info": {
   "codemirror_mode": {
    "name": "ipython",
    "version": 3
   },
   "file_extension": ".py",
   "mimetype": "text/x-python",
   "name": "python",
   "nbconvert_exporter": "python",
   "pygments_lexer": "ipython3",
   "version": "3.11.3"
  }
 },
 "nbformat": 4,
 "nbformat_minor": 5
}

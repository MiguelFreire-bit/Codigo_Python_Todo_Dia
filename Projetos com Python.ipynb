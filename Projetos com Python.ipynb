{
 "cells": [
  {
   "cell_type": "markdown",
   "id": "3a5ce5ea",
   "metadata": {},
   "source": [
    "\n",
    "\n",
    "# <font color=\"#ff4500\" style=\"font-size: 30px;\">Código Python Todo Dia</font>\n"
   ]
  },
  {
   "cell_type": "markdown",
   "id": "353db778",
   "metadata": {},
   "source": [
    "<hr style=\"border: 2px solid #4500ff;\">\n",
    "\n",
    "# <font color=\"#4500ff\" style=\"font-size: 25px;\">Exercício 164</font>\n",
    "<hr style=\"border: 2px solid #4500ff;\">\n",
    "\n",
    " <p style='font-size: 23px; line-height: 2; margin: 0px 0px; text-align: justify; text-indent: 0px;'>    \n",
    "<i><b> Projeto 1 - Calculadora\n",
    "    \n",
    "### Elabore uma calculadora simples que efetue as operações básicas e acrescente algumas funcionalidades oriundas de uma calculadora científica.\n",
    "</b></i>     \n",
    "</p>\n",
    "\n",
    "---"
   ]
  },
  {
   "cell_type": "code",
   "execution_count": 154,
   "id": "97f2c2a5",
   "metadata": {},
   "outputs": [
    {
     "name": "stdout",
     "output_type": "stream",
     "text": [
      "25\n",
      "10\n",
      "1.0\n",
      "3125\n",
      "0\n",
      "Erro: Expressão matemática inválida!\n",
      "Erro: Expressão matemática inválida!\n",
      "25\n",
      "Erro: Expressão matemática inválida!\n",
      "Erro: Expressão matemática inválida!\n"
     ]
    }
   ],
   "source": [
    "# Primeira tentativa. Não gostei e meio que saiu da proposta. Vou tentar algo diferente\n",
    "\n",
    "import re\n",
    "\n",
    "def calculadora(operação):\n",
    "    '''Calcula a operação aritmética básica escolhida pelo usuário com os números x e y.'''\n",
    "    try:\n",
    "        # Verifica se a operação contém apenas números e operadores matemáticos válidos\n",
    "        condicional = re.search(r'[\\d\\s)]$', operação) and re.search(r'^[\\d\\s)]', operação) and re.search(r'[+\\-*/()%]', operação)\n",
    "        \n",
    "        if condicional:\n",
    "            valor = eval(operação)\n",
    "            return valor\n",
    "        else:\n",
    "            raise ValueError('Expressão matemática inválida!')\n",
    "    except Exception as e:\n",
    "         return  f'Erro: {e}'\n",
    "\n",
    "# Testes\n",
    "print(calculadora('5 * 5'))    # Saída: 25\n",
    "print(calculadora('5 + 5'))    # Saída: 10\n",
    "print(calculadora('5 / 5'))    # Saída: 1.0\n",
    "print(calculadora('5 ** 5'))   # Saída: 3125\n",
    "print(calculadora('5 % 5'))    # Saída: 0\n",
    "print(calculadora('5'))        # Mensagem de erro: Expressão matemática inválida!\n",
    "print(calculadora('x * x'))    # Mensagem de erro: Expressão matemática inválida!\n",
    "print(calculadora('5*5'))      # 25\n",
    "print(calculadora('5*'))       # Mensagem de erro: Expressão matemática inválida!\n",
    "print(calculadora('*5'))       # Mensagem de erro: Expressão matemática inválida!"
   ]
  },
  {
   "cell_type": "markdown",
   "id": "db1e58e9",
   "metadata": {},
   "source": [
    "---\n",
    "\n",
    "    print(\"\\t1 - Operações aritiméticas\")\n",
    "    print(\"\\t2 - Funções Logarítimicas e Potência\")\n",
    "    print(\"\\t3 - Funções trigonométricas\")\n",
    "    print(\"\\t4 - Outras opções\")\n",
    "    print(\"\\t5 - Sair\")\n",
    " "
   ]
  },
  {
   "cell_type": "code",
   "execution_count": 337,
   "id": "b777beb4",
   "metadata": {},
   "outputs": [
    {
     "data": {
      "text/html": [
       "\n",
       "    <style>\n",
       "        .custom-title {\n",
       "            font-size: 24px;\n",
       "            font-weight: bold;\n",
       "            padding-bottom: 20px;\n",
       "            text-align: center;\n",
       "        }\n",
       "    </style>\n"
      ],
      "text/plain": [
       "<IPython.core.display.HTML object>"
      ]
     },
     "metadata": {},
     "output_type": "display_data"
    },
    {
     "data": {
      "application/vnd.jupyter.widget-view+json": {
       "model_id": "402140b761d04b4f91a3b601d25e52f8",
       "version_major": 2,
       "version_minor": 0
      },
      "text/plain": [
       "HTML(value='<div class=\"custom-title\" >---------- Funções Logarítimicas e Potência--------</div>')"
      ]
     },
     "metadata": {},
     "output_type": "display_data"
    },
    {
     "data": {
      "application/vnd.jupyter.widget-view+json": {
       "model_id": "5c12c5059e80442ebcafcc734f9c10f8",
       "version_major": 2,
       "version_minor": 0
      },
      "text/plain": [
       "Text(value='0', description='Número 1:', placeholder='Digite algo aqui...')"
      ]
     },
     "metadata": {},
     "output_type": "display_data"
    },
    {
     "data": {
      "application/vnd.jupyter.widget-view+json": {
       "model_id": "7021e4a7322445fd9debdb850a92c8d4",
       "version_major": 2,
       "version_minor": 0
      },
      "text/plain": [
       "Text(value='0', description='Número 2(calculo de potência) ou base(calculo de log):', layout=Layout(width='500…"
      ]
     },
     "metadata": {},
     "output_type": "display_data"
    },
    {
     "data": {
      "application/vnd.jupyter.widget-view+json": {
       "model_id": "f28c1dbb17124b1a8ea283f421721645",
       "version_major": 2,
       "version_minor": 0
      },
      "text/plain": [
       "Text(value='log', description='Operação desejada (log, ** ):', placeholder='Digite algo aqui...', style=TextSt…"
      ]
     },
     "metadata": {},
     "output_type": "display_data"
    },
    {
     "data": {
      "application/vnd.jupyter.widget-view+json": {
       "model_id": "0752e12be1db4447aa4a5f9017b73ed2",
       "version_major": 2,
       "version_minor": 0
      },
      "text/plain": [
       "Button(description='Fazer Cálculo', style=ButtonStyle())"
      ]
     },
     "metadata": {},
     "output_type": "display_data"
    },
    {
     "name": "stdout",
     "output_type": "stream",
     "text": [
      "Resultado da operação é : 2\n"
     ]
    }
   ],
   "source": [
    "from IPython.display import display, HTML, clear_output\n",
    "import ipywidgets as widgets\n",
    "import math\n",
    "\n",
    "# Opções de operações\n",
    "\n",
    "operacao_1 = \"Operações aritiméticas\"\n",
    "operacao_2 = \"Funções Logarítimicas e Potência\"\n",
    "operacao_3 = \"Funções trigonométricas\"\n",
    "operacao_4 = \"Sair\"\n",
    "\n",
    "\n",
    "# Widgets de botão para seleção de operação\n",
    "\n",
    "operacao_1_botao = widgets.Button(description= operacao_1, layout=widgets.Layout(width='300px', height='100px', left='350px'))\n",
    "operacao_2_botao = widgets.Button(description= operacao_2, layout=widgets.Layout(width='300px', height='100px', left='350px'))\n",
    "operacao_3_botao = widgets.Button(description= operacao_3, layout=widgets.Layout(width='300px', height='100px', left='350px'))\n",
    "operacao_4_botao = widgets.Button(description= operacao_4, button_style='info', layout=widgets.Layout(width='300px', height='100px', left='350px'))\n",
    "\n",
    "\n",
    "#----------------------------------- FUNÇÕES QUE CONTROLAM A ACÃO DE CLICK -----------------------------------------------\n",
    "def operacao_1_click(b):\n",
    "    clear_output(wait=False)\n",
    "    \n",
    "    display(HTML(style))  \n",
    "    titulo = widgets.HTML(value=f'<div class=\"custom-title\" >---------- ADIÇÃO, SUBTRAÇÃO, DIVISÃO E MULTIPLICACÃO  --------</div>')\n",
    "    display(titulo)\n",
    "    \n",
    "    # Cria o widget de entrada de texto\n",
    "    aritmetrica_numero_1 = widgets.Text(placeholder='Digite algo aqui...', description='Número 1:', value='0')\n",
    "    aritmetrica_numero_2 = widgets.Text(placeholder='Digite algo aqui...', description='Número 2:', value='0')\n",
    "    aritmetrica_operação = widgets.Text(placeholder='Digite algo aqui...', description='Operação desejada (+ - * / ):', value='+')\n",
    "    aritmetrica_operação.style.description_width = 'initial'  # Isso fará com que a largura seja definida automaticamente\n",
    "    botão_calculo = widgets.Button(description= 'Fazer Cálculo')\n",
    "    \n",
    "    # Exibe o widget\n",
    "    display(aritmetrica_numero_1)\n",
    "    display(aritmetrica_numero_2)\n",
    "    display(aritmetrica_operação)\n",
    "    display(botão_calculo) \n",
    "    \n",
    "    def botão_calculo_click(b):\n",
    "        # Obtém os valores inseridos pelo usuário\n",
    "        numero_1 = aritmetrica_numero_1.value\n",
    "        numero_2 = aritmetrica_numero_2.value\n",
    "        operacao = aritmetrica_operação.value\n",
    "            \n",
    "        \n",
    "        conta = numero_1+operacao+numero_2\n",
    "        print(\"Resultado da operação é : {}\".format(eval(conta)))\n",
    "        \n",
    "\n",
    "        \n",
    "    \n",
    "    botão_calculo.on_click(botão_calculo_click)\n",
    "    \n",
    "    \n",
    "def operacao_2_click(b):\n",
    "    clear_output(wait=False)\n",
    "    \n",
    "    display(HTML(style))  \n",
    "    titulo = widgets.HTML(value=f'<div class=\"custom-title\" >---------- Funções Logarítimicas e Potência--------</div>')\n",
    "    display(titulo)\n",
    "    \n",
    "    # Cria o widget de entrada de texto    \n",
    "    aritmetrica_numero_1 = widgets.Text(placeholder='Digite algo aqui...', description='Número 1:', value='0')\n",
    "    aritmetrica_numero_2 = widgets.Text(placeholder='Digite algo aqui...', description='Número 2(calculo de potência) ou base(calculo de log):', value='0', layout=widgets.Layout(width='500px'))\n",
    "    aritmetrica_operação = widgets.Text(placeholder='Digite algo aqui...', description='Operação desejada (log, ** ):', value='log')\n",
    "    \n",
    "    aritmetrica_operação.style.description_width = 'initial'  # Isso fará com que a largura seja definida automaticamente\n",
    "    aritmetrica_numero_2.style.description_width = 'initial'  # Isso fará com que a largura seja definida automaticamente\n",
    "    \n",
    "    botão_calculo = widgets.Button(description= 'Fazer Cálculo')\n",
    "    \n",
    "    # Exibe o widget\n",
    "    display(aritmetrica_numero_1)\n",
    "    display(aritmetrica_numero_2)\n",
    "    display(aritmetrica_operação)\n",
    "    display(botão_calculo) \n",
    "    \n",
    "    def botão_calculo_click_log(b):\n",
    "        # Obtém os valores inseridos pelo usuário\n",
    "        numero_1 = aritmetrica_numero_1.value\n",
    "        numero_2 = aritmetrica_numero_2.value\n",
    "        operacao = aritmetrica_operação.value\n",
    "        \n",
    "                \n",
    "        if 'log' in operacao:\n",
    "            conta = round(math.log(int(numero_1), int(numero_2)),)\n",
    "            print(\"Resultado da operação é : {}\".format(conta))\n",
    "            \n",
    "        elif '**' in operacao:\n",
    "            conta = numero_1+operacao+numero_2\n",
    "            print(\"Resultado da operação é : {}\".format(eval(conta)))\n",
    "        \n",
    "        \n",
    "        \n",
    "        \n",
    "\n",
    "        \n",
    "    \n",
    "    botão_calculo.on_click(botão_calculo_click_log)\n",
    "    \n",
    "# --------------------------------PARTE CORRESPONDENTE A on_click------------------------------------------------------- \n",
    "\n",
    "# Associando as funções de clique aos botões\n",
    "operacao_1_botao.on_click(operacao_1_click)\n",
    "operacao_2_botao.on_click(operacao_2_click)\n",
    "\n",
    "# --------------------------------PARTE CORRESPONDENTE A ESTILIZAÇÃO-------------------------------------------------------\n",
    "\n",
    "# Define o HTML para o estilo dos widgets\n",
    "style = \"\"\"\n",
    "    <style>\n",
    "        .custom-title {\n",
    "            font-size: 24px;\n",
    "            font-weight: bold;\n",
    "            padding-bottom: 20px;\n",
    "            text-align: center;\n",
    "        }\n",
    "    </style>\n",
    "\"\"\"\n",
    "\n",
    "\n",
    "# Exibe o estilo HTML\n",
    "display(HTML(style))\n",
    "\n",
    "\n",
    "# Define os widgets\n",
    "titulo = widgets.HTML(value='<div class=\"custom-title\">-------- Calculadora --------</div>')\n",
    "\n",
    "# Exibe os widgets\n",
    "\n",
    "vb = widgets.VBox()\n",
    "vb.layout.align_items = 'center'\n",
    "    \n",
    "display(titulo)\n",
    "display(operacao_1_botao)\n",
    "display(operacao_2_botao)\n",
    "display(operacao_3_botao)\n",
    "display(operacao_4_botao)\n",
    "# -----------------------------------------------------------------------------------------------------------------------------"
   ]
  },
  {
   "cell_type": "code",
   "execution_count": null,
   "id": "43c83a47",
   "metadata": {},
   "outputs": [],
   "source": []
  },
  {
   "cell_type": "code",
   "execution_count": null,
   "id": "38dc53c4",
   "metadata": {},
   "outputs": [],
   "source": []
  },
  {
   "cell_type": "code",
   "execution_count": null,
   "id": "8af2662e",
   "metadata": {},
   "outputs": [],
   "source": []
  },
  {
   "cell_type": "code",
   "execution_count": null,
   "id": "ac9aa80e",
   "metadata": {},
   "outputs": [],
   "source": []
  },
  {
   "cell_type": "code",
   "execution_count": null,
   "id": "da89e05e",
   "metadata": {},
   "outputs": [],
   "source": []
  }
 ],
 "metadata": {
  "kernelspec": {
   "display_name": "Python 3 (ipykernel)",
   "language": "python",
   "name": "python3"
  },
  "language_info": {
   "codemirror_mode": {
    "name": "ipython",
    "version": 3
   },
   "file_extension": ".py",
   "mimetype": "text/x-python",
   "name": "python",
   "nbconvert_exporter": "python",
   "pygments_lexer": "ipython3",
   "version": "3.11.5"
  }
 },
 "nbformat": 4,
 "nbformat_minor": 5
}

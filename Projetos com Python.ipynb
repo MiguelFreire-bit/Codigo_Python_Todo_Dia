{
 "cells": [
  {
   "cell_type": "markdown",
   "id": "80911527",
   "metadata": {},
   "source": [
    "\n",
    "\n",
    "# <font color=\"#ff4500\" style=\"font-size: 30px;\">Código Python Todo Dia</font>\n"
   ]
  },
  {
   "cell_type": "markdown",
   "id": "cfc481a8",
   "metadata": {},
   "source": [
    "<hr style=\"border: 2px solid #4500ff;\">\n",
    "\n",
    "# <font color=\"#4500ff\" style=\"font-size: 25px;\">Exercício 164</font>\n",
    "<hr style=\"border: 2px solid #4500ff;\">\n",
    "\n",
    " <p style='font-size: 23px; line-height: 2; margin: 0px 0px; text-align: justify; text-indent: 0px;'>    \n",
    "<i><b> Projeto 1 - Calculadora\n",
    "    \n",
    "### Elabore uma calculadora simples que efetue as operações básicas e acrescente algumas funcionalidades oriundas de uma calculadora científica.\n",
    "</b></i>     \n",
    "</p>\n",
    "\n",
    "---"
   ]
  },
  {
   "cell_type": "code",
   "execution_count": 154,
   "id": "c8ec6d49",
   "metadata": {},
   "outputs": [
    {
     "name": "stdout",
     "output_type": "stream",
     "text": [
      "25\n",
      "10\n",
      "1.0\n",
      "3125\n",
      "0\n",
      "Erro: Expressão matemática inválida!\n",
      "Erro: Expressão matemática inválida!\n",
      "25\n",
      "Erro: Expressão matemática inválida!\n",
      "Erro: Expressão matemática inválida!\n"
     ]
    }
   ],
   "source": [
    "# Primeira tentativa. Não gostei e meio que saiu da proposta. Vou tentar algo diferente\n",
    "\n",
    "import re\n",
    "\n",
    "def calculadora(operação):\n",
    "    '''Calcula a operação aritmética básica escolhida pelo usuário com os números x e y.'''\n",
    "    try:\n",
    "        # Verifica se a operação contém apenas números e operadores matemáticos válidos\n",
    "        condicional = re.search(r'[\\d\\s)]$', operação) and re.search(r'^[\\d\\s)]', operação) and re.search(r'[+\\-*/()%]', operação)\n",
    "        \n",
    "        if condicional:\n",
    "            valor = eval(operação)\n",
    "            return valor\n",
    "        else:\n",
    "            raise ValueError('Expressão matemática inválida!')\n",
    "    except Exception as e:\n",
    "         return  f'Erro: {e}'\n",
    "\n",
    "# Testes\n",
    "print(calculadora('5 * 5'))    # Saída: 25\n",
    "print(calculadora('5 + 5'))    # Saída: 10\n",
    "print(calculadora('5 / 5'))    # Saída: 1.0\n",
    "print(calculadora('5 ** 5'))   # Saída: 3125\n",
    "print(calculadora('5 % 5'))    # Saída: 0\n",
    "print(calculadora('5'))        # Mensagem de erro: Expressão matemática inválida!\n",
    "print(calculadora('x * x'))    # Mensagem de erro: Expressão matemática inválida!\n",
    "print(calculadora('5*5'))      # 25\n",
    "print(calculadora('5*'))       # Mensagem de erro: Expressão matemática inválida!\n",
    "print(calculadora('*5'))       # Mensagem de erro: Expressão matemática inválida!"
   ]
  },
  {
   "cell_type": "markdown",
   "id": "c1c6c119",
   "metadata": {},
   "source": [
    "---\n",
    "\n",
    "    print(\"\\t1 - Operações aritiméticas\")\n",
    "    print(\"\\t2 - Funções Logarítimicas e Potência\")\n",
    "    print(\"\\t3 - Funções trigonométricas\")\n",
    "    print(\"\\t4 - Outras opções\")\n",
    "    print(\"\\t5 - Sair\")\n",
    " "
   ]
  },
  {
   "cell_type": "code",
   "execution_count": 395,
   "id": "f15e2363",
   "metadata": {
    "scrolled": false
   },
   "outputs": [
    {
     "data": {
      "text/html": [
       "\n",
       "    <style>\n",
       "        .custom-title {\n",
       "            font-size: 24px;\n",
       "            font-weight: bold;\n",
       "            padding-bottom: 20px;\n",
       "            text-align: center;\n",
       "        }\n",
       "    </style>\n"
      ],
      "text/plain": [
       "<IPython.core.display.HTML object>"
      ]
     },
     "metadata": {},
     "output_type": "display_data"
    },
    {
     "data": {
      "application/vnd.jupyter.widget-view+json": {
       "model_id": "74cf0710e1cf4ff0b0fc878ddb9a69cb",
       "version_major": 2,
       "version_minor": 0
      },
      "text/plain": [
       "HTML(value='<div class=\"custom-title\">-------- Calculadora --------</div>')"
      ]
     },
     "metadata": {},
     "output_type": "display_data"
    },
    {
     "data": {
      "application/vnd.jupyter.widget-view+json": {
       "model_id": "6a9ca4a3a2dc474099483d074e5fd55a",
       "version_major": 2,
       "version_minor": 0
      },
      "text/plain": [
       "Button(description='Operações aritiméticas', layout=Layout(height='100px', left='350px', width='300px'), style…"
      ]
     },
     "metadata": {},
     "output_type": "display_data"
    },
    {
     "data": {
      "application/vnd.jupyter.widget-view+json": {
       "model_id": "6a1e89f0c48a4f998b2f9d040c04e664",
       "version_major": 2,
       "version_minor": 0
      },
      "text/plain": [
       "Button(description='Funções Logarítimicas e Potência', layout=Layout(height='100px', left='350px', width='300p…"
      ]
     },
     "metadata": {},
     "output_type": "display_data"
    },
    {
     "data": {
      "application/vnd.jupyter.widget-view+json": {
       "model_id": "a4748e8ac70b438f8cd1b8a9ce80d81f",
       "version_major": 2,
       "version_minor": 0
      },
      "text/plain": [
       "Button(description='Funções trigonométricas', layout=Layout(height='100px', left='350px', width='300px'), styl…"
      ]
     },
     "metadata": {},
     "output_type": "display_data"
    },
    {
     "data": {
      "application/vnd.jupyter.widget-view+json": {
       "model_id": "049a18a75c704b5683f703c3ef2d862e",
       "version_major": 2,
       "version_minor": 0
      },
      "text/plain": [
       "Button(button_style='info', description='Sair', layout=Layout(height='100px', left='350px', width='300px'), st…"
      ]
     },
     "metadata": {},
     "output_type": "display_data"
    }
   ],
   "source": [
    "from IPython.display import display, HTML, clear_output\n",
    "import ipywidgets as widgets\n",
    "import math\n",
    "\n",
    "# Opções de operações\n",
    "\n",
    "operacao_1 = \"Operações aritiméticas\"\n",
    "operacao_2 = \"Funções Logarítimicas e Potência\"\n",
    "operacao_3 = \"Funções trigonométricas\"\n",
    "operacao_4 = \"Sair\"\n",
    "\n",
    "def menu_inicial():\n",
    "\n",
    "\n",
    "    # Widgets de botão para seleção de operação\n",
    "\n",
    "    operacao_1_botao = widgets.Button(description= operacao_1, layout=widgets.Layout(width='300px', height='100px', left='350px'))\n",
    "    operacao_2_botao = widgets.Button(description= operacao_2, layout=widgets.Layout(width='300px', height='100px', left='350px'))\n",
    "    operacao_3_botao = widgets.Button(description= operacao_3, layout=widgets.Layout(width='300px', height='100px', left='350px'))\n",
    "    operacao_4_botao = widgets.Button(description= operacao_4, button_style='info', layout=widgets.Layout(width='300px', height='100px', left='350px'))\n",
    "    \n",
    "# --------------------------------PARTE CORRESPONDENTE A on_click--------------------------------------------------------------\n",
    "\n",
    "    # Associando as funções de clique aos botões\n",
    "    operacao_1_botao.on_click(operacao_1_click)\n",
    "    operacao_2_botao.on_click(operacao_2_click)\n",
    "    operacao_3_botao.on_click(operacao_3_click)\n",
    "    operacao_4_botao.on_click(operacao_4_click)   \n",
    "\n",
    "    \n",
    "    # Exibe o estilo HTML\n",
    "    display(HTML(style))\n",
    "\n",
    "\n",
    "    # Define os widgets\n",
    "    titulo = widgets.HTML(value='<div class=\"custom-title\">-------- Calculadora --------</div>')\n",
    "    display(titulo)\n",
    "    display(operacao_1_botao)\n",
    "    display(operacao_2_botao)\n",
    "    display(operacao_3_botao)\n",
    "    display(operacao_4_botao)\n",
    "\n",
    "#----------------------------------- FUNÇÕES QUE CONTROLAM A ACÃO DE CLICK -----------------------------------------------\n",
    "def operacao_1_click(b):\n",
    "    clear_output(wait=False)\n",
    "    \n",
    "    display(HTML(style))  \n",
    "    titulo = widgets.HTML(value=f'<div class=\"custom-title\" >---------- ADIÇÃO, SUBTRAÇÃO, DIVISÃO E MULTIPLICACÃO  --------</div>')\n",
    "    display(titulo)\n",
    "    \n",
    "    # Cria o widget de entrada de texto\n",
    "    aritmetrica_numero_1 = widgets.Text(placeholder='Digite algo aqui...', description='Número 1:', value='0')\n",
    "    aritmetrica_numero_2 = widgets.Text(placeholder='Digite algo aqui...', description='Número 2:', value='0')\n",
    "    aritmetrica_operação = widgets.Text(placeholder='Digite algo aqui...', description='Operação desejada (+ - * / ):', value='+')\n",
    "    aritmetrica_operação.style.description_width = 'initial'  # Isso fará com que a largura seja definida automaticamente\n",
    "    \n",
    "    botão_calculo = widgets.Button(description= 'Fazer Cálculo')\n",
    "    botão_voltar = widgets.Button(description= 'Voltar menu inicial')\n",
    "    \n",
    "    # Exibe o widget\n",
    "    display(aritmetrica_numero_1)\n",
    "    display(aritmetrica_numero_2)\n",
    "    display(aritmetrica_operação)\n",
    "    display(botão_calculo) \n",
    "    display(botão_voltar) \n",
    "    \n",
    "    def botão_calculo_click(b):\n",
    "        # Obtém os valores inseridos pelo usuário\n",
    "        numero_1 = aritmetrica_numero_1.value\n",
    "        numero_2 = aritmetrica_numero_2.value\n",
    "        operacao = aritmetrica_operação.value\n",
    "            \n",
    "        \n",
    "        conta = numero_1+operacao+numero_2\n",
    "        print(\"Resultado da operação é : {}\".format(eval(conta)))\n",
    "        \n",
    "    def botao_voltar_click(b):\n",
    "        \n",
    "        clear_output(wait=False)\n",
    "        menu_inicial()        \n",
    "        \n",
    "\n",
    "        \n",
    "    \n",
    "    botão_calculo.on_click(botão_calculo_click)\n",
    "    botão_voltar.on_click(botao_voltar_click)    \n",
    "    \n",
    "    \n",
    "def operacao_2_click(b):\n",
    "    clear_output(wait=False)\n",
    "    \n",
    "    display(HTML(style))  \n",
    "    titulo = widgets.HTML(value=f'<div class=\"custom-title\" >---------- Funções Logarítimicas e Potência--------</div>')\n",
    "    display(titulo)\n",
    "    \n",
    "    # Cria o widget de entrada de texto    \n",
    "    aritmetrica_numero_1 = widgets.Text(placeholder='Digite algo aqui...', description='Número 1:', value='0')\n",
    "    aritmetrica_numero_2 = widgets.Text(placeholder='Digite algo aqui...', description='Número 2(calculo de potência) ou base(calculo de log):', value='0', layout=widgets.Layout(width='500px'))\n",
    "    aritmetrica_operação = widgets.Text(placeholder='Digite algo aqui...', description='Operação desejada (log, ** ):', value='log')\n",
    "    \n",
    "    aritmetrica_operação.style.description_width = 'initial'  # Isso fará com que a largura seja definida automaticamente\n",
    "    aritmetrica_numero_2.style.description_width = 'initial'  # Isso fará com que a largura seja definida automaticamente\n",
    "    \n",
    "    botão_calculo = widgets.Button(description= 'Fazer Cálculo')\n",
    "    botão_voltar = widgets.Button(description= 'Voltar menu inicial')\n",
    "    \n",
    "    # Exibe o widget\n",
    "    display(aritmetrica_numero_1)\n",
    "    display(aritmetrica_numero_2)\n",
    "    display(aritmetrica_operação)\n",
    "    display(botão_calculo) \n",
    "    display(botão_voltar)\n",
    "    \n",
    "    def botão_calculo_click_log(b):\n",
    "        # Obtém os valores inseridos pelo usuário\n",
    "        numero_1 = aritmetrica_numero_1.value\n",
    "        numero_2 = aritmetrica_numero_2.value\n",
    "        operacao = aritmetrica_operação.value\n",
    "        \n",
    "                \n",
    "        if 'log' in operacao:\n",
    "            conta = round(math.log(int(numero_1), int(numero_2)),2)\n",
    "            print(\"Resultado da operação é : {}\".format(conta))\n",
    "            \n",
    "        elif '**' in operacao:\n",
    "            conta = numero_1+operacao+numero_2\n",
    "            print(\"Resultado da operação é : {}\".format(eval(conta)))\n",
    "            \n",
    "    def botao_voltar_click(b):\n",
    "        \n",
    "        clear_output(wait=False)\n",
    "        menu_inicial()\n",
    "        \n",
    "        \n",
    "        \n",
    "        \n",
    "\n",
    "        \n",
    "    \n",
    "    botão_calculo.on_click(botão_calculo_click_log)\n",
    "    botão_voltar.on_click(botao_voltar_click)\n",
    "    \n",
    "    \n",
    "def operacao_3_click(b):\n",
    "    clear_output(wait=False)\n",
    "    \n",
    "    display(HTML(style))  \n",
    "    titulo = widgets.HTML(value=f'<div class=\"custom-title\" >---------- Funções Logarítimicas e Potência--------</div>')\n",
    "    display(titulo)\n",
    "    \n",
    "    # Cria o widget de entrada de texto    \n",
    "    aritmetrica_numero_1 = widgets.Text(placeholder='Digite algo aqui...', description='Ângulo: ', value='0')\n",
    "   \n",
    "    aritmetrica_operação = widgets.Text(placeholder='Digite algo aqui...', description='Operação desejada (seno, cosseno, tangente):', value='seno', layout=widgets.Layout(width='500px'))\n",
    "    aritmetrica_operação.style.description_width = 'initial'  # Isso fará com que a largura seja definida automaticamente\n",
    "    \n",
    "    botão_calculo = widgets.Button(description= 'Fazer Cálculo')\n",
    "    botão_voltar = widgets.Button(description= 'Voltar menu inicial')\n",
    "    \n",
    "    # Exibe o widget\n",
    "    display(aritmetrica_numero_1)\n",
    "    display(aritmetrica_operação)\n",
    "    display(botão_calculo)\n",
    "    display(botão_voltar) \n",
    "    \n",
    "    def botão_calculo_click_log(b):\n",
    "        # Obtém os valores inseridos pelo usuário\n",
    "        numero_1 = aritmetrica_numero_1.value\n",
    "        operacao = aritmetrica_operação.value\n",
    "        \n",
    "                \n",
    "        if 'seno' in operacao and not 'cosseno' in operacao:\n",
    "            conta = round(math.sin(math.radians(float(numero_1))),2)\n",
    "            print(\"Resultado da operação é : {}\".format(conta))\n",
    "            \n",
    "        elif 'cosseno' in operacao:\n",
    "            conta = round(math.cos(math.radians(float(numero_1))),2)\n",
    "            print(\"Resultado da operação é : {}\".format(conta))\n",
    "\n",
    "        elif 'tangente' in operacao:\n",
    "            conta = round(math.tan(math.radians(float(numero_1))),2)\n",
    "            print(\"Resultado da operação é : {}\".format(conta))\n",
    "            \n",
    "    def botao_voltar_click(b):\n",
    "        \n",
    "        clear_output(wait=False)\n",
    "        menu_inicial()\n",
    "        \n",
    "            \n",
    "        \n",
    "\n",
    "        \n",
    "    \n",
    "    botão_calculo.on_click(botão_calculo_click_log)\n",
    "    botão_voltar.on_click(botao_voltar_click)\n",
    "    \n",
    "    \n",
    "    \n",
    "def operacao_4_click(b):\n",
    "    clear_output(wait=False) \n",
    "    print(\"Saindo...\") # Adiciona uma mensagem de saída    \n",
    "    \n",
    "\n",
    "# --------------------------------PARTE CORRESPONDENTE A ESTILIZAÇÃO-------------------------------------------------------\n",
    "\n",
    "# Define o HTML para o estilo dos widgets\n",
    "style = \"\"\"\n",
    "    <style>\n",
    "        .custom-title {\n",
    "            font-size: 24px;\n",
    "            font-weight: bold;\n",
    "            padding-bottom: 20px;\n",
    "            text-align: center;\n",
    "        }\n",
    "    </style>\n",
    "\"\"\"\n",
    "\n",
    "    \n",
    "\n",
    "menu_inicial()\n",
    "# -----------------------------------------------------------------------------------------------------------------------------"
   ]
  },
  {
   "cell_type": "markdown",
   "id": "4b516873",
   "metadata": {},
   "source": [
    "<hr style=\"border: 2px solid #4500ff;\">\n",
    "\n",
    "# <font color=\"#4500ff\" style=\"font-size: 25px;\">Exercício 164</font>\n",
    "<hr style=\"border: 2px solid #4500ff;\">\n",
    "\n",
    " <p style='font-size: 23px; line-height: 2; margin: 0px 0px; text-align: justify; text-indent: 0px;'>    \n",
    "<i><b> Projeto 2 - Conversor de Unidades\n",
    "    \n",
    "### Elabore um programa completo que dê ao usuário a possibilidade de converter várias unidades de medida (tempo, volume,massa,dentre outras).\n",
    "</b></i>     \n",
    "</p>\n",
    "\n",
    "---"
   ]
  },
  {
   "cell_type": "code",
   "execution_count": 432,
   "id": "c26bb955",
   "metadata": {},
   "outputs": [
    {
     "data": {
      "text/html": [
       "\n",
       "    <style>\n",
       "        .custom-title {\n",
       "            font-size: 24px;\n",
       "            font-weight: bold;\n",
       "            padding-bottom: 20px;\n",
       "            text-align: center;\n",
       "        }\n",
       "    </style>\n"
      ],
      "text/plain": [
       "<IPython.core.display.HTML object>"
      ]
     },
     "metadata": {},
     "output_type": "display_data"
    },
    {
     "data": {
      "application/vnd.jupyter.widget-view+json": {
       "model_id": "b0476bdce2c94566b3334d2bd66a61e8",
       "version_major": 2,
       "version_minor": 0
      },
      "text/plain": [
       "HTML(value='<div class=\"custom-title\">-------- Conversor de Unidades --------</div>')"
      ]
     },
     "metadata": {},
     "output_type": "display_data"
    },
    {
     "data": {
      "application/vnd.jupyter.widget-view+json": {
       "model_id": "a5aaf9ee788b4362a35c2590b96ebba5",
       "version_major": 2,
       "version_minor": 0
      },
      "text/plain": [
       "HBox(children=(Button(description='Tempo', layout=Layout(height='100px', width='300px'), style=ButtonStyle(fon…"
      ]
     },
     "metadata": {},
     "output_type": "display_data"
    },
    {
     "data": {
      "application/vnd.jupyter.widget-view+json": {
       "model_id": "90221696ad5b4ea89963549c12a15e95",
       "version_major": 2,
       "version_minor": 0
      },
      "text/plain": [
       "Button(button_style='info', description='Sair', layout=Layout(height='95px', left='350px', top='8px', width='3…"
      ]
     },
     "metadata": {},
     "output_type": "display_data"
    }
   ],
   "source": [
    "medida_1 = 'Tempo'\n",
    "medida_2 = 'Volume'\n",
    "medida_3 = 'Massa'\n",
    "medida_4 = 'Distância'\n",
    "\n",
    "# Define o HTML para o estilo dos widgets\n",
    "style = \"\"\"\n",
    "    <style>\n",
    "        .custom-title {\n",
    "            font-size: 24px;\n",
    "            font-weight: bold;\n",
    "            padding-bottom: 20px;\n",
    "            text-align: center;\n",
    "        }\n",
    "    </style>\n",
    "\"\"\"\n",
    "\n",
    "def menu_inicial():\n",
    "    '''Essa função constara os botões com os nomes das medidas que desejam converter'''\n",
    "    \n",
    "    # Widgets de botão para seleção de operação\n",
    "\n",
    "    medida_1_botao = widgets.Button(description= medida_1, layout=widgets.Layout(width='300px', height='100px'), style=dict(font_weight='bold', font_size='15px'))\n",
    "    medida_2_botao = widgets.Button(description= medida_2, layout=widgets.Layout(width='300px', height='100px'), style=dict(font_weight='bold', font_size='15px'))\n",
    "    medida_3_botao = widgets.Button(description= medida_3, layout=widgets.Layout(width='300px', height='100px'), style=dict(font_weight='bold', font_size='15px'))\n",
    "    medida_4_botao = widgets.Button(description= medida_4, layout=widgets.Layout(width='300px', height='100px'), style=dict(font_weight='bold', font_size='15px'))\n",
    "    botao_sair_botao = widgets.Button(description= 'Sair', button_style='info', layout=widgets.Layout(width='300px', top='8px', height='95px', left='350px'), style=dict(font_weight='bold', font_size='15px'))\n",
    "    \n",
    "    # Exibe o estilo HTML\n",
    "    display(HTML(style))\n",
    "\n",
    "    # Exibe o título\n",
    "    titulo = widgets.HTML(value='<div class=\"custom-title\">-------- Conversor de Unidades --------</div>')\n",
    "    display(titulo)\n",
    "    \n",
    "    # Exibe os widgets em um contêiner HBox para alinhamento horizontal\n",
    "    display(widgets.HBox([medida_1_botao, medida_2_botao, medida_3_botao, medida_4_botao]))\n",
    "\n",
    "    display(botao_sair_botao)\n",
    "\n",
    "menu_inicial()\n"
   ]
  },
  {
   "cell_type": "code",
   "execution_count": null,
   "id": "d364d924",
   "metadata": {},
   "outputs": [],
   "source": []
  },
  {
   "cell_type": "code",
   "execution_count": null,
   "id": "09a49264",
   "metadata": {},
   "outputs": [],
   "source": []
  },
  {
   "cell_type": "code",
   "execution_count": null,
   "id": "d9966bd4",
   "metadata": {},
   "outputs": [],
   "source": []
  }
 ],
 "metadata": {
  "kernelspec": {
   "display_name": "Python 3 (ipykernel)",
   "language": "python",
   "name": "python3"
  },
  "language_info": {
   "codemirror_mode": {
    "name": "ipython",
    "version": 3
   },
   "file_extension": ".py",
   "mimetype": "text/x-python",
   "name": "python",
   "nbconvert_exporter": "python",
   "pygments_lexer": "ipython3",
   "version": "3.11.5"
  }
 },
 "nbformat": 4,
 "nbformat_minor": 5
}

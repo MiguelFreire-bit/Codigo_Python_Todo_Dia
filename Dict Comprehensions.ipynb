{
 "cells": [
  {
   "cell_type": "markdown",
   "id": "ad67072e",
   "metadata": {},
   "source": [
    "\n",
    "\n",
    "# <font color=\"#ff4500\" style=\"font-size: 30px;\">Código Python Todo Dia</font>\n"
   ]
  },
  {
   "cell_type": "markdown",
   "id": "de962b57",
   "metadata": {},
   "source": [
    "<hr style=\"border: 2px solid #4500ff;\">\n",
    "\n",
    "# <font color=\"#4500ff\" style=\"font-size: 25px;\">Exercício 108</font>\n",
    "<hr style=\"border: 2px solid #4500ff;\">\n",
    "\n",
    " <p style='font-size: 23px; line-height: 2; margin: 0px 0px; text-align: justify; text-indent: 0px;'>    \n",
    "<i><b> Nos exercícios anteriores utilizamos compreensão de listas para construir listas de uma forma rápida e 'pythônica' utilizando uma notação simples. Os dicionários também suportam a mesma operação, possibilitando uma construção simples e compacta combinando loops e estruturas condicionais. Nestes termos, podemos aplicar esse conceito para criar DataFrames com pandas, uma aplicação muito comum em Data Science.\n",
    "\n",
    "## Sendo assim, utilize compreensão de dicionários para construir os dicionários abaixo.\n",
    "--- \n",
    "## a) Crie um dicionário em que suas chaves serão os números 1, 4, 5, 6, 7, 9 (que podem ser armazenados em uma lista) e seus valores correspondem ao quadrado destes números.\n",
    "\n",
    "\n",
    "    \n",
    "```python\n",
    "{1: 1, 4: 16, 5: 25, 6: 36, 7: 49, 9: 81}\n",
    "   \n",
    "```\n",
    "---\n",
    "    \n",
    "## b) Crie um dicionário em que suas chaves correspondem a números inteiros entre [1,10] e cada valor associado é o número ao quadrado.\n",
    "    \n",
    "```python\n",
    "{1: 1, 2: 4, 3: 9, 4: 16, 5: 25, 6: 36, 7: 49, 8: 64, 9: 81, 10: 100}\n",
    "```\n",
    "---\n",
    "## c) Crie um dicionário em que suas chaves correspondem a números de 10 a 1 e seus respectivos valores denotam o cubo de cada chave.\n",
    "    \n",
    "```python\n",
    "{10: 1000, 9: 729, 8: 512, 7: 343, 6: 216, 5: 125, 4: 64, 3: 27, 2: 8, 1: 1}\n",
    "```\n",
    "</b></i>     \n",
    "</p>\n",
    "\n",
    "---"
   ]
  },
  {
   "cell_type": "code",
   "execution_count": 6,
   "id": "d7e5f351",
   "metadata": {},
   "outputs": [
    {
     "name": "stdout",
     "output_type": "stream",
     "text": [
      "{1: 1, 4: 16, 5: 25, 6: 36, 7: 49, 9: 81}\n",
      "{1: 1, 2: 4, 3: 9, 4: 16, 5: 25, 6: 36, 7: 49, 8: 64, 9: 81, 10: 100}\n",
      "{10: 1000, 9: 729, 8: 512, 7: 343, 6: 216, 5: 125, 4: 64, 3: 27, 2: 8, 1: 1}\n"
     ]
    }
   ],
   "source": [
    "# A)\n",
    "lista = [1, 4, 5, 6, 7, 9]\n",
    "dict_ = {x:x**2 for x in lista}\n",
    "print(dict_)\n",
    "\n",
    "# B)\n",
    "dict_ = {x:x**2 for x in range(1,11)}\n",
    "print(dict_)\n",
    "\n",
    "# C)\n",
    "dict_ = {x:x**3 for x in range(10,0,-1)}\n",
    "print(dict_)"
   ]
  },
  {
   "cell_type": "markdown",
   "id": "d5282dd5",
   "metadata": {},
   "source": [
    "<hr style=\"border: 2px solid #4500ff;\">\n",
    "\n",
    "# <font color=\"#4500ff\" style=\"font-size: 25px;\">Exercício 109</font>\n",
    "<hr style=\"border: 2px solid #4500ff;\">\n",
    "\n",
    " <p style='font-size: 23px; line-height: 2; margin: 0px 0px; text-align: justify; text-indent: 0px;'>    \n",
    "<i><b> A partir da lista\n",
    "\n",
    "    \n",
    "```python\n",
    "linguagens = ['python', 'javascript', 'java', 'php', 'c', 'julia']\n",
    "   \n",
    "```\n",
    "---\n",
    "    \n",
    "## Use Dict Comprehension para construir o dicionário abaixo:   \n",
    "    \n",
    "```python\n",
    "{'python': 6, 'javascript': 10, 'java': 4, 'php': 3, 'c': 1, 'julia': 5}\n",
    "```\n",
    "---\n",
    "## Dica: observe que o valor associado a cada chave corresponde ao tamanho de cada string..\n",
    "    \n",
    "</b></i>     \n",
    "</p>\n",
    "\n",
    "---"
   ]
  },
  {
   "cell_type": "code",
   "execution_count": 7,
   "id": "1f2c64fe",
   "metadata": {},
   "outputs": [
    {
     "data": {
      "text/plain": [
       "{'python': 6, 'javascript': 10, 'java': 4, 'php': 3, 'c': 1, 'julia': 5}"
      ]
     },
     "execution_count": 7,
     "metadata": {},
     "output_type": "execute_result"
    }
   ],
   "source": [
    "linguagens = ['python', 'javascript', 'java', 'php', 'c', 'julia']\n",
    "\n",
    "dict_ = {x:len(x) for x in linguagens}\n",
    "dict_"
   ]
  },
  {
   "cell_type": "markdown",
   "id": "b5bba380",
   "metadata": {},
   "source": [
    "<hr style=\"border: 2px solid #4500ff;\">\n",
    "\n",
    "# <font color=\"#4500ff\" style=\"font-size: 25px;\">Exercício 110</font>\n",
    "<hr style=\"border: 2px solid #4500ff;\">\n",
    "\n",
    " <p style='font-size: 23px; line-height: 2; margin: 0px 0px; text-align: justify; text-indent: 0px;'>    \n",
    "<i><b> A partir da lista\n",
    "\n",
    "    \n",
    "```python\n",
    "frutas = ['  Banana  ', ' Laranja   ', '  Maçã', ' Melão ']\n",
    "   \n",
    "```\n",
    "---\n",
    "    \n",
    "## Use Dict Comprehension para construir o dicionário abaixo:   \n",
    "    \n",
    "```python\n",
    "{'1': 'Banana', '2': 'Laranja', '3': 'Maçã', '4': 'Melão'}\n",
    "```\n",
    "---\n",
    "    \n",
    "</b></i>     \n",
    "</p>\n",
    "\n",
    "---"
   ]
  },
  {
   "cell_type": "code",
   "execution_count": 10,
   "id": "10e05f6e",
   "metadata": {},
   "outputs": [
    {
     "data": {
      "text/plain": [
       "{'1': 'Banana', '2': 'Laranja', '3': 'Maçã', '4': 'Melão'}"
      ]
     },
     "execution_count": 10,
     "metadata": {},
     "output_type": "execute_result"
    }
   ],
   "source": [
    "frutas = ['  Banana  ', ' Laranja   ', '  Maçã', ' Melão ']\n",
    "\n",
    "dict_ = {str(indice):fruta.strip() for indice, fruta in enumerate(frutas, start=1)}\n",
    "dict_"
   ]
  },
  {
   "cell_type": "markdown",
   "id": "c7d45522",
   "metadata": {},
   "source": [
    "<hr style=\"border: 2px solid #4500ff;\">\n",
    "\n",
    "# <font color=\"#4500ff\" style=\"font-size: 25px;\">Exercício 111</font>\n",
    "<hr style=\"border: 2px solid #4500ff;\">\n",
    "\n",
    " <p style='font-size: 23px; line-height: 2; margin: 0px 0px; text-align: justify; text-indent: 0px;'>    \n",
    "<i><b> Utilize compreensão de dicionários para construir o dicionário abaixo.\n",
    "\n",
    "    \n",
    "```python\n",
    "{'chave1': 1, 'chave2': 4, 'chave3': 9, 'chave4': 16, 'chave5': 25, 'chave6': 36, 'chave7': 49, 'chave8': 64, 'chave9': 81}\n",
    "   \n",
    "```\n",
    "---\n",
    "    \n",
    "</b></i>     \n",
    "</p>\n",
    "\n",
    "---"
   ]
  },
  {
   "cell_type": "code",
   "execution_count": 2,
   "id": "f8b27b51",
   "metadata": {},
   "outputs": [
    {
     "name": "stdout",
     "output_type": "stream",
     "text": [
      "{'chave1': 1, 'chave2': 4, 'chave3': 9, 'chave4': 16, 'chave5': 25, 'chave6': 36, 'chave7': 49, 'chave8': 64, 'chave9': 81}\n"
     ]
    }
   ],
   "source": [
    "dict_ = {f\"chave{i}\":i**2 for i in range(1,10)}\n",
    "print(dict_)"
   ]
  },
  {
   "cell_type": "markdown",
   "id": "3816a248",
   "metadata": {},
   "source": [
    "<hr style=\"border: 2px solid #4500ff;\">\n",
    "\n",
    "# <font color=\"#4500ff\" style=\"font-size: 25px;\">Exercício 112</font>\n",
    "<hr style=\"border: 2px solid #4500ff;\">\n",
    "\n",
    " <p style='font-size: 23px; line-height: 2; margin: 0px 0px; text-align: justify; text-indent: 0px;'>    \n",
    "<i><b> Utilize compreensão de dicionários para construir o dicionário abaixo.\n",
    "\n",
    "    \n",
    "```python\n",
    "{'A': 1, 'B': 2, 'C': 6, 'D': 24, 'E': 120}\n",
    "   \n",
    "```\n",
    "\n",
    "Dica: observe que o valor associado a cada chave corresponde ao fatorial de cada número no intervalo [1,5].\n",
    "    \n",
    "---\n",
    "    \n",
    "</b></i>     \n",
    "</p>\n",
    "\n",
    "---"
   ]
  },
  {
   "cell_type": "code",
   "execution_count": 21,
   "id": "b3c44399",
   "metadata": {},
   "outputs": [
    {
     "name": "stdout",
     "output_type": "stream",
     "text": [
      "{'A': 1, 'B': 2, 'C': 6, 'D': 24, 'E': 120}\n"
     ]
    },
    {
     "data": {
      "text/plain": [
       "{'A': 1, 'B': 2, 'C': 6, 'D': 24, 'E': 120}"
      ]
     },
     "execution_count": 21,
     "metadata": {},
     "output_type": "execute_result"
    }
   ],
   "source": [
    "import math as mp\n",
    "\n",
    "lista = ['A','B','C','D','E']\n",
    "dict_ = {element:mp.factorial(num) for num, element in enumerate(lista, start=1) }\n",
    "print(dict_)\n",
    "\n",
    "# outra resolução \n",
    "\n",
    "from math import factorial\n",
    "dicionario = {chr(64+i):factorial(i)  for i in range(1,6)}\n",
    "dicionario"
   ]
  },
  {
   "cell_type": "markdown",
   "id": "aaf01b34",
   "metadata": {},
   "source": [
    "<hr style=\"border: 2px solid #4500ff;\">\n",
    "\n",
    "# <font color=\"#4500ff\" style=\"font-size: 25px;\">Exercício 113</font>\n",
    "<hr style=\"border: 2px solid #4500ff;\">\n",
    "\n",
    " <p style='font-size: 23px; line-height: 2; margin: 0px 0px; text-align: justify; text-indent: 0px;'>    \n",
    "<i><b> A partir das listas\n",
    "\n",
    "    \n",
    "```python\n",
    "empresa = ['ABEV3', 'AZUL4', 'BTOW3', 'RENT3', 'JBSS3']\n",
    "precos = [12.85, 22.55, 115.08, 49.03, 24.41] \n",
    "   \n",
    "```\n",
    "\n",
    "Utilize compreensão de dicionários e obtenha:\n",
    "\n",
    "    \n",
    "```python\n",
    "{'ABEV3': 12.85, 'AZUL4': 22.55, 'BTOW3': 115.08, 'RENT3': 49.03, 'JBSS3': 24.41}\n",
    "```\n",
    "   \n",
    "    \n",
    "---\n",
    "    \n",
    "</b></i>     \n",
    "</p>\n",
    "\n",
    "---"
   ]
  },
  {
   "cell_type": "code",
   "execution_count": 14,
   "id": "f5f19eed",
   "metadata": {},
   "outputs": [
    {
     "name": "stdout",
     "output_type": "stream",
     "text": [
      "{'ABEV3': 12.85, 'AZUL4': 22.55, 'BTOW3': 115.08, 'RENT3': 49.03, 'JBSS3': 24.41}\n",
      "{'ABEV3': 12.85, 'AZUL4': 22.55, 'BTOW3': 115.08, 'RENT3': 49.03, 'JBSS3': 24.41}\n"
     ]
    }
   ],
   "source": [
    "empresa = ['ABEV3', 'AZUL4', 'BTOW3', 'RENT3', 'JBSS3']\n",
    "precos = [12.85, 22.55, 115.08, 49.03, 24.41] \n",
    "\n",
    "dict_ = {E: P for E, P in zip(empresa, precos)}\n",
    "print(dict_)\n",
    "\n",
    "# Outra forma de resolver\n",
    "dict_ = {empresa[i]:precos[i] for i in range(len(empresa))}\n",
    "print(dict_)"
   ]
  },
  {
   "cell_type": "markdown",
   "id": "601932cf",
   "metadata": {},
   "source": [
    "<hr style=\"border: 2px solid #4500ff;\">\n",
    "\n",
    "# <font color=\"#4500ff\" style=\"font-size: 25px;\">Exercício 114</font>\n",
    "<hr style=\"border: 2px solid #4500ff;\">\n",
    "\n",
    " <p style='font-size: 23px; line-height: 2; margin: 0px 0px; text-align: justify; text-indent: 0px;'>    \n",
    "<i><b> Do dicionário abaixo:\n",
    "\n",
    "    \n",
    "```python\n",
    "dados = {12.85: 'ABEV3', 22.55: 'AZUL4', 115.08: 'BTOW3', 49.03: 'RENT3', 24.41: 'JBSS3'}\n",
    "   \n",
    "```\n",
    "\n",
    "Utilize compreensão de dicionários e obtenha:\n",
    "\n",
    "    \n",
    "```python\n",
    "{'ABEV3': 12.85, 'AZUL4': 22.55, 'BTOW3': 115.08, 'RENT3': 49.03, 'JBSS3': 24.41}\n",
    "```\n",
    "   \n",
    "    \n",
    "---\n",
    "    \n",
    "</b></i>     \n",
    "</p>\n",
    "\n",
    "---"
   ]
  },
  {
   "cell_type": "code",
   "execution_count": 19,
   "id": "58aa248a",
   "metadata": {},
   "outputs": [
    {
     "name": "stdout",
     "output_type": "stream",
     "text": [
      "{'ABEV3': 12.85, 'AZUL4': 22.55, 'BTOW3': 115.08, 'RENT3': 49.03, 'JBSS3': 24.41}\n"
     ]
    }
   ],
   "source": [
    "dados = {12.85: 'ABEV3', 22.55: 'AZUL4', 115.08: 'BTOW3', 49.03: 'RENT3', 24.41: 'JBSS3'}\n",
    "\n",
    "dict_ = {valor:chave for chave, valor in dados.items()}\n",
    "print(dict_)"
   ]
  },
  {
   "cell_type": "markdown",
   "id": "5834e156",
   "metadata": {},
   "source": [
    "<hr style=\"border: 2px solid #4500ff;\">\n",
    "\n",
    "# <font color=\"#4500ff\" style=\"font-size: 25px;\">Exercício 115</font>\n",
    "<hr style=\"border: 2px solid #4500ff;\">\n",
    "\n",
    " <p style='font-size: 23px; line-height: 2; margin: 0px 0px; text-align: justify; text-indent: 0px;'>    \n",
    "<i><b> Use compreensão de dicionários e obtenha os dicionários a seguir:\n",
    "\n",
    "    \n",
    "```python\n",
    "a)\n",
    "\n",
    "\n",
    "\n",
    "{2: 1.0, 4: 2.0, 6: 2.585, 8: 3.0, 10: 3.322, 12: 3.585, 14: 3.807, 16: 4.0, 18: 4.17, 20: 4.322}\n",
    "   \n",
    "```\n",
    "\n",
    "### Dica: este dicionário calcula o logaritmo de base 2 para todos os números pares no intervalo [1,20].\n",
    "\n",
    "    \n",
    "```python\n",
    "b)\n",
    "\n",
    "\n",
    "\n",
    "{'C': 3, 'E': 5, 'F': 6, 'I': 9, 'J': 10, 'L': 12, 'O': 15, 'R': 18, 'T': 20}\n",
    "```\n",
    "   \n",
    "    \n",
    "---\n",
    "    \n",
    "</b></i>     \n",
    "</p>\n",
    "\n",
    "---"
   ]
  },
  {
   "cell_type": "code",
   "execution_count": 27,
   "id": "c975ee04",
   "metadata": {},
   "outputs": [
    {
     "name": "stdout",
     "output_type": "stream",
     "text": [
      "{2: 1.0, 4: 2.0, 6: 2.585, 8: 3.0, 10: 3.322, 12: 3.585, 14: 3.807, 16: 4.0, 18: 4.17, 20: 4.322}\n"
     ]
    }
   ],
   "source": [
    "dict_ = {x:round(mp.log(x, 2),3) for x in range(2,21,2)}\n",
    "print(dict_)"
   ]
  },
  {
   "cell_type": "code",
   "execution_count": 31,
   "id": "26395219",
   "metadata": {},
   "outputs": [
    {
     "name": "stdout",
     "output_type": "stream",
     "text": [
      "{'C': 3, 'E': 5, 'F': 6, 'I': 9, 'J': 10, 'L': 12, 'O': 15, 'R': 18, 'T': 20}\n"
     ]
    },
    {
     "data": {
      "text/plain": [
       "{'C': 3, 'E': 5, 'F': 6, 'I': 9, 'J': 10, 'L': 12, 'O': 15, 'R': 18, 'T': 20}"
      ]
     },
     "execution_count": 31,
     "metadata": {},
     "output_type": "execute_result"
    }
   ],
   "source": [
    "#b)\n",
    "\n",
    "alfabeto ='ABCDEFGHIJKLMNOPQRSTUVWXYZ'\n",
    "lista = [\"C\", \"E\",\"F\", \"I\", \"J\", \"L\", \"O\", \"R\", \"T\"]\n",
    "\n",
    "dict_ = {lista[i]:alfabeto.index(lista[i])+1  for i in range(0, len(lista))}\n",
    "print(dict_)\n",
    "\n",
    "#Outra forma de resolver\n",
    "dicionario2 = {chr(64+num):num for num in range(1,21) if num%5==0 or num%3==0}\n",
    "dicionario2"
   ]
  },
  {
   "cell_type": "markdown",
   "id": "69e4d634",
   "metadata": {},
   "source": [
    "<hr style=\"border: 2px solid #4500ff;\">\n",
    "\n",
    "# <font color=\"#4500ff\" style=\"font-size: 25px;\">Exercício 116</font>\n",
    "<hr style=\"border: 2px solid #4500ff;\">\n",
    "\n",
    " <p style='font-size: 23px; line-height: 2; margin: 0px 0px; text-align: justify; text-indent: 0px;'>    \n",
    "<i><b> a) Use compreensão de dicionários para extrair os produtos com preço superior a dois mil reais.\n",
    "\n",
    "    \n",
    "```python\n",
    "produtos = {\n",
    "    'geladeira':1619.1,\n",
    "    'ps5':4999,\n",
    "    'liquidificador':89.9,\n",
    "    'notebook':3500,\n",
    "    'TV':1500,\n",
    "    'ventilador':79.99,\n",
    "    'microondas':399.99\n",
    "    }\n",
    "\n",
    "   \n",
    "```\n",
    "\n",
    "### b) Considerando que cada valor deste dicionário representa o preço de cada produto, obtenha o custo total desta cesta de produtos.\n",
    "\n",
    "---\n",
    "    \n",
    "</b></i>     \n",
    "</p>\n",
    "\n",
    "---"
   ]
  },
  {
   "cell_type": "code",
   "execution_count": 50,
   "id": "9fe039b9",
   "metadata": {},
   "outputs": [
    {
     "data": {
      "text/plain": [
       "{'ps5': 4999, 'notebook': 3500}"
      ]
     },
     "execution_count": 50,
     "metadata": {},
     "output_type": "execute_result"
    }
   ],
   "source": [
    "produtos = {\n",
    "    'geladeira':1619.1,\n",
    "    'ps5':4999,\n",
    "    'liquidificador':89.9,\n",
    "    'notebook':3500,\n",
    "    'TV':1500,\n",
    "    'ventilador':79.99,\n",
    "    'microondas':399.99\n",
    "    }\n",
    "\n",
    "#a)\n",
    "selecao = {chave:valor for chave,valor in produtos.items() if valor>2000}\n",
    "print(selecao)\n",
    "\n",
    "\n",
    "# 2º forma\n",
    "dict_ = {x:produtos[x] for x in produtos if produtos[x] > 2000}\n",
    "dict_"
   ]
  },
  {
   "cell_type": "code",
   "execution_count": 56,
   "id": "ab68d880",
   "metadata": {},
   "outputs": [
    {
     "data": {
      "text/plain": [
       "12187.98"
      ]
     },
     "execution_count": 56,
     "metadata": {},
     "output_type": "execute_result"
    }
   ],
   "source": [
    "# B)\n",
    "\n",
    "soma = sum(list(produtos.values()))\n",
    "soma"
   ]
  },
  {
   "cell_type": "code",
   "execution_count": null,
   "id": "bb031a94",
   "metadata": {},
   "outputs": [],
   "source": []
  },
  {
   "cell_type": "code",
   "execution_count": null,
   "id": "54605769",
   "metadata": {},
   "outputs": [],
   "source": []
  }
 ],
 "metadata": {
  "kernelspec": {
   "display_name": "Python 3 (ipykernel)",
   "language": "python",
   "name": "python3"
  },
  "language_info": {
   "codemirror_mode": {
    "name": "ipython",
    "version": 3
   },
   "file_extension": ".py",
   "mimetype": "text/x-python",
   "name": "python",
   "nbconvert_exporter": "python",
   "pygments_lexer": "ipython3",
   "version": "3.11.5"
  }
 },
 "nbformat": 4,
 "nbformat_minor": 5
}

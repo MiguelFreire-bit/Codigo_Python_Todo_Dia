{
 "cells": [
  {
   "cell_type": "markdown",
   "id": "4d76159e",
   "metadata": {},
   "source": [
    "\n",
    "\n",
    "# <font color=\"#ff4500\" style=\"font-size: 30px;\">Código Python Todo Dia</font>\n"
   ]
  },
  {
   "cell_type": "markdown",
   "id": "10b3ae43",
   "metadata": {},
   "source": [
    "<hr style=\"border: 2px solid #4500ff;\">\n",
    "\n",
    "# <font color=\"#4500ff\" style=\"font-size: 25px;\">Exercício 76</font>\n",
    "<hr style=\"border: 2px solid #4500ff;\">"
   ]
  },
  {
   "cell_type": "markdown",
   "id": "cb6218b3",
   "metadata": {},
   "source": [
    " <p style='font-size: 23px; line-height: 2; margin: 0px 0px; text-align: justify; text-indent: 0px;'>    \n",
    "<i><b>Escreva um programa que some todos os elementos de uma lista.</b></i>     \n",
    "</p>\n",
    "\n",
    "---"
   ]
  },
  {
   "cell_type": "code",
   "execution_count": 7,
   "id": "53cbe24f",
   "metadata": {},
   "outputs": [
    {
     "name": "stdout",
     "output_type": "stream",
     "text": [
      "5102\n"
     ]
    }
   ],
   "source": [
    "import random as r\n",
    "\n",
    "# Criando lista\n",
    "lista = [r.randint(1,100) for _ in range(100)]\n",
    "\n",
    "# Soma\n",
    "soma = sum(lista)\n",
    "\n",
    "print(soma)"
   ]
  },
  {
   "cell_type": "markdown",
   "id": "eedd0837",
   "metadata": {},
   "source": [
    "<hr style=\"border: 2px solid #4500ff;\">\n",
    "\n",
    "# <font color=\"#4500ff\" style=\"font-size: 25px;\">Exercício 77</font>\n",
    "<hr style=\"border: 2px solid #4500ff;\">"
   ]
  },
  {
   "cell_type": "markdown",
   "id": "09777715",
   "metadata": {},
   "source": [
    " <p style='font-size: 23px; line-height: 2; margin: 0px 0px; text-align: justify; text-indent: 0px;'>    \n",
    "<i><b>Escreva um programa que multiplique todos os elementos de uma lista.</b></i>     \n",
    "</p>\n",
    "\n",
    "---"
   ]
  },
  {
   "cell_type": "code",
   "execution_count": 46,
   "id": "4a3f0a02",
   "metadata": {},
   "outputs": [
    {
     "name": "stdout",
     "output_type": "stream",
     "text": [
      "3628800\n",
      "\n",
      "O resultado da multiplicação de todos os elementos da lista é: 3628800\n"
     ]
    }
   ],
   "source": [
    "import random as r\n",
    "\n",
    "# Criando lista\n",
    "lista = r.sample(range(1,11), 10)\n",
    "multipli = 1\n",
    "\n",
    "# iteração\n",
    "for num in lista:\n",
    "    multipli = num * multipli\n",
    "\n",
    "print(multipli)\n",
    "print()\n",
    "\n",
    "# segundo método\n",
    "import random as r\n",
    "\n",
    "# Criando lista\n",
    "#lista = r.sample(range(1, 1001), 100)\n",
    "\n",
    "# Inicialize uma variável para armazenar o resultado da multiplicação\n",
    "resultado = 1\n",
    "\n",
    "# Iteração para multiplicar todos os elementos da lista\n",
    "for num in lista:\n",
    "    resultado *= num\n",
    "\n",
    "print(\"O resultado da multiplicação de todos os elementos da lista é:\", resultado)\n"
   ]
  },
  {
   "cell_type": "markdown",
   "id": "298ea22a",
   "metadata": {},
   "source": [
    "<hr style=\"border: 2px solid #4500ff;\">\n",
    "\n",
    "# <font color=\"#4500ff\" style=\"font-size: 25px;\">Exercício 78</font>\n",
    "<hr style=\"border: 2px solid #4500ff;\">"
   ]
  },
  {
   "cell_type": "markdown",
   "id": "d1899b90",
   "metadata": {},
   "source": [
    " <p style='font-size: 23px; line-height: 2; margin: 0px 0px; text-align: justify; text-indent: 0px;'>    \n",
    "<i><b>Considere a lista abaixo e escreva um programa que multiplique todos os seus elementos.\n",
    "\n",
    "```\n",
    "    \n",
    "lista=[5,4,3,2,1]\n",
    "    \n",
    "```\n",
    "</b></i>     \n",
    "</p>\n",
    "\n",
    "---"
   ]
  },
  {
   "cell_type": "code",
   "execution_count": 66,
   "id": "0de4e047",
   "metadata": {},
   "outputs": [
    {
     "data": {
      "text/plain": [
       "120"
      ]
     },
     "execution_count": 66,
     "metadata": {},
     "output_type": "execute_result"
    }
   ],
   "source": [
    "lista=[5,4,3,2,1]\n",
    "result = 1\n",
    "for i in range(0,len(lista)):\n",
    "    result = result*lista[i]\n",
    " \n",
    "    \n",
    "result"
   ]
  },
  {
   "cell_type": "markdown",
   "id": "ff945b45",
   "metadata": {},
   "source": [
    "<hr style=\"border: 2px solid #4500ff;\">\n",
    "\n",
    "# <font color=\"#4500ff\" style=\"font-size: 25px;\">Exercício 79</font>\n",
    "<hr style=\"border: 2px solid #4500ff;\">"
   ]
  },
  {
   "cell_type": "markdown",
   "id": "29e7f82e",
   "metadata": {},
   "source": [
    " <p style='font-size: 23px; line-height: 2; margin: 0px 0px; text-align: justify; text-indent: 0px;'>    \n",
    "<i><b>Considere a lista abaixo e faça um programa que some todos os seus elementos. Tente implementar ao menos duas soluções.\n",
    "    \n",
    "```\n",
    "    \n",
    "lista=[10,2,40,50,-2,3,100,21,33,29,123,234,32,88,90,23]\n",
    "    \n",
    "```\n",
    "    \n",
    "</b></i>     \n",
    "</p>\n",
    "\n",
    "---"
   ]
  },
  {
   "cell_type": "code",
   "execution_count": 69,
   "id": "28c5f181",
   "metadata": {},
   "outputs": [
    {
     "name": "stdout",
     "output_type": "stream",
     "text": [
      "876\n",
      "\n",
      "876\n"
     ]
    }
   ],
   "source": [
    "# solução 1\n",
    "lista=[10,2,40,50,-2,3,100,21,33,29,123,234,32,88,90,23]\n",
    "\n",
    "soma = sum(lista)\n",
    "print(soma)\n",
    "print()\n",
    "\n",
    "#solução 2\n",
    "soma_ = 0\n",
    "for elemento in lista:\n",
    "    soma_ += elemento\n",
    "\n",
    "print(soma_)\n",
    "            "
   ]
  },
  {
   "cell_type": "markdown",
   "id": "42ad98bd",
   "metadata": {},
   "source": [
    "<hr style=\"border: 2px solid #4500ff;\">\n",
    "\n",
    "# <font color=\"#4500ff\" style=\"font-size: 25px;\">Exercício 80</font>\n",
    "<hr style=\"border: 2px solid #4500ff;\">"
   ]
  },
  {
   "cell_type": "markdown",
   "id": "041e55dc",
   "metadata": {},
   "source": [
    " <p style='font-size: 23px; line-height: 2; margin: 0px 0px; text-align: justify; text-indent: 0px;'>    \n",
    "<i><b>Considere a lista abaixo e escreva um programa que mostre na tela o seu maior número.\n",
    "    \n",
    "```\n",
    "    \n",
    "lista=[497, 186, 66, 198, 204, 339, 738, 743, \n",
    "       -80, 36, 887, 645, 312, 760, 574, 439, \n",
    "       164, 873, 125, 871, 901, 561, 5, -65, \n",
    "       -66, -51, 522, 306, -79, 577, 268, 240, \n",
    "       183, 217, 729, 202, 483, 464, 281, 6, \n",
    "       -44, 110, 670, 749, 846, 903, 15, 265, \n",
    "       596, -3, 534, -42, 528, 582, 552, 254, \n",
    "       780, 326, 816, -7, 859, 234, 898, 355, \n",
    "       706, 576, 968, 349, 649, 522, 466, 353, \n",
    "       940, 41, 141, 946, 317, 346, 256, 326, \n",
    "       546, 473, 270, 22, 102, 504, 421, 87, \n",
    "       570, 143, 519, 292, 382, 744, 525, 658, \n",
    "       725, 477, 413]\n",
    "    \n",
    "```\n",
    "    \n",
    "</b></i>     \n",
    "</p>\n",
    "\n",
    "---"
   ]
  },
  {
   "cell_type": "code",
   "execution_count": 77,
   "id": "c661cbd7",
   "metadata": {},
   "outputs": [],
   "source": [
    "    \n",
    "lista=[497, 186, 66, 198, 204, 339, 738, 743, \n",
    "       -80, 36, 887, 645, 312, 760, 574, 439, \n",
    "       164, 873, 125, 871, 901, 561, 5, -65, \n",
    "       -66, -51, 522, 306, -79, 577, 268, 240, \n",
    "       183, 217, 729, 202, 483, 464, 281, 6, \n",
    "       -44, 110, 670, 749, 846, 903, 15, 265, \n",
    "       596, -3, 534, -42, 528, 582, 552, 254, \n",
    "       780, 326, 816, -7, 859, 234, 898, 355, \n",
    "       706, 576, 968, 349, 649, 522, 466, 353, \n",
    "       940, 41, 141, 946, 317, 346, 256, 326, \n",
    "       546, 473, 270, 22, 102, 504, 421, 87, \n",
    "       570, 143, 519, 292, 382, 744, 525, 658, \n",
    "       725, 477, 413]"
   ]
  },
  {
   "cell_type": "code",
   "execution_count": 78,
   "id": "00bbbd12",
   "metadata": {},
   "outputs": [
    {
     "name": "stdout",
     "output_type": "stream",
     "text": [
      "968\n",
      "-80\n",
      "\n",
      "968\n",
      "-80\n"
     ]
    }
   ],
   "source": [
    "# método 1\n",
    "\n",
    "print(max(lista))\n",
    "print(min(lista))\n",
    "print()\n",
    "\n",
    "# método 2\n",
    "\n",
    "maior = lista[0]\n",
    "menor = lista[0]\n",
    "\n",
    "for elemento in lista:\n",
    "    if elemento > maior:\n",
    "        maior = elemento\n",
    "    if elemento < menor:\n",
    "        menor = elemento\n",
    "\n",
    "print(maior)\n",
    "print(menor)\n",
    "        "
   ]
  },
  {
   "cell_type": "markdown",
   "id": "0cc3efe6",
   "metadata": {},
   "source": [
    "A notação `items: list` é uma dica de tipo (type hint) em Python. Ela é usada para indicar o tipo esperado do argumento `items` da função `checar_max`, neste caso, uma lista. Essa notação é usada principalmente para melhorar a clareza do código e fornecer informações sobre o tipo de dados que uma função espera como argumento.\n",
    "\n",
    "Você pode usá-la em outros contextos, como em definições de funções, em anotações de tipos de variáveis, em classes e em várias partes do seu código para fornecer dicas sobre o tipo de dados que você espera ou que uma função retorna. Isso pode ser particularmente útil em programas maiores ou quando você está trabalhando com outros desenvolvedores, pois ajuda a documentar e esclarecer o comportamento esperado das funções e variáveis.\n",
    "\n",
    "A notação `items: list` indica que a função `checar_max` deve receber uma lista como argumento `items`, e o tipo do argumento deve ser uma lista. Se você fornecer um tipo diferente, Python pode gerar um aviso ou erro, dependendo das configurações do linter (ferramenta de análise de código) que você estiver usando. No entanto, essas dicas de tipo não têm impacto real na execução do programa; elas são usadas principalmente para documentação e verificação estática do código."
   ]
  },
  {
   "cell_type": "markdown",
   "id": "193b9bc9",
   "metadata": {},
   "source": [
    "---\n",
    "\n",
    "alguns exemplos de como usar dicas de tipo em Python:\n",
    "\n",
    "**1. Anotação de tipo de argumento de função:**\n",
    "```python\n",
    "def soma(a: int, b: int) -> int:\n",
    "    return a + b\n",
    "```\n",
    "\n",
    "Neste exemplo, a função `soma` espera dois argumentos `a` e `b`, ambos do tipo `int`, e a função retorna um valor do tipo `int`.\n",
    "\n",
    "**2. Anotação de tipo de variável:**\n",
    "```python\n",
    "total: float = 0.0\n",
    "```\n",
    "\n",
    "Neste exemplo, a variável `total` é uma variável de ponto flutuante (float) e é inicializada com o valor 0.0.\n",
    "\n",
    "**3. Dicas de tipo em listas e dicionários:**\n",
    "```python\n",
    "from typing import List, Dict\n",
    "\n",
    "pontuacoes: List[int] = [90, 85, 88, 92]\n",
    "aluno: Dict[str, int] = {'nome': 'João', 'idade': 25}\n",
    "```\n",
    "\n",
    "Neste exemplo, `pontuacoes` é uma lista de inteiros e `aluno` é um dicionário com chaves do tipo string e valores do tipo inteiro.\n",
    "\n",
    "**4. Funções com anotações de tipo de retorno:**\n",
    "```python\n",
    "def dobro(a: int) -> int:\n",
    "    return a * 2\n",
    "```\n",
    "\n",
    "Neste exemplo, a função `dobro` recebe um argumento do tipo `int` e retorna um valor do tipo `int`.\n",
    "\n",
    "Lembrando que as dicas de tipo em Python são opcionais e não afetam o comportamento real do código. No entanto, elas podem ser úteis para tornar o código mais legível, documentar as expectativas de tipos e facilitar a detecção de erros por ferramentas de análise estática.\n",
    "\n",
    "---"
   ]
  },
  {
   "cell_type": "markdown",
   "id": "49fd37de",
   "metadata": {},
   "source": [
    "<hr style=\"border: 2px solid #4500ff;\">\n",
    "\n",
    "# <font color=\"#4500ff\" style=\"font-size: 25px;\">Exercício 81</font>\n",
    "<hr style=\"border: 2px solid #4500ff;\">"
   ]
  },
  {
   "cell_type": "markdown",
   "id": "34d68ea8",
   "metadata": {},
   "source": [
    " <p style='font-size: 23px; line-height: 2; margin: 0px 0px; text-align: justify; text-indent: 0px;'>    \n",
    "<i><b>Considere a lista abaixo e escreva um programa que mostre na tela o seu menor número.\n",
    "    \n",
    "```\n",
    "    \n",
    "lista=[497, 186, 66, 198, 204, 339, 738, 743, \n",
    "       -80, 36, 887, 645, 312, 760, 574, 439, \n",
    "       164, 873, 125, 871, 901, 561, 5, -65, \n",
    "       -66, -51, 522, 306, -79, 577, 268, 240, \n",
    "       183, 217, 729, 202, 483, 464, 281, 6, \n",
    "       -44, 110, 670, 749, 846, 903, 15, 265, \n",
    "       596, -3, 534, -42, 528, 582, 552, 254, \n",
    "       780, 326, 816, -7, 859, 234, 898, 355, \n",
    "       706, 576, 968, 349, 649, 522, 466, 353, \n",
    "       940, 41, 141, 946, 317, 346, 256, 326, \n",
    "       546, 473, 270, 22, 102, 504, 421, 87, \n",
    "       570, 143, 519, 292, 382, 744, 525, 658, \n",
    "       725, 477, 413]\n",
    "    \n",
    "```\n",
    "    \n",
    "</b></i>     \n",
    "</p>\n",
    "\n",
    "---"
   ]
  },
  {
   "cell_type": "code",
   "execution_count": 81,
   "id": "a89a86b9",
   "metadata": {},
   "outputs": [
    {
     "name": "stdout",
     "output_type": "stream",
     "text": [
      "-80\n",
      "\n",
      "-80\n"
     ]
    }
   ],
   "source": [
    "# método 1\n",
    "print(min(lista))\n",
    "print()\n",
    "\n",
    "\n",
    "# método 2\n",
    "menor = lista[0]\n",
    "\n",
    "for elemento in lista:\n",
    "\n",
    "    if elemento < menor:\n",
    "        menor = elemento\n",
    "\n",
    "\n",
    "print(menor)"
   ]
  },
  {
   "cell_type": "markdown",
   "id": "6139938c",
   "metadata": {},
   "source": [
    "<hr style=\"border: 2px solid #4500ff;\">\n",
    "\n",
    "# <font color=\"#4500ff\" style=\"font-size: 25px;\">Exercício 82</font>\n",
    "<hr style=\"border: 2px solid #4500ff;\">"
   ]
  },
  {
   "cell_type": "markdown",
   "id": "11b28f80",
   "metadata": {},
   "source": [
    " <p style='font-size: 23px; line-height: 2; margin: 0px 0px; text-align: justify; text-indent: 0px;'>    \n",
    "<i><b>Ordene os elementos das listas a seguir em ordem crescente e decrescente.\n",
    "    \n",
    "```\n",
    "    \n",
    "a)\n",
    "\n",
    "lista1=[117, 1519, 1335, 1600, 1676, 1491, 868, \n",
    "        1149, 642, 1321, 509, 1296, 1936, 1014, \n",
    "        1114, 1197, 94, 1347, 1112, 1224, 351, \n",
    "        1498, 1028, 255, 937, 514, 1041, 1923, \n",
    "        913, 510, 868, 1195, 1218, 1489, 1920, \n",
    "        630, 666, 605, 515, 1219, 59, 1217, 1293, \n",
    "        487, 1095, 1730, 1115, 1465, 1506, 1881]\n",
    "b)\n",
    "\n",
    "lista2=['a','a','z','f',\n",
    "        'h','i','m','u',\n",
    "        'q','r','b','d',\n",
    "       ]\n",
    "    \n",
    "```\n",
    "    \n",
    "</b></i>     \n",
    "</p>\n",
    "\n",
    "---"
   ]
  },
  {
   "cell_type": "code",
   "execution_count": 83,
   "id": "961e4ff9",
   "metadata": {},
   "outputs": [],
   "source": [
    "lista1=[117, 1519, 1335, 1600, 1676, 1491, 868, \n",
    "        1149, 642, 1321, 509, 1296, 1936, 1014, \n",
    "        1114, 1197, 94, 1347, 1112, 1224, 351, \n",
    "        1498, 1028, 255, 937, 514, 1041, 1923, \n",
    "        913, 510, 868, 1195, 1218, 1489, 1920, \n",
    "        630, 666, 605, 515, 1219, 59, 1217, 1293, \n",
    "        487, 1095, 1730, 1115, 1465, 1506, 1881]\n",
    "\n",
    "\n",
    "lista2=['a','a','z','f',\n",
    "        'h','i','m','u',\n",
    "        'q','r','b','d',\n",
    "       ]"
   ]
  },
  {
   "cell_type": "code",
   "execution_count": 99,
   "id": "09a52c37",
   "metadata": {},
   "outputs": [
    {
     "name": "stdout",
     "output_type": "stream",
     "text": [
      "[59, 94, 117, 255, 351, 487, 509, 510, 514, 515, 605, 630, 642, 666, 868, 868, 913, 937, 1014, 1028, 1041, 1095, 1112, 1114, 1115, 1149, 1195, 1197, 1217, 1218, 1219, 1224, 1293, 1296, 1321, 1335, 1347, 1465, 1489, 1491, 1498, 1506, 1519, 1600, 1676, 1730, 1881, 1920, 1923, 1936]\n",
      "\n",
      "['a', 'a', 'b', 'd', 'f', 'h', 'i', 'm', 'q', 'r', 'u', 'z']\n",
      "\n",
      "[1936, 1923, 1920, 1881, 1730, 1676, 1600, 1519, 1506, 1498, 1491, 1489, 1465, 1347, 1335, 1321, 1296, 1293, 1224, 1219, 1218, 1217, 1197, 1195, 1149, 1115, 1114, 1112, 1095, 1041, 1028, 1014, 937, 913, 868, 868, 666, 642, 630, 605, 515, 514, 510, 509, 487, 351, 255, 117, 94, 59]\n",
      "\n",
      "['z', 'u', 'r', 'q', 'm', 'i', 'h', 'f', 'd', 'b', 'a', 'a']\n",
      "-------------------------------------------------------------------------------------------------------------------------------\n",
      "\n",
      "[59, 94, 117, 255, 351, 487, 509, 510, 514, 515, 605, 630, 642, 666, 868, 868, 913, 937, 1014, 1028, 1041, 1095, 1112, 1114, 1115, 1149, 1195, 1197, 1217, 1218, 1219, 1224, 1293, 1296, 1321, 1335, 1347, 1465, 1489, 1491, 1498, 1506, 1519, 1600, 1676, 1730, 1881, 1920, 1923, 1936]\n",
      "\n",
      "['a', 'a', 'b', 'd', 'f', 'h', 'i', 'm', 'q', 'r', 'u', 'z']\n",
      "\n",
      "[1936, 1923, 1920, 1881, 1730, 1676, 1600, 1519, 1506, 1498, 1491, 1489, 1465, 1347, 1335, 1321, 1296, 1293, 1224, 1219, 1218, 1217, 1197, 1195, 1149, 1115, 1114, 1112, 1095, 1041, 1028, 1014, 937, 913, 868, 868, 666, 642, 630, 605, 515, 514, 510, 509, 487, 351, 255, 117, 94, 59]\n",
      "\n",
      "['z', 'u', 'r', 'q', 'm', 'i', 'h', 'f', 'd', 'b', 'a', 'a']\n"
     ]
    }
   ],
   "source": [
    "# método 1 \n",
    "numeros_ordenados = sorted(lista1)\n",
    "print(numeros_ordenados)\n",
    " \n",
    "print()\n",
    "letras_ordenados = sorted(lista2)\n",
    "print(letras_ordenados)\n",
    "\n",
    "print()\n",
    "numeros_ordenados = sorted(lista1, reverse=True)\n",
    "print(numeros_ordenados)\n",
    " \n",
    "print()\n",
    "letras_ordenados = sorted(lista2, reverse=True)\n",
    "print(letras_ordenados)\n",
    "\n",
    "# SEPARADOR\n",
    "print(\"-\"*127)\n",
    "\n",
    "# método 2\n",
    "print()\n",
    "lista1.sort()\n",
    "print(lista1)\n",
    " \n",
    "print()\n",
    "lista2.sort()\n",
    "print(lista2)\n",
    "\n",
    "print()\n",
    "lista1.sort(reverse=True)\n",
    "print(lista1)\n",
    " \n",
    "print()\n",
    "lista2.sort(reverse=True)\n",
    "print(lista2)\n"
   ]
  },
  {
   "cell_type": "markdown",
   "id": "91e22b9d",
   "metadata": {},
   "source": [
    "---\n",
    "A função `sorted()` em Python é usada para classificar uma sequência (ou iterável) de elementos em uma nova lista ou iterável ordenado. A função `sorted()` não modifica a sequência original, mas retorna uma nova sequência ordenada. Aqui está a sintaxe da função `sorted()`:\n",
    "\n",
    "```python\n",
    "sorted(iterable, key=None, reverse=False)\n",
    "```\n",
    "\n",
    "- `iterable`: Esta é a sequência que você deseja ordenar, como uma lista, tupla, ou string.\n",
    "- `key` (opcional): Uma função que é usada para extrair um valor de comparação de cada elemento no `iterable`. Por padrão, `key` é definido como `None`, o que significa que a ordenação é feita diretamente nos elementos do `iterable`.\n",
    "- `reverse` (opcional): Se for definido como `True`, a ordenação será em ordem decrescente (do maior para o menor). O padrão é `False`, o que significa que a ordenação é em ordem crescente.\n",
    "\n",
    "Aqui estão alguns exemplos de uso da função `sorted()`:\n",
    "\n",
    "**Exemplo 1 - Ordenar uma lista em ordem crescente:**\n",
    "\n",
    "```python\n",
    "numeros = [3, 1, 4, 1, 5, 9, 2, 6, 5, 3, 5]\n",
    "numeros_ordenados = sorted(numeros)\n",
    "print(numeros_ordenados)\n",
    "```\n",
    "\n",
    "**Exemplo 2 - Ordenar uma lista de strings em ordem alfabética:**\n",
    "\n",
    "```python\n",
    "nomes = [\"Alice\", \"Bob\", \"Eve\", \"David\", \"Carol\"]\n",
    "nomes_ordenados = sorted(nomes)\n",
    "print(nomes_ordenados)\n",
    "```\n",
    "\n",
    "**Exemplo 3 - Ordenar uma lista de dicionários com base em uma chave específica:**\n",
    "\n",
    "```python\n",
    "pessoas = [\n",
    "    {'nome': 'Alice', 'idade': 25},\n",
    "    {'nome': 'Bob', 'idade': 30},\n",
    "    {'nome': 'Carol', 'idade': 28}\n",
    "]\n",
    "pessoas_ordenadas = sorted(pessoas, key=lambda x: x['idade'])\n",
    "print(pessoas_ordenadas)\n",
    "```\n",
    "\n",
    "Nesses exemplos, a função `sorted()` cria uma nova lista ordenada a partir da sequência original, e você pode controlar a ordenação usando a função `key` e a opção `reverse` conforme necessário.\n",
    "\n",
    "---"
   ]
  },
  {
   "cell_type": "markdown",
   "id": "47eececb",
   "metadata": {},
   "source": [
    "---\n",
    "A função `sort()` é um método em Python que é usado para ordenar diretamente uma lista (ou uma sequência mutável) em seu lugar, em vez de criar uma nova lista ordenada. A principal diferença entre `sort()` e `sorted()` é que `sort()` modifica a lista original, enquanto `sorted()` cria uma nova lista ordenada e deixa a lista original inalterada.\n",
    "\n",
    "Aqui está a sintaxe do método `sort()`:\n",
    "\n",
    "```python\n",
    "lista.sort(key=None, reverse=False)\n",
    "```\n",
    "\n",
    "- `key` (opcional): Funciona da mesma maneira que o `key` em `sorted()`. É uma função usada para extrair um valor de comparação de cada elemento da lista.\n",
    "- `reverse` (opcional): Também funciona da mesma maneira que o `reverse` em `sorted()`. Se for `True`, a ordenação será em ordem decrescente; caso contrário, será em ordem crescente.\n",
    "\n",
    "Aqui está um exemplo de uso do método `sort()`:\n",
    "\n",
    "```python\n",
    "numeros = [3, 1, 4, 1, 5, 9, 2, 6, 5, 3, 5]\n",
    "numeros.sort()\n",
    "print(numeros)\n",
    "```\n",
    "\n",
    "Neste exemplo, a lista `numeros` é ordenada diretamente com a chamada do método `sort()`. Após a execução, a lista `numeros` será modificada e conterá os elementos em ordem crescente.\n",
    "\n",
    "A principal diferença entre `sort()` e `sorted()` é que `sort()` modifica a lista original, enquanto `sorted()` retorna uma nova lista ordenada sem modificar a lista original. Portanto, a escolha entre usar `sort()` ou `sorted()` depende do requisito específico de seu programa e se você deseja ou não preservar a ordem original dos elementos na lista.\n",
    "\n",
    "---"
   ]
  },
  {
   "cell_type": "code",
   "execution_count": null,
   "id": "72c179f4",
   "metadata": {},
   "outputs": [],
   "source": [
    "<hr style=\"border: 2px solid #4500ff;\">\n",
    "\n",
    "# <font color=\"#4500ff\" style=\"font-size: 25px;\">Exercício 82</font>\n",
    "<hr style=\"border: 2px solid #4500ff;\">"
   ]
  },
  {
   "cell_type": "markdown",
   "id": "9494b792",
   "metadata": {},
   "source": [
    " <p style='font-size: 23px; line-height: 2; margin: 0px 0px; text-align: justify; text-indent: 0px;'>    \n",
    "<i><b>Considere a lista abaixo. Escreva um programa que obtenha uma lista ordenada a partir da lista1. A ordenação deverá ser efetuada em ordem crescente pelo último elemento de cada tupla.\n",
    "    \n",
    "```\n",
    "    \n",
    "lista1=[('a',21,10),('q',44,99),\n",
    "       ('z',321,11),('w',91,33),\n",
    "       ('f',33,-9),('h',88,42),\n",
    "       ('j',-100,1),('n',74,93),\n",
    "       ('k',11,7),('m',923,-10),\n",
    "       ('l',2,23),('v',612,57),\n",
    "       ('j',130,51),('x',40,88),\n",
    "       ('b',99,67),('u',30,49),\n",
    "       ('e',-120,-4),('i',40,21),\n",
    "      ]\n",
    " \n",
    "    \n",
    "```\n",
    "    \n",
    "</b></i>     \n",
    "</p>\n",
    "\n",
    "---"
   ]
  },
  {
   "cell_type": "code",
   "execution_count": 100,
   "id": "d29f5e8a",
   "metadata": {},
   "outputs": [
    {
     "data": {
      "text/plain": [
       "[('m', 923, -10),\n",
       " ('f', 33, -9),\n",
       " ('e', -120, -4),\n",
       " ('j', -100, 1),\n",
       " ('k', 11, 7),\n",
       " ('a', 21, 10),\n",
       " ('z', 321, 11),\n",
       " ('i', 40, 21),\n",
       " ('l', 2, 23),\n",
       " ('w', 91, 33),\n",
       " ('h', 88, 42),\n",
       " ('u', 30, 49),\n",
       " ('j', 130, 51),\n",
       " ('v', 612, 57),\n",
       " ('b', 99, 67),\n",
       " ('x', 40, 88),\n",
       " ('n', 74, 93),\n",
       " ('q', 44, 99)]"
      ]
     },
     "execution_count": 100,
     "metadata": {},
     "output_type": "execute_result"
    }
   ],
   "source": [
    "lista1=[('a',21,10),('q',44,99),\n",
    "       ('z',321,11),('w',91,33),\n",
    "       ('f',33,-9),('h',88,42),\n",
    "       ('j',-100,1),('n',74,93),\n",
    "       ('k',11,7),('m',923,-10),\n",
    "       ('l',2,23),('v',612,57),\n",
    "       ('j',130,51),('x',40,88),\n",
    "       ('b',99,67),('u',30,49),\n",
    "       ('e',-120,-4),('i',40,21),\n",
    "      ]\n",
    "\n",
    "nova = sorted(lista1, key=lambda x: x[-1], reverse=False)\n",
    "nova"
   ]
  },
  {
   "cell_type": "markdown",
   "id": "02d153b5",
   "metadata": {},
   "source": [
    "Uma função lambda, também conhecida como função anônima, é uma função pequena e sem nome que pode ser definida em uma única linha. Ela é útil quando você precisa de uma função simples para realizar uma tarefa específica, como a que usamos para extrair o último elemento de cada tupla na lista que queremos ordenar.\n",
    "\n",
    "A sintaxe básica de uma função lambda é a seguinte:\n",
    "\n",
    "```python\n",
    "lambda argumentos: expressão\n",
    "```\n",
    "\n",
    "- `argumentos`: São os parâmetros da função, que você passa quando a chama.\n",
    "- `expressão`: É a operação que a função realiza. O resultado dessa operação é automaticamente retornado pela função.\n",
    "\n",
    "No seu caso, a função lambda será usada como a chave de ordenação. Ela deve receber uma tupla da lista e retornar o último elemento dessa tupla. Aqui está como você pode usá-la para ordenar sua lista de tuplas:\n",
    "\n",
    "```python\n",
    "sorted(lista1, key=lambda x: x[-1], reverse=False)\n",
    "```\n",
    "\n",
    "- `x` é o parâmetro da função lambda, representando cada tupla da lista.\n",
    "- `x[-1]` é a expressão que pega o último elemento da tupla `x`.\n",
    "\n",
    "A função lambda será aplicada a cada elemento da lista, usando o último elemento de cada tupla como critério de ordenação. A lista resultante será classificada com base nesse critério. Note que você pode adaptar a função lambda para diferentes critérios de classificação, dependendo das necessidades do seu programa. É uma maneira concisa e flexível de definir funções simples em Python."
   ]
  },
  {
   "cell_type": "code",
   "execution_count": null,
   "id": "cc41dc27",
   "metadata": {},
   "outputs": [],
   "source": []
  }
 ],
 "metadata": {
  "kernelspec": {
   "display_name": "Python 3 (ipykernel)",
   "language": "python",
   "name": "python3"
  },
  "language_info": {
   "codemirror_mode": {
    "name": "ipython",
    "version": 3
   },
   "file_extension": ".py",
   "mimetype": "text/x-python",
   "name": "python",
   "nbconvert_exporter": "python",
   "pygments_lexer": "ipython3",
   "version": "3.11.3"
  }
 },
 "nbformat": 4,
 "nbformat_minor": 5
}

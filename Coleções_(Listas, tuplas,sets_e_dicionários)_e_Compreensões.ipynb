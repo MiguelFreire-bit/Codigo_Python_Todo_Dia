{
 "cells": [
  {
   "cell_type": "markdown",
   "id": "4d76159e",
   "metadata": {},
   "source": [
    "\n",
    "\n",
    "# <font color=\"#ff4500\" style=\"font-size: 30px;\">Código Python Todo Dia</font>\n"
   ]
  },
  {
   "cell_type": "markdown",
   "id": "10b3ae43",
   "metadata": {},
   "source": [
    "<hr style=\"border: 2px solid #4500ff;\">\n",
    "\n",
    "# <font color=\"#4500ff\" style=\"font-size: 25px;\">Exercício 76</font>\n",
    "<hr style=\"border: 2px solid #4500ff;\">"
   ]
  },
  {
   "cell_type": "markdown",
   "id": "cb6218b3",
   "metadata": {},
   "source": [
    " <p style='font-size: 23px; line-height: 2; margin: 0px 0px; text-align: justify; text-indent: 0px;'>    \n",
    "<i><b>Escreva um programa que some todos os elementos de uma lista.</b></i>     \n",
    "</p>\n",
    "\n",
    "---"
   ]
  },
  {
   "cell_type": "code",
   "execution_count": 7,
   "id": "53cbe24f",
   "metadata": {},
   "outputs": [
    {
     "name": "stdout",
     "output_type": "stream",
     "text": [
      "5102\n"
     ]
    }
   ],
   "source": [
    "import random as r\n",
    "\n",
    "# Criando lista\n",
    "lista = [r.randint(1,100) for _ in range(100)]\n",
    "\n",
    "# Soma\n",
    "soma = sum(lista)\n",
    "\n",
    "print(soma)"
   ]
  },
  {
   "cell_type": "markdown",
   "id": "eedd0837",
   "metadata": {},
   "source": [
    "<hr style=\"border: 2px solid #4500ff;\">\n",
    "\n",
    "# <font color=\"#4500ff\" style=\"font-size: 25px;\">Exercício 77</font>\n",
    "<hr style=\"border: 2px solid #4500ff;\">"
   ]
  },
  {
   "cell_type": "markdown",
   "id": "09777715",
   "metadata": {},
   "source": [
    " <p style='font-size: 23px; line-height: 2; margin: 0px 0px; text-align: justify; text-indent: 0px;'>    \n",
    "<i><b>Escreva um programa que multiplique todos os elementos de uma lista.</b></i>     \n",
    "</p>\n",
    "\n",
    "---"
   ]
  },
  {
   "cell_type": "code",
   "execution_count": 46,
   "id": "4a3f0a02",
   "metadata": {},
   "outputs": [
    {
     "name": "stdout",
     "output_type": "stream",
     "text": [
      "3628800\n",
      "\n",
      "O resultado da multiplicação de todos os elementos da lista é: 3628800\n"
     ]
    }
   ],
   "source": [
    "import random as r\n",
    "\n",
    "# Criando lista\n",
    "lista = r.sample(range(1,11), 10)\n",
    "multipli = 1\n",
    "\n",
    "# iteração\n",
    "for num in lista:\n",
    "    multipli = num * multipli\n",
    "\n",
    "print(multipli)\n",
    "print()\n",
    "\n",
    "# segundo método\n",
    "import random as r\n",
    "\n",
    "# Criando lista\n",
    "#lista = r.sample(range(1, 1001), 100)\n",
    "\n",
    "# Inicialize uma variável para armazenar o resultado da multiplicação\n",
    "resultado = 1\n",
    "\n",
    "# Iteração para multiplicar todos os elementos da lista\n",
    "for num in lista:\n",
    "    resultado *= num\n",
    "\n",
    "print(\"O resultado da multiplicação de todos os elementos da lista é:\", resultado)\n"
   ]
  },
  {
   "cell_type": "markdown",
   "id": "9a990e06",
   "metadata": {},
   "source": [
    "<hr style=\"border: 2px solid #4500ff;\">\n",
    "\n",
    "# <font color=\"#4500ff\" style=\"font-size: 25px;\">Exercício 78</font>\n",
    "<hr style=\"border: 2px solid #4500ff;\">"
   ]
  },
  {
   "cell_type": "markdown",
   "id": "d3ddb973",
   "metadata": {},
   "source": [
    " <p style='font-size: 23px; line-height: 2; margin: 0px 0px; text-align: justify; text-indent: 0px;'>    \n",
    "<i><b>Considere a lista abaixo e escreva um programa que multiplique todos os seus elementos.\n",
    "\n",
    "```\n",
    "    \n",
    "lista=[5,4,3,2,1]\n",
    "    \n",
    "```\n",
    "</b></i>     \n",
    "</p>\n",
    "\n",
    "---"
   ]
  },
  {
   "cell_type": "code",
   "execution_count": 66,
   "id": "6c9f9e1a",
   "metadata": {},
   "outputs": [
    {
     "data": {
      "text/plain": [
       "120"
      ]
     },
     "execution_count": 66,
     "metadata": {},
     "output_type": "execute_result"
    }
   ],
   "source": [
    "lista=[5,4,3,2,1]\n",
    "result = 1\n",
    "for i in range(0,len(lista)):\n",
    "    result = result*lista[i]\n",
    " \n",
    "    \n",
    "result"
   ]
  },
  {
   "cell_type": "markdown",
   "id": "569e90df",
   "metadata": {},
   "source": [
    "<hr style=\"border: 2px solid #4500ff;\">\n",
    "\n",
    "# <font color=\"#4500ff\" style=\"font-size: 25px;\">Exercício 79</font>\n",
    "<hr style=\"border: 2px solid #4500ff;\">"
   ]
  },
  {
   "cell_type": "markdown",
   "id": "f6c6f8ed",
   "metadata": {},
   "source": [
    " <p style='font-size: 23px; line-height: 2; margin: 0px 0px; text-align: justify; text-indent: 0px;'>    \n",
    "<i><b>Considere a lista abaixo e faça um programa que some todos os seus elementos. Tente implementar ao menos duas soluções.\n",
    "    \n",
    "```\n",
    "    \n",
    "lista=[10,2,40,50,-2,3,100,21,33,29,123,234,32,88,90,23]\n",
    "    \n",
    "```\n",
    "    \n",
    "</b></i>     \n",
    "</p>\n",
    "\n",
    "---"
   ]
  },
  {
   "cell_type": "code",
   "execution_count": 69,
   "id": "64431197",
   "metadata": {},
   "outputs": [
    {
     "name": "stdout",
     "output_type": "stream",
     "text": [
      "876\n",
      "\n",
      "876\n"
     ]
    }
   ],
   "source": [
    "# solução 1\n",
    "lista=[10,2,40,50,-2,3,100,21,33,29,123,234,32,88,90,23]\n",
    "\n",
    "soma = sum(lista)\n",
    "print(soma)\n",
    "print()\n",
    "\n",
    "#solução 2\n",
    "soma_ = 0\n",
    "for elemento in lista:\n",
    "    soma_ += elemento\n",
    "\n",
    "print(soma_)\n",
    "            "
   ]
  },
  {
   "cell_type": "markdown",
   "id": "9c2e888e",
   "metadata": {},
   "source": [
    "<hr style=\"border: 2px solid #4500ff;\">\n",
    "\n",
    "# <font color=\"#4500ff\" style=\"font-size: 25px;\">Exercício 80</font>\n",
    "<hr style=\"border: 2px solid #4500ff;\">"
   ]
  },
  {
   "cell_type": "markdown",
   "id": "dcc7cadd",
   "metadata": {},
   "source": [
    " <p style='font-size: 23px; line-height: 2; margin: 0px 0px; text-align: justify; text-indent: 0px;'>    \n",
    "<i><b>Considere a lista abaixo e escreva um programa que mostre na tela o seu maior número.\n",
    "    \n",
    "```\n",
    "    \n",
    "lista=[497, 186, 66, 198, 204, 339, 738, 743, \n",
    "       -80, 36, 887, 645, 312, 760, 574, 439, \n",
    "       164, 873, 125, 871, 901, 561, 5, -65, \n",
    "       -66, -51, 522, 306, -79, 577, 268, 240, \n",
    "       183, 217, 729, 202, 483, 464, 281, 6, \n",
    "       -44, 110, 670, 749, 846, 903, 15, 265, \n",
    "       596, -3, 534, -42, 528, 582, 552, 254, \n",
    "       780, 326, 816, -7, 859, 234, 898, 355, \n",
    "       706, 576, 968, 349, 649, 522, 466, 353, \n",
    "       940, 41, 141, 946, 317, 346, 256, 326, \n",
    "       546, 473, 270, 22, 102, 504, 421, 87, \n",
    "       570, 143, 519, 292, 382, 744, 525, 658, \n",
    "       725, 477, 413]\n",
    "    \n",
    "```\n",
    "    \n",
    "</b></i>     \n",
    "</p>\n",
    "\n",
    "---"
   ]
  },
  {
   "cell_type": "code",
   "execution_count": 77,
   "id": "6ce31223",
   "metadata": {},
   "outputs": [],
   "source": [
    "    \n",
    "lista=[497, 186, 66, 198, 204, 339, 738, 743, \n",
    "       -80, 36, 887, 645, 312, 760, 574, 439, \n",
    "       164, 873, 125, 871, 901, 561, 5, -65, \n",
    "       -66, -51, 522, 306, -79, 577, 268, 240, \n",
    "       183, 217, 729, 202, 483, 464, 281, 6, \n",
    "       -44, 110, 670, 749, 846, 903, 15, 265, \n",
    "       596, -3, 534, -42, 528, 582, 552, 254, \n",
    "       780, 326, 816, -7, 859, 234, 898, 355, \n",
    "       706, 576, 968, 349, 649, 522, 466, 353, \n",
    "       940, 41, 141, 946, 317, 346, 256, 326, \n",
    "       546, 473, 270, 22, 102, 504, 421, 87, \n",
    "       570, 143, 519, 292, 382, 744, 525, 658, \n",
    "       725, 477, 413]"
   ]
  },
  {
   "cell_type": "code",
   "execution_count": 78,
   "id": "e7c41639",
   "metadata": {},
   "outputs": [
    {
     "name": "stdout",
     "output_type": "stream",
     "text": [
      "968\n",
      "-80\n",
      "\n",
      "968\n",
      "-80\n"
     ]
    }
   ],
   "source": [
    "# método 1\n",
    "\n",
    "print(max(lista))\n",
    "print(min(lista))\n",
    "print()\n",
    "\n",
    "# método 2\n",
    "\n",
    "maior = lista[0]\n",
    "menor = lista[0]\n",
    "\n",
    "for elemento in lista:\n",
    "    if elemento > maior:\n",
    "        maior = elemento\n",
    "    if elemento < menor:\n",
    "        menor = elemento\n",
    "\n",
    "print(maior)\n",
    "print(menor)\n",
    "        "
   ]
  },
  {
   "cell_type": "markdown",
   "id": "efb6253a",
   "metadata": {},
   "source": [
    "A notação `items: list` é uma dica de tipo (type hint) em Python. Ela é usada para indicar o tipo esperado do argumento `items` da função `checar_max`, neste caso, uma lista. Essa notação é usada principalmente para melhorar a clareza do código e fornecer informações sobre o tipo de dados que uma função espera como argumento.\n",
    "\n",
    "Você pode usá-la em outros contextos, como em definições de funções, em anotações de tipos de variáveis, em classes e em várias partes do seu código para fornecer dicas sobre o tipo de dados que você espera ou que uma função retorna. Isso pode ser particularmente útil em programas maiores ou quando você está trabalhando com outros desenvolvedores, pois ajuda a documentar e esclarecer o comportamento esperado das funções e variáveis.\n",
    "\n",
    "A notação `items: list` indica que a função `checar_max` deve receber uma lista como argumento `items`, e o tipo do argumento deve ser uma lista. Se você fornecer um tipo diferente, Python pode gerar um aviso ou erro, dependendo das configurações do linter (ferramenta de análise de código) que você estiver usando. No entanto, essas dicas de tipo não têm impacto real na execução do programa; elas são usadas principalmente para documentação e verificação estática do código."
   ]
  },
  {
   "cell_type": "markdown",
   "id": "24cac96c",
   "metadata": {},
   "source": [
    "---\n",
    "\n",
    "alguns exemplos de como usar dicas de tipo em Python:\n",
    "\n",
    "**1. Anotação de tipo de argumento de função:**\n",
    "```python\n",
    "def soma(a: int, b: int) -> int:\n",
    "    return a + b\n",
    "```\n",
    "\n",
    "Neste exemplo, a função `soma` espera dois argumentos `a` e `b`, ambos do tipo `int`, e a função retorna um valor do tipo `int`.\n",
    "\n",
    "**2. Anotação de tipo de variável:**\n",
    "```python\n",
    "total: float = 0.0\n",
    "```\n",
    "\n",
    "Neste exemplo, a variável `total` é uma variável de ponto flutuante (float) e é inicializada com o valor 0.0.\n",
    "\n",
    "**3. Dicas de tipo em listas e dicionários:**\n",
    "```python\n",
    "from typing import List, Dict\n",
    "\n",
    "pontuacoes: List[int] = [90, 85, 88, 92]\n",
    "aluno: Dict[str, int] = {'nome': 'João', 'idade': 25}\n",
    "```\n",
    "\n",
    "Neste exemplo, `pontuacoes` é uma lista de inteiros e `aluno` é um dicionário com chaves do tipo string e valores do tipo inteiro.\n",
    "\n",
    "**4. Funções com anotações de tipo de retorno:**\n",
    "```python\n",
    "def dobro(a: int) -> int:\n",
    "    return a * 2\n",
    "```\n",
    "\n",
    "Neste exemplo, a função `dobro` recebe um argumento do tipo `int` e retorna um valor do tipo `int`.\n",
    "\n",
    "Lembrando que as dicas de tipo em Python são opcionais e não afetam o comportamento real do código. No entanto, elas podem ser úteis para tornar o código mais legível, documentar as expectativas de tipos e facilitar a detecção de erros por ferramentas de análise estática.\n",
    "\n",
    "---"
   ]
  },
  {
   "cell_type": "markdown",
   "id": "71967323",
   "metadata": {},
   "source": [
    "<hr style=\"border: 2px solid #4500ff;\">\n",
    "\n",
    "# <font color=\"#4500ff\" style=\"font-size: 25px;\">Exercício 81</font>\n",
    "<hr style=\"border: 2px solid #4500ff;\">"
   ]
  },
  {
   "cell_type": "markdown",
   "id": "a84e6c15",
   "metadata": {},
   "source": [
    " <p style='font-size: 23px; line-height: 2; margin: 0px 0px; text-align: justify; text-indent: 0px;'>    \n",
    "<i><b>Considere a lista abaixo e escreva um programa que mostre na tela o seu menor número.\n",
    "    \n",
    "```\n",
    "    \n",
    "lista=[497, 186, 66, 198, 204, 339, 738, 743, \n",
    "       -80, 36, 887, 645, 312, 760, 574, 439, \n",
    "       164, 873, 125, 871, 901, 561, 5, -65, \n",
    "       -66, -51, 522, 306, -79, 577, 268, 240, \n",
    "       183, 217, 729, 202, 483, 464, 281, 6, \n",
    "       -44, 110, 670, 749, 846, 903, 15, 265, \n",
    "       596, -3, 534, -42, 528, 582, 552, 254, \n",
    "       780, 326, 816, -7, 859, 234, 898, 355, \n",
    "       706, 576, 968, 349, 649, 522, 466, 353, \n",
    "       940, 41, 141, 946, 317, 346, 256, 326, \n",
    "       546, 473, 270, 22, 102, 504, 421, 87, \n",
    "       570, 143, 519, 292, 382, 744, 525, 658, \n",
    "       725, 477, 413]\n",
    "    \n",
    "```\n",
    "    \n",
    "</b></i>     \n",
    "</p>\n",
    "\n",
    "---"
   ]
  },
  {
   "cell_type": "code",
   "execution_count": 81,
   "id": "d2e6245e",
   "metadata": {},
   "outputs": [
    {
     "name": "stdout",
     "output_type": "stream",
     "text": [
      "-80\n",
      "\n",
      "-80\n"
     ]
    }
   ],
   "source": [
    "# método 1\n",
    "print(min(lista))\n",
    "print()\n",
    "\n",
    "\n",
    "# método 2\n",
    "menor = lista[0]\n",
    "\n",
    "for elemento in lista:\n",
    "\n",
    "    if elemento < menor:\n",
    "        menor = elemento\n",
    "\n",
    "\n",
    "print(menor)"
   ]
  },
  {
   "cell_type": "code",
   "execution_count": null,
   "id": "e77bc4c3",
   "metadata": {},
   "outputs": [],
   "source": []
  }
 ],
 "metadata": {
  "kernelspec": {
   "display_name": "Python 3 (ipykernel)",
   "language": "python",
   "name": "python3"
  },
  "language_info": {
   "codemirror_mode": {
    "name": "ipython",
    "version": 3
   },
   "file_extension": ".py",
   "mimetype": "text/x-python",
   "name": "python",
   "nbconvert_exporter": "python",
   "pygments_lexer": "ipython3",
   "version": "3.11.3"
  }
 },
 "nbformat": 4,
 "nbformat_minor": 5
}

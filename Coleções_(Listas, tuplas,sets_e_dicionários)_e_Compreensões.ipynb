{
 "cells": [
  {
   "cell_type": "markdown",
   "id": "4d76159e",
   "metadata": {},
   "source": [
    "\n",
    "\n",
    "# <font color=\"#ff4500\" style=\"font-size: 30px;\">Código Python Todo Dia</font>\n"
   ]
  },
  {
   "cell_type": "markdown",
   "id": "10b3ae43",
   "metadata": {},
   "source": [
    "<hr style=\"border: 2px solid #4500ff;\">\n",
    "\n",
    "# <font color=\"#4500ff\" style=\"font-size: 25px;\">Exercício 76</font>\n",
    "<hr style=\"border: 2px solid #4500ff;\">"
   ]
  },
  {
   "cell_type": "markdown",
   "id": "cb6218b3",
   "metadata": {},
   "source": [
    " <p style='font-size: 23px; line-height: 2; margin: 0px 0px; text-align: justify; text-indent: 0px;'>    \n",
    "<i><b>Escreva um programa que some todos os elementos de uma lista.</b></i>     \n",
    "</p>\n",
    "\n",
    "---"
   ]
  },
  {
   "cell_type": "code",
   "execution_count": 7,
   "id": "53cbe24f",
   "metadata": {},
   "outputs": [
    {
     "name": "stdout",
     "output_type": "stream",
     "text": [
      "5102\n"
     ]
    }
   ],
   "source": [
    "import random as r\n",
    "\n",
    "# Criando lista\n",
    "lista = [r.randint(1,100) for _ in range(100)]\n",
    "\n",
    "# Soma\n",
    "soma = sum(lista)\n",
    "\n",
    "print(soma)"
   ]
  },
  {
   "cell_type": "markdown",
   "id": "eedd0837",
   "metadata": {},
   "source": [
    "<hr style=\"border: 2px solid #4500ff;\">\n",
    "\n",
    "# <font color=\"#4500ff\" style=\"font-size: 25px;\">Exercício 77</font>\n",
    "<hr style=\"border: 2px solid #4500ff;\">"
   ]
  },
  {
   "cell_type": "markdown",
   "id": "09777715",
   "metadata": {},
   "source": [
    " <p style='font-size: 23px; line-height: 2; margin: 0px 0px; text-align: justify; text-indent: 0px;'>    \n",
    "<i><b>Escreva um programa que multiplique todos os elementos de uma lista.</b></i>     \n",
    "</p>\n",
    "\n",
    "---"
   ]
  },
  {
   "cell_type": "code",
   "execution_count": 46,
   "id": "4a3f0a02",
   "metadata": {},
   "outputs": [
    {
     "name": "stdout",
     "output_type": "stream",
     "text": [
      "3628800\n",
      "\n",
      "O resultado da multiplicação de todos os elementos da lista é: 3628800\n"
     ]
    }
   ],
   "source": [
    "import random as r\n",
    "\n",
    "# Criando lista\n",
    "lista = r.sample(range(1,11), 10)\n",
    "multipli = 1\n",
    "\n",
    "# iteração\n",
    "for num in lista:\n",
    "    multipli = num * multipli\n",
    "\n",
    "print(multipli)\n",
    "print()\n",
    "\n",
    "# segundo método\n",
    "import random as r\n",
    "\n",
    "# Criando lista\n",
    "#lista = r.sample(range(1, 1001), 100)\n",
    "\n",
    "# Inicialize uma variável para armazenar o resultado da multiplicação\n",
    "resultado = 1\n",
    "\n",
    "# Iteração para multiplicar todos os elementos da lista\n",
    "for num in lista:\n",
    "    resultado *= num\n",
    "\n",
    "print(\"O resultado da multiplicação de todos os elementos da lista é:\", resultado)\n"
   ]
  },
  {
   "cell_type": "code",
   "execution_count": null,
   "id": "bbaa218a",
   "metadata": {},
   "outputs": [],
   "source": []
  }
 ],
 "metadata": {
  "kernelspec": {
   "display_name": "Python 3 (ipykernel)",
   "language": "python",
   "name": "python3"
  },
  "language_info": {
   "codemirror_mode": {
    "name": "ipython",
    "version": 3
   },
   "file_extension": ".py",
   "mimetype": "text/x-python",
   "name": "python",
   "nbconvert_exporter": "python",
   "pygments_lexer": "ipython3",
   "version": "3.11.3"
  }
 },
 "nbformat": 4,
 "nbformat_minor": 5
}

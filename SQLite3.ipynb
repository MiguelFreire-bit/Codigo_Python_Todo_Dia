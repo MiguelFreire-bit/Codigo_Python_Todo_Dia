{
 "cells": [
  {
   "cell_type": "markdown",
   "id": "5404be4a",
   "metadata": {},
   "source": [
    "\n",
    "\n",
    "# <font color=\"#ff4500\" style=\"font-size: 30px;\">Código Python Todo Dia</font>\n"
   ]
  },
  {
   "cell_type": "markdown",
   "id": "ea5b9310",
   "metadata": {},
   "source": [
    "<hr style=\"border: 2px solid #4500ff;\">\n",
    "\n",
    "# <font color=\"#4500ff\" style=\"font-size: 25px;\">Exercício 159</font>\n",
    "<hr style=\"border: 2px solid #4500ff;\">\n",
    "\n",
    " <p style='font-size: 23px; line-height: 2; margin: 0px 0px; text-align: justify; text-indent: 0px;'>    \n",
    "<i><b> Elabore um script que crie um banco de dados denominado estoque.db, usando SQLite3. A tabela ESTOQUE criada deve armazenar as seguintes informações: nome, preço e quantidade.\n",
    "\n",
    "## obs: Lembrete, para criar uma tabela usando SQL:\n",
    "    \n",
    "```python\n",
    "    CREATE TABLE NOME (\n",
    "    COLUNA1 datatype,\n",
    "    COLUNA2 datatype,\n",
    "    COLUNA3 datatype,\n",
    "    COLUNA4 datatype,\n",
    "    ...\n",
    "    COLUNAn datatype\n",
    " \n",
    ")\n",
    "```\n",
    "</b></i>     \n",
    "</p>\n",
    "\n",
    "---"
   ]
  },
  {
   "cell_type": "code",
   "execution_count": 1,
   "id": "d5216ca5",
   "metadata": {},
   "outputs": [],
   "source": [
    "import pandas as pd\n",
    "import matplotlib.pyplot as plt\n",
    "from sqlalchemy import create_engine, inspect, text\n",
    "\n",
    "# sqlalchemy : SQLAlchemy é uma biblioteca Python para interagir com bancos de dados relacionais. \n",
    "\n",
    "# create_engine: cria uma conexão com o banco.\n",
    "\n",
    "# inspect: inspeciona a estrutura do banco.\n",
    "\n",
    "# text: permite escrever consultas SQL de forma mais flexível.\n",
    "\n"
   ]
  },
  {
   "cell_type": "code",
   "execution_count": 2,
   "id": "ac07149d",
   "metadata": {},
   "outputs": [
    {
     "name": "stdout",
     "output_type": "stream",
     "text": [
      "['ESTOQUE']\n"
     ]
    }
   ],
   "source": [
    "# Caminho para o arquivo .db\n",
    "caminho_banco = \"banco_de_dados_SQLite/estoque.db\"\n",
    "\n",
    "# Criação da engine\n",
    "engine = create_engine(f'sqlite:///{caminho_banco}')\n",
    "\n",
    "# Instância do objeto inspector\n",
    "inspector = inspect(engine)\n",
    "\n",
    "# Lista os nomes das tabelas no banco de dados\n",
    "print(inspector.get_table_names())"
   ]
  },
  {
   "cell_type": "code",
   "execution_count": 3,
   "id": "9c12e9e4",
   "metadata": {},
   "outputs": [],
   "source": [
    "def sql_df(query):\n",
    "    \"função que recebe e executa as querys\"\n",
    "    with engine.connect() as conexao:  # Cria uma conexão com o banco de dados\n",
    "        consulta = conexao.execute(text(query))  # Executa a consulta SQL\n",
    "        dados = consulta.fetchall()  # Busca todos os resultados da consulta\n",
    "    return pd.DataFrame(dados, columns=consulta.keys())  # Retorna os resultados como DataFrame\n"
   ]
  },
  {
   "cell_type": "code",
   "execution_count": 4,
   "id": "0db6f20c",
   "metadata": {},
   "outputs": [
    {
     "data": {
      "text/html": [
       "<div>\n",
       "<style scoped>\n",
       "    .dataframe tbody tr th:only-of-type {\n",
       "        vertical-align: middle;\n",
       "    }\n",
       "\n",
       "    .dataframe tbody tr th {\n",
       "        vertical-align: top;\n",
       "    }\n",
       "\n",
       "    .dataframe thead th {\n",
       "        text-align: right;\n",
       "    }\n",
       "</style>\n",
       "<table border=\"1\" class=\"dataframe\">\n",
       "  <thead>\n",
       "    <tr style=\"text-align: right;\">\n",
       "      <th></th>\n",
       "      <th>NOME</th>\n",
       "      <th>PRECO</th>\n",
       "      <th>QUANTIDADE</th>\n",
       "    </tr>\n",
       "  </thead>\n",
       "  <tbody>\n",
       "  </tbody>\n",
       "</table>\n",
       "</div>"
      ],
      "text/plain": [
       "Empty DataFrame\n",
       "Columns: [NOME, PRECO, QUANTIDADE]\n",
       "Index: []"
      ]
     },
     "execution_count": 4,
     "metadata": {},
     "output_type": "execute_result"
    }
   ],
   "source": [
    "query= 'SELECT * FROM estoque'\n",
    "\n",
    "df_estoque = sql_df(query)\n",
    "df_estoque"
   ]
  },
  {
   "cell_type": "code",
   "execution_count": 5,
   "id": "dd7ef24a",
   "metadata": {},
   "outputs": [],
   "source": [
    "# eu ja tinha a tabela, mas o outro jeito é: \n",
    "\n",
    "import sqlite3  # Importa a biblioteca SQLite3\n",
    "\n",
    "# Define a conexão com o banco de dados\n",
    "conn = sqlite3.connect('estoque.db')\n",
    "\n",
    "# Cria um cursor para executar comandos SQL\n",
    "cur = conn.cursor()\n",
    "\n",
    "#deleta a tabela CLIENTE caso já exista\n",
    "cur.execute('DROP TABLE IF EXISTS ESTOQUES')\n",
    "\n",
    "# Cria a tabela ESTOQUE\n",
    "consulta_ = cur.execute('''CREATE TABLE ESTOQUES (\n",
    "                nome TEXT,\n",
    "                preco REAL,\n",
    "                quantidade INTEGER\n",
    "            )''')\n",
    "\n",
    "# Salva as alterações\n",
    "conn.commit()\n",
    "\n",
    "# Fecha a conexão\n",
    "conn.close()"
   ]
  },
  {
   "cell_type": "markdown",
   "id": "0969eceb",
   "metadata": {},
   "source": [
    "<hr style=\"border: 2px solid #4500ff;\">\n",
    "\n",
    "# <font color=\"#4500ff\" style=\"font-size: 25px;\">Exercício 160</font>\n",
    "<hr style=\"border: 2px solid #4500ff;\">\n",
    "\n",
    " <p style='font-size: 23px; line-height: 2; margin: 0px 0px; text-align: justify; text-indent: 0px;'>    \n",
    "<i><b> Elabore um script que crie um banco de dados denominado cliente.db, usando SQLite3. A tabela CLIENTE criada deve armazenar as seguintes informações: id, nome, sobrenome, idade, peso, sexo e renda.\n",
    "\n",
    "\n",
    "\n",
    "## obs: Lembrete, para criar uma tabela usando SQL:\n",
    "    \n",
    "```python\n",
    "    CREATE TABLE NOME (\n",
    "    COLUNA1 datatype,\n",
    "    COLUNA2 datatype,\n",
    "    COLUNA3 datatype,\n",
    "    COLUNA4 datatype,\n",
    "    ...\n",
    "    COLUNAn datatype\n",
    " \n",
    ")\n",
    "```\n",
    "</b></i>     \n",
    "</p>\n",
    "\n",
    "---"
   ]
  },
  {
   "cell_type": "code",
   "execution_count": 6,
   "id": "d6446255",
   "metadata": {},
   "outputs": [
    {
     "name": "stdout",
     "output_type": "stream",
     "text": [
      "['ESTOQUE', 'cliente_df']\n"
     ]
    }
   ],
   "source": [
    "# JEITO 1\n",
    "\n",
    "cliente_df = pd.DataFrame(columns= ['id', 'nome', 'sobrenome', 'idade', 'peso', 'sexo', 'renda'])\n",
    "\n",
    "cliente_df.to_sql('cliente_df',engine,index=False)\n",
    "\n",
    "inspector = inspect(engine)\n",
    "print(inspector.get_table_names())"
   ]
  },
  {
   "cell_type": "code",
   "execution_count": 7,
   "id": "41501df8",
   "metadata": {},
   "outputs": [
    {
     "data": {
      "text/html": [
       "<div>\n",
       "<style scoped>\n",
       "    .dataframe tbody tr th:only-of-type {\n",
       "        vertical-align: middle;\n",
       "    }\n",
       "\n",
       "    .dataframe tbody tr th {\n",
       "        vertical-align: top;\n",
       "    }\n",
       "\n",
       "    .dataframe thead th {\n",
       "        text-align: right;\n",
       "    }\n",
       "</style>\n",
       "<table border=\"1\" class=\"dataframe\">\n",
       "  <thead>\n",
       "    <tr style=\"text-align: right;\">\n",
       "      <th></th>\n",
       "      <th>id</th>\n",
       "      <th>nome</th>\n",
       "      <th>sobrenome</th>\n",
       "      <th>idade</th>\n",
       "      <th>peso</th>\n",
       "      <th>sexo</th>\n",
       "      <th>renda</th>\n",
       "    </tr>\n",
       "  </thead>\n",
       "  <tbody>\n",
       "  </tbody>\n",
       "</table>\n",
       "</div>"
      ],
      "text/plain": [
       "Empty DataFrame\n",
       "Columns: [id, nome, sobrenome, idade, peso, sexo, renda]\n",
       "Index: []"
      ]
     },
     "execution_count": 7,
     "metadata": {},
     "output_type": "execute_result"
    }
   ],
   "source": [
    "query= 'SELECT * FROM cliente_df'\n",
    "\n",
    "df_cliente = sql_df(query)\n",
    "df_cliente"
   ]
  },
  {
   "cell_type": "code",
   "execution_count": 8,
   "id": "a57999dd",
   "metadata": {},
   "outputs": [],
   "source": [
    "# JEITO 2\n",
    "\n",
    "# Define a conexão com o banco de dados\n",
    "conexao = sqlite3.connect('cliente.db')\n",
    "\n",
    "# Cria um cursor para executar comandos SQL\n",
    "cursor = conexao.cursor()\n",
    "\n",
    "# deleta a tabela CLIENTE caso já exista\n",
    "cursor.execute('DROP TABLE IF EXISTS df_cliente')\n",
    "\n",
    "# Cria a tabela CLIENTE\n",
    "consulta_ = cursor.execute(\"\"\"CREATE TABLE df_cliente(\n",
    "    id INTEGER PRIMARY KEY AUTOINCREMENT,\n",
    "    NOME CHAR(30) NOT NULL,\n",
    "    SOBRENOME CHAR(20),\n",
    "    IDADE INT,\n",
    "    PESO FLOAT,\n",
    "    SEXO CHAR(1),\n",
    "    RENDA FLOAT\n",
    "    )\"\"\")\n",
    "\n",
    "# Salva as alterações\n",
    "conexao.commit()\n",
    "\n",
    "# Fecha a conexão\n",
    "conexao.close()"
   ]
  },
  {
   "cell_type": "markdown",
   "id": "a58e778d",
   "metadata": {},
   "source": [
    "<hr style=\"border: 2px solid #4500ff;\">\n",
    "\n",
    "# <font color=\"#4500ff\" style=\"font-size: 25px;\">Exercício 161</font>\n",
    "<hr style=\"border: 2px solid #4500ff;\">\n",
    "\n",
    " <p style='font-size: 23px; line-height: 2; margin: 0px 0px; text-align: justify; text-indent: 0px;'>    \n",
    "<i><b> Adicione dois produtos na tabela ESTOQUE criada no exercício 1.\n",
    "\n",
    "\n",
    "\n",
    "## Lembrete:\n",
    "    \n",
    "```python\n",
    "INSERT INTO NOME_TABELA (coluna1, coluna2, coluna3,..., colunaN)\n",
    "    VALUES (valor1, valor2, valor3,..., valorN);\n",
    " \n",
    "```\n",
    "</b></i>     \n",
    "</p>\n",
    "\n",
    "---"
   ]
  },
  {
   "cell_type": "code",
   "execution_count": 9,
   "id": "310b0423",
   "metadata": {},
   "outputs": [],
   "source": [
    "# JEITO 1\n",
    "\n",
    "QUERY = '''INSERT INTO ESTOQUE (nome, preco, quantidade)\n",
    "           VALUES ('PS5', 5000, 2),\n",
    "                  ('XBOX', 3000, 5)'''\n",
    "\n",
    "\n",
    "with engine.connect() as conexao:  # Cria uma conexão com o banco de dados\n",
    "    consulta = conexao.execute(text(QUERY))  # Executa a consulta SQL"
   ]
  },
  {
   "cell_type": "code",
   "execution_count": 10,
   "id": "5c91429a",
   "metadata": {},
   "outputs": [
    {
     "data": {
      "text/html": [
       "<div>\n",
       "<style scoped>\n",
       "    .dataframe tbody tr th:only-of-type {\n",
       "        vertical-align: middle;\n",
       "    }\n",
       "\n",
       "    .dataframe tbody tr th {\n",
       "        vertical-align: top;\n",
       "    }\n",
       "\n",
       "    .dataframe thead th {\n",
       "        text-align: right;\n",
       "    }\n",
       "</style>\n",
       "<table border=\"1\" class=\"dataframe\">\n",
       "  <thead>\n",
       "    <tr style=\"text-align: right;\">\n",
       "      <th></th>\n",
       "      <th>NOME</th>\n",
       "      <th>PRECO</th>\n",
       "      <th>QUANTIDADE</th>\n",
       "    </tr>\n",
       "  </thead>\n",
       "  <tbody>\n",
       "    <tr>\n",
       "      <th>0</th>\n",
       "      <td>PS5</td>\n",
       "      <td>5000.0</td>\n",
       "      <td>2</td>\n",
       "    </tr>\n",
       "    <tr>\n",
       "      <th>1</th>\n",
       "      <td>XBOX</td>\n",
       "      <td>3000.0</td>\n",
       "      <td>5</td>\n",
       "    </tr>\n",
       "  </tbody>\n",
       "</table>\n",
       "</div>"
      ],
      "text/plain": [
       "   NOME   PRECO  QUANTIDADE\n",
       "0   PS5  5000.0           2\n",
       "1  XBOX  3000.0           5"
      ]
     },
     "execution_count": 10,
     "metadata": {},
     "output_type": "execute_result"
    }
   ],
   "source": [
    "query= 'SELECT * FROM estoque'\n",
    "\n",
    "df_estoque = sql_df(query)\n",
    "df_estoque"
   ]
  },
  {
   "cell_type": "code",
   "execution_count": 22,
   "id": "fd0ec33b",
   "metadata": {},
   "outputs": [],
   "source": [
    "import sqlite3  # Importa a biblioteca SQLite3\n",
    "\n",
    "# Define a conexão com o banco de dados\n",
    "conn = sqlite3.connect('estoque.db')\n",
    "\n",
    "# Cria um cursor para executar comandos SQL\n",
    "cur = conn.cursor()\n",
    "\n",
    "# Cria a tabela ESTOQUE\n",
    "consulta_ = cur.execute('''INSERT INTO ESTOQUES (nome, preco, quantidade)\n",
    "           VALUES ('PS5', 5000, 2),\n",
    "                  ('XBOX', 3000, 5)''')\n",
    "\n",
    "# Salva as alterações\n",
    "conn.commit()\n",
    "\n",
    "# Fecha a conexão\n",
    "conn.close()"
   ]
  },
  {
   "cell_type": "code",
   "execution_count": 23,
   "id": "7374314a",
   "metadata": {},
   "outputs": [
    {
     "name": "stdout",
     "output_type": "stream",
     "text": [
      "   Nome   Preço  Quantidade\n",
      "0   PS5  5000.0           2\n",
      "1  XBOX  3000.0           5\n"
     ]
    }
   ],
   "source": [
    "# Define a conexão com o banco de dados\n",
    "conn = sqlite3.connect('estoque.db')\n",
    "\n",
    "# Cria um cursor para executar comandos SQL\n",
    "cur = conn.cursor()\n",
    "\n",
    "# Executa uma consulta SQL para selecionar todos os dados da tabela ESTOQUE\n",
    "cur.execute('SELECT * FROM ESTOQUES')\n",
    "\n",
    "# Obtém todos os dados retornados pela consulta\n",
    "dados = cur.fetchall()\n",
    "\n",
    "# Cria um DataFrame do Pandas com os dados obtidos\n",
    "estoques = pd.DataFrame(dados, columns=['Nome', 'Preço', 'Quantidade'])\n",
    "\n",
    "# Exibe o DataFrame\n",
    "print(estoques)\n",
    "\n",
    "# Fecha a conexão\n",
    "conn.close()"
   ]
  },
  {
   "cell_type": "code",
   "execution_count": null,
   "id": "eb706bdd",
   "metadata": {},
   "outputs": [],
   "source": []
  },
  {
   "cell_type": "code",
   "execution_count": null,
   "id": "d654598f",
   "metadata": {},
   "outputs": [],
   "source": []
  }
 ],
 "metadata": {
  "kernelspec": {
   "display_name": "Python 3 (ipykernel)",
   "language": "python",
   "name": "python3"
  },
  "language_info": {
   "codemirror_mode": {
    "name": "ipython",
    "version": 3
   },
   "file_extension": ".py",
   "mimetype": "text/x-python",
   "name": "python",
   "nbconvert_exporter": "python",
   "pygments_lexer": "ipython3",
   "version": "3.11.5"
  }
 },
 "nbformat": 4,
 "nbformat_minor": 5
}

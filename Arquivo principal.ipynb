{
 "cells": [
  {
   "cell_type": "markdown",
   "id": "4d76159e",
   "metadata": {},
   "source": [
    "\n",
    "\n",
    "# <font color=\"#ff4500\" style=\"font-size: 30px;\">Código Python Todo Dia</font>\n"
   ]
  },
  {
   "cell_type": "markdown",
   "id": "10b3ae43",
   "metadata": {},
   "source": [
    "<hr style=\"border: 2px solid #4500ff;\">\n",
    "\n",
    "# <font color=\"#4500ff\" style=\"font-size: 25px;\">Exercício 1</font>\n",
    "<hr style=\"border: 2px solid #4500ff;\">"
   ]
  },
  {
   "cell_type": "markdown",
   "id": "cb6218b3",
   "metadata": {},
   "source": [
    " <p style='font-size: 23px; line-height: 2; margin: 0px 0px; text-align: justify; text-indent: 0px;'>    \n",
    "<i><b>Escreva um programa que mostre a mensagem 'Hello World!' na tela.</b></i>     \n",
    "</p>\n",
    "\n",
    "---"
   ]
  },
  {
   "cell_type": "code",
   "execution_count": 71,
   "id": "ed89b093",
   "metadata": {},
   "outputs": [
    {
     "name": "stdout",
     "output_type": "stream",
     "text": [
      "Hello World\n"
     ]
    }
   ],
   "source": [
    "print(\"Hello World\")"
   ]
  },
  {
   "cell_type": "markdown",
   "id": "2388e0d3",
   "metadata": {},
   "source": [
    "<hr style=\"border: 2px solid #4500ff;\">\n",
    "\n",
    "# <font color=\"#4500ff\" style=\"font-size: 25px;\">Exercício 2</font>\n",
    "<hr style=\"border: 2px solid #4500ff;\">"
   ]
  },
  {
   "cell_type": "markdown",
   "id": "d6c242f0",
   "metadata": {},
   "source": [
    " <p style='font-size: 23px; line-height: 2; margin: 0px 0px; text-align: justify; text-indent: 0px;'>    \n",
    "<i><b>Faça um programa que solicite um número do usuário e apresente a seguinte mensagem na tela:\n",
    "\n",
    "\"O número digitado foi [número]\".</b></i>     \n",
    "</p>\n",
    "\n",
    "---"
   ]
  },
  {
   "cell_type": "code",
   "execution_count": 72,
   "id": "8edd6346",
   "metadata": {},
   "outputs": [
    {
     "name": "stdout",
     "output_type": "stream",
     "text": [
      "Digite o número: 5\n",
      "o número digitado foi 5.0\n"
     ]
    }
   ],
   "source": [
    "A = float(input(\"Digite o número: \"))\n",
    "print(f'o número digitado foi {A}')"
   ]
  },
  {
   "cell_type": "markdown",
   "id": "1eb6bf7e",
   "metadata": {},
   "source": [
    "<hr style=\"border: 2px solid #4500ff;\">\n",
    "\n",
    "# <font color=\"#4500ff\" style=\"font-size: 25px;\">Exercício 3</font>\n",
    "<hr style=\"border: 2px solid #4500ff;\">"
   ]
  },
  {
   "cell_type": "markdown",
   "id": "039eec24",
   "metadata": {},
   "source": [
    " <p style='font-size: 23px; line-height: 2; margin: 0px 0px; text-align: justify; text-indent: 0px;'>    \n",
    "<i><b>Escreva um programa que solicite o nome e o sobrenome do usuário. Ao final o programa deverá apresentar o nome completo do usuário na tela.</b></i>     \n",
    "</p>\n",
    "\n",
    "---"
   ]
  },
  {
   "cell_type": "code",
   "execution_count": 73,
   "id": "2a417535",
   "metadata": {},
   "outputs": [
    {
     "name": "stdout",
     "output_type": "stream",
     "text": [
      "Digite o nome: miguel\n",
      "Digite o sobrenome: freire\n",
      "nome: Miguel Freire\n"
     ]
    }
   ],
   "source": [
    "nome_1 = input(\"Digite o nome: \").strip().title()\n",
    "nome_2 = input(\"Digite o sobrenome: \").strip().title()\n",
    "\n",
    "print(f'nome: {nome_1} {nome_2}')"
   ]
  },
  {
   "cell_type": "markdown",
   "id": "39e21636",
   "metadata": {},
   "source": [
    "---\n",
    "O uso de `.strip()` é útil para remover espaços em branco extras que podem ser acidentalmente inseridos antes ou depois do texto que o usuário digita. Ele ajuda a garantir que o texto não contenha espaços em branco indesejados.\n",
    "\n",
    "O uso de `.title()` é opcional e depende da preferência do desenvolvedor. Ele capitaliza a primeira letra de cada palavra na entrada do usuário, o que pode tornar a saída mais legível e consistente. Se a formatação correta dos nomes for importante no contexto do seu programa, o `.title()` pode ser útil. Caso contrário, não é estritamente necessário.\n",
    "\n",
    "---"
   ]
  },
  {
   "cell_type": "markdown",
   "id": "eac23dff",
   "metadata": {},
   "source": [
    "<hr style=\"border: 2px solid #4500ff;\">\n",
    "\n",
    "# <font color=\"#4500ff\" style=\"font-size: 25px;\">Exercício 4</font>\n",
    "<hr style=\"border: 2px solid #4500ff;\">"
   ]
  },
  {
   "cell_type": "markdown",
   "id": "41aa7bd7",
   "metadata": {},
   "source": [
    " <p style='font-size: 23px; line-height: 2; margin: 0px 0px; text-align: justify; text-indent: 0px;'>    \n",
    "<i><b>Faça um programa que solicite três números inteiros do usuário e imprima a soma destes.</b></i>     \n",
    "</p>\n",
    "\n",
    "---"
   ]
  },
  {
   "cell_type": "code",
   "execution_count": 74,
   "id": "d37e60a1",
   "metadata": {},
   "outputs": [],
   "source": [
    "import numpy as np\n",
    "import pandas as pd\n",
    "import math"
   ]
  },
  {
   "cell_type": "code",
   "execution_count": 75,
   "id": "81028c8f",
   "metadata": {},
   "outputs": [
    {
     "name": "stdout",
     "output_type": "stream",
     "text": [
      "Digite um número 1: 5\n",
      "Digite um número 2: 4\n",
      "Digite um número 3: 3\n"
     ]
    },
    {
     "data": {
      "text/plain": [
       "4.0"
      ]
     },
     "execution_count": 75,
     "metadata": {},
     "output_type": "execute_result"
    }
   ],
   "source": [
    "lista = []\n",
    "while len(lista) < 3:\n",
    "    número = float(input(f'Digite um número {(len(lista)+1)}: '))\n",
    "    lista.append(número)\n",
    "    \n",
    "média = sum(lista)/len(lista)\n",
    "média"
   ]
  },
  {
   "cell_type": "markdown",
   "id": "b319fc96",
   "metadata": {},
   "source": [
    "<hr style=\"border: 2px solid #4500ff;\">\n",
    "\n",
    "# <font color=\"#4500ff\" style=\"font-size: 25px;\">Exercício 5</font>\n",
    "<hr style=\"border: 2px solid #4500ff;\">"
   ]
  },
  {
   "cell_type": "markdown",
   "id": "62155590",
   "metadata": {},
   "source": [
    " <p style='font-size: 23px; line-height: 2; margin: 0px 0px; text-align: justify; text-indent: 0px;'>    \n",
    "<i><b>Escreva um programa que solicite duas notas do usuário e apresente a média na tela da seguinte forma:\n",
    "\n",
    "\"A média das notas [nota1] e [nota2] é [média]\"</b></i>     \n",
    "</p>\n",
    "\n",
    "---"
   ]
  },
  {
   "cell_type": "code",
   "execution_count": 76,
   "id": "bdc96084",
   "metadata": {
    "scrolled": true
   },
   "outputs": [
    {
     "name": "stdout",
     "output_type": "stream",
     "text": [
      "Digite um número 1: 5\n",
      "Digite um número 2: 4\n",
      "A média das notas '5.0' e '4.0' é 4.5\n"
     ]
    }
   ],
   "source": [
    "lista = []\n",
    "while len(lista) < 2:\n",
    "    número = float(input(f'Digite um número {(len(lista)+1)}: '))\n",
    "    lista.append(número)\n",
    "    \n",
    "media = sum(lista)/len(lista)\n",
    "print(f\"A média das notas '{lista[0]}' e '{lista[1]}' é {media}\")"
   ]
  },
  {
   "cell_type": "markdown",
   "id": "ec63adf5",
   "metadata": {},
   "source": [
    "<hr style=\"border: 2px solid #4500ff;\">\n",
    "\n",
    "# <font color=\"#4500ff\" style=\"font-size: 25px;\">Exercício 6</font>\n",
    "<hr style=\"border: 2px solid #4500ff;\">"
   ]
  },
  {
   "cell_type": "markdown",
   "id": "c0b0e17c",
   "metadata": {},
   "source": [
    " <p style='font-size: 23px; line-height: 2; margin: 0px 0px; text-align: justify; text-indent: 0px;'>    \n",
    "<i><b>Faça um programa que calcule a raiz quadrada de um número. O usuário deve inserir um número e o programa deve mostrar na tela o resultado da raiz quadrada do número inserido.</b></i>     \n",
    "</p>\n",
    "\n",
    "---"
   ]
  },
  {
   "cell_type": "code",
   "execution_count": 77,
   "id": "248cd95a",
   "metadata": {},
   "outputs": [
    {
     "name": "stdout",
     "output_type": "stream",
     "text": [
      "Digite um número: 5\n"
     ]
    },
    {
     "data": {
      "text/plain": [
       "2.23606797749979"
      ]
     },
     "execution_count": 77,
     "metadata": {},
     "output_type": "execute_result"
    }
   ],
   "source": [
    "num = float(input('Digite um número: '))\n",
    "num_std = np.sqrt(num)\n",
    "num_std"
   ]
  },
  {
   "cell_type": "markdown",
   "id": "bcc9342a",
   "metadata": {},
   "source": [
    "<hr style=\"border: 2px solid #4500ff;\">\n",
    "\n",
    "# <font color=\"#4500ff\" style=\"font-size: 25px;\">Exercício 7</font>\n",
    "<hr style=\"border: 2px solid #4500ff;\">"
   ]
  },
  {
   "cell_type": "markdown",
   "id": "42d319e5",
   "metadata": {},
   "source": [
    " <p style='font-size: 23px; line-height: 2; margin: 0px 0px; text-align: justify; text-indent: 0px;'>    \n",
    "<i><b>Faça um programa que peça 5 números de ponto flutuante do usuário e apresente no final a média dos números digitados.</b></i>     \n",
    "</p>\n",
    "\n",
    "---"
   ]
  },
  {
   "cell_type": "code",
   "execution_count": 78,
   "id": "8d410ba4",
   "metadata": {},
   "outputs": [
    {
     "name": "stdout",
     "output_type": "stream",
     "text": [
      "Digite um número 1: 5\n",
      "Digite um número 2: 3\n",
      "Digite um número 3: 4\n",
      "Digite um número 4: 2\n",
      "Digite um número 5: 1\n"
     ]
    },
    {
     "data": {
      "text/plain": [
       "3.0"
      ]
     },
     "execution_count": 78,
     "metadata": {},
     "output_type": "execute_result"
    }
   ],
   "source": [
    "lista = []\n",
    "while len(lista) < 5:\n",
    "    número = float(input(f'Digite um número {(len(lista)+1)}: '))\n",
    "    lista.append(número)\n",
    "\n",
    "media = sum(lista)/len(lista)\n",
    "media"
   ]
  },
  {
   "cell_type": "markdown",
   "id": "d4a3a4ad",
   "metadata": {},
   "source": [
    "<hr style=\"border: 2px solid #4500ff;\">\n",
    "\n",
    "# <font color=\"#4500ff\" style=\"font-size: 25px;\">Exercício 8</font>\n",
    "<hr style=\"border: 2px solid #4500ff;\">"
   ]
  },
  {
   "cell_type": "markdown",
   "id": "5d763236",
   "metadata": {},
   "source": [
    " <p style='font-size: 23px; line-height: 2; margin: 0px 0px; text-align: justify; text-indent: 0px;'>    \n",
    "<i><b>Escreva um programa que faça a conversão de um dado valor de metro para quilômetro.</b></i>     \n",
    "</p>\n",
    "\n",
    "---"
   ]
  },
  {
   "cell_type": "code",
   "execution_count": 79,
   "id": "05ad53ee",
   "metadata": {},
   "outputs": [
    {
     "name": "stdout",
     "output_type": "stream",
     "text": [
      "digite a distância em metros: 150\n",
      "\n",
      "essa distância é igual a 0.15 Km\n"
     ]
    }
   ],
   "source": [
    "d = float(input('digite a distância em metros: '))\n",
    "km = d/1000\n",
    "\n",
    "print(f'\\nessa distância é igual a {km} Km')"
   ]
  },
  {
   "cell_type": "markdown",
   "id": "90f5216e",
   "metadata": {},
   "source": [
    "<hr style=\"border: 2px solid #4500ff;\">\n",
    "\n",
    "# <font color=\"#4500ff\" style=\"font-size: 25px;\">Exercício 9</font>\n",
    "<hr style=\"border: 2px solid #4500ff;\">"
   ]
  },
  {
   "cell_type": "markdown",
   "id": "85655035",
   "metadata": {},
   "source": [
    " <p style='font-size: 23px; line-height: 2; margin: 0px 0px; text-align: justify; text-indent: 0px;'>    \n",
    "<i><b>Escreva um programa que calcule a área de uma circunferência. O usuário deve digitar o valor do raio e ao final o programa deverá mostrar na tela a área da circunferência.\n",
    "\n",
    "Use a fórmula: área=pi*r² , em que pi é uma constante e r o raio da circunferência.\n",
    "\n",
    "Dica: você pode usar a biblioteca math para pegar a constante pi.</b></i>     \n",
    "</b></i>     \n",
    "</p>\n",
    "\n",
    "---"
   ]
  },
  {
   "cell_type": "code",
   "execution_count": 80,
   "id": "60ad42bb",
   "metadata": {},
   "outputs": [
    {
     "name": "stdout",
     "output_type": "stream",
     "text": [
      "Diga o Raio: 5\n"
     ]
    },
    {
     "data": {
      "text/plain": [
       "78.54"
      ]
     },
     "execution_count": 80,
     "metadata": {},
     "output_type": "execute_result"
    }
   ],
   "source": [
    "valor_de_pi = math.pi\n",
    "\n",
    "raio = float(input('Diga o Raio: '))\n",
    "\n",
    "area = valor_de_pi * math.pow(raio, 2)\n",
    "round(area, 2)"
   ]
  },
  {
   "cell_type": "markdown",
   "id": "c9cde60e",
   "metadata": {},
   "source": [
    "<hr style=\"border: 2px solid #4500ff;\">\n",
    "\n",
    "# <font color=\"#4500ff\" style=\"font-size: 25px;\">Exercício 10</font>\n",
    "<hr style=\"border: 2px solid #4500ff;\">"
   ]
  },
  {
   "cell_type": "markdown",
   "id": "0582a367",
   "metadata": {},
   "source": [
    " <p style='font-size: 23px; line-height: 2; margin: 0px 0px; text-align: justify; text-indent: 0px;'>    \n",
    "<i><b>Faça um programa que peça uma temperatura em Fahrenheit (F) e converta esta temperatura para grau Celsius (C), mostrando o resultado da conversão na tela.\n",
    "\n",
    "Use a fórmula: C = 5 * ((F-32) / 9).</b></i>     \n",
    "</b></i>     \n",
    "</p>\n",
    "\n",
    "---"
   ]
  },
  {
   "cell_type": "code",
   "execution_count": 81,
   "id": "6a142169",
   "metadata": {},
   "outputs": [
    {
     "name": "stdout",
     "output_type": "stream",
     "text": [
      "Diga a temperatura (fº): 30\n",
      "\n",
      " A temperatura 30.0º F é igual a -1.1º C\n"
     ]
    }
   ],
   "source": [
    "fahrenheit = float(input('Diga a temperatura (fº): '))\n",
    "\n",
    "celsius = round(5 * ((fahrenheit-32) / 9),1)\n",
    "\n",
    "print(f'\\n A temperatura {fahrenheit}º F é igual a {celsius}º C')"
   ]
  },
  {
   "cell_type": "markdown",
   "id": "65e7e1f6",
   "metadata": {},
   "source": [
    "<hr style=\"border: 2px solid #4500ff;\">\n",
    "\n",
    "# <font color=\"#4500ff\" style=\"font-size: 25px;\">Exercício 11</font>\n",
    "<hr style=\"border: 2px solid #4500ff;\">"
   ]
  },
  {
   "cell_type": "markdown",
   "id": "d72a1a2e",
   "metadata": {},
   "source": [
    " <p style='font-size: 23px; line-height: 2; margin: 0px 0px; text-align: justify; text-indent: 0px;'>    \n",
    "<i><b>Escreva um programa que peça dois números e apresente a divisão e multiplicação entre eles. A tela de apresentação deverá seguir o seguinte formato:\n",
    "\n",
    "\"[número1]x[número2]=[multiplicação]\"\n",
    "\n",
    "\"[número1]/[número2]=[divisão]\"</b></i>     \n",
    "</b></i>     \n",
    "</p>\n",
    "\n",
    "---"
   ]
  },
  {
   "cell_type": "code",
   "execution_count": 82,
   "id": "e100bb39",
   "metadata": {},
   "outputs": [
    {
     "name": "stdout",
     "output_type": "stream",
     "text": [
      "Diga qual é o Número 1 = 5\n",
      "Diga qual é o Número 2 = 3\n",
      "\n",
      "5.0 x 3.0 = 15.0\n",
      "5.0 / 3.0 = 1.7\n"
     ]
    }
   ],
   "source": [
    "num_1 = float(input('Diga qual é o Número 1 = '))\n",
    "num_2 = float(input('Diga qual é o Número 2 = '))\n",
    "\n",
    "mult = round(num_1*num_2,1)\n",
    "div = round(num_1/num_2,1)\n",
    "\n",
    "\n",
    "print(f\"\\n{num_1} x {num_2} = {mult}\")\n",
    "\n",
    "print(f\"{num_1} / {num_2} = {div}\")"
   ]
  },
  {
   "cell_type": "markdown",
   "id": "9f3df186",
   "metadata": {},
   "source": [
    "<hr style=\"border: 2px solid #4500ff;\">\n",
    "\n",
    "# <font color=\"#4500ff\" style=\"font-size: 25px;\">Exercício 12</font>\n",
    "<hr style=\"border: 2px solid #4500ff;\">"
   ]
  },
  {
   "cell_type": "markdown",
   "id": "2d9530ba",
   "metadata": {},
   "source": [
    " <p style='font-size: 23px; line-height: 2; margin: 0px 0px; text-align: justify; text-indent: 0px;'>    \n",
    "<i><b>Escreva um programa que receba o nome, sobrenome e idade do usuário e apresente a seguinte mensagem na tela:\n",
    "\n",
    "\"Seja bem-vindo [nome] [sobrenome].\"\n",
    "\n",
    "\"Você possui [idade] anos de idade.\"\n",
    "\n",
    "\n",
    "\n",
    "No campo nome e sobrenome utilize os métodos strip() e title(). Lembre-se que o primeiro método permite remover os espaços antes e depois da string, enquanto que o último permite colocar a string no formato titlecased (capitaliza a string).</b></i>     \n",
    "</b></i>     \n",
    "</p>\n",
    "\n",
    "---"
   ]
  },
  {
   "cell_type": "code",
   "execution_count": null,
   "id": "7eccf527",
   "metadata": {},
   "outputs": [],
   "source": [
    "nome = input('Diga qual é o seu nome? = ').strip().capitalize()\n",
    "sobrenome = input('Diga qual é o sobrenome? = ').strip().title()\n",
    "idade = int(input('Diga qual é a sua idade? = '))\n",
    "\n",
    "print(f\"\\nSeja bem-vindo {nome} {sobrenome}\")\n",
    "\n",
    "print(f\"Você possui {idade} anos de idade.\")"
   ]
  },
  {
   "cell_type": "markdown",
   "id": "470457f0",
   "metadata": {},
   "source": [
    "---\n",
    "\n",
    "A diferença entre `capitalize()` e `title()` em Python está relacionada à forma como essas funções modificam strings:\n",
    "\n",
    "1. `capitalize()`: Esta função transforma a primeira letra de uma string em maiúscula e todas as outras letras em minúsculas. Por exemplo:\n",
    "\n",
    "```python\n",
    "texto = \"python é uma linguagem de programação\"\n",
    "capitalizado = texto.capitalize()\n",
    "print(capitalizado)  # Saída: \"Python é uma linguagem de programação\"\n",
    "```\n",
    "\n",
    "2. `title()`: Esta função transforma a primeira letra de cada palavra em uma string em maiúscula e todas as outras letras em minúsculas. Palavras são consideradas como sequências de caracteres separadas por espaços em branco. Por exemplo:\n",
    "\n",
    "```python\n",
    "texto = \"python é uma linguagem de programação\"\n",
    "titulado = texto.title()\n",
    "print(titulado)  # Saída: \"Python É Uma Linguagem De Programação\"\n",
    "```\n",
    "\n",
    "Portanto, a diferença chave é que `capitalize()` apenas capitaliza a primeira letra da string, enquanto `title()` capitaliza a primeira letra de cada palavra na string."
   ]
  },
  {
   "cell_type": "markdown",
   "id": "ed668a70",
   "metadata": {},
   "source": [
    "<hr style=\"border: 2px solid #4500ff;\">\n",
    "\n",
    "# <font color=\"#4500ff\" style=\"font-size: 25px;\">Exercício 13</font>\n",
    "<hr style=\"border: 2px solid #4500ff;\">"
   ]
  },
  {
   "cell_type": "markdown",
   "id": "62a37875",
   "metadata": {},
   "source": [
    " <p style='font-size: 23px; line-height: 2; margin: 0px 0px; text-align: justify; text-indent: 0px;'>    \n",
    "<i><b>Escreva um programa que peça um número do usuário via método input e converta esse número para o formato float.</b></i>     \n",
    "</p>\n",
    "\n",
    "---"
   ]
  },
  {
   "cell_type": "code",
   "execution_count": null,
   "id": "bfe8320f",
   "metadata": {},
   "outputs": [],
   "source": [
    "num = float(input('Diga um número = '))\n",
    "type(num)"
   ]
  },
  {
   "cell_type": "markdown",
   "id": "7400dfa2",
   "metadata": {},
   "source": [
    "<hr style=\"border: 2px solid #4500ff;\">\n",
    "\n",
    "# <font color=\"#4500ff\" style=\"font-size: 25px;\">Exercício 14</font>\n",
    "<hr style=\"border: 2px solid #4500ff;\">"
   ]
  },
  {
   "cell_type": "markdown",
   "id": "4201ffb4",
   "metadata": {},
   "source": [
    " <p style='font-size: 23px; line-height: 2; margin: 0px 0px; text-align: justify; text-indent: 0px;'>    \n",
    "<i><b>Escreva um programa que peça o nome e a idade do usuário. Caso a idade do usuário seja maior ou igual a 18 anos apresente a seguinte mensagem: \"Seja bem-vindo ao nosso site [nome]!\"; caso contrário, apresente a seguinte mensagem: \"Você não pode acessar nosso site [nome].\".</b></i>     \n",
    "</p>\n",
    "\n",
    "---"
   ]
  },
  {
   "cell_type": "code",
   "execution_count": null,
   "id": "0a4a1687",
   "metadata": {},
   "outputs": [],
   "source": [
    "nome = input('Diga qual é o seu nome? = ').strip().capitalize()\n",
    "idade = int(input('Diga qual é a sua idade? = '))\n",
    "\n",
    "if idade >= 18:\n",
    "    print(f\"Seja bem-vindo ao nosso site, {nome}!\")\n",
    "else:\n",
    "    print(f\"Você não pode acessar nosso site, {nome}!\")"
   ]
  },
  {
   "cell_type": "markdown",
   "id": "3eb92863",
   "metadata": {},
   "source": [
    "<hr style=\"border: 2px solid #4500ff;\">\n",
    "\n",
    "# <font color=\"#4500ff\" style=\"font-size: 25px;\">Exercício 15</font>\n",
    "<hr style=\"border: 2px solid #4500ff;\">"
   ]
  },
  {
   "cell_type": "markdown",
   "id": "6547f930",
   "metadata": {},
   "source": [
    " <p style='font-size: 23px; line-height: 2; margin: 0px 0px; text-align: justify; text-indent: 0px;'>    \n",
    "<i><b>Elabore um programa para calcular a hipotenusa de um triângulo.\n",
    "\n",
    "Dicas:\n",
    "\n",
    "Veja o módulo math (math.hypot);\n",
    "\n",
    "Utilize a seguinte fórmula: hipotenusa=(a²+b²)¹/2:</b></i>     \n",
    "</p>\n",
    "\n",
    "---"
   ]
  },
  {
   "cell_type": "code",
   "execution_count": null,
   "id": "44d2606f",
   "metadata": {},
   "outputs": [],
   "source": [
    "lado_1 = float(input(\"Digite o valor do lado 1: \"))\n",
    "lado_2 = float(input(\"Digite o valor do lado 2: \"))\n",
    "\n",
    "hipotenusa = round(math.hypot(lado_1, lado_2),1)\n",
    "print(hipotenusa) "
   ]
  },
  {
   "cell_type": "markdown",
   "id": "c6eccada",
   "metadata": {},
   "source": [
    "<hr style=\"border: 2px solid #4500ff;\">\n",
    "\n",
    "# <font color=\"#4500ff\" style=\"font-size: 25px;\">Exercício 16</font>\n",
    "<hr style=\"border: 2px solid #4500ff;\">"
   ]
  },
  {
   "cell_type": "markdown",
   "id": "21137a03",
   "metadata": {},
   "source": [
    " <p style='font-size: 23px; line-height: 2; margin: 0px 0px; text-align: justify; text-indent: 0px;'>    \n",
    "<i><b>Faça um programa que recebe um número inteiro do usuário e calcule o fatorial deste número.\n",
    "\n",
    "\n",
    "\n",
    "Dica: utilize o módulo math do Python, especificamente math.fatorial.</b></i>     \n",
    "</p>\n",
    "\n",
    "---"
   ]
  },
  {
   "cell_type": "code",
   "execution_count": 86,
   "id": "ed431fc9",
   "metadata": {},
   "outputs": [
    {
     "name": "stdout",
     "output_type": "stream",
     "text": [
      "Digite o valor do numero: 5\n",
      "O fatorial de 5 é 120\n"
     ]
    }
   ],
   "source": [
    "num = int(input(\"Digite o valor do numero: \"))\n",
    "\n",
    "fatorial = math.factorial(num)\n",
    "\n",
    "print(f'O fatorial de {num} é {fatorial}')"
   ]
  },
  {
   "cell_type": "markdown",
   "id": "82b8f250",
   "metadata": {},
   "source": [
    "<hr style=\"border: 2px solid #4500ff;\">\n",
    "\n",
    "# <font color=\"#4500ff\" style=\"font-size: 25px;\">Exercício 17</font>\n",
    "<hr style=\"border: 2px solid #4500ff;\">"
   ]
  },
  {
   "cell_type": "markdown",
   "id": "01c42267",
   "metadata": {},
   "source": [
    " <p style='font-size: 23px; line-height: 2; margin: 0px 0px; text-align: justify; text-indent: 0px;'>    \n",
    "<i><b>Escreva um programa que peça um número do usuário e calcule o logaritmo deste número nas bases 10 e 2.\n",
    "\n",
    "Dica: utilize o módulo math.</b></i>     \n",
    "</p>\n",
    "\n",
    "---"
   ]
  },
  {
   "cell_type": "code",
   "execution_count": 91,
   "id": "da3cba3a",
   "metadata": {},
   "outputs": [
    {
     "name": "stdout",
     "output_type": "stream",
     "text": [
      "Digite o valor do numero: 150\n",
      "O logaritmo na base 10 de 150 é 2.2\n",
      "Digite o valor do numero: 600\n",
      "O logaritmo na base 2 de 600 é 9.2\n"
     ]
    }
   ],
   "source": [
    "numero = int(input(\"Digite o valor do numero: \"))\n",
    "log10 = round(math.log10(numero),1)\n",
    "\n",
    "print(f'O logaritmo na base 10 de {numero} é {log10}')\n",
    "\n",
    "\n",
    "numero = int(input(\"Digite o valor do numero: \"))\n",
    "log2 = round(math.log2(numero),1)\n",
    "\n",
    "print(f'O logaritmo na base 2 de {numero} é {log2}')"
   ]
  },
  {
   "cell_type": "markdown",
   "id": "5f3157a9",
   "metadata": {},
   "source": [
    "<hr style=\"border: 2px solid #4500ff;\">\n",
    "\n",
    "# <font color=\"#4500ff\" style=\"font-size: 25px;\">Exercício 18</font>\n",
    "<hr style=\"border: 2px solid #4500ff;\">"
   ]
  },
  {
   "cell_type": "markdown",
   "id": "a2bf4d73",
   "metadata": {},
   "source": [
    " <p style='font-size: 23px; line-height: 2; margin: 0px 0px; text-align: justify; text-indent: 0px;'>    \n",
    "<i><b>Faça um programa que peça a base e a altura de um retângulo e calcule e mostre na tela a área e o perímetro.</b></i>     \n",
    "</p>\n",
    "\n",
    "---"
   ]
  },
  {
   "cell_type": "code",
   "execution_count": 94,
   "id": "97234d12",
   "metadata": {},
   "outputs": [
    {
     "name": "stdout",
     "output_type": "stream",
     "text": [
      "Digite o valor do numero: 15\n",
      "Digite o valor do numero: 10\n",
      "A área deste retângulo é: 75.0\n",
      "O perímetro deste retângulo é: 50\n"
     ]
    }
   ],
   "source": [
    "base = int(input(\"Digite o valor do numero: \"))\n",
    "altura = int(input(\"Digite o valor do numero: \"))\n",
    "\n",
    "area = (1/2) * base*altura\n",
    "\n",
    "perimetro=2*base+2*altura\n",
    "\n",
    "print(f'A área deste retângulo é: {area}')\n",
    "print(f'O perímetro deste retângulo é: {perimetro}')"
   ]
  },
  {
   "cell_type": "markdown",
   "id": "c890c5ee",
   "metadata": {},
   "source": [
    "<hr style=\"border: 2px solid #4500ff;\">\n",
    "\n",
    "# <font color=\"#4500ff\" style=\"font-size: 25px;\">Exercício 19</font>\n",
    "<hr style=\"border: 2px solid #4500ff;\">"
   ]
  },
  {
   "cell_type": "markdown",
   "id": "7104e6d5",
   "metadata": {},
   "source": [
    " <p style='font-size: 23px; line-height: 2; margin: 0px 0px; text-align: justify; text-indent: 0px;'>    \n",
    "<i><b>Escreva um programa que solicite o nome, o sobrenome e o salário atual de um funcionário. Ao fim, calcule seu novo salário considerando cenários hipotéticos, com os seguintes aumentos: 10%, 25%,30% e 50%. A mensagem na tela deverá seguir o seguinte padrão:\n",
    "\n",
    "\n",
    "\n",
    "\"\"Olá, [nome] [sobrenome]\"\n",
    "\n",
    "\"Seu salário atual é : [salário]\"\n",
    "\n",
    "\"Seu salário com 10% de aumento é: [salário]\"\n",
    "\n",
    "\"Seu salário com 25% de aumento é: [salário]\"\n",
    "\n",
    "\"Seu salário com 30% de aumento é: [salário]\"\n",
    "\n",
    "\"Seu salário com 50% de aumento é: [salário]\"\n",
    "\n",
    "\n",
    "\n",
    "No campo nome e sobrenome utilize os métodos strip() e title(). Lembre-se que o primeiro método permite remover os espaços antes e após a string, enquanto que o último permite colocar a string no formato titlecased (capitaliza string).\"</b></i>     \n",
    "</p>\n",
    "\n",
    "---"
   ]
  },
  {
   "cell_type": "code",
   "execution_count": 6,
   "id": "51e5e3a9",
   "metadata": {},
   "outputs": [
    {
     "name": "stdout",
     "output_type": "stream",
     "text": [
      "Diga qual é o seu nome? = miguel\n",
      "Diga qual é o seu sobrenome? = freire\n",
      "Digite o valor do salario: 2000\n",
      "\n",
      "Olá, Miguel Freire\n",
      "Seu salário atual é : 2000\n",
      "\n",
      "Seu salário com 10% de aumento é: 2200.0\n",
      "Seu salário com 25% de aumento é: 2500.0\n",
      "Seu salário com 30% de aumento é: 2600.0\n",
      "Seu salário com 50% de aumento é: 3000.0\n",
      "\n"
     ]
    }
   ],
   "source": [
    "nome = input('Diga qual é o seu nome? = ').strip().capitalize()\n",
    "sobrenome = input('Diga qual é o seu sobrenome? = ').strip().capitalize()\n",
    "salario = float(input(\"Digite o valor do salario: \"))\n",
    "\n",
    "\n",
    "print(f\"\\nOlá, {nome} {sobrenome}\\n\"\n",
    "\n",
    "f\"Seu salário atual é : {salario}\\n\"\n",
    "\n",
    "f\"\\nSeu salário com 10% de aumento é: {salario*1.1}\\n\"\n",
    "\n",
    "f\"Seu salário com 25% de aumento é: {salario*1.25}\\n\"\n",
    "\n",
    "f\"Seu salário com 30% de aumento é: {salario*1.3}\\n\"\n",
    "\n",
    "f\"Seu salário com 50% de aumento é: {salario*1.5}\\n\"\n",
    "      \n",
    ")"
   ]
  },
  {
   "cell_type": "markdown",
   "id": "6759d44d",
   "metadata": {},
   "source": [
    "<hr style=\"border: 2px solid #4500ff;\">\n",
    "\n",
    "# <font color=\"#4500ff\" style=\"font-size: 25px;\">Exercício 20</font>\n",
    "<hr style=\"border: 2px solid #4500ff;\">"
   ]
  },
  {
   "cell_type": "markdown",
   "id": "85fc13bf",
   "metadata": {},
   "source": [
    " <p style='font-size: 23px; line-height: 2; margin: 0px 0px; text-align: justify; text-indent: 0px;'>    \n",
    "<i><b>Escreva um programa que peça um número inteiro do usuário e calcule e imprima a tabuada deste número.</b></i>     \n",
    "</p>\n",
    "\n",
    "---"
   ]
  },
  {
   "cell_type": "code",
   "execution_count": 16,
   "id": "a6c83e00",
   "metadata": {},
   "outputs": [
    {
     "name": "stdout",
     "output_type": "stream",
     "text": [
      "Digite o valor do numéro inteiro: 9\n",
      "\n",
      "9x1 = 9\n",
      "9x2 = 18\n",
      "9x3 = 27\n",
      "9x4 = 36\n",
      "9x5 = 45\n",
      "9x6 = 54\n",
      "9x7 = 63\n",
      "9x8 = 72\n",
      "9x9 = 81\n"
     ]
    }
   ],
   "source": [
    "num = int(input(\"Digite o valor do numéro inteiro: \"))\n",
    "print()\n",
    "for i in range(1,10):\n",
    "    print(f\"{num}x{i} = {num*i}\")"
   ]
  },
  {
   "cell_type": "markdown",
   "id": "72747be1",
   "metadata": {},
   "source": [
    "<hr style=\"border: 2px solid #4500ff;\">\n",
    "\n",
    "# <font color=\"#4500ff\" style=\"font-size: 25px;\">Exercício 21</font>\n",
    "<hr style=\"border: 2px solid #4500ff;\">"
   ]
  },
  {
   "cell_type": "markdown",
   "id": "700b55a4",
   "metadata": {},
   "source": [
    " <p style='font-size: 23px; line-height: 2; margin: 0px 0px; text-align: justify; text-indent: 0px;'>    \n",
    "<i><b>Faça um programa que solicite um número inteiro e mostre o seu valor absoluto.\n",
    "\n",
    "\n",
    "\n",
    "Dica: use a função built-in abs().</b></i>     \n",
    "</p>\n",
    "\n",
    "---"
   ]
  },
  {
   "cell_type": "code",
   "execution_count": 18,
   "id": "0542a18e",
   "metadata": {},
   "outputs": [
    {
     "name": "stdout",
     "output_type": "stream",
     "text": [
      "Digite o valor do numéro inteiro: -50\n",
      "\n",
      "O valor absoluto do número é 50\n"
     ]
    }
   ],
   "source": [
    "num = int(input(\"Digite o valor do numéro inteiro: \"))\n",
    "\n",
    "print(f\"\\nO valor absoluto do número é {abs(num)}\")"
   ]
  },
  {
   "cell_type": "markdown",
   "id": "27bcd03d",
   "metadata": {},
   "source": [
    "<hr style=\"border: 2px solid #4500ff;\">\n",
    "\n",
    "# <font color=\"#4500ff\" style=\"font-size: 25px;\">Exercício 22</font>\n",
    "<hr style=\"border: 2px solid #4500ff;\">"
   ]
  },
  {
   "cell_type": "markdown",
   "id": "deed88bf",
   "metadata": {},
   "source": [
    " <p style='font-size: 23px; line-height: 2; margin: 0px 0px; text-align: justify; text-indent: 0px;'>    \n",
    "<i><b>Faça um programa que peça uma string ao usuário e mostre na tela a quantidade de caracteres.\n",
    "\n",
    "\n",
    "\n",
    "Dica: use a função built-in len() e trate a string com o método strip().\n",
    "\n",
    ".</b></i>     \n",
    "</p>\n",
    "\n",
    "---"
   ]
  },
  {
   "cell_type": "code",
   "execution_count": 20,
   "id": "9a870ee8",
   "metadata": {},
   "outputs": [
    {
     "name": "stdout",
     "output_type": "stream",
     "text": [
      "Diga uma palavra: miguel\n",
      "Sua palavra possui 6 letras\n"
     ]
    }
   ],
   "source": [
    "string = input(\"Diga uma palavra: \").strip()\n",
    "tamanho = len(string)\n",
    "\n",
    "print(f\"Sua palavra possui {tamanho} letras\")"
   ]
  },
  {
   "cell_type": "markdown",
   "id": "89f23f09",
   "metadata": {},
   "source": [
    "<hr style=\"border: 2px solid #4500ff;\">\n",
    "\n",
    "# <font color=\"#4500ff\" style=\"font-size: 25px;\">Exercício 23</font>\n",
    "<hr style=\"border: 2px solid #4500ff;\">"
   ]
  },
  {
   "cell_type": "markdown",
   "id": "dda5d14e",
   "metadata": {},
   "source": [
    " <p style='font-size: 23px; line-height: 2; margin: 0px 0px; text-align: justify; text-indent: 0px;'>    \n",
    "<i><b>Escreva um programa que peça um número inteiro do usuário e mostre se esse número é par ou ímpar. A mensagem na tela deverá seguir o seguinte formato:\n",
    "\n",
    "\"O número [número] é [par/ímpar]\"\n",
    "</b></i>     \n",
    "</p>\n",
    "\n",
    "---"
   ]
  },
  {
   "cell_type": "code",
   "execution_count": 5,
   "id": "883e87ec",
   "metadata": {},
   "outputs": [
    {
     "name": "stdout",
     "output_type": "stream",
     "text": [
      "Digite o valor do numéro inteiro: 10\n",
      "O número 10 é par\n"
     ]
    }
   ],
   "source": [
    "num = int(input(\"Digite o valor do numéro inteiro: \"))\n",
    "\n",
    "if num%2 == 0:\n",
    "    print(f\"O número {num} é par\")\n",
    "else:\n",
    "    print(f\"O número {num} é impar\")"
   ]
  },
  {
   "cell_type": "markdown",
   "id": "4feb416b",
   "metadata": {},
   "source": [
    "<hr style=\"border: 2px solid #4500ff;\">\n",
    "\n",
    "# <font color=\"#4500ff\" style=\"font-size: 25px;\">Exercício 24</font>\n",
    "<hr style=\"border: 2px solid #4500ff;\">"
   ]
  },
  {
   "cell_type": "markdown",
   "id": "6986f9a6",
   "metadata": {},
   "source": [
    " <p style='font-size: 23px; line-height: 2; margin: 0px 0px; text-align: justify; text-indent: 0px;'>    \n",
    "<i><b>O Índice de Massa Corporal (IMC) é utilizado para mensurar o peso ideal de uma pessoa. Escreva um programa que peça o nome, a idade , o peso e a altura do usuário. Ao final calcule e mostre o resultado do seu IMC e classifique este resultado de acordo com a regra a seguir.\n",
    "\n",
    "\n",
    "\n",
    "IMC<17 - Muito abaixo do peso ideal\n",
    "\n",
    "17<=IMC<18,5 - Abaixo do peso\n",
    "\n",
    "18,5<=IMC<25 - Peso normal\n",
    "\n",
    "25<=IMC<30 - Acima do peso\n",
    "\n",
    "30<=IMC<35 - Obesidade I\n",
    "\n",
    "35<=IMC<40 - Obesidade II (severa)\n",
    "\n",
    "IMC>=40 - Obesidade III (mórbida)\n",
    "\n",
    "\n",
    "\n",
    "Lembre que: IMC=massa/(altura*altura)\n",
    "</b></i>     \n",
    "</p>\n",
    "\n",
    "---"
   ]
  },
  {
   "cell_type": "code",
   "execution_count": 10,
   "id": "11bdab9c",
   "metadata": {},
   "outputs": [
    {
     "name": "stdout",
     "output_type": "stream",
     "text": [
      "Qual seu nome? miguel\n",
      "Qual sua idade? 24\n",
      "Qual seu peso? 66\n",
      "Qual seu altura? 1.70\n",
      "\n",
      "Peso normal\n"
     ]
    }
   ],
   "source": [
    "nome = input(\"Qual seu nome? \")\n",
    "idade = int(input(\"Qual sua idade? \"))\n",
    "peso = float(input(\"Qual seu peso? \"))\n",
    "altura = float(input(\"Qual seu altura? \"))\n",
    "print()\n",
    "\n",
    "IMC = peso / altura**2\n",
    "\n",
    "classificacoes = {\n",
    "    (0, 17): \"Muito abaixo do peso ideal\",\n",
    "    (17, 18.5): \"Abaixo do peso\",\n",
    "    (18.5, 25): \"Peso normal\",\n",
    "    (25, 30): \"Acima do peso\",\n",
    "    (30, 35): \"Obesidade I\",\n",
    "    (35, 40): \"Obesidade II (severa)\",\n",
    "    (40, float('inf')): \"Obesidade III (mórbida)\"\n",
    "}\n",
    "\n",
    "classificacao = None\n",
    "\n",
    "for faixa, mensagem in classificacoes.items():\n",
    "    if faixa[0] <= IMC < faixa[1]:\n",
    "        classificacao = mensagem\n",
    "        break\n",
    "\n",
    "if classificacao:\n",
    "    print(classificacao)\n",
    "else:\n",
    "    print(\"Classificação não encontrada\")"
   ]
  },
  {
   "cell_type": "markdown",
   "id": "29fc2e61",
   "metadata": {},
   "source": [
    "Você pode simplificar o código usando uma estrutura de dados, como um dicionário, para mapear faixas de IMC para as mensagens correspondentes. Aqui está uma versão simplificada do seu código: (é o código acima)\n",
    "\n",
    "\n",
    "Neste código, usamos um dicionário chamado `classificacoes` para mapear intervalos de IMC para as mensagens correspondentes. Em seguida, iteramos por essas faixas e verificamos em qual faixa o IMC se encaixa. Isso elimina a necessidade de várias declarações \"if\" e \"elif\"."
   ]
  },
  {
   "cell_type": "markdown",
   "id": "bf0789d2",
   "metadata": {},
   "source": [
    "<hr style=\"border: 2px solid #4500ff;\">\n",
    "\n",
    "# <font color=\"#4500ff\" style=\"font-size: 25px;\">Exercício 25</font>\n",
    "<hr style=\"border: 2px solid #4500ff;\">"
   ]
  },
  {
   "cell_type": "markdown",
   "id": "74fe5f21",
   "metadata": {},
   "source": [
    " <p style='font-size: 23px; line-height: 2; margin: 0px 0px; text-align: justify; text-indent: 0px;'>    \n",
    "<i><b>Escreva um programa que receba dois números de ponto flutuante e mostre na tela o maior número digitado. Considere a possibilidade de o usuário digitar dois números iguais.\n",
    "</b></i>     \n",
    "</p>\n",
    "\n",
    "---"
   ]
  },
  {
   "cell_type": "code",
   "execution_count": 12,
   "id": "81fa40c6",
   "metadata": {},
   "outputs": [
    {
     "name": "stdout",
     "output_type": "stream",
     "text": [
      "Digite numero 1: 10\n",
      "Digite numero 2: 5\n"
     ]
    },
    {
     "data": {
      "text/plain": [
       "'num_1 maior que num_2'"
      ]
     },
     "execution_count": 12,
     "metadata": {},
     "output_type": "execute_result"
    }
   ],
   "source": [
    "num_1 = float(input(\"Digite numero 1: \"))\n",
    "num_2 = float(input(\"Digite numero 2: \"))\n",
    "\n",
    "resultado = (\"igual\" if num_1 == num_2 else (\"num_1 maior que num_2\" if num_1 > num_2 else \"num_2 maior que num_1\"))\n",
    "resultado"
   ]
  },
  {
   "cell_type": "markdown",
   "id": "44556abb",
   "metadata": {},
   "source": [
    "---\n",
    "Em Python, você pode usar uma expressão condicional ternária para fazer isso em uma única linha. A sintaxe básica é a seguinte:\n",
    "\n",
    "```python\n",
    "valor_se_verdadeiro if condição else valor_se_falso\n",
    "```\n",
    "\n",
    "No seu caso, você pode fazer algo assim:\n",
    "\n",
    "```python\n",
    "num_1 = float(input(\"Digite numero 1: \"))\n",
    "num_2 = float(input(\"Digite numero 2: \"))\n",
    "\n",
    "resultado = (x if num_1 == num_2 else (y if num_1 > num_2 else z))\n",
    "\n",
    "print(resultado)\n",
    "```\n",
    "\n",
    "Neste exemplo, a expressão `resultado` será definida com base nas condições especificadas:\n",
    "\n",
    "- Se `num_1` for igual a `num_2`, `resultado` será igual a `x`.\n",
    "- Se `num_1` for maior que `num_2`, `resultado` será igual a `y`.\n",
    "- Se `num_1` não for igual a `num_2` e não for maior que `num_2`, `resultado` será igual a `z`.\n",
    "\n",
    "Dessa forma, você pode fazer uma verificação condicional em uma única linha. Lembre-se de que isso pode ser menos legível do que usar instruções \"if\" separadas, especialmente se houver muitas condições. Portanto, use com moderação e priorize a clareza do código.\n",
    "\n",
    "---"
   ]
  },
  {
   "cell_type": "markdown",
   "id": "5f216da8",
   "metadata": {},
   "source": [
    "<hr style=\"border: 2px solid #4500ff;\">\n",
    "\n",
    "# <font color=\"#4500ff\" style=\"font-size: 26px;\">Exercício 26</font>\n",
    "<hr style=\"border: 2px solid #4500ff;\">"
   ]
  },
  {
   "cell_type": "markdown",
   "id": "c2ccf7b5",
   "metadata": {},
   "source": [
    " <p style='font-size: 23px; line-height: 2; margin: 0px 0px; text-align: justify; text-indent: 0px;'>    \n",
    "<i><b>Escreva um programa que verifique se um determinado número digitado pelo usuário é nulo, positivo ou negativo.\n",
    "</b></i>     \n",
    "</p>\n",
    "\n",
    "---"
   ]
  },
  {
   "cell_type": "code",
   "execution_count": 16,
   "id": "fb74d68c",
   "metadata": {},
   "outputs": [
    {
     "name": "stdout",
     "output_type": "stream",
     "text": [
      "Digite o numero : -5\n"
     ]
    },
    {
     "data": {
      "text/plain": [
       "'negativo'"
      ]
     },
     "execution_count": 16,
     "metadata": {},
     "output_type": "execute_result"
    }
   ],
   "source": [
    "num_1 = float(input(\"Digite o numero : \"))\n",
    "\n",
    "resultado = \"positivo\" if num_1 > 0 else (\"negativo\" if num_1 < 0 else \"nulo\")\n",
    "resultado"
   ]
  },
  {
   "cell_type": "markdown",
   "id": "80360c68",
   "metadata": {},
   "source": [
    "<hr style=\"border: 2px solid #4500ff;\">\n",
    "\n",
    "# <font color=\"#4500ff\" style=\"font-size: 26px;\">Exercício 27</font>\n",
    "<hr style=\"border: 2px solid #4500ff;\">"
   ]
  },
  {
   "cell_type": "markdown",
   "id": "c337b62a",
   "metadata": {},
   "source": [
    " <p style='font-size: 23px; line-height: 2; margin: 0px 0px; text-align: justify; text-indent: 0px;'>    \n",
    "<i><b>Escreva um programa que receba três números do usuário e mostre na tela o maior número digitado.\n",
    "</b></i>     \n",
    "</p>\n",
    "\n",
    "---"
   ]
  },
  {
   "cell_type": "code",
   "execution_count": 17,
   "id": "1748c355",
   "metadata": {},
   "outputs": [
    {
     "name": "stdout",
     "output_type": "stream",
     "text": [
      "Digite o numero : 10\n",
      "Digite o numero : 9\n",
      "Digite o numero : 50\n",
      "50.0\n"
     ]
    }
   ],
   "source": [
    "num_1 = float(input(\"Digite o numero : \"))\n",
    "num_2 = float(input(\"Digite o numero : \"))\n",
    "num_3 = float(input(\"Digite o numero : \"))\n",
    "x = [num_1, num_2, num_3]\n",
    "\n",
    "print(max(x))"
   ]
  },
  {
   "cell_type": "code",
   "execution_count": 21,
   "id": "a55c541c",
   "metadata": {},
   "outputs": [
    {
     "name": "stdout",
     "output_type": "stream",
     "text": [
      "Digite o numero : 10\n",
      "Digite o numero : 9\n",
      "Digite o numero : 50\n",
      "50.0\n"
     ]
    }
   ],
   "source": [
    "num_1 = float(input(\"Digite o numero : \"))\n",
    "num_2 = float(input(\"Digite o numero : \"))\n",
    "num_3 = float(input(\"Digite o numero : \"))\n",
    "\n",
    "resultado = num_1 if num_1 > num_2 and num_1 > num_3 else (num_2 if num_2 > num_1 and num_2 > num_3 else num_3)\n",
    "print(resultado)"
   ]
  },
  {
   "cell_type": "markdown",
   "id": "5c221fb0",
   "metadata": {},
   "source": [
    "---\n",
    "\n",
    "Em termos de eficiência, o primeiro código é ligeiramente mais eficiente do que o segundo. Isso ocorre porque o primeiro código usa a função `max(x)` para encontrar o maior número em uma lista de três números, enquanto o segundo código usa uma expressão condicional (`if-else`) para encontrar o maior número entre os três.\n",
    "\n",
    "No primeiro código, a função `max(x)` é uma operação interna otimizada que encontra o máximo valor em uma sequência de números. Essa função é implementada em um nível mais baixo (geralmente em C) e é altamente eficiente.\n",
    "\n",
    "No segundo código, a expressão condicional `if-else` requer três comparações separadas para determinar qual número é o maior. Embora a diferença de eficiência seja pequena para apenas três números, essa abordagem requer mais operações de comparação do que a primeira.\n",
    "\n",
    "\n",
    "\n",
    "---"
   ]
  },
  {
   "cell_type": "markdown",
   "id": "db04ae86",
   "metadata": {},
   "source": [
    "<hr style=\"border: 2px solid #4500ff;\">\n",
    "\n",
    "# <font color=\"#4500ff\" style=\"font-size: 26px;\">Exercício 28</font>\n",
    "<hr style=\"border: 2px solid #4500ff;\">"
   ]
  },
  {
   "cell_type": "markdown",
   "id": "008d9c63",
   "metadata": {},
   "source": [
    " <p style='font-size: 23px; line-height: 2; margin: 0px 0px; text-align: justify; text-indent: 0px;'>    \n",
    "<i><b>Escreva um programa que gere um número aleatório entre 1 e 100 e mostre na tela.\n",
    "\n",
    "Dica: utilize o módulo random.\n",
    "</b></i>     \n",
    "</p>\n",
    "\n",
    "---"
   ]
  },
  {
   "cell_type": "code",
   "execution_count": 22,
   "id": "63541017",
   "metadata": {},
   "outputs": [
    {
     "name": "stdout",
     "output_type": "stream",
     "text": [
      "Número aleatório gerado: 52\n"
     ]
    }
   ],
   "source": [
    "import random\n",
    "\n",
    "# Gere um número aleatório entre 1 e 100\n",
    "numero_aleatorio = random.randint(1, 100)\n",
    "\n",
    "# Exiba o número aleatório na tela\n",
    "print(\"Número aleatório gerado:\", numero_aleatorio)"
   ]
  },
  {
   "cell_type": "markdown",
   "id": "6edb020f",
   "metadata": {},
   "source": [
    "<hr style=\"border: 2px solid #4500ff;\">\n",
    "\n",
    "# <font color=\"#4500ff\" style=\"font-size: 26px;\">Exercício 29</font>\n",
    "<hr style=\"border: 2px solid #4500ff;\">"
   ]
  },
  {
   "cell_type": "markdown",
   "id": "a4d884af",
   "metadata": {},
   "source": [
    " <p style='font-size: 23px; line-height: 2; margin: 0px 0px; text-align: justify; text-indent: 0px;'>    \n",
    "<i><b>Elabore um progama para verificar se um ano é bissexto ou não. A condição para ser um ano bissexto é: o ano deve ser divisível por 400; ou se for divisível por 4 e não for divisível por 100.\n",
    "</b></i>     \n",
    "</p>\n",
    "\n",
    "---"
   ]
  },
  {
   "cell_type": "code",
   "execution_count": 42,
   "id": "12ffb0d6",
   "metadata": {},
   "outputs": [
    {
     "name": "stdout",
     "output_type": "stream",
     "text": [
      "Digite o numero : 2012\n"
     ]
    },
    {
     "data": {
      "text/plain": [
       "'bissexto'"
      ]
     },
     "execution_count": 42,
     "metadata": {},
     "output_type": "execute_result"
    }
   ],
   "source": [
    "num_1 = int(input(\"Digite o numero : \"))\n",
    "\n",
    "resultado = \"bissexto\" if num_1%400 == 0 or (num_1%4 == 0 and num_1%100 != 0) else \"Não é bissexto\"\n",
    "resultado"
   ]
  },
  {
   "cell_type": "markdown",
   "id": "36c64db8",
   "metadata": {},
   "source": [
    "<hr style=\"border: 2px solid #4500ff;\">\n",
    "\n",
    "# <font color=\"#4500ff\" style=\"font-size: 26px;\">Exercício 30</font>\n",
    "<hr style=\"border: 2px solid #4500ff;\">"
   ]
  },
  {
   "cell_type": "markdown",
   "id": "7ae0605a",
   "metadata": {},
   "source": [
    " <p style='font-size: 23px; line-height: 2; margin: 0px 0px; text-align: justify; text-indent: 0px;'>    \n",
    "<i><b>Elabore um programa para calcular o tamanho de uma string.\n",
    "</b></i>     \n",
    "</p>\n",
    "\n",
    "---"
   ]
  },
  {
   "cell_type": "code",
   "execution_count": 43,
   "id": "f5042c56",
   "metadata": {},
   "outputs": [
    {
     "name": "stdout",
     "output_type": "stream",
     "text": [
      "Escreva uma palavra: miguel\n"
     ]
    },
    {
     "data": {
      "text/plain": [
       "6"
      ]
     },
     "execution_count": 43,
     "metadata": {},
     "output_type": "execute_result"
    }
   ],
   "source": [
    "str_ = input(\"Escreva uma palavra: \")\n",
    "len(str_)"
   ]
  },
  {
   "cell_type": "markdown",
   "id": "d86031fb",
   "metadata": {},
   "source": [
    "<hr style=\"border: 2px solid #4500ff;\">\n",
    "\n",
    "# <font color=\"#4500ff\" style=\"font-size: 26px;\">Exercício 31</font>\n",
    "<hr style=\"border: 2px solid #4500ff;\">"
   ]
  },
  {
   "cell_type": "markdown",
   "id": "a5e05dc6",
   "metadata": {},
   "source": [
    " <p style='font-size: 23px; line-height: 2; margin: 0px 0px; text-align: justify; text-indent: 0px;'>    \n",
    "<i><b>Utilize o módulo datetime e mostre na tela a data e hora atual do sistema de acordo com o formato descrito abaixo.\n",
    "\n",
    "\n",
    "\n",
    "12/06/2023 - 14:34:17\n",
    "</b></i>     \n",
    "</p>\n",
    "\n",
    "---"
   ]
  },
  {
   "cell_type": "code",
   "execution_count": 2,
   "id": "70f83d0e",
   "metadata": {},
   "outputs": [
    {
     "name": "stdout",
     "output_type": "stream",
     "text": [
      "Data e Hora Atuais: 10/10/2023 - 11:55:50\n"
     ]
    }
   ],
   "source": [
    "import datetime\n",
    "\n",
    "# Obter a data e hora atual\n",
    "data_hora_atual = datetime.datetime.now()\n",
    "\n",
    "# Formatar a data e hora em uma string legível\n",
    "data_hora_formatada = data_hora_atual.strftime(\"%d/%m/%Y - %H:%M:%S\")\n",
    "\n",
    "# Imprimir a data e hora formatada\n",
    "print(\"Data e Hora Atuais:\", data_hora_formatada)"
   ]
  },
  {
   "cell_type": "markdown",
   "id": "94c9beb2",
   "metadata": {},
   "source": [
    "<hr style=\"border: 2px solid #4500ff;\">\n",
    "\n",
    "# <font color=\"#4500ff\" style=\"font-size: 26px;\">Exercício 32</font>\n",
    "<hr style=\"border: 2px solid #4500ff;\">"
   ]
  },
  {
   "cell_type": "markdown",
   "id": "d8e928b9",
   "metadata": {},
   "source": [
    " <p style='font-size: 23px; line-height: 2; margin: 0px 0px; text-align: justify; text-indent: 0px;'>    \n",
    "<i><b>Escreva um programa que inverta uma string. Exemplos:\n",
    "\n",
    "Hello World!\n",
    "Python\n",
    "!dlroW olleH\n",
    "nohtyP\n",
    "</b></i>     \n",
    "</p>\n",
    "\n",
    "---"
   ]
  },
  {
   "cell_type": "code",
   "execution_count": 10,
   "id": "371db2c6",
   "metadata": {},
   "outputs": [
    {
     "name": "stdout",
     "output_type": "stream",
     "text": [
      "Escreva uma string: Hello World!\n"
     ]
    },
    {
     "data": {
      "text/plain": [
       "'!dlroW olleH'"
      ]
     },
     "execution_count": 10,
     "metadata": {},
     "output_type": "execute_result"
    }
   ],
   "source": [
    "str_ = input(\"Escreva uma string: \")\n",
    "str_inverso=\"\"\n",
    "for i in range(1, len(str_)+1):\n",
    "     str_inverso = str_inverso + str_[-i]\n",
    "        \n",
    "str_inverso"
   ]
  },
  {
   "cell_type": "code",
   "execution_count": 12,
   "id": "d22e7465",
   "metadata": {},
   "outputs": [
    {
     "name": "stdout",
     "output_type": "stream",
     "text": [
      "Escreva uma string: miguel\n",
      "leugim\n"
     ]
    }
   ],
   "source": [
    "#FORMA MAIS DIRETA DE FAZER\n",
    "\n",
    "str_ = input(\"Escreva uma string: \")\n",
    "str_inverso = str_[::-1]\n",
    "print(str_inverso)"
   ]
  },
  {
   "cell_type": "markdown",
   "id": "0dc5aaeb",
   "metadata": {},
   "source": [
    "---\n",
    "A expressão `str_[::-1]` é um exemplo do que chamamos de \"slicing reverso\" em Python. Ela é usada para inverter uma sequência, como uma string, lista ou tupla.\n",
    "\n",
    "Aqui está como funciona:\n",
    "\n",
    "- `str_` é a variável que contém a string que você deseja inverter.\n",
    "- `[::]` é uma notação de \"slicing\" em Python que permite selecionar partes de uma sequência. Dentro dos colchetes, existem três valores separados por dois dois-pontos: `start:stop:step`.\n",
    "- `start` é o índice onde a fatia começa.\n",
    "- `stop` é o índice onde a fatia termina (não inclusivo).\n",
    "- `step` é o tamanho do passo entre os índices.\n",
    "\n",
    "No caso de `str_[::-1]`:\n",
    "\n",
    "- `start` não está especificado, o que significa que começa do primeiro caractere (índice 0).\n",
    "- `stop` não está especificado, o que significa que vai até o último caractere (índice -1).\n",
    "- `step` é -1, o que significa que está percorrendo a string de trás para frente.\n",
    "\n",
    "Então, `str_[::-1]` percorre a string de trás para frente, criando uma nova string com os caracteres em ordem inversa. Isso é uma maneira eficiente e concisa de inverter uma string em Python.\n",
    "\n",
    "---"
   ]
  },
  {
   "cell_type": "markdown",
   "id": "d34aa5d4",
   "metadata": {},
   "source": [
    "<hr style=\"border: 2px solid #4500ff;\">\n",
    "\n",
    "# <font color=\"#4500ff\" style=\"font-size: 26px;\">Exercício 33</font>\n",
    "<hr style=\"border: 2px solid #4500ff;\">"
   ]
  },
  {
   "cell_type": "markdown",
   "id": "d7464b52",
   "metadata": {},
   "source": [
    " <p style='font-size: 23px; line-height: 2; margin: 0px 0px; text-align: justify; text-indent: 0px;'>    \n",
    "<i><b>Escreva um programa para mostrar na tela o calendário do mês de dezembro de 2020. Exemplo:\n",
    "\n",
    "\n",
    "```\n",
    "   December 2020\n",
    "Mo Tu We Th Fr Sa Su\n",
    "    1  2  3  4  5  6\n",
    " 7  8  9 10 11 12 13\n",
    "14 15 16 17 18 19 20\n",
    "21 22 23 24 25 26 27\n",
    "28 29 30 31\n",
    "```\n",
    "    \n",
    "Dica: importe o módulo calendar.\n",
    "</b></i>     \n",
    "</p>\n",
    "\n",
    "---"
   ]
  },
  {
   "cell_type": "code",
   "execution_count": 30,
   "id": "28d665f7",
   "metadata": {},
   "outputs": [
    {
     "name": "stdout",
     "output_type": "stream",
     "text": [
      "   December 2020\n",
      "Mo Tu We Th Fr Sa Su\n",
      "    1  2  3  4  5  6\n",
      " 7  8  9 10 11 12 13\n",
      "14 15 16 17 18 19 20\n",
      "21 22 23 24 25 26 27\n",
      "28 29 30 31\n",
      "\n"
     ]
    }
   ],
   "source": [
    "import calendar\n",
    "\n",
    "\n",
    "#  ano e o mês desejados\n",
    "ano = 2020\n",
    "mes = 12\n",
    "\n",
    "# Criar um objeto de calendário\n",
    "cal = calendar.month(ano, mes)\n",
    "\n",
    "print(cal)"
   ]
  },
  {
   "cell_type": "markdown",
   "id": "bebb154b",
   "metadata": {},
   "source": [
    "<hr style=\"border: 2px solid #4500ff;\">\n",
    "\n",
    "# <font color=\"#4500ff\" style=\"font-size: 26px;\">Exercício 34</font>\n",
    "<hr style=\"border: 2px solid #4500ff;\">"
   ]
  },
  {
   "cell_type": "markdown",
   "id": "c2b16b20",
   "metadata": {},
   "source": [
    " <p style='font-size: 23px; line-height: 2; margin: 0px 0px; text-align: justify; text-indent: 0px;'>    \n",
    "<i><b>Modifique o programa anterior e permita que o usuário especifique o ano e o mês a serem mostrados na tela.\n",
    "</b></i>     \n",
    "</p>\n",
    "\n",
    "---"
   ]
  },
  {
   "cell_type": "code",
   "execution_count": 40,
   "id": "66bb2602",
   "metadata": {},
   "outputs": [
    {
     "name": "stdout",
     "output_type": "stream",
     "text": [
      "Diga o ano: 2023\n",
      "Diga o mês: 10\n",
      "\n",
      "     October 2023\n",
      "Mo Tu We Th Fr Sa Su\n",
      "                   1\n",
      " 2  3  4  5  6  7  8\n",
      " 9 10 11 12 13 14 15\n",
      "16 17 18 19 20 21 22\n",
      "23 24 25 26 27 28 29\n",
      "30 31\n",
      "\n"
     ]
    }
   ],
   "source": [
    "#  ano e o mês desejados\n",
    "ano = int(input(\"Diga o ano: \"))\n",
    "mes = int(input(\"Diga o mês: \"))\n",
    "\n",
    "# Criar um objeto de calendário\n",
    "cal = calendar.month(ano, mes)\n",
    "\n",
    "print(\"\\n\", cal)"
   ]
  },
  {
   "cell_type": "markdown",
   "id": "b00fc4ad",
   "metadata": {},
   "source": [
    "---\n",
    "A função `calendar.month(ano, mes)` é uma função do módulo `calendar` em Python que gera um calendário em texto para um determinado mês e ano especificados. Aqui está uma breve explicação de seus parâmetros e sintaxe:\n",
    "\n",
    "- `ano`: O ano para o qual você deseja gerar o calendário.\n",
    "- `mes`: O mês para o qual você deseja gerar o calendário (1 para janeiro, 2 para fevereiro, etc.).\n",
    "\n",
    "A função retorna uma string que representa o calendário formatado para o mês e ano especificados. Essa string inclui o cabeçalho com o nome do mês e do ano, bem como as informações sobre os dias da semana e os números dos dias para o mês desejado.\n",
    "\n",
    "Em resumo, `calendar.month(ano, mes)` é uma maneira conveniente de gerar um calendário de texto para um mês e ano específicos usando o módulo `calendar` em Python.\n",
    "\n",
    "---"
   ]
  },
  {
   "cell_type": "markdown",
   "id": "4a293c24",
   "metadata": {},
   "source": [
    "<hr style=\"border: 2px solid #4500ff;\">\n",
    "\n",
    "# <font color=\"#4500ff\" style=\"font-size: 26px;\">Exercício 35</font>\n",
    "<hr style=\"border: 2px solid #4500ff;\">"
   ]
  },
  {
   "cell_type": "markdown",
   "id": "fef18c47",
   "metadata": {},
   "source": [
    " <p style='font-size: 23px; line-height: 2; margin: 0px 0px; text-align: justify; text-indent: 0px;'>    \n",
    "<i><b>Escreva um script que mostre na tela o preço de um produto associado a uma categoria especificada pelo usuário.  Utilize como referência as informações a seguir. Caso o usuário não digite uma categoria válida (número entre 1 e 10) mostre na tela uma mensagem personalizada.\n",
    "\n",
    "\n",
    "```\n",
    "Exemplo: preço x categoria\n",
    "* Categoria 1 - $ 0,5 \n",
    "* Categoria 2 - $ 11,3\n",
    "* Categoria 3 - $ 17,5\n",
    "* Categoria 4 - $ 33,97\n",
    "* Categoria 5 - $ 103,47\n",
    "* Categoria 6 - $ 44,67\n",
    "* Categoria 7 - $ 12,55\n",
    "* Categoria 8 - $ 14,87\n",
    "* Categoria 9 - $ 98,12\n",
    "* Categoria 10 - $ 131,4\n",
    "```\n",
    "</b></i>     \n",
    "</p>\n",
    "\n",
    "---"
   ]
  },
  {
   "cell_type": "code",
   "execution_count": 78,
   "id": "397080b7",
   "metadata": {},
   "outputs": [
    {
     "name": "stdout",
     "output_type": "stream",
     "text": [
      "\n",
      "Digite o número da categoria: miguel\n",
      "\n",
      "Valor não é um número inteiro. Tente novamente.\n",
      "\n",
      "Digite o número da categoria: 11\n",
      "\n",
      "Categoria não encontrada. Tente novamente.\n",
      "\n",
      "Digite o número da categoria: 10\n",
      "\n",
      "categoria 10 - $ 131.4\n"
     ]
    }
   ],
   "source": [
    "categorias = {\n",
    "    1 : 0.5,\n",
    "    2 : 11.3,\n",
    "    3 : 17.5,\n",
    "    4 : 33.97,\n",
    "    5 : 103.47,\n",
    "    6 : 44.67,\n",
    "    7 : 12.55,\n",
    "    8 : 14.87,\n",
    "    9 : 98.12,\n",
    "    10 : 131.4\n",
    "}\n",
    "\n",
    "\n",
    "while True:\n",
    "    try:\n",
    "        categoria = int(input(\"\\nDigite o número da categoria: \"))\n",
    "        if categoria in categorias:\n",
    "            print(f'\\ncategoria {categoria} - $ {categorias[categoria]}')\n",
    "            break  # Sai do loop se a entrada for válida\n",
    "        else:\n",
    "            print('\\nCategoria não encontrada. Tente novamente.')\n",
    "\n",
    "    except ValueError:\n",
    "        print(\"\\nValor não é um número inteiro. Tente novamente.\")"
   ]
  },
  {
   "cell_type": "markdown",
   "id": "74fc08ac",
   "metadata": {},
   "source": [
    "---\n",
    "À primeira vista, a expressão `while True` pode parecer contraintuitiva, mas, na verdade, ela é uma construção comum em programação para criar loops infinitos. Nesse contexto, \"True\" significa que a condição sempre é verdadeira, o que cria um loop que se repete indefinidamente até que algo interrompa o loop, como a declaração `break`.\n",
    "\n",
    "No exemplo que forneci, o loop infinito é usado como um mecanismo para continuar pedindo ao usuário até que uma entrada válida seja fornecida. Quando uma entrada válida é fornecida, a declaração `break` é acionada, o que interrompe o loop. Portanto, embora \"True\" pareça contraintuitivo, é uma forma comum de criar loops que funcionam até que uma condição específica (neste caso, uma entrada válida) seja atendida.\n",
    "\n",
    "---"
   ]
  },
  {
   "cell_type": "markdown",
   "id": "dc255c4f",
   "metadata": {},
   "source": [
    "<hr style=\"border: 2px solid #4500ff;\">\n",
    "\n",
    "# <font color=\"#4500ff\" style=\"font-size: 26px;\">Exercício 36</font>\n",
    "<hr style=\"border: 2px solid #4500ff;\">"
   ]
  },
  {
   "cell_type": "markdown",
   "id": "99bb3e5d",
   "metadata": {},
   "source": [
    " <p style='font-size: 23px; line-height: 2; margin: 0px 0px; text-align: justify; text-indent: 0px;'>    \n",
    "<i><b>Resolva o exercício anterior para as categorias de 1 a 8. Utilize estruturas aninhadas.\n",
    "</b></i>     \n",
    "</p>\n",
    "\n",
    "---"
   ]
  },
  {
   "cell_type": "code",
   "execution_count": 79,
   "id": "6b335e93",
   "metadata": {},
   "outputs": [
    {
     "name": "stdout",
     "output_type": "stream",
     "text": [
      "\n",
      "Digite o número da categoria: 9\n",
      "\n",
      "Categoria não encontrada. Tente novamente.\n",
      "\n",
      "Digite o número da categoria: 8\n",
      "\n",
      "categoria 8 - $ 14.87\n"
     ]
    }
   ],
   "source": [
    "# O código anterior ja lida bem com exercício\n",
    "\n",
    "categorias = {\n",
    "    1 : 0.5,\n",
    "    2 : 11.3,\n",
    "    3 : 17.5,\n",
    "    4 : 33.97,\n",
    "    5 : 103.47,\n",
    "    6 : 44.67,\n",
    "    7 : 12.55,\n",
    "    8 : 14.87\n",
    "}\n",
    "\n",
    "\n",
    "while True:\n",
    "    try:\n",
    "        categoria = int(input(\"\\nDigite o número da categoria: \"))\n",
    "        if categoria in categorias:\n",
    "            print(f'\\ncategoria {categoria} - $ {categorias[categoria]}')\n",
    "            break  # Sai do loop se a entrada for válida\n",
    "        else:\n",
    "            print('\\nCategoria não encontrada. Tente novamente.')\n",
    "\n",
    "    except ValueError:\n",
    "        print(\"\\nValor não é um número inteiro. Tente novamente.\")"
   ]
  },
  {
   "cell_type": "markdown",
   "id": "98f7c1b5",
   "metadata": {},
   "source": [
    "<hr style=\"border: 2px solid #4500ff;\">\n",
    "\n",
    "# <font color=\"#4500ff\" style=\"font-size: 26px;\">Exercício 37</font>\n",
    "<hr style=\"border: 2px solid #4500ff;\">"
   ]
  },
  {
   "cell_type": "markdown",
   "id": "a851b093",
   "metadata": {},
   "source": [
    " <p style='font-size: 23px; line-height: 2; margin: 0px 0px; text-align: justify; text-indent: 0px;'>    \n",
    "<i><b>Determine se uma letra inserida pelo usuário é uma vogal ou consoante. Armazene as vogais em uma lista e implemente sua solução. Desconsidere a possibilidade de o usuário inserir números ou caracteres especiais.\n",
    "</b></i>     \n",
    "</p>\n",
    "\n",
    "---"
   ]
  },
  {
   "cell_type": "code",
   "execution_count": 85,
   "id": "2f9b7406",
   "metadata": {},
   "outputs": [
    {
     "name": "stdout",
     "output_type": "stream",
     "text": [
      "Digie uma letra: a\n",
      "a letra é vogal\n"
     ]
    }
   ],
   "source": [
    "letra = input(\"Digie uma letra: \")\n",
    "vogais = ['A', 'E', 'I', 'O', 'U']\n",
    "\n",
    "\n",
    "if letra.title() in vogais:\n",
    "    print(f\"a letra é vogal\")\n",
    "else:\n",
    "    print(f\"a letra é consoante\")\n",
    "    "
   ]
  },
  {
   "cell_type": "code",
   "execution_count": null,
   "id": "12f44fc1",
   "metadata": {},
   "outputs": [],
   "source": [
    "# Um programa mais complexo\n",
    "\n",
    "vogais = ['a', 'e', 'i', 'o', 'u']\n",
    "\n",
    "letra = input(\"Digite uma letra: \").lower()  # Converta a letra para minúscula para garantir a correspondência\n",
    "\n",
    "if letra.isalpha() and len(letra) == 1:  # Verifica se é uma letra e tem tamanho 1\n",
    "    if letra in vogais:\n",
    "        print(f'{letra} é uma vogal.')\n",
    "    else:\n",
    "        print(f'{letra} é uma consoante.')\n",
    "else:\n",
    "    print(\"Por favor, insira uma única letra do alfabeto.\")\n"
   ]
  },
  {
   "cell_type": "markdown",
   "id": "100f8e0d",
   "metadata": {},
   "source": [
    "<hr style=\"border: 2px solid #4500ff;\">\n",
    "\n",
    "# <font color=\"#4500ff\" style=\"font-size: 26px;\">Exercício 38</font>\n",
    "<hr style=\"border: 2px solid #4500ff;\">"
   ]
  },
  {
   "cell_type": "markdown",
   "id": "5a491413",
   "metadata": {},
   "source": [
    " <p style='font-size: 23px; line-height: 2; margin: 0px 0px; text-align: justify; text-indent: 0px;'>    \n",
    "<i><b>\n",
    "Escreva um script para classificar um triângulo de acordo com o tamanho dos seus lados. Considere as seguintes informações:\n",
    "\n",
    "Triângulo equilátero: todos os lados possuem o mesmo tamanho;\n",
    "\n",
    "Trângulo escaleno: todos os lados possuem medidas diferentes;\n",
    "\n",
    "Triângulo isósceles: caracterizado por ter dois lados com o mesmo tamanho.\n",
    "</b></i>     \n",
    "</p>\n",
    "\n",
    "---\n"
   ]
  },
  {
   "cell_type": "code",
   "execution_count": 92,
   "id": "2856acf7",
   "metadata": {},
   "outputs": [
    {
     "name": "stdout",
     "output_type": "stream",
     "text": [
      "Digite o lado 1 do triângulo: 10\n",
      "Digite o lado 2 do triângulo: 10\n",
      "Digite o lado 3 do triângulo: 15\n"
     ]
    },
    {
     "data": {
      "text/plain": [
       "'Isósceles'"
      ]
     },
     "execution_count": 92,
     "metadata": {},
     "output_type": "execute_result"
    }
   ],
   "source": [
    "lados = []\n",
    "\n",
    "while len(lados)<3:\n",
    "    lado = int(input(f\"Digite o lado {len(lados)+1} do triângulo: \"))\n",
    "    lados.append(lado)\n",
    "\n",
    "lados = list(set(lados))\n",
    "\n",
    "resultado = \"Equilatero\" if len(lados) == 1 else (\"Isósceles\" if len(lados)== 2 else \"Escaleno\")\n",
    "resultado"
   ]
  },
  {
   "cell_type": "markdown",
   "id": "e6ff6fe6",
   "metadata": {},
   "source": [
    "---\n",
    "A função `set()` em Python é usada para criar um conjunto, que é uma coleção não ordenada de elementos únicos. Os conjuntos são uma estrutura de dados que armazenam valores únicos e não permitem duplicatas. Aqui está a sintaxe básica da função `set()`:\n",
    "\n",
    "```python\n",
    "nome_do_conjunto = set(iterável)\n",
    "```\n",
    "\n",
    "- `nome_do_conjunto`: Esse é o nome que você escolhe para o conjunto que está criando.\n",
    "\n",
    "- `iterável`: É o objeto que você deseja converter em um conjunto. Pode ser uma lista, uma tupla, uma string, ou qualquer outra sequência.\n",
    "\n",
    "Por exemplo, você pode criar um conjunto a partir de uma lista assim:\n",
    "\n",
    "```python\n",
    "minha_lista = [1, 2, 2, 3, 4, 4, 5]\n",
    "meu_conjunto = set(minha_lista)\n",
    "```\n",
    "\n",
    "Neste caso, `meu_conjunto` conterá `{1, 2, 3, 4, 5}`. Observe que as duplicatas da lista foram removidas no conjunto.\n",
    "\n",
    "Os conjuntos são úteis quando você precisa manter uma coleção de valores únicos e deseja realizar operações de conjunto, como união, interseção e diferença. Eles são representados por chaves `{}` ou pela função `set()`. Tenha em mente que os conjuntos não mantêm a ordem dos elementos, já que são estruturas de dados não ordenadas.\n",
    "\n",
    "---"
   ]
  },
  {
   "cell_type": "markdown",
   "id": "c3eacb64",
   "metadata": {},
   "source": [
    "<hr style=\"border: 2px solid #4500ff;\">\n",
    "\n",
    "# <font color=\"#4500ff\" style=\"font-size: 26px;\">Exercício 38</font>\n",
    "<hr style=\"border: 2px solid #4500ff;\">"
   ]
  },
  {
   "cell_type": "code",
   "execution_count": null,
   "id": "53f61566",
   "metadata": {},
   "outputs": [],
   "source": []
  },
  {
   "cell_type": "code",
   "execution_count": null,
   "id": "e44fc138",
   "metadata": {},
   "outputs": [],
   "source": []
  }
 ],
 "metadata": {
  "kernelspec": {
   "display_name": "Python 3 (ipykernel)",
   "language": "python",
   "name": "python3"
  },
  "language_info": {
   "codemirror_mode": {
    "name": "ipython",
    "version": 3
   },
   "file_extension": ".py",
   "mimetype": "text/x-python",
   "name": "python",
   "nbconvert_exporter": "python",
   "pygments_lexer": "ipython3",
   "version": "3.11.3"
  }
 },
 "nbformat": 4,
 "nbformat_minor": 5
}
